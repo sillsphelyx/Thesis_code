{
 "cells": [
  {
   "cell_type": "code",
   "execution_count": 194,
   "metadata": {
    "collapsed": false
   },
   "outputs": [],
   "source": [
    "import pandas as pd\n",
    "import numpy as np\n",
    "import wrapt\n",
    "import itertools\n",
    "import scipy.stats as ss\n",
    "import matplotlib.pyplot as plt\n",
    "import seaborn as sns\n",
    "from sklearn.model_selection import train_test_split\n",
    "from sklearn.metrics import accuracy_score\n",
    "from pgmpy.models import BayesianModel\n",
    "from pgmpy.estimators import MaximumLikelihoodEstimator\n",
    "from pgmpy.factors.discrete import TabularCPD\n",
    "import warnings\n",
    "warnings.filterwarnings('ignore')"
   ]
  },
  {
   "cell_type": "markdown",
   "metadata": {},
   "source": [
    "# Pipe Leaks"
   ]
  },
  {
   "cell_type": "code",
   "execution_count": 134,
   "metadata": {
    "collapsed": false,
    "scrolled": true
   },
   "outputs": [
    {
     "data": {
      "text/html": [
       "<div>\n",
       "<style scoped>\n",
       "    .dataframe tbody tr th:only-of-type {\n",
       "        vertical-align: middle;\n",
       "    }\n",
       "\n",
       "    .dataframe tbody tr th {\n",
       "        vertical-align: top;\n",
       "    }\n",
       "\n",
       "    .dataframe thead th {\n",
       "        text-align: right;\n",
       "    }\n",
       "</style>\n",
       "<table border=\"1\" class=\"dataframe\">\n",
       "  <thead>\n",
       "    <tr style=\"text-align: right;\">\n",
       "      <th></th>\n",
       "      <th>Prs_ds_disc</th>\n",
       "      <th>Prs_ds_disc_l1</th>\n",
       "      <th>Prs_us_disc</th>\n",
       "      <th>Prs_us_disc_l1</th>\n",
       "      <th>MinTemp_disc</th>\n",
       "      <th>MinTemp_disc_l1</th>\n",
       "      <th>MaxTemp_disc</th>\n",
       "      <th>MaxTemp_disc_l1</th>\n",
       "      <th>Avg_Temp_disc</th>\n",
       "      <th>Avg_Temp_disc_l1</th>\n",
       "      <th>Temp_range_disc</th>\n",
       "      <th>Temp_range_disc_l1</th>\n",
       "      <th>Rain_disc</th>\n",
       "      <th>Rain_disc_l1</th>\n",
       "      <th>pipeleak_count</th>\n",
       "      <th>pipeleak_count_l1</th>\n",
       "    </tr>\n",
       "  </thead>\n",
       "  <tbody>\n",
       "    <tr>\n",
       "      <th>0</th>\n",
       "      <td>2</td>\n",
       "      <td>2</td>\n",
       "      <td>1</td>\n",
       "      <td>1</td>\n",
       "      <td>1</td>\n",
       "      <td>0</td>\n",
       "      <td>2</td>\n",
       "      <td>0</td>\n",
       "      <td>1</td>\n",
       "      <td>0</td>\n",
       "      <td>2</td>\n",
       "      <td>2</td>\n",
       "      <td>0</td>\n",
       "      <td>0</td>\n",
       "      <td>0</td>\n",
       "      <td>0</td>\n",
       "    </tr>\n",
       "    <tr>\n",
       "      <th>1</th>\n",
       "      <td>2</td>\n",
       "      <td>2</td>\n",
       "      <td>1</td>\n",
       "      <td>1</td>\n",
       "      <td>0</td>\n",
       "      <td>0</td>\n",
       "      <td>0</td>\n",
       "      <td>2</td>\n",
       "      <td>0</td>\n",
       "      <td>1</td>\n",
       "      <td>2</td>\n",
       "      <td>2</td>\n",
       "      <td>0</td>\n",
       "      <td>0</td>\n",
       "      <td>0</td>\n",
       "      <td>0</td>\n",
       "    </tr>\n",
       "    <tr>\n",
       "      <th>2</th>\n",
       "      <td>2</td>\n",
       "      <td>2</td>\n",
       "      <td>1</td>\n",
       "      <td>2</td>\n",
       "      <td>0</td>\n",
       "      <td>0</td>\n",
       "      <td>0</td>\n",
       "      <td>0</td>\n",
       "      <td>0</td>\n",
       "      <td>0</td>\n",
       "      <td>2</td>\n",
       "      <td>2</td>\n",
       "      <td>0</td>\n",
       "      <td>0</td>\n",
       "      <td>0</td>\n",
       "      <td>0</td>\n",
       "    </tr>\n",
       "    <tr>\n",
       "      <th>3</th>\n",
       "      <td>2</td>\n",
       "      <td>2</td>\n",
       "      <td>2</td>\n",
       "      <td>2</td>\n",
       "      <td>0</td>\n",
       "      <td>0</td>\n",
       "      <td>0</td>\n",
       "      <td>0</td>\n",
       "      <td>0</td>\n",
       "      <td>0</td>\n",
       "      <td>2</td>\n",
       "      <td>2</td>\n",
       "      <td>1</td>\n",
       "      <td>0</td>\n",
       "      <td>0</td>\n",
       "      <td>0</td>\n",
       "    </tr>\n",
       "    <tr>\n",
       "      <th>4</th>\n",
       "      <td>2</td>\n",
       "      <td>2</td>\n",
       "      <td>2</td>\n",
       "      <td>2</td>\n",
       "      <td>0</td>\n",
       "      <td>0</td>\n",
       "      <td>0</td>\n",
       "      <td>0</td>\n",
       "      <td>0</td>\n",
       "      <td>0</td>\n",
       "      <td>1</td>\n",
       "      <td>2</td>\n",
       "      <td>1</td>\n",
       "      <td>1</td>\n",
       "      <td>0</td>\n",
       "      <td>0</td>\n",
       "    </tr>\n",
       "  </tbody>\n",
       "</table>\n",
       "</div>"
      ],
      "text/plain": [
       "   Prs_ds_disc  Prs_ds_disc_l1  Prs_us_disc  Prs_us_disc_l1  MinTemp_disc  \\\n",
       "0            2               2            1               1             1   \n",
       "1            2               2            1               1             0   \n",
       "2            2               2            1               2             0   \n",
       "3            2               2            2               2             0   \n",
       "4            2               2            2               2             0   \n",
       "\n",
       "   MinTemp_disc_l1  MaxTemp_disc  MaxTemp_disc_l1  Avg_Temp_disc  \\\n",
       "0                0             2                0              1   \n",
       "1                0             0                2              0   \n",
       "2                0             0                0              0   \n",
       "3                0             0                0              0   \n",
       "4                0             0                0              0   \n",
       "\n",
       "   Avg_Temp_disc_l1  Temp_range_disc  Temp_range_disc_l1  Rain_disc  \\\n",
       "0                 0                2                   2          0   \n",
       "1                 1                2                   2          0   \n",
       "2                 0                2                   2          0   \n",
       "3                 0                2                   2          1   \n",
       "4                 0                1                   2          1   \n",
       "\n",
       "   Rain_disc_l1  pipeleak_count  pipeleak_count_l1  \n",
       "0             0               0                  0  \n",
       "1             0               0                  0  \n",
       "2             0               0                  0  \n",
       "3             0               0                  0  \n",
       "4             1               0                  0  "
      ]
     },
     "execution_count": 134,
     "metadata": {},
     "output_type": "execute_result"
    }
   ],
   "source": [
    "# Data \n",
    "df_pl = pd.read_csv('pipe_leak_pred_data_lag.csv')\n",
    "df_pl.head()"
   ]
  },
  {
   "cell_type": "code",
   "execution_count": 195,
   "metadata": {
    "collapsed": false
   },
   "outputs": [
    {
     "data": {
      "text/plain": [
       "Index(['Prs_ds_disc', 'Prs_ds_disc_l1', 'Prs_us_disc', 'Prs_us_disc_l1',\n",
       "       'MinTemp_disc', 'MinTemp_disc_l1', 'MaxTemp_disc', 'MaxTemp_disc_l1',\n",
       "       'Avg_Temp_disc', 'Avg_Temp_disc_l1', 'Temp_range_disc',\n",
       "       'Temp_range_disc_l1', 'Rain_disc', 'Rain_disc_l1', 'pipeleak_count',\n",
       "       'pipeleak_count_l1'],\n",
       "      dtype='object')"
      ]
     },
     "execution_count": 195,
     "metadata": {},
     "output_type": "execute_result"
    }
   ],
   "source": [
    "df_pl.columns"
   ]
  },
  {
   "cell_type": "markdown",
   "metadata": {},
   "source": [
    "# Test for Association and Independence"
   ]
  },
  {
   "cell_type": "code",
   "execution_count": 135,
   "metadata": {
    "collapsed": true
   },
   "outputs": [],
   "source": [
    "def cramers_v(x, y):\n",
    "    confusion_matrix = pd.crosstab(x,y)\n",
    "    chi2 = ss.chi2_contingency(confusion_matrix)[0]\n",
    "    n = confusion_matrix.sum().sum()\n",
    "    phi2 = chi2/n\n",
    "    r,k = confusion_matrix.shape\n",
    "    phi2corr = max(0, phi2-((k-1)*(r-1))/(n-1))\n",
    "    rcorr = r-((r-1)**2)/(n-1)\n",
    "    kcorr = k-((k-1)**2)/(n-1)\n",
    "    return np.sqrt(phi2corr/min((kcorr-1),(rcorr-1)))"
   ]
  },
  {
   "cell_type": "code",
   "execution_count": 136,
   "metadata": {
    "collapsed": true
   },
   "outputs": [],
   "source": [
    "x = df_pl.pipeleak_count_l1\n",
    "y = df_pl.pipeleak_count"
   ]
  },
  {
   "cell_type": "code",
   "execution_count": 137,
   "metadata": {
    "collapsed": false
   },
   "outputs": [
    {
     "data": {
      "text/plain": [
       "0.03367548673848651"
      ]
     },
     "execution_count": 137,
     "metadata": {},
     "output_type": "execute_result"
    }
   ],
   "source": [
    "cramers_v(x, y)"
   ]
  },
  {
   "cell_type": "markdown",
   "metadata": {},
   "source": [
    "# Cramers V-test and plot "
   ]
  },
  {
   "cell_type": "code",
   "execution_count": 197,
   "metadata": {
    "collapsed": false
   },
   "outputs": [
    {
     "data": {
      "image/png": "[encoded data removed]",
      "text/plain": [
       "<Figure size 1080x1080 with 2 Axes>"
      ]
     },
     "metadata": {
      "needs_background": "light"
     },
     "output_type": "display_data"
    }
   ],
   "source": [
    "def cramers_corrected_stat(confusion_matrix):\n",
    "    \"\"\" calculate Cramers V statistic for categorical-categorical association.\n",
    "        uses correction from Bergsma and Wicher, \n",
    "        Journal of the Korean Statistical Society 42 (2013): 323-328\n",
    "    \"\"\"\n",
    "    chi2 = ss.chi2_contingency(confusion_matrix)[0]\n",
    "    n = confusion_matrix.sum().sum()\n",
    "    phi2 = chi2/n\n",
    "    r,k = confusion_matrix.shape\n",
    "    phi2corr = max(0, phi2 - ((k-1)*(r-1))/(n-1))    \n",
    "    rcorr = r - ((r-1)**2)/(n-1)\n",
    "    kcorr = k - ((k-1)**2)/(n-1)\n",
    "    return np.sqrt(phi2corr / min( (kcorr-1), (rcorr-1)))\n",
    "\n",
    "\n",
    "cols = ['Prs_ds_disc', 'Prs_ds_disc_l1', 'Prs_us_disc', 'Prs_us_disc_l1',\n",
    "       'MinTemp_disc', 'MinTemp_disc_l1', 'MaxTemp_disc', 'MaxTemp_disc_l1',\n",
    "       'Avg_Temp_disc', 'Avg_Temp_disc_l1', 'Temp_range_disc',\n",
    "       'Temp_range_disc_l1', 'Rain_disc', 'Rain_disc_l1', 'pipeleak_count',\n",
    "       'pipeleak_count_l1']\n",
    "corrM = np.zeros((len(cols),len(cols)))\n",
    "# there's probably a nice pandas way to do this\n",
    "for col1, col2 in itertools.combinations(cols, 2):\n",
    "    idx1, idx2 = cols.index(col1), cols.index(col2)\n",
    "    corrM[idx1, idx2] = cramers_corrected_stat(pd.crosstab(df_pl[col1], df_pl[col2]))\n",
    "    corrM[idx2, idx1] = corrM[idx1, idx2]\n",
    "\n",
    "corr = pd.DataFrame(corrM, index=cols, columns=cols)\n",
    "fig, ax = plt.subplots(figsize=(15,15))\n",
    "ax = sns.heatmap(corr, annot=True, ax=ax); ax.set_title(\"Cramer V Correlation between Variables\");"
   ]
  },
  {
   "cell_type": "markdown",
   "metadata": {},
   "source": [
    "# Chi2 test for independence"
   ]
  },
  {
   "cell_type": "code",
   "execution_count": 141,
   "metadata": {
    "collapsed": false,
    "scrolled": true
   },
   "outputs": [
    {
     "data": {
      "text/plain": [
       "(46.87333306616481,\n",
       " 1.620417828741002e-09,\n",
       " 4,\n",
       " array([[39.55769231, 40.22252747, 41.21978022],\n",
       "        [39.55769231, 40.22252747, 41.21978022],\n",
       "        [39.88461538, 40.55494505, 41.56043956]]))"
      ]
     },
     "execution_count": 141,
     "metadata": {},
     "output_type": "execute_result"
    }
   ],
   "source": [
    "crosstab = pd.crosstab(df_pl['Prs_ds_disc'], df_pl['Prs_us_disc_l1'])\n",
    "ss.chi2_contingency(crosstab)"
   ]
  },
  {
   "cell_type": "markdown",
   "metadata": {},
   "source": [
    "# Transition Model"
   ]
  },
  {
   "cell_type": "code",
   "execution_count": 161,
   "metadata": {
    "collapsed": false
   },
   "outputs": [],
   "source": [
    "# Separating independent variables(predictors) and the target (dependant) variable\n",
    "X_tpl = df_pl[['Prs_ds_disc_l1']]#,'Temp_range_disc', 'Avg_Temp_disc','Rain_disc']]\n",
    "y_tpl = df_pl.Prs_ds_disc"
   ]
  },
  {
   "cell_type": "code",
   "execution_count": 162,
   "metadata": {
    "collapsed": false
   },
   "outputs": [],
   "source": [
    "#Spliting the train and test sets on a 70:30 basis\n",
    "X_train_tpl, X_test_tpl, y_train_tpl, y_test_tpl = train_test_split(X_tpl, y_tpl, test_size = .3)"
   ]
  },
  {
   "cell_type": "code",
   "execution_count": 163,
   "metadata": {
    "collapsed": false,
    "scrolled": true
   },
   "outputs": [],
   "source": [
    "# Joining the train set for model development\n",
    "X_train_tpl['Prs_ds_disc'] = y_train_tpl"
   ]
  },
  {
   "cell_type": "code",
   "execution_count": 164,
   "metadata": {
    "collapsed": true
   },
   "outputs": [],
   "source": [
    "#frame = df_ml[['Prs_ds_disc', 'Temp_range_disc', 'Rain_disc', 'meterleak_count']]"
   ]
  },
  {
   "cell_type": "code",
   "execution_count": 190,
   "metadata": {
    "collapsed": false
   },
   "outputs": [],
   "source": [
    "#data = pd.DataFrame(data={'A': [0, 0, 1], 'B': [0, 1, 0], 'C': [1, 1, 0]})\n",
    "trans_model_pipeleak = BayesianModel([('Prs_ds_disc_l1', 'Prs_ds_disc')]) #, ('Temp_range_disc', 'meterleak_count'), ('Rain_disc', 'meterleak_count') ])\n",
    "trans_model_pipeleak.fit(X_train_tpl)\n",
    "#model1.get_cpds()"
   ]
  },
  {
   "cell_type": "code",
   "execution_count": 191,
   "metadata": {
    "collapsed": false
   },
   "outputs": [],
   "source": [
    "# Alligning test set with data model variables\n",
    "X_test_tpl = X_test_tpl[['Prs_ds_disc_l1']] #'Temp_range_disc','Rain_disc']]"
   ]
  },
  {
   "cell_type": "code",
   "execution_count": 192,
   "metadata": {
    "collapsed": false
   },
   "outputs": [],
   "source": [
    "# Using fitted model to obtain predictions based on test set\n",
    "y_pred_pipeleak_trans = trans_model_pipeleak.predict(X_test_tpl)\n",
    "#y_pred_meterleak2 = model_meterleak2.predict(X_test_ml)"
   ]
  },
  {
   "cell_type": "code",
   "execution_count": 193,
   "metadata": {
    "collapsed": false
   },
   "outputs": [
    {
     "name": "stdout",
     "output_type": "stream",
     "text": [
      "0.8272727272727273\n"
     ]
    }
   ],
   "source": [
    "# Measuring the accuracy of the models based on the test set\n",
    "print(accuracy_score(y_pred_pipeleak_trans, y_test_tpl))\n",
    "#print(accuracy_score(y_pred_meterleak2, y_test_ml))"
   ]
  },
  {
   "cell_type": "code",
   "execution_count": 149,
   "metadata": {
    "collapsed": true
   },
   "outputs": [
    {
     "data": {
      "text/html": [
       "<div>\n",
       "<style scoped>\n",
       "    .dataframe tbody tr th:only-of-type {\n",
       "        vertical-align: middle;\n",
       "    }\n",
       "\n",
       "    .dataframe tbody tr th {\n",
       "        vertical-align: top;\n",
       "    }\n",
       "\n",
       "    .dataframe thead th {\n",
       "        text-align: right;\n",
       "    }\n",
       "</style>\n",
       "<table border=\"1\" class=\"dataframe\">\n",
       "  <thead>\n",
       "    <tr style=\"text-align: right;\">\n",
       "      <th></th>\n",
       "      <th>Prs_ds_disc</th>\n",
       "    </tr>\n",
       "  </thead>\n",
       "  <tbody>\n",
       "    <tr>\n",
       "      <th>23</th>\n",
       "      <td>2</td>\n",
       "    </tr>\n",
       "    <tr>\n",
       "      <th>122</th>\n",
       "      <td>1</td>\n",
       "    </tr>\n",
       "    <tr>\n",
       "      <th>78</th>\n",
       "      <td>2</td>\n",
       "    </tr>\n",
       "    <tr>\n",
       "      <th>216</th>\n",
       "      <td>1</td>\n",
       "    </tr>\n",
       "    <tr>\n",
       "      <th>285</th>\n",
       "      <td>1</td>\n",
       "    </tr>\n",
       "  </tbody>\n",
       "</table>\n",
       "</div>"
      ],
      "text/plain": [
       "     Prs_ds_disc\n",
       "23             2\n",
       "122            1\n",
       "78             2\n",
       "216            1\n",
       "285            1"
      ]
     },
     "execution_count": 149,
     "metadata": {},
     "output_type": "execute_result"
    }
   ],
   "source": [
    "#Prediction Waiting to be fed into the base model\n",
    "Trans_prediction = y_pred_pipeleak"
   ]
  },
  {
   "cell_type": "code",
   "execution_count": 80,
   "metadata": {
    "collapsed": true
   },
   "outputs": [
    {
     "data": {
      "text/html": [
       "<div>\n",
       "<style scoped>\n",
       "    .dataframe tbody tr th:only-of-type {\n",
       "        vertical-align: middle;\n",
       "    }\n",
       "\n",
       "    .dataframe tbody tr th {\n",
       "        vertical-align: top;\n",
       "    }\n",
       "\n",
       "    .dataframe thead th {\n",
       "        text-align: right;\n",
       "    }\n",
       "</style>\n",
       "<table border=\"1\" class=\"dataframe\">\n",
       "  <thead>\n",
       "    <tr style=\"text-align: right;\">\n",
       "      <th></th>\n",
       "      <th>Prs_ds_disc_l1</th>\n",
       "    </tr>\n",
       "  </thead>\n",
       "  <tbody>\n",
       "    <tr>\n",
       "      <th>141</th>\n",
       "      <td>1</td>\n",
       "    </tr>\n",
       "    <tr>\n",
       "      <th>2</th>\n",
       "      <td>2</td>\n",
       "    </tr>\n",
       "    <tr>\n",
       "      <th>298</th>\n",
       "      <td>0</td>\n",
       "    </tr>\n",
       "    <tr>\n",
       "      <th>8</th>\n",
       "      <td>2</td>\n",
       "    </tr>\n",
       "    <tr>\n",
       "      <th>36</th>\n",
       "      <td>2</td>\n",
       "    </tr>\n",
       "    <tr>\n",
       "      <th>209</th>\n",
       "      <td>0</td>\n",
       "    </tr>\n",
       "    <tr>\n",
       "      <th>115</th>\n",
       "      <td>1</td>\n",
       "    </tr>\n",
       "    <tr>\n",
       "      <th>168</th>\n",
       "      <td>1</td>\n",
       "    </tr>\n",
       "    <tr>\n",
       "      <th>308</th>\n",
       "      <td>0</td>\n",
       "    </tr>\n",
       "    <tr>\n",
       "      <th>111</th>\n",
       "      <td>1</td>\n",
       "    </tr>\n",
       "    <tr>\n",
       "      <th>16</th>\n",
       "      <td>2</td>\n",
       "    </tr>\n",
       "    <tr>\n",
       "      <th>11</th>\n",
       "      <td>2</td>\n",
       "    </tr>\n",
       "    <tr>\n",
       "      <th>67</th>\n",
       "      <td>2</td>\n",
       "    </tr>\n",
       "    <tr>\n",
       "      <th>80</th>\n",
       "      <td>2</td>\n",
       "    </tr>\n",
       "    <tr>\n",
       "      <th>118</th>\n",
       "      <td>1</td>\n",
       "    </tr>\n",
       "    <tr>\n",
       "      <th>221</th>\n",
       "      <td>0</td>\n",
       "    </tr>\n",
       "    <tr>\n",
       "      <th>64</th>\n",
       "      <td>2</td>\n",
       "    </tr>\n",
       "    <tr>\n",
       "      <th>309</th>\n",
       "      <td>0</td>\n",
       "    </tr>\n",
       "    <tr>\n",
       "      <th>125</th>\n",
       "      <td>1</td>\n",
       "    </tr>\n",
       "    <tr>\n",
       "      <th>158</th>\n",
       "      <td>1</td>\n",
       "    </tr>\n",
       "    <tr>\n",
       "      <th>202</th>\n",
       "      <td>1</td>\n",
       "    </tr>\n",
       "    <tr>\n",
       "      <th>310</th>\n",
       "      <td>0</td>\n",
       "    </tr>\n",
       "    <tr>\n",
       "      <th>112</th>\n",
       "      <td>1</td>\n",
       "    </tr>\n",
       "    <tr>\n",
       "      <th>86</th>\n",
       "      <td>2</td>\n",
       "    </tr>\n",
       "    <tr>\n",
       "      <th>31</th>\n",
       "      <td>2</td>\n",
       "    </tr>\n",
       "    <tr>\n",
       "      <th>79</th>\n",
       "      <td>2</td>\n",
       "    </tr>\n",
       "    <tr>\n",
       "      <th>230</th>\n",
       "      <td>0</td>\n",
       "    </tr>\n",
       "    <tr>\n",
       "      <th>24</th>\n",
       "      <td>2</td>\n",
       "    </tr>\n",
       "    <tr>\n",
       "      <th>29</th>\n",
       "      <td>2</td>\n",
       "    </tr>\n",
       "    <tr>\n",
       "      <th>106</th>\n",
       "      <td>1</td>\n",
       "    </tr>\n",
       "    <tr>\n",
       "      <th>...</th>\n",
       "      <td>...</td>\n",
       "    </tr>\n",
       "    <tr>\n",
       "      <th>255</th>\n",
       "      <td>1</td>\n",
       "    </tr>\n",
       "    <tr>\n",
       "      <th>49</th>\n",
       "      <td>2</td>\n",
       "    </tr>\n",
       "    <tr>\n",
       "      <th>65</th>\n",
       "      <td>2</td>\n",
       "    </tr>\n",
       "    <tr>\n",
       "      <th>162</th>\n",
       "      <td>1</td>\n",
       "    </tr>\n",
       "    <tr>\n",
       "      <th>280</th>\n",
       "      <td>1</td>\n",
       "    </tr>\n",
       "    <tr>\n",
       "      <th>252</th>\n",
       "      <td>0</td>\n",
       "    </tr>\n",
       "    <tr>\n",
       "      <th>248</th>\n",
       "      <td>0</td>\n",
       "    </tr>\n",
       "    <tr>\n",
       "      <th>73</th>\n",
       "      <td>2</td>\n",
       "    </tr>\n",
       "    <tr>\n",
       "      <th>104</th>\n",
       "      <td>1</td>\n",
       "    </tr>\n",
       "    <tr>\n",
       "      <th>316</th>\n",
       "      <td>0</td>\n",
       "    </tr>\n",
       "    <tr>\n",
       "      <th>76</th>\n",
       "      <td>2</td>\n",
       "    </tr>\n",
       "    <tr>\n",
       "      <th>213</th>\n",
       "      <td>0</td>\n",
       "    </tr>\n",
       "    <tr>\n",
       "      <th>242</th>\n",
       "      <td>0</td>\n",
       "    </tr>\n",
       "    <tr>\n",
       "      <th>151</th>\n",
       "      <td>2</td>\n",
       "    </tr>\n",
       "    <tr>\n",
       "      <th>299</th>\n",
       "      <td>0</td>\n",
       "    </tr>\n",
       "    <tr>\n",
       "      <th>51</th>\n",
       "      <td>2</td>\n",
       "    </tr>\n",
       "    <tr>\n",
       "      <th>188</th>\n",
       "      <td>1</td>\n",
       "    </tr>\n",
       "    <tr>\n",
       "      <th>28</th>\n",
       "      <td>1</td>\n",
       "    </tr>\n",
       "    <tr>\n",
       "      <th>327</th>\n",
       "      <td>1</td>\n",
       "    </tr>\n",
       "    <tr>\n",
       "      <th>311</th>\n",
       "      <td>1</td>\n",
       "    </tr>\n",
       "    <tr>\n",
       "      <th>100</th>\n",
       "      <td>2</td>\n",
       "    </tr>\n",
       "    <tr>\n",
       "      <th>295</th>\n",
       "      <td>0</td>\n",
       "    </tr>\n",
       "    <tr>\n",
       "      <th>312</th>\n",
       "      <td>0</td>\n",
       "    </tr>\n",
       "    <tr>\n",
       "      <th>5</th>\n",
       "      <td>2</td>\n",
       "    </tr>\n",
       "    <tr>\n",
       "      <th>165</th>\n",
       "      <td>1</td>\n",
       "    </tr>\n",
       "    <tr>\n",
       "      <th>341</th>\n",
       "      <td>0</td>\n",
       "    </tr>\n",
       "    <tr>\n",
       "      <th>47</th>\n",
       "      <td>2</td>\n",
       "    </tr>\n",
       "    <tr>\n",
       "      <th>348</th>\n",
       "      <td>0</td>\n",
       "    </tr>\n",
       "    <tr>\n",
       "      <th>153</th>\n",
       "      <td>2</td>\n",
       "    </tr>\n",
       "    <tr>\n",
       "      <th>185</th>\n",
       "      <td>1</td>\n",
       "    </tr>\n",
       "  </tbody>\n",
       "</table>\n",
       "<p>110 rows × 1 columns</p>\n",
       "</div>"
      ],
      "text/plain": [
       "     Prs_ds_disc_l1\n",
       "141               1\n",
       "2                 2\n",
       "298               0\n",
       "8                 2\n",
       "36                2\n",
       "..              ...\n",
       "341               0\n",
       "47                2\n",
       "348               0\n",
       "153               2\n",
       "185               1\n",
       "\n",
       "[110 rows x 1 columns]"
      ]
     },
     "execution_count": 80,
     "metadata": {},
     "output_type": "execute_result"
    }
   ],
   "source": [
    "pred = model_meterleak.predict(X_test_tpl)"
   ]
  },
  {
   "cell_type": "code",
   "execution_count": 187,
   "metadata": {
    "collapsed": false,
    "scrolled": true
   },
   "outputs": [
    {
     "name": "stdout",
     "output_type": "stream",
     "text": [
      "+----------------+----------------------+---------------------+---------------------+\n",
      "| Prs_ds_disc_l1 | Prs_ds_disc_l1(0)    | Prs_ds_disc_l1(1)   | Prs_ds_disc_l1(2)   |\n",
      "+----------------+----------------------+---------------------+---------------------+\n",
      "| Prs_ds_disc(0) | 0.8604651162790697   | 0.12048192771084337 | 0.0                 |\n",
      "+----------------+----------------------+---------------------+---------------------+\n",
      "| Prs_ds_disc(1) | 0.12790697674418605  | 0.7349397590361446  | 0.17647058823529413 |\n",
      "+----------------+----------------------+---------------------+---------------------+\n",
      "| Prs_ds_disc(2) | 0.011627906976744186 | 0.14457831325301204 | 0.8235294117647058  |\n",
      "+----------------+----------------------+---------------------+---------------------+\n"
     ]
    }
   ],
   "source": [
    "# Printing a CPD with it's state names defined.\n",
    "print(trans_model_pipeleak.get_cpds('Prs_ds_disc'))"
   ]
  },
  {
   "cell_type": "markdown",
   "metadata": {},
   "source": [
    "# Base models"
   ]
  },
  {
   "cell_type": "markdown",
   "metadata": {},
   "source": [
    "# Pipe leak"
   ]
  },
  {
   "cell_type": "code",
   "execution_count": 170,
   "metadata": {
    "collapsed": false
   },
   "outputs": [],
   "source": [
    "# Separating independent variables(predictors) and the target (dependant) variable\n",
    "X_bpl = df_pl[['Prs_ds_disc','pipeleak_count']]\n",
    "y_bpl = df_pl.pipeleak_count"
   ]
  },
  {
   "cell_type": "code",
   "execution_count": 171,
   "metadata": {
    "collapsed": true
   },
   "outputs": [],
   "source": [
    "#Spliting the train and test sets on a 70:30 basis\n",
    "X_train_bpl, X_test_bpl, y_train_bpl, y_test_bpl = train_test_split(X_bpl, y_bpl, test_size = .3)"
   ]
  },
  {
   "cell_type": "code",
   "execution_count": 172,
   "metadata": {
    "collapsed": true
   },
   "outputs": [],
   "source": [
    "# Joining the train set for model development\n",
    "X_train_bpl['pipeleak_count'] = y_train_bpl"
   ]
  },
  {
   "cell_type": "code",
   "execution_count": 173,
   "metadata": {
    "collapsed": false
   },
   "outputs": [],
   "source": [
    "#data = pd.DataFrame(data={'A': [0, 0, 1], 'B': [0, 1, 0], 'C': [1, 1, 0]})\n",
    "base_model_pipeleak = BayesianModel([('Prs_ds_disc', 'pipeleak_count')])\n",
    "base_model_pipeleak.fit(X_train_bpl)\n",
    "#model1.get_cpds()"
   ]
  },
  {
   "cell_type": "code",
   "execution_count": 174,
   "metadata": {
    "collapsed": false
   },
   "outputs": [],
   "source": [
    "# Alligning test set with data model variables\n",
    "X_test_bpl = X_test_bpl[['Prs_ds_disc']]"
   ]
  },
  {
   "cell_type": "code",
   "execution_count": 176,
   "metadata": {
    "collapsed": false
   },
   "outputs": [],
   "source": [
    "# Using fitted model to obtain predictions based on test set\n",
    "y_pred_pipeleak_base = base_model_pipeleak.predict(X_test_bpl)\n",
    "#y_pred_meterleak2 = model_meterleak2.predict(X_test_ml)"
   ]
  },
  {
   "cell_type": "code",
   "execution_count": 177,
   "metadata": {
    "collapsed": false
   },
   "outputs": [
    {
     "name": "stdout",
     "output_type": "stream",
     "text": [
      "0.8363636363636363\n"
     ]
    }
   ],
   "source": [
    "# Measuring the accuracy of the models based on the test set\n",
    "print(accuracy_score(y_pred_pipeleak_base, y_test_bpl))\n"
   ]
  },
  {
   "cell_type": "code",
   "execution_count": 185,
   "metadata": {
    "collapsed": false,
    "scrolled": false
   },
   "outputs": [
    {
     "name": "stdout",
     "output_type": "stream",
     "text": [
      "+----------------+----------+\n",
      "| Prs_ds_disc(0) | 0.330709 |\n",
      "+----------------+----------+\n",
      "| Prs_ds_disc(1) | 0.338583 |\n",
      "+----------------+----------+\n",
      "| Prs_ds_disc(2) | 0.330709 |\n",
      "+----------------+----------+\n"
     ]
    }
   ],
   "source": [
    "# Printing a CPD with it's state names defined.\n",
    "print(base_model_pipeleak.get_cpds('Prs_ds_disc'))"
   ]
  },
  {
   "cell_type": "markdown",
   "metadata": {},
   "source": [
    "# DBN glued Model"
   ]
  },
  {
   "cell_type": "code",
   "execution_count": null,
   "metadata": {
    "collapsed": true
   },
   "outputs": [],
   "source": [
    "# The composite function will be the predictive function\n",
    "# Here we call the transition function then input its result in the base model to predict the likely leak type."
   ]
  },
  {
   "cell_type": "code",
   "execution_count": 178,
   "metadata": {
    "collapsed": true
   },
   "outputs": [],
   "source": [
    "glued = base_model_pipeleak.predict(trans_model_meterleak.predict(X_test_tpl))"
   ]
  },
  {
   "cell_type": "code",
   "execution_count": 181,
   "metadata": {
    "collapsed": false,
    "scrolled": true
   },
   "outputs": [
    {
     "name": "stdout",
     "output_type": "stream",
     "text": [
      "0.8363636363636363\n"
     ]
    }
   ],
   "source": [
    "#glued.head()\n",
    "# Measuring the accuracy of the models based on the test set\n",
    "print(accuracy_score(glued, y_test_bpl))"
   ]
  },
  {
   "cell_type": "code",
   "execution_count": null,
   "metadata": {
    "collapsed": true
   },
   "outputs": [],
   "source": []
  },
  {
   "cell_type": "code",
   "execution_count": null,
   "metadata": {
    "collapsed": true
   },
   "outputs": [],
   "source": []
  },
  {
   "cell_type": "code",
   "execution_count": null,
   "metadata": {
    "collapsed": true
   },
   "outputs": [],
   "source": []
  },
  {
   "cell_type": "code",
   "execution_count": null,
   "metadata": {
    "collapsed": true
   },
   "outputs": [],
   "source": []
  },
  {
   "cell_type": "code",
   "execution_count": null,
   "metadata": {
    "collapsed": true
   },
   "outputs": [],
   "source": []
  },
  {
   "cell_type": "code",
   "execution_count": null,
   "metadata": {
    "collapsed": true
   },
   "outputs": [],
   "source": []
  },
  {
   "cell_type": "code",
   "execution_count": null,
   "metadata": {
    "collapsed": true
   },
   "outputs": [],
   "source": []
  },
  {
   "cell_type": "code",
   "execution_count": null,
   "metadata": {
    "collapsed": true
   },
   "outputs": [],
   "source": []
  },
  {
   "cell_type": "markdown",
   "metadata": {},
   "source": [
    "# Total daily leaks"
   ]
  },
  {
   "cell_type": "code",
   "execution_count": 52,
   "metadata": {
    "collapsed": false
   },
   "outputs": [
    {
     "data": {
      "text/html": [
       "<div>\n",
       "<style scoped>\n",
       "    .dataframe tbody tr th:only-of-type {\n",
       "        vertical-align: middle;\n",
       "    }\n",
       "\n",
       "    .dataframe tbody tr th {\n",
       "        vertical-align: top;\n",
       "    }\n",
       "\n",
       "    .dataframe thead th {\n",
       "        text-align: right;\n",
       "    }\n",
       "</style>\n",
       "<table border=\"1\" class=\"dataframe\">\n",
       "  <thead>\n",
       "    <tr style=\"text-align: right;\">\n",
       "      <th></th>\n",
       "      <th>Prs_ds_disc</th>\n",
       "      <th>Prs_us_disc</th>\n",
       "      <th>MinTemp_disc</th>\n",
       "      <th>MaxTemp_disc</th>\n",
       "      <th>Avg_Temp_disc</th>\n",
       "      <th>Temp_range_disc</th>\n",
       "      <th>Rain_disc</th>\n",
       "      <th>total_leak_count</th>\n",
       "    </tr>\n",
       "  </thead>\n",
       "  <tbody>\n",
       "    <tr>\n",
       "      <th>0</th>\n",
       "      <td>2</td>\n",
       "      <td>1</td>\n",
       "      <td>0</td>\n",
       "      <td>0</td>\n",
       "      <td>0</td>\n",
       "      <td>2</td>\n",
       "      <td>0</td>\n",
       "      <td>0</td>\n",
       "    </tr>\n",
       "    <tr>\n",
       "      <th>1</th>\n",
       "      <td>2</td>\n",
       "      <td>1</td>\n",
       "      <td>1</td>\n",
       "      <td>2</td>\n",
       "      <td>1</td>\n",
       "      <td>2</td>\n",
       "      <td>0</td>\n",
       "      <td>0</td>\n",
       "    </tr>\n",
       "    <tr>\n",
       "      <th>2</th>\n",
       "      <td>2</td>\n",
       "      <td>1</td>\n",
       "      <td>0</td>\n",
       "      <td>0</td>\n",
       "      <td>0</td>\n",
       "      <td>2</td>\n",
       "      <td>0</td>\n",
       "      <td>0</td>\n",
       "    </tr>\n",
       "    <tr>\n",
       "      <th>3</th>\n",
       "      <td>2</td>\n",
       "      <td>1</td>\n",
       "      <td>0</td>\n",
       "      <td>0</td>\n",
       "      <td>0</td>\n",
       "      <td>2</td>\n",
       "      <td>0</td>\n",
       "      <td>0</td>\n",
       "    </tr>\n",
       "    <tr>\n",
       "      <th>4</th>\n",
       "      <td>2</td>\n",
       "      <td>2</td>\n",
       "      <td>0</td>\n",
       "      <td>0</td>\n",
       "      <td>0</td>\n",
       "      <td>2</td>\n",
       "      <td>1</td>\n",
       "      <td>1</td>\n",
       "    </tr>\n",
       "  </tbody>\n",
       "</table>\n",
       "</div>"
      ],
      "text/plain": [
       "   Prs_ds_disc  Prs_us_disc  MinTemp_disc  MaxTemp_disc  Avg_Temp_disc  \\\n",
       "0            2            1             0             0              0   \n",
       "1            2            1             1             2              1   \n",
       "2            2            1             0             0              0   \n",
       "3            2            1             0             0              0   \n",
       "4            2            2             0             0              0   \n",
       "\n",
       "   Temp_range_disc  Rain_disc  total_leak_count  \n",
       "0                2          0                 0  \n",
       "1                2          0                 0  \n",
       "2                2          0                 0  \n",
       "3                2          0                 0  \n",
       "4                2          1                 1  "
      ]
     },
     "execution_count": 52,
     "metadata": {},
     "output_type": "execute_result"
    }
   ],
   "source": [
    "# Data \n",
    "df_tl = pd.read_csv('total_leak_pred_data.csv')\n",
    "df_tl.head()"
   ]
  },
  {
   "cell_type": "code",
   "execution_count": 53,
   "metadata": {
    "collapsed": true
   },
   "outputs": [],
   "source": [
    "# Separating independent variables(predictors) and the target (dependant) variable\n",
    "X_tl = df_tl[['Prs_ds_disc','Prs_us_disc','Temp_range_disc', 'Avg_Temp_disc','Rain_disc']]\n",
    "y_tl = df_tl.total_leak_count"
   ]
  },
  {
   "cell_type": "code",
   "execution_count": 54,
   "metadata": {
    "collapsed": true
   },
   "outputs": [],
   "source": [
    "#Spliting the train and test sets on a 70:30 basis\n",
    "X_train_tl, X_test_tl, y_train_tl, y_test_tl = train_test_split(X_tl, y_tl, test_size = .3)"
   ]
  },
  {
   "cell_type": "code",
   "execution_count": 55,
   "metadata": {
    "collapsed": true
   },
   "outputs": [],
   "source": [
    "# Joining the train set for model development\n",
    "X_train_tl['total_leak_count'] = y_train_tl"
   ]
  },
  {
   "cell_type": "code",
   "execution_count": 56,
   "metadata": {
    "collapsed": true
   },
   "outputs": [],
   "source": [
    "#data = pd.DataFrame(data={'A': [0, 0, 1], 'B': [0, 1, 0], 'C': [1, 1, 0]})\n",
    "model_totalleak = BayesianModel([('Prs_ds_disc', 'total_leak_count'), ('Temp_range_disc', 'total_leak_count'), ('Rain_disc', 'total_leak_count') ])\n",
    "model_totalleak.fit(X_train_tl)\n",
    "#model1.get_cpds()"
   ]
  },
  {
   "cell_type": "code",
   "execution_count": 57,
   "metadata": {
    "collapsed": true
   },
   "outputs": [],
   "source": [
    "# Alligning test set with data model variables\n",
    "X_test_tl = X_test_tl[['Prs_ds_disc','Temp_range_disc','Rain_disc']]"
   ]
  },
  {
   "cell_type": "code",
   "execution_count": 58,
   "metadata": {
    "collapsed": true
   },
   "outputs": [],
   "source": [
    "# Using fitted model to obtain predictions based on test set\n",
    "y_pred_totalleak = model_totalleak.predict(X_test_tl)\n",
    "#y_pred_meterleak2 = model_meterleak2.predict(X_test_ml)"
   ]
  },
  {
   "cell_type": "code",
   "execution_count": 59,
   "metadata": {
    "collapsed": false
   },
   "outputs": [
    {
     "name": "stdout",
     "output_type": "stream",
     "text": [
      "0.6\n"
     ]
    }
   ],
   "source": [
    "# Measuring the accuracy of the models based on the test set\n",
    "print(accuracy_score(y_pred_totalleak, y_test_tl))\n"
   ]
  },
  {
   "cell_type": "code",
   "execution_count": 60,
   "metadata": {
    "collapsed": true
   },
   "outputs": [
    {
     "name": "stdout",
     "output_type": "stream",
     "text": [
      "+---------------------+---------------------+---------------------+---------------------+--------------------+--------------------+--------------------+--------------------+--------------------+---------------------+--------------------+---------------------+---------------------+---------------------+--------------------+--------------------+---------------------+--------------------+--------------------+---------------------+---------------------+--------------------+--------------------+--------------------+--------------------+---------------------+--------------------+--------------------+\n",
      "| Prs_ds_disc         | Prs_ds_disc(0)      | Prs_ds_disc(0)      | Prs_ds_disc(0)      | Prs_ds_disc(0)     | Prs_ds_disc(0)     | Prs_ds_disc(0)     | Prs_ds_disc(0)     | Prs_ds_disc(0)     | Prs_ds_disc(0)      | Prs_ds_disc(1)     | Prs_ds_disc(1)      | Prs_ds_disc(1)      | Prs_ds_disc(1)      | Prs_ds_disc(1)     | Prs_ds_disc(1)     | Prs_ds_disc(1)      | Prs_ds_disc(1)     | Prs_ds_disc(1)     | Prs_ds_disc(2)      | Prs_ds_disc(2)      | Prs_ds_disc(2)     | Prs_ds_disc(2)     | Prs_ds_disc(2)     | Prs_ds_disc(2)     | Prs_ds_disc(2)      | Prs_ds_disc(2)     | Prs_ds_disc(2)     |\n",
      "+---------------------+---------------------+---------------------+---------------------+--------------------+--------------------+--------------------+--------------------+--------------------+---------------------+--------------------+---------------------+---------------------+---------------------+--------------------+--------------------+---------------------+--------------------+--------------------+---------------------+---------------------+--------------------+--------------------+--------------------+--------------------+---------------------+--------------------+--------------------+\n",
      "| Rain_disc           | Rain_disc(0)        | Rain_disc(0)        | Rain_disc(0)        | Rain_disc(1)       | Rain_disc(1)       | Rain_disc(1)       | Rain_disc(2)       | Rain_disc(2)       | Rain_disc(2)        | Rain_disc(0)       | Rain_disc(0)        | Rain_disc(0)        | Rain_disc(1)        | Rain_disc(1)       | Rain_disc(1)       | Rain_disc(2)        | Rain_disc(2)       | Rain_disc(2)       | Rain_disc(0)        | Rain_disc(0)        | Rain_disc(0)       | Rain_disc(1)       | Rain_disc(1)       | Rain_disc(1)       | Rain_disc(2)        | Rain_disc(2)       | Rain_disc(2)       |\n",
      "+---------------------+---------------------+---------------------+---------------------+--------------------+--------------------+--------------------+--------------------+--------------------+---------------------+--------------------+---------------------+---------------------+---------------------+--------------------+--------------------+---------------------+--------------------+--------------------+---------------------+---------------------+--------------------+--------------------+--------------------+--------------------+---------------------+--------------------+--------------------+\n",
      "| Temp_range_disc     | Temp_range_disc(0)  | Temp_range_disc(1)  | Temp_range_disc(2)  | Temp_range_disc(0) | Temp_range_disc(1) | Temp_range_disc(2) | Temp_range_disc(0) | Temp_range_disc(1) | Temp_range_disc(2)  | Temp_range_disc(0) | Temp_range_disc(1)  | Temp_range_disc(2)  | Temp_range_disc(0)  | Temp_range_disc(1) | Temp_range_disc(2) | Temp_range_disc(0)  | Temp_range_disc(1) | Temp_range_disc(2) | Temp_range_disc(0)  | Temp_range_disc(1)  | Temp_range_disc(2) | Temp_range_disc(0) | Temp_range_disc(1) | Temp_range_disc(2) | Temp_range_disc(0)  | Temp_range_disc(1) | Temp_range_disc(2) |\n",
      "+---------------------+---------------------+---------------------+---------------------+--------------------+--------------------+--------------------+--------------------+--------------------+---------------------+--------------------+---------------------+---------------------+---------------------+--------------------+--------------------+---------------------+--------------------+--------------------+---------------------+---------------------+--------------------+--------------------+--------------------+--------------------+---------------------+--------------------+--------------------+\n",
      "| total_leak_count(0) | 0.5384615384615384  | 0.5909090909090909  | 0.7                 | 0.75               | 0.6                | 1.0                | 1.0                | 1.0                | 0.16666666666666666 | 0.6875             | 0.6071428571428571  | 0.5833333333333334  | 0.5714285714285714  | 0.25               | 0.75               | 0.6470588235294118  | 1.0                | 0.0                | 0.45454545454545453 | 0.5263157894736842  | 0.59375            | 0.6                | 1.0                | 1.0                | 0.5                 | 1.0                | 0.5                |\n",
      "+---------------------+---------------------+---------------------+---------------------+--------------------+--------------------+--------------------+--------------------+--------------------+---------------------+--------------------+---------------------+---------------------+---------------------+--------------------+--------------------+---------------------+--------------------+--------------------+---------------------+---------------------+--------------------+--------------------+--------------------+--------------------+---------------------+--------------------+--------------------+\n",
      "| total_leak_count(1) | 0.38461538461538464 | 0.3181818181818182  | 0.26666666666666666 | 0.25               | 0.2                | 0.0                | 0.0                | 0.0                | 0.16666666666666666 | 0.3125             | 0.2857142857142857  | 0.25                | 0.42857142857142855 | 0.5                | 0.0                | 0.35294117647058826 | 0.0                | 1.0                | 0.36363636363636365 | 0.15789473684210525 | 0.28125            | 0.2                | 0.0                | 0.0                | 0.3333333333333333  | 0.0                | 0.5                |\n",
      "+---------------------+---------------------+---------------------+---------------------+--------------------+--------------------+--------------------+--------------------+--------------------+---------------------+--------------------+---------------------+---------------------+---------------------+--------------------+--------------------+---------------------+--------------------+--------------------+---------------------+---------------------+--------------------+--------------------+--------------------+--------------------+---------------------+--------------------+--------------------+\n",
      "| total_leak_count(2) | 0.07692307692307693 | 0.09090909090909091 | 0.03333333333333333 | 0.0                | 0.2                | 0.0                | 0.0                | 0.0                | 0.16666666666666666 | 0.0                | 0.10714285714285714 | 0.08333333333333333 | 0.0                 | 0.25               | 0.25               | 0.0                 | 0.0                | 0.0                | 0.09090909090909091 | 0.2631578947368421  | 0.0625             | 0.2                | 0.0                | 0.0                | 0.0                 | 0.0                | 0.0                |\n",
      "+---------------------+---------------------+---------------------+---------------------+--------------------+--------------------+--------------------+--------------------+--------------------+---------------------+--------------------+---------------------+---------------------+---------------------+--------------------+--------------------+---------------------+--------------------+--------------------+---------------------+---------------------+--------------------+--------------------+--------------------+--------------------+---------------------+--------------------+--------------------+\n",
      "| total_leak_count(3) | 0.0                 | 0.0                 | 0.0                 | 0.0                | 0.0                | 0.0                | 0.0                | 0.0                | 0.16666666666666666 | 0.0                | 0.0                 | 0.08333333333333333 | 0.0                 | 0.0                | 0.0                | 0.0                 | 0.0                | 0.0                | 0.09090909090909091 | 0.0                 | 0.03125            | 0.0                | 0.0                | 0.0                | 0.16666666666666666 | 0.0                | 0.0                |\n",
      "+---------------------+---------------------+---------------------+---------------------+--------------------+--------------------+--------------------+--------------------+--------------------+---------------------+--------------------+---------------------+---------------------+---------------------+--------------------+--------------------+---------------------+--------------------+--------------------+---------------------+---------------------+--------------------+--------------------+--------------------+--------------------+---------------------+--------------------+--------------------+\n",
      "| total_leak_count(4) | 0.0                 | 0.0                 | 0.0                 | 0.0                | 0.0                | 0.0                | 0.0                | 0.0                | 0.16666666666666666 | 0.0                | 0.0                 | 0.0                 | 0.0                 | 0.0                | 0.0                | 0.0                 | 0.0                | 0.0                | 0.0                 | 0.05263157894736842 | 0.0                | 0.0                | 0.0                | 0.0                | 0.0                 | 0.0                | 0.0                |\n",
      "+---------------------+---------------------+---------------------+---------------------+--------------------+--------------------+--------------------+--------------------+--------------------+---------------------+--------------------+---------------------+---------------------+---------------------+--------------------+--------------------+---------------------+--------------------+--------------------+---------------------+---------------------+--------------------+--------------------+--------------------+--------------------+---------------------+--------------------+--------------------+\n",
      "| total_leak_count(6) | 0.0                 | 0.0                 | 0.0                 | 0.0                | 0.0                | 0.0                | 0.0                | 0.0                | 0.16666666666666666 | 0.0                | 0.0                 | 0.0                 | 0.0                 | 0.0                | 0.0                | 0.0                 | 0.0                | 0.0                | 0.0                 | 0.0                 | 0.03125            | 0.0                | 0.0                | 0.0                | 0.0                 | 0.0                | 0.0                |\n",
      "+---------------------+---------------------+---------------------+---------------------+--------------------+--------------------+--------------------+--------------------+--------------------+---------------------+--------------------+---------------------+---------------------+---------------------+--------------------+--------------------+---------------------+--------------------+--------------------+---------------------+---------------------+--------------------+--------------------+--------------------+--------------------+---------------------+--------------------+--------------------+\n"
     ]
    }
   ],
   "source": [
    "# Printing a CPD with it's state names defined.\n",
    "print(model_totalleak.get_cpds('total_leak_count'))"
   ]
  },
  {
   "cell_type": "code",
   "execution_count": 61,
   "metadata": {
    "collapsed": true
   },
   "outputs": [],
   "source": [
    "cpd = model_totalleak.get_cpds('total_leak_count')"
   ]
  },
  {
   "cell_type": "code",
   "execution_count": 62,
   "metadata": {
    "collapsed": false
   },
   "outputs": [
    {
     "data": {
      "text/plain": [
       "pgmpy.factors.discrete.CPD.TabularCPD"
      ]
     },
     "execution_count": 62,
     "metadata": {},
     "output_type": "execute_result"
    }
   ],
   "source": [
    "type(cpd)"
   ]
  },
  {
   "cell_type": "markdown",
   "metadata": {},
   "source": [
    "# With transition"
   ]
  }
 ],
 "metadata": {
  "kernelspec": {
   "display_name": "py3tst",
   "language": "python",
   "name": "py3tst"
  },
  "language_info": {
   "codemirror_mode": {
    "name": "ipython",
    "version": 3
   },
   "file_extension": ".py",
   "mimetype": "text/x-python",
   "name": "python",
   "nbconvert_exporter": "python",
   "pygments_lexer": "ipython3",
   "version": "3.6.8"
  }
 },
 "nbformat": 4,
 "nbformat_minor": 2
}
