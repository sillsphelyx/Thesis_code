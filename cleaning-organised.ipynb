{
 "cells": [
  {
   "cell_type": "code",
   "execution_count": 2,
   "metadata": {
    "collapsed": false
   },
   "outputs": [],
   "source": [
    "import pandas as pd\n",
    "import numpy as np\n",
    "import re\n",
    "from datetime import datetime\n",
    "import warnings\n",
    "warnings.filterwarnings('ignore')\n",
    "#import xlrd"
   ]
  },
  {
   "cell_type": "markdown",
   "metadata": {},
   "source": [
    "# Data preparation"
   ]
  },
  {
   "cell_type": "code",
   "execution_count": 3,
   "metadata": {
    "collapsed": true
   },
   "outputs": [],
   "source": [
    "#importing the data from excel sheet\n",
    "data = pd.read_excel (r'WorkorderReport.xlsx', sheet_name='WorkorderReport')\n",
    "#data.head()\n"
   ]
  },
  {
   "cell_type": "code",
   "execution_count": 4,
   "metadata": {
    "collapsed": true
   },
   "outputs": [],
   "source": [
    "#Pulling out the rows of interest from the data Frame\n",
    "data = data[['DATE_CREATED', 'DESC_PROBLEM_ACTUAL']]"
   ]
  },
  {
   "cell_type": "code",
   "execution_count": 5,
   "metadata": {
    "collapsed": false
   },
   "outputs": [
    {
     "data": {
      "text/plain": [
       "DATE_CREATED           0\n",
       "DESC_PROBLEM_ACTUAL    3\n",
       "dtype: int64"
      ]
     },
     "execution_count": 5,
     "metadata": {},
     "output_type": "execute_result"
    }
   ],
   "source": [
    "#Checking for the existence of missing  values\n",
    "data.isnull().sum()#['DATE_CREATED'][0]"
   ]
  },
  {
   "cell_type": "code",
   "execution_count": 6,
   "metadata": {
    "collapsed": true
   },
   "outputs": [],
   "source": [
    "#dropping missing values\n",
    "data.dropna(inplace = True)\n",
    "#Reseting the indices after the deletion of rows with missing values\n",
    "data.reset_index(inplace=True)\n",
    "#Dropping the created index column\n",
    "data.drop('index', axis='columns', inplace=True)"
   ]
  },
  {
   "cell_type": "code",
   "execution_count": 7,
   "metadata": {
    "collapsed": true
   },
   "outputs": [],
   "source": [
    "# Converting the description column to text type\n",
    "data['DESC_PROBLEM_ACTUAL'] = data['DESC_PROBLEM_ACTUAL'].astype(str)"
   ]
  },
  {
   "cell_type": "code",
   "execution_count": 8,
   "metadata": {
    "collapsed": false
   },
   "outputs": [],
   "source": [
    "# Veiwing the results of our action\n",
    "#data.head()"
   ]
  },
  {
   "cell_type": "code",
   "execution_count": 9,
   "metadata": {
    "collapsed": false
   },
   "outputs": [],
   "source": [
    "#splitting datetime into day and time \n",
    "data['Date'] = [d.date() for d in data['DATE_CREATED']]\n",
    "#data['time'] = [d.time() for d in data_int['DATE_CREATED']]"
   ]
  },
  {
   "cell_type": "code",
   "execution_count": 10,
   "metadata": {
    "collapsed": false,
    "scrolled": true
   },
   "outputs": [],
   "source": [
    "# Columns of interest\n",
    "data = data[['Date','DESC_PROBLEM_ACTUAL']]"
   ]
  },
  {
   "cell_type": "markdown",
   "metadata": {},
   "source": [
    "# Defining the function that will be useful for text mining"
   ]
  },
  {
   "cell_type": "code",
   "execution_count": 11,
   "metadata": {
    "collapsed": true
   },
   "outputs": [],
   "source": [
    "# Function that check for the required text pattern and assign a true or false value based on wheather or not that text\n",
    "# is in the sentences\n",
    "def check(patterns,text):\n",
    "    for pattern in patterns:\n",
    "        if re.search(pattern,text):\n",
    "            return True\n",
    "        else:\n",
    "            return False"
   ]
  },
  {
   "cell_type": "markdown",
   "metadata": {},
   "source": [
    "## Eskhawini"
   ]
  },
  {
   "cell_type": "code",
   "execution_count": 12,
   "metadata": {
    "collapsed": true
   },
   "outputs": [],
   "source": [
    "Esk_data = data"
   ]
  },
  {
   "cell_type": "code",
   "execution_count": 13,
   "metadata": {
    "collapsed": false
   },
   "outputs": [],
   "source": [
    "#Eskhawini and Eskhaleni\n",
    "# Checking weather the description text contains the desired pattern\n",
    "patterns = ['[Ee][Ss][Kk][Hh][Aa][WwLl][IiEe][Nn][Ii]']\n",
    "truth_value = []\n",
    "for txt in Esk_data['DESC_PROBLEM_ACTUAL']:\n",
    "    truth_value.append(check(patterns,txt))\n",
    "Esk = np.array(truth_value)   "
   ]
  },
  {
   "cell_type": "code",
   "execution_count": 14,
   "metadata": {
    "collapsed": true
   },
   "outputs": [],
   "source": [
    "#adding the new column \"Eskhawini\"\n",
    "Esk_data = Esk_data.assign(Eskhawini = Esk)"
   ]
  },
  {
   "cell_type": "code",
   "execution_count": 15,
   "metadata": {
    "collapsed": true
   },
   "outputs": [],
   "source": [
    "#  H-Section\n",
    "\n",
    "#### Pipe_leak\n",
    "# Checking weather the description text contains the desired pattern\n",
    "truth_value = []\n",
    "key_words = ['[^a-zA-Z0-9_]H[\\d\\s]']\n",
    "for word in key_words:\n",
    "    for txt in Esk_data['DESC_PROBLEM_ACTUAL']:\n",
    "        truth_value.append([check(key_words,txt)])\n",
    "    H = np.array(truth_value) "
   ]
  },
  {
   "cell_type": "code",
   "execution_count": 16,
   "metadata": {
    "collapsed": true
   },
   "outputs": [],
   "source": [
    "#adding the new column \"Eskhawini\"\n",
    "Esk_data = Esk_data.assign(Esk_H = H)"
   ]
  },
  {
   "cell_type": "code",
   "execution_count": 17,
   "metadata": {
    "collapsed": true
   },
   "outputs": [],
   "source": [
    "#  H_be-Section\n",
    "\n",
    "#### Pipe_leak\n",
    "# Checking weather the description text contains the desired pattern\n",
    "truth_value = []\n",
    "key_words = ['[^a-zA-Z0-9_]H[\\d\\s]']\n",
    "for word in key_words:\n",
    "    for txt in Esk_data['DESC_PROBLEM_ACTUAL']:\n",
    "        truth_value.append([check(key_words,txt)])\n",
    "    H_be = np.array(truth_value) "
   ]
  },
  {
   "cell_type": "code",
   "execution_count": 18,
   "metadata": {
    "collapsed": true
   },
   "outputs": [],
   "source": [
    "#adding the new column \"Eskhawini\"\n",
    "Esk_data = Esk_data.assign(Esk_Hbe = H_be)"
   ]
  },
  {
   "cell_type": "code",
   "execution_count": 19,
   "metadata": {
    "collapsed": true
   },
   "outputs": [],
   "source": [
    "#  J-Section\n",
    "\n",
    "#### Pipe_leak\n",
    "# Checking weather the description text contains the desired pattern\n",
    "truth_value = []\n",
    "key_words = ['[^a-zA-Z0-9_]J[\\d\\s]']\n",
    "for word in key_words:\n",
    "    for txt in Esk_data['DESC_PROBLEM_ACTUAL']:\n",
    "        truth_value.append([check(key_words,txt)])\n",
    "    J = np.array(truth_value) "
   ]
  },
  {
   "cell_type": "code",
   "execution_count": 20,
   "metadata": {
    "collapsed": true
   },
   "outputs": [],
   "source": [
    "#adding the new column \"Eskhawini\"\n",
    "Esk_data = Esk_data.assign(Esk_J = J)"
   ]
  },
  {
   "cell_type": "code",
   "execution_count": 21,
   "metadata": {
    "collapsed": true
   },
   "outputs": [],
   "source": [
    "#  J_be-Section\n",
    "\n",
    "#### Pipe_leak\n",
    "# Checking weather the description text contains the desired pattern\n",
    "truth_value = []\n",
    "key_words = ['[^a-zA-Z0-9_]J[\\d\\s]']\n",
    "for word in key_words:\n",
    "    for txt in Esk_data['DESC_PROBLEM_ACTUAL']:\n",
    "        truth_value.append([check(key_words,txt)])\n",
    "    J_be = np.array(truth_value) "
   ]
  },
  {
   "cell_type": "code",
   "execution_count": 22,
   "metadata": {
    "collapsed": false
   },
   "outputs": [],
   "source": [
    "#adding the new column \"Eskhawini\"\n",
    "Esk_data = Esk_data.assign(Esk_Jbe = J_be)"
   ]
  },
  {
   "cell_type": "markdown",
   "metadata": {},
   "source": [
    "## Segmenting for Eskhawini (Subset data of interest)"
   ]
  },
  {
   "cell_type": "code",
   "execution_count": 23,
   "metadata": {
    "collapsed": true
   },
   "outputs": [],
   "source": [
    "#Esk_data.head()"
   ]
  },
  {
   "cell_type": "code",
   "execution_count": 24,
   "metadata": {
    "collapsed": false
   },
   "outputs": [],
   "source": [
    "df_esk = Esk_data.loc[(Esk_data['Eskhawini'] == True) | (Esk_data['Esk_H'] == True)|(Esk_data['Esk_Hbe'] == True)\n",
    "                      |(Esk_data['Esk_J'] == True)|(Esk_data['Esk_Jbe'] == True)].reset_index()"
   ]
  },
  {
   "cell_type": "code",
   "execution_count": 25,
   "metadata": {
    "collapsed": false
   },
   "outputs": [
    {
     "data": {
      "text/plain": [
       "(1819, 8)"
      ]
     },
     "execution_count": 25,
     "metadata": {},
     "output_type": "execute_result"
    }
   ],
   "source": [
    "df_esk.shape"
   ]
  },
  {
   "cell_type": "markdown",
   "metadata": {},
   "source": [
    "# Working from hereon on data segmented for ESK"
   ]
  },
  {
   "cell_type": "markdown",
   "metadata": {},
   "source": [
    "## Leak"
   ]
  },
  {
   "cell_type": "markdown",
   "metadata": {},
   "source": [
    "# Pipe leak events"
   ]
  },
  {
   "cell_type": "code",
   "execution_count": 26,
   "metadata": {
    "collapsed": false
   },
   "outputs": [],
   "source": [
    "data_pipeleak = df_esk"
   ]
  },
  {
   "cell_type": "code",
   "execution_count": 27,
   "metadata": {
    "collapsed": true
   },
   "outputs": [],
   "source": [
    "#### Pipe burst\n",
    "# Checking weather the description text contains the desired pattern\n",
    "truth_value = []\n",
    "key_words = ['[Pp][Ii][Pp][Ee][\\s\\S][Bb][Uu][Rr][Ss][Tt]']\n",
    "for word in key_words:\n",
    "    for txt in data_pipeleak['DESC_PROBLEM_ACTUAL']:\n",
    "        truth_value.append([check(key_words,txt)])\n",
    "    pipe_b = np.array(truth_value) "
   ]
  },
  {
   "cell_type": "code",
   "execution_count": 28,
   "metadata": {
    "collapsed": true
   },
   "outputs": [],
   "source": [
    "#adding the new column \"meter leak\"\n",
    "data_pipeleak = data_pipeleak.assign(Pipe_burst = pipe_b)"
   ]
  },
  {
   "cell_type": "code",
   "execution_count": 29,
   "metadata": {
    "collapsed": true
   },
   "outputs": [],
   "source": [
    "#### Pipe leak\n",
    "# Checking weather the description text contains the desired pattern\n",
    "truth_value = []\n",
    "key_words = ['[Pp][Ii][Pp][Ee][\\s\\S][Ll][Ee][Aa][Kk]']\n",
    "for word in key_words:\n",
    "    for txt in data_pipeleak['DESC_PROBLEM_ACTUAL']:\n",
    "        truth_value.append([check(key_words,txt)])\n",
    "    pipe_l = np.array(truth_value)  "
   ]
  },
  {
   "cell_type": "code",
   "execution_count": 30,
   "metadata": {
    "collapsed": true
   },
   "outputs": [],
   "source": [
    "#adding the new column \"meter leak\"\n",
    "data_pipeleak = data_pipeleak.assign(Pipe_leak = pipe_l)"
   ]
  },
  {
   "cell_type": "code",
   "execution_count": 31,
   "metadata": {
    "collapsed": true
   },
   "outputs": [],
   "source": [
    "#### Burst pipe\n",
    "# Checking weather the description text contains the desired pattern\n",
    "truth_value = []\n",
    "key_words = ['[Bb][Uu][Rr][Ss][Tt][\\s\\S][Pp][Ii][Pp][Ee]']\n",
    "for word in key_words:\n",
    "    for txt in data_pipeleak['DESC_PROBLEM_ACTUAL']:\n",
    "        truth_value.append([check(key_words,txt)])\n",
    "    pipe_bp = np.array(truth_value)  "
   ]
  },
  {
   "cell_type": "code",
   "execution_count": 32,
   "metadata": {
    "collapsed": true
   },
   "outputs": [],
   "source": [
    "#adding the new column \"burst pipe\"\n",
    "data_pipeleak = data_pipeleak.assign(Burst_pipe = pipe_bp)"
   ]
  },
  {
   "cell_type": "code",
   "execution_count": 33,
   "metadata": {
    "collapsed": true
   },
   "outputs": [],
   "source": [
    "#### Pipe leaking\n",
    "# Checking weather the description text contains the desired pattern\n",
    "truth_value = []\n",
    "key_words = ['[Pp][Ii][Pp][Ee][\\s\\S][Ll][Ee][Aa][Kk][iI][Nn][Gg]']\n",
    "for word in key_words:\n",
    "    for txt in data_pipeleak['DESC_PROBLEM_ACTUAL']:\n",
    "        truth_value.append([check(key_words,txt)])\n",
    "    pipe_lng = np.array(truth_value)  "
   ]
  },
  {
   "cell_type": "code",
   "execution_count": 34,
   "metadata": {
    "collapsed": true
   },
   "outputs": [],
   "source": [
    "#adding the new column \"burst pipe\"\n",
    "data_pipeleak = data_pipeleak.assign(Pipe_leaking = pipe_lng)"
   ]
  },
  {
   "cell_type": "code",
   "execution_count": 35,
   "metadata": {
    "collapsed": true
   },
   "outputs": [],
   "source": [
    "####leaking pipe\n",
    "# Checking weather the description text contains the desired pattern\n",
    "truth_value = []\n",
    "key_words = ['[Ll][Ee][Aa][Kk][iI][Nn][Gg][\\s\\S][Pp][Ii][Pp][Ee]']\n",
    "for word in key_words:\n",
    "    for txt in data_pipeleak['DESC_PROBLEM_ACTUAL']:\n",
    "        truth_value.append([check(key_words,txt)])\n",
    "    lng_pipe = np.array(truth_value) "
   ]
  },
  {
   "cell_type": "code",
   "execution_count": 36,
   "metadata": {
    "collapsed": true
   },
   "outputs": [],
   "source": [
    "#adding the new column \"burst pipe\"\n",
    "data_pipeleak = data_pipeleak.assign(Leaking_pipe = lng_pipe)"
   ]
  },
  {
   "cell_type": "code",
   "execution_count": 37,
   "metadata": {
    "collapsed": true
   },
   "outputs": [],
   "source": [
    "####Broken pipe\n",
    "# Checking weather the description text contains the desired pattern\n",
    "truth_value = []\n",
    "key_words = ['[Bb][Rr][Oo][Kk][En][Nn][\\s\\S][Pp][Ii][Pp][Ee]']\n",
    "for word in key_words:\n",
    "    for txt in data_pipeleak['DESC_PROBLEM_ACTUAL']:\n",
    "        truth_value.append([check(key_words,txt)])\n",
    "    Brk_pipe = np.array(truth_value) "
   ]
  },
  {
   "cell_type": "code",
   "execution_count": 38,
   "metadata": {
    "collapsed": true
   },
   "outputs": [],
   "source": [
    "#adding the new column \"broken_pipe\"\n",
    "data_pipeleak = data_pipeleak.assign(Broken_pipe = Brk_pipe)"
   ]
  },
  {
   "cell_type": "code",
   "execution_count": 39,
   "metadata": {
    "collapsed": false
   },
   "outputs": [],
   "source": [
    "#data_pipeleak.head()"
   ]
  },
  {
   "cell_type": "code",
   "execution_count": 40,
   "metadata": {
    "collapsed": false
   },
   "outputs": [],
   "source": [
    "#data_pipeleak['Pipe_burst'].value_counts()"
   ]
  },
  {
   "cell_type": "code",
   "execution_count": 41,
   "metadata": {
    "collapsed": false
   },
   "outputs": [],
   "source": [
    "#Picking rows with true values for pipe leaks\n",
    "pipeleak_data = data_pipeleak.loc[(data_pipeleak['Pipe_burst'] == True) | (data_pipeleak['Pipe_leak'] == True)|(data_pipeleak['Burst_pipe'] == True)\n",
    "                      |(data_pipeleak['Pipe_leaking'] == True)|(data_pipeleak['Leaking_pipe'] == True)|(data_pipeleak['Broken_pipe'] == True)].reset_index()"
   ]
  },
  {
   "cell_type": "code",
   "execution_count": 42,
   "metadata": {
    "collapsed": false
   },
   "outputs": [],
   "source": [
    "pipeleak_data['pipeleak_count'] = 1"
   ]
  },
  {
   "cell_type": "code",
   "execution_count": 43,
   "metadata": {
    "collapsed": false
   },
   "outputs": [],
   "source": [
    "# selecting the two columns of interest for further analysis\n",
    "pipeleak_agg = pipeleak_data[['Date','pipeleak_count']]\n",
    "# converting date column to pandas datetime object\n",
    "pipeleak_agg['Date'] = pd.to_datetime(pipeleak_agg['Date'])\n",
    "# Summing rows by day\n",
    "pipeleak_agg = pipeleak_agg.groupby(pipeleak_agg['Date'].dt.date).sum()"
   ]
  },
  {
   "cell_type": "code",
   "execution_count": 44,
   "metadata": {
    "collapsed": false
   },
   "outputs": [
    {
     "data": {
      "text/plain": [
       "(53, 1)"
      ]
     },
     "execution_count": 44,
     "metadata": {},
     "output_type": "execute_result"
    }
   ],
   "source": [
    "pipeleak_agg.shape"
   ]
  },
  {
   "cell_type": "markdown",
   "metadata": {},
   "source": [
    "## Meter Leak"
   ]
  },
  {
   "cell_type": "code",
   "execution_count": 45,
   "metadata": {
    "collapsed": true
   },
   "outputs": [],
   "source": [
    "data_meterleak = df_esk"
   ]
  },
  {
   "cell_type": "code",
   "execution_count": 46,
   "metadata": {
    "collapsed": true
   },
   "outputs": [],
   "source": [
    "#### Meter leak\n",
    "# Checking weather the description text contains the desired pattern\n",
    "truth_value = []\n",
    "key_words = ['[Mm][Ee][Tt][Ee][Rr][\\s\\S][Ll][Ee][Aa][Kk]']\n",
    "for word in key_words:\n",
    "    for txt in data_meterleak['DESC_PROBLEM_ACTUAL']:\n",
    "        truth_value.append([check(key_words,txt)])\n",
    "    mtr = np.array(truth_value)  "
   ]
  },
  {
   "cell_type": "code",
   "execution_count": 47,
   "metadata": {
    "collapsed": true
   },
   "outputs": [],
   "source": [
    "#adding the new column \"meter leak\"\n",
    "data_meterleak = data_meterleak.assign(Meter_leak = mtr)"
   ]
  },
  {
   "cell_type": "code",
   "execution_count": 48,
   "metadata": {
    "collapsed": true
   },
   "outputs": [],
   "source": [
    "#### Meter leaks\n",
    "# Checking weather the description text contains the desired pattern\n",
    "truth_value = []\n",
    "key_words = ['[Mm][Ee][Tt][Ee][Rr][\\s\\S][Ll][Ee][Aa][Kk][Ss]']\n",
    "for word in key_words:\n",
    "    for txt in data_meterleak['DESC_PROBLEM_ACTUAL']:\n",
    "        truth_value.append([check(key_words,txt)])\n",
    "    mtrs = np.array(truth_value)  "
   ]
  },
  {
   "cell_type": "code",
   "execution_count": 49,
   "metadata": {
    "collapsed": true
   },
   "outputs": [],
   "source": [
    "#adding the new column \"meter leaks\"\n",
    "data_meterleak = data_meterleak.assign(Meter_leaks = mtrs)"
   ]
  },
  {
   "cell_type": "code",
   "execution_count": 50,
   "metadata": {
    "collapsed": true
   },
   "outputs": [],
   "source": [
    "#### Leaking meter\n",
    "# Checking weather the description text contains the desired pattern\n",
    "truth_value = []\n",
    "key_words = ['[Ll][Ee][Aa][Kk][iI][Nn][Gg][\\s\\S][Mm][Ee][Tt][Ee][Rr]']\n",
    "for word in key_words:\n",
    "    for txt in data_meterleak['DESC_PROBLEM_ACTUAL']:\n",
    "        truth_value.append([check(key_words,txt)])\n",
    "    lkgmtr = np.array(truth_value)  "
   ]
  },
  {
   "cell_type": "code",
   "execution_count": 51,
   "metadata": {
    "collapsed": true
   },
   "outputs": [],
   "source": [
    "#adding the new column \"meter leak\"\n",
    "data_meterleak = data_meterleak.assign(Leaking_meter = lkgmtr)"
   ]
  },
  {
   "cell_type": "code",
   "execution_count": 52,
   "metadata": {
    "collapsed": true
   },
   "outputs": [],
   "source": [
    "#### meter leaking\n",
    "# Checking weather the description text contains the desired pattern\n",
    "truth_value = []\n",
    "key_words = ['[Mm][Ee][Tt][Ee][Rr][\\s\\S][Ll][Ee][Aa][Kk][iI][Nn][Gg]']\n",
    "for word in key_words:\n",
    "    for txt in data_meterleak['DESC_PROBLEM_ACTUAL']:\n",
    "        truth_value.append([check(key_words,txt)])\n",
    "    lkgmtr = np.array(truth_value)  "
   ]
  },
  {
   "cell_type": "code",
   "execution_count": 53,
   "metadata": {
    "collapsed": true
   },
   "outputs": [],
   "source": [
    "#adding the new column \"meter leak\"\n",
    "data_meterleak = data_meterleak.assign(Leaking_meter = lkgmtr)"
   ]
  },
  {
   "cell_type": "code",
   "execution_count": 54,
   "metadata": {
    "collapsed": true
   },
   "outputs": [],
   "source": [
    "#### Meter Broken\n",
    "# Checking weather the description text contains the desired pattern\n",
    "truth_value = []\n",
    "key_words = ['[Mm][Ee][Tt][Ee][Rr][\\s\\S][Bb][Rr][Oo][Kk][En][Nn]']\n",
    "for word in key_words:\n",
    "    for txt in data_meterleak['DESC_PROBLEM_ACTUAL']:\n",
    "        truth_value.append([check(key_words,txt)])\n",
    "    mtrbrk = np.array(truth_value)"
   ]
  },
  {
   "cell_type": "code",
   "execution_count": 55,
   "metadata": {
    "collapsed": true
   },
   "outputs": [],
   "source": [
    "#adding the new column \"meter leak\"\n",
    "data_meterleak = data_meterleak.assign(Meter_broken = mtrbrk)"
   ]
  },
  {
   "cell_type": "code",
   "execution_count": 56,
   "metadata": {
    "collapsed": true
   },
   "outputs": [],
   "source": [
    "####  Broken Meter\n",
    "# Checking weather the description text contains the desired pattern\n",
    "truth_value = []\n",
    "key_words = ['[Bb][Rr][Oo][Kk][En][Nn][\\s\\S][Mm][Ee][Tt][Ee][Rr]']\n",
    "for word in key_words:\n",
    "    for txt in data_meterleak['DESC_PROBLEM_ACTUAL']:\n",
    "        truth_value.append([check(key_words,txt)])\n",
    "    brkmtr = np.array(truth_value)"
   ]
  },
  {
   "cell_type": "code",
   "execution_count": 57,
   "metadata": {
    "collapsed": true
   },
   "outputs": [],
   "source": [
    "#adding the new column \"meter leak\"\n",
    "data_meterleak = data_meterleak.assign(Broken_meter = brkmtr)"
   ]
  },
  {
   "cell_type": "code",
   "execution_count": 58,
   "metadata": {
    "collapsed": true
   },
   "outputs": [],
   "source": [
    "#data_meterleak.head()"
   ]
  },
  {
   "cell_type": "code",
   "execution_count": 59,
   "metadata": {
    "collapsed": true
   },
   "outputs": [],
   "source": [
    "#Picking rows with true values for meter leaks\n",
    "meterleak_data = data_meterleak.loc[(data_meterleak['Meter_leak'] == True) | (data_meterleak['Meter_leaks'] == True)|(data_meterleak['Leaking_meter'] == True)\n",
    "                      |(data_meterleak['Meter_broken'] == True)|(data_meterleak['Broken_meter'] == True)].reset_index()"
   ]
  },
  {
   "cell_type": "code",
   "execution_count": 60,
   "metadata": {
    "collapsed": true
   },
   "outputs": [],
   "source": [
    "# Adding a column of ones in effort to use them to obtain component based daily leaks\n",
    "meterleak_data['meterleak_count'] = 1"
   ]
  },
  {
   "cell_type": "code",
   "execution_count": 61,
   "metadata": {
    "collapsed": true
   },
   "outputs": [],
   "source": [
    "#meterleak_data.head()"
   ]
  },
  {
   "cell_type": "code",
   "execution_count": 62,
   "metadata": {
    "collapsed": true
   },
   "outputs": [],
   "source": [
    "# selecting the two columns of interest for further analysis\n",
    "meterleak_agg = meterleak_data[['Date','meterleak_count']]\n",
    "# converting date column to pandas datetime object\n",
    "meterleak_agg['Date'] = pd.to_datetime(meterleak_agg['Date'])\n",
    "# Summing rows by day\n",
    "meterleak_agg = meterleak_agg.groupby(meterleak_agg['Date'].dt.date).sum()"
   ]
  },
  {
   "cell_type": "code",
   "execution_count": 63,
   "metadata": {
    "collapsed": false
   },
   "outputs": [
    {
     "data": {
      "text/plain": [
       "(71, 1)"
      ]
     },
     "execution_count": 63,
     "metadata": {},
     "output_type": "execute_result"
    }
   ],
   "source": [
    "meterleak_agg.shape"
   ]
  },
  {
   "cell_type": "markdown",
   "metadata": {},
   "source": [
    "## Valve leak"
   ]
  },
  {
   "cell_type": "code",
   "execution_count": 64,
   "metadata": {
    "collapsed": true
   },
   "outputs": [],
   "source": [
    "data_valveleak = df_esk"
   ]
  },
  {
   "cell_type": "code",
   "execution_count": 65,
   "metadata": {
    "collapsed": false
   },
   "outputs": [],
   "source": [
    "#### valve leak\n",
    "# Checking weather the description text contains the desired pattern\n",
    "truth_value = []\n",
    "key_words = ['[Vv][Aa][Ll][Vv][Ee][\\s\\S][Ll][Ee][Aa][Kk]']\n",
    "for word in key_words:\n",
    "    for txt in data_valveleak['DESC_PROBLEM_ACTUAL']:\n",
    "        truth_value.append([check(key_words,txt)])\n",
    "    valve = np.array(truth_value)  "
   ]
  },
  {
   "cell_type": "code",
   "execution_count": 66,
   "metadata": {
    "collapsed": true
   },
   "outputs": [],
   "source": [
    "#adding the new column \"meter leak\"\n",
    "data_valveleak = data_valveleak.assign(Valve_leak = valve)"
   ]
  },
  {
   "cell_type": "code",
   "execution_count": 67,
   "metadata": {
    "collapsed": true
   },
   "outputs": [],
   "source": [
    "#### leak valve \n",
    "# Checking weather the description text contains the desired pattern\n",
    "truth_value = []\n",
    "key_words = ['[Ll][Ee][Aa][Kk][\\s\\S][Vv][Aa][Ll][Vv][Ee]']\n",
    "for word in key_words:\n",
    "    for txt in data_valveleak['DESC_PROBLEM_ACTUAL']:\n",
    "        truth_value.append([check(key_words,txt)])\n",
    "    lk_valve = np.array(truth_value)  "
   ]
  },
  {
   "cell_type": "code",
   "execution_count": 68,
   "metadata": {
    "collapsed": true
   },
   "outputs": [],
   "source": [
    "#adding the new column \"leak valve\"\n",
    "data_valveleak = data_valveleak.assign(Leak_valve = lk_valve)"
   ]
  },
  {
   "cell_type": "code",
   "execution_count": 69,
   "metadata": {
    "collapsed": false
   },
   "outputs": [],
   "source": [
    "#data_valveleak.head()"
   ]
  },
  {
   "cell_type": "code",
   "execution_count": 70,
   "metadata": {
    "collapsed": true
   },
   "outputs": [],
   "source": [
    "#Picking rows with true values for meter leaks\n",
    "valveleak_data = data_valveleak.loc[(data_valveleak['Valve_leak'] == True)|(data_valveleak['Leak_valve'] == True)].reset_index()"
   ]
  },
  {
   "cell_type": "code",
   "execution_count": 71,
   "metadata": {
    "collapsed": false
   },
   "outputs": [],
   "source": [
    "valveleak_data['valveleak_count'] = 1"
   ]
  },
  {
   "cell_type": "code",
   "execution_count": 72,
   "metadata": {
    "collapsed": true
   },
   "outputs": [],
   "source": [
    "#valveleak_data.head()"
   ]
  },
  {
   "cell_type": "code",
   "execution_count": 73,
   "metadata": {
    "collapsed": true
   },
   "outputs": [],
   "source": [
    "# selecting the two columns of interest for further analysis\n",
    "valveleak_agg = valveleak_data[['Date','valveleak_count']]\n",
    "# converting date column to pandas datetime object\n",
    "valveleak_agg['Date'] = pd.to_datetime(valveleak_agg['Date'])\n",
    "# Summing rows by day\n",
    "valveleak_agg = valveleak_agg.groupby(valveleak_agg['Date'].dt.date).sum()"
   ]
  },
  {
   "cell_type": "code",
   "execution_count": 74,
   "metadata": {
    "collapsed": true
   },
   "outputs": [],
   "source": [
    "#valveleak_agg.head()"
   ]
  },
  {
   "cell_type": "markdown",
   "metadata": {
    "collapsed": true
   },
   "source": [
    "# WATER LEAKS"
   ]
  },
  {
   "cell_type": "code",
   "execution_count": 75,
   "metadata": {
    "collapsed": true
   },
   "outputs": [],
   "source": [
    "data_waterleak = df_esk"
   ]
  },
  {
   "cell_type": "code",
   "execution_count": 76,
   "metadata": {
    "collapsed": true
   },
   "outputs": [],
   "source": [
    "#### valve leak\n",
    "# Checking weather the description text contains the desired pattern\n",
    "truth_value = []\n",
    "key_words = ['[Ww][Aa][Tt][Ee][Rr][\\s\\S][Ll][Ee][Aa][Kk]']\n",
    "for word in key_words:\n",
    "    for txt in data_waterleak['DESC_PROBLEM_ACTUAL']:\n",
    "        truth_value.append([check(key_words,txt)])\n",
    "    water_lk = np.array(truth_value)  "
   ]
  },
  {
   "cell_type": "code",
   "execution_count": 77,
   "metadata": {
    "collapsed": true
   },
   "outputs": [],
   "source": [
    "#adding the new column \"leak valve\"\n",
    "data_waterleak = data_waterleak.assign(Water_leak = water_lk)"
   ]
  },
  {
   "cell_type": "code",
   "execution_count": 78,
   "metadata": {
    "collapsed": true
   },
   "outputs": [],
   "source": [
    "#Picking rows with true values for meter leaks\n",
    "waterleak_data = data_waterleak.loc[(data_waterleak['Water_leak'] == True)].reset_index()"
   ]
  },
  {
   "cell_type": "code",
   "execution_count": 79,
   "metadata": {
    "collapsed": true
   },
   "outputs": [],
   "source": [
    "waterleak_data['waterleak_count'] = 1"
   ]
  },
  {
   "cell_type": "code",
   "execution_count": 80,
   "metadata": {
    "collapsed": true
   },
   "outputs": [],
   "source": [
    "# selecting the two columns of interest for further analysis\n",
    "waterleak_agg = waterleak_data[['Date','waterleak_count']]\n",
    "# converting date column to pandas datetime object\n",
    "waterleak_agg['Date'] = pd.to_datetime(waterleak_agg['Date'])\n",
    "# Summing rows by day\n",
    "waterleak_agg = waterleak_agg.groupby(waterleak_agg['Date'].dt.date).sum()"
   ]
  },
  {
   "cell_type": "code",
   "execution_count": 81,
   "metadata": {
    "collapsed": false
   },
   "outputs": [
    {
     "data": {
      "text/plain": [
       "(47, 1)"
      ]
     },
     "execution_count": 81,
     "metadata": {},
     "output_type": "execute_result"
    }
   ],
   "source": [
    "waterleak_agg.shape"
   ]
  },
  {
   "cell_type": "markdown",
   "metadata": {},
   "source": [
    "# Scripts for aggregating the data as per time frame of interest"
   ]
  },
  {
   "cell_type": "code",
   "execution_count": 82,
   "metadata": {
    "collapsed": true
   },
   "outputs": [],
   "source": [
    "# function that takes a series and reindexs it and returns a series according to time period of interest\n",
    "def rind(series):\n",
    "    #series = pd.Series(frame['waterleak_count'], index=frame.index)\n",
    "    # Realigning the leakage data over the time period of interest\n",
    "    idx = pd.date_range(start='07/01/2018', end='06/30/2019', freq='D')\n",
    "    series.index = pd.DatetimeIndex(series.index)\n",
    "    series = series.reindex(idx, fill_value=0)\n",
    "    return series"
   ]
  },
  {
   "cell_type": "code",
   "execution_count": 83,
   "metadata": {
    "collapsed": true
   },
   "outputs": [],
   "source": [
    "# ##Reindexed waterleak counts\n",
    "#converting dataframe to  a series\n",
    "series_waterleak = pd.Series(waterleak_agg['waterleak_count'], index=waterleak_agg.index)\n",
    "#Making use of the reindexing function that was eairlier defined\n",
    "series_waterleak = rind(series_waterleak)\n",
    "#Converting series back to dataframe\n",
    "frame_waterleak = series_waterleak.to_frame(name='waterleak_count')"
   ]
  },
  {
   "cell_type": "code",
   "execution_count": 84,
   "metadata": {
    "collapsed": true
   },
   "outputs": [],
   "source": [
    "# ##Reindexed Meterleak counts\n",
    "#converting dataframe to  a series\n",
    "series_meterleak = pd.Series(meterleak_agg['meterleak_count'], index=meterleak_agg.index)\n",
    "#Making use of the reindexing function that was eairlier defined\n",
    "series_meterleak = rind(series_meterleak)\n",
    "#Converting series back to dataframe\n",
    "frame_meterleak = series_meterleak.to_frame(name='meterleak_count')"
   ]
  },
  {
   "cell_type": "code",
   "execution_count": 85,
   "metadata": {
    "collapsed": false
   },
   "outputs": [],
   "source": [
    "# ##Reindexed Pipeleak counts\n",
    "#converting dataframe to  a series\n",
    "series_pipeleak = pd.Series(pipeleak_agg['pipeleak_count'], index=pipeleak_agg.index)\n",
    "#Making use of the reindexing function that was eairlier defined\n",
    "series_pipeleak = rind(series_pipeleak)\n",
    "#Converting series back to dataframe\n",
    "frame_pipeleak = series_pipeleak.to_frame(name='pipeleak_count')"
   ]
  },
  {
   "cell_type": "code",
   "execution_count": 86,
   "metadata": {
    "collapsed": true
   },
   "outputs": [],
   "source": [
    "# ##Reindexed valveleak counts\n",
    "#converting dataframe to  a series\n",
    "series_valveleak = pd.Series(valveleak_agg['valveleak_count'], index=valveleak_agg.index)\n",
    "#Making use of the reindexing function that was eairlier defined\n",
    "series_valveleak = rind(series_valveleak)\n",
    "#Converting series back to dataframe\n",
    "frame_valveleak = series_valveleak.to_frame(name='valveleak_count')"
   ]
  },
  {
   "cell_type": "code",
   "execution_count": 87,
   "metadata": {
    "collapsed": false
   },
   "outputs": [],
   "source": [
    "# Combining the daily number of leakages on all component\n",
    "frame_waterleak['meterleak_count'] = frame_meterleak['meterleak_count']\n",
    "frame_waterleak['pipeleak_count'] = frame_pipeleak['pipeleak_count']\n",
    "frame_waterleak['valveleak_count'] = frame_valveleak['valveleak_count']\n",
    "combined = frame_waterleak"
   ]
  },
  {
   "cell_type": "code",
   "execution_count": 88,
   "metadata": {
    "collapsed": false
   },
   "outputs": [
    {
     "data": {
      "text/html": [
       "<div>\n",
       "<style scoped>\n",
       "    .dataframe tbody tr th:only-of-type {\n",
       "        vertical-align: middle;\n",
       "    }\n",
       "\n",
       "    .dataframe tbody tr th {\n",
       "        vertical-align: top;\n",
       "    }\n",
       "\n",
       "    .dataframe thead th {\n",
       "        text-align: right;\n",
       "    }\n",
       "</style>\n",
       "<table border=\"1\" class=\"dataframe\">\n",
       "  <thead>\n",
       "    <tr style=\"text-align: right;\">\n",
       "      <th></th>\n",
       "      <th>waterleak_count</th>\n",
       "      <th>meterleak_count</th>\n",
       "      <th>pipeleak_count</th>\n",
       "      <th>valveleak_count</th>\n",
       "    </tr>\n",
       "  </thead>\n",
       "  <tbody>\n",
       "    <tr>\n",
       "      <th>2018-07-01</th>\n",
       "      <td>0</td>\n",
       "      <td>0</td>\n",
       "      <td>0</td>\n",
       "      <td>0</td>\n",
       "    </tr>\n",
       "    <tr>\n",
       "      <th>2018-07-02</th>\n",
       "      <td>0</td>\n",
       "      <td>0</td>\n",
       "      <td>0</td>\n",
       "      <td>0</td>\n",
       "    </tr>\n",
       "    <tr>\n",
       "      <th>2018-07-03</th>\n",
       "      <td>0</td>\n",
       "      <td>0</td>\n",
       "      <td>0</td>\n",
       "      <td>0</td>\n",
       "    </tr>\n",
       "    <tr>\n",
       "      <th>2018-07-04</th>\n",
       "      <td>0</td>\n",
       "      <td>0</td>\n",
       "      <td>0</td>\n",
       "      <td>0</td>\n",
       "    </tr>\n",
       "    <tr>\n",
       "      <th>2018-07-05</th>\n",
       "      <td>0</td>\n",
       "      <td>1</td>\n",
       "      <td>0</td>\n",
       "      <td>0</td>\n",
       "    </tr>\n",
       "  </tbody>\n",
       "</table>\n",
       "</div>"
      ],
      "text/plain": [
       "            waterleak_count  meterleak_count  pipeleak_count  valveleak_count\n",
       "2018-07-01                0                0               0                0\n",
       "2018-07-02                0                0               0                0\n",
       "2018-07-03                0                0               0                0\n",
       "2018-07-04                0                0               0                0\n",
       "2018-07-05                0                1               0                0"
      ]
     },
     "execution_count": 88,
     "metadata": {},
     "output_type": "execute_result"
    }
   ],
   "source": [
    "combined.head()"
   ]
  },
  {
   "cell_type": "code",
   "execution_count": 89,
   "metadata": {
    "collapsed": false
   },
   "outputs": [],
   "source": [
    "# Writing new table to a different csv file for safety.\n",
    "combined.to_csv(r'Esk_daily_leakbehav.csv', index = True)"
   ]
  },
  {
   "cell_type": "code",
   "execution_count": 121,
   "metadata": {
    "collapsed": true
   },
   "outputs": [],
   "source": [
    "\n",
    "    "
   ]
  },
  {
   "cell_type": "markdown",
   "metadata": {},
   "source": [
    "## Combining the data frames as per segmentation"
   ]
  },
  {
   "cell_type": "code",
   "execution_count": null,
   "metadata": {
    "collapsed": true
   },
   "outputs": [],
   "source": []
  }
 ],
 "metadata": {
  "kernelspec": {
   "display_name": "py3tst",
   "language": "python",
   "name": "py3tst"
  },
  "language_info": {
   "codemirror_mode": {
    "name": "ipython",
    "version": 3
   },
   "file_extension": ".py",
   "mimetype": "text/x-python",
   "name": "python",
   "nbconvert_exporter": "python",
   "pygments_lexer": "ipython3",
   "version": "3.6.8"
  }
 },
 "nbformat": 4,
 "nbformat_minor": 2
}
