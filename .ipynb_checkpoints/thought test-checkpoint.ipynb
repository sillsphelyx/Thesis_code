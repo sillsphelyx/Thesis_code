{
 "cells": [
  {
   "cell_type": "code",
   "execution_count": 3,
   "metadata": {
    "collapsed": false
   },
   "outputs": [],
   "source": [
    "import pandas as pd\n",
    "import wrapt\n",
    "from sklearn.model_selection import train_test_split\n",
    "from sklearn.metrics import accuracy_score\n",
    "from pgmpy.models import BayesianModel\n",
    "from pgmpy.estimators import MaximumLikelihoodEstimator\n",
    "from pgmpy.factors.discrete import TabularCPD\n",
    "import warnings\n",
    "warnings.filterwarnings('ignore')"
   ]
  },
  {
   "cell_type": "markdown",
   "metadata": {},
   "source": [
    "# Base models"
   ]
  },
  {
   "cell_type": "markdown",
   "metadata": {},
   "source": [
    "# Meter Leak"
   ]
  },
  {
   "cell_type": "code",
   "execution_count": 2,
   "metadata": {
    "collapsed": false
   },
   "outputs": [
    {
     "data": {
      "text/html": [
       "<div>\n",
       "<style scoped>\n",
       "    .dataframe tbody tr th:only-of-type {\n",
       "        vertical-align: middle;\n",
       "    }\n",
       "\n",
       "    .dataframe tbody tr th {\n",
       "        vertical-align: top;\n",
       "    }\n",
       "\n",
       "    .dataframe thead th {\n",
       "        text-align: right;\n",
       "    }\n",
       "</style>\n",
       "<table border=\"1\" class=\"dataframe\">\n",
       "  <thead>\n",
       "    <tr style=\"text-align: right;\">\n",
       "      <th></th>\n",
       "      <th>Prs_ds_disc</th>\n",
       "      <th>Prs_us_disc</th>\n",
       "      <th>MinTemp_disc</th>\n",
       "      <th>MaxTemp_disc</th>\n",
       "      <th>Avg_Temp_disc</th>\n",
       "      <th>Temp_range_disc</th>\n",
       "      <th>Rain_disc</th>\n",
       "      <th>meterleak_count</th>\n",
       "    </tr>\n",
       "  </thead>\n",
       "  <tbody>\n",
       "    <tr>\n",
       "      <th>0</th>\n",
       "      <td>2</td>\n",
       "      <td>1</td>\n",
       "      <td>0</td>\n",
       "      <td>0</td>\n",
       "      <td>0</td>\n",
       "      <td>2</td>\n",
       "      <td>0</td>\n",
       "      <td>0</td>\n",
       "    </tr>\n",
       "    <tr>\n",
       "      <th>1</th>\n",
       "      <td>2</td>\n",
       "      <td>1</td>\n",
       "      <td>1</td>\n",
       "      <td>2</td>\n",
       "      <td>1</td>\n",
       "      <td>2</td>\n",
       "      <td>0</td>\n",
       "      <td>0</td>\n",
       "    </tr>\n",
       "    <tr>\n",
       "      <th>2</th>\n",
       "      <td>2</td>\n",
       "      <td>1</td>\n",
       "      <td>0</td>\n",
       "      <td>0</td>\n",
       "      <td>0</td>\n",
       "      <td>2</td>\n",
       "      <td>0</td>\n",
       "      <td>0</td>\n",
       "    </tr>\n",
       "    <tr>\n",
       "      <th>3</th>\n",
       "      <td>2</td>\n",
       "      <td>1</td>\n",
       "      <td>0</td>\n",
       "      <td>0</td>\n",
       "      <td>0</td>\n",
       "      <td>2</td>\n",
       "      <td>0</td>\n",
       "      <td>0</td>\n",
       "    </tr>\n",
       "    <tr>\n",
       "      <th>4</th>\n",
       "      <td>2</td>\n",
       "      <td>2</td>\n",
       "      <td>0</td>\n",
       "      <td>0</td>\n",
       "      <td>0</td>\n",
       "      <td>2</td>\n",
       "      <td>1</td>\n",
       "      <td>1</td>\n",
       "    </tr>\n",
       "  </tbody>\n",
       "</table>\n",
       "</div>"
      ],
      "text/plain": [
       "   Prs_ds_disc  Prs_us_disc  MinTemp_disc  MaxTemp_disc  Avg_Temp_disc  \\\n",
       "0            2            1             0             0              0   \n",
       "1            2            1             1             2              1   \n",
       "2            2            1             0             0              0   \n",
       "3            2            1             0             0              0   \n",
       "4            2            2             0             0              0   \n",
       "\n",
       "   Temp_range_disc  Rain_disc  meterleak_count  \n",
       "0                2          0                0  \n",
       "1                2          0                0  \n",
       "2                2          0                0  \n",
       "3                2          0                0  \n",
       "4                2          1                1  "
      ]
     },
     "execution_count": 2,
     "metadata": {},
     "output_type": "execute_result"
    }
   ],
   "source": [
    "# Data \n",
    "df_ml = pd.read_csv('meter_leak_pred_data.csv')\n",
    "df_ml.head()"
   ]
  },
  {
   "cell_type": "code",
   "execution_count": 3,
   "metadata": {
    "collapsed": true
   },
   "outputs": [],
   "source": [
    "# Separating independent variables(predictors) and the target (dependant) variable\n",
    "X_ml = df_ml[['Prs_ds_disc','Prs_us_disc','Temp_range_disc', 'Avg_Temp_disc','Rain_disc']]\n",
    "y_ml = df_ml.meterleak_count"
   ]
  },
  {
   "cell_type": "code",
   "execution_count": 4,
   "metadata": {
    "collapsed": false
   },
   "outputs": [],
   "source": [
    "#Spliting the train and test sets on a 70:30 basis\n",
    "X_train_ml, X_test_ml, y_train_ml, y_test_ml = train_test_split(X_ml, y_ml, test_size = .3)"
   ]
  },
  {
   "cell_type": "code",
   "execution_count": 5,
   "metadata": {
    "collapsed": false,
    "scrolled": true
   },
   "outputs": [],
   "source": [
    "# Joining the train set for model development\n",
    "X_train_ml['meterleak_count'] = y_train_ml"
   ]
  },
  {
   "cell_type": "code",
   "execution_count": 6,
   "metadata": {
    "collapsed": true
   },
   "outputs": [],
   "source": [
    "#frame = df_ml[['Prs_ds_disc', 'Temp_range_disc', 'Rain_disc', 'meterleak_count']]"
   ]
  },
  {
   "cell_type": "code",
   "execution_count": 7,
   "metadata": {
    "collapsed": true
   },
   "outputs": [],
   "source": [
    "#data = pd.DataFrame(data={'A': [0, 0, 1], 'B': [0, 1, 0], 'C': [1, 1, 0]})\n",
    "model_meterleak = BayesianModel([('Prs_ds_disc', 'meterleak_count'), ('Temp_range_disc', 'meterleak_count'), ('Rain_disc', 'meterleak_count') ])\n",
    "model_meterleak.fit(X_train_ml)\n",
    "#model1.get_cpds()"
   ]
  },
  {
   "cell_type": "code",
   "execution_count": 8,
   "metadata": {
    "collapsed": false
   },
   "outputs": [],
   "source": [
    "# Alligning test set with data model variables\n",
    "X_test_ml = X_test_ml[['Prs_ds_disc','Temp_range_disc','Rain_disc']]"
   ]
  },
  {
   "cell_type": "code",
   "execution_count": 9,
   "metadata": {
    "collapsed": false
   },
   "outputs": [],
   "source": [
    "# Using fitted model to obtain predictions based on test set\n",
    "y_pred_meterleak = model_meterleak.predict(X_test_ml)\n",
    "#y_pred_meterleak2 = model_meterleak2.predict(X_test_ml)"
   ]
  },
  {
   "cell_type": "code",
   "execution_count": 10,
   "metadata": {
    "collapsed": false
   },
   "outputs": [
    {
     "name": "stdout",
     "output_type": "stream",
     "text": [
      "0.8\n"
     ]
    }
   ],
   "source": [
    "# Measuring the accuracy of the models based on the test set\n",
    "print(accuracy_score(y_pred_meterleak, y_test_ml))\n",
    "#print(accuracy_score(y_pred_meterleak2, y_test_ml))"
   ]
  },
  {
   "cell_type": "code",
   "execution_count": 11,
   "metadata": {
    "collapsed": false,
    "scrolled": true
   },
   "outputs": [
    {
     "name": "stdout",
     "output_type": "stream",
     "text": [
      "+--------------------+----------+\n",
      "| Temp_range_disc(0) | 0.317647 |\n",
      "+--------------------+----------+\n",
      "| Temp_range_disc(1) | 0.352941 |\n",
      "+--------------------+----------+\n",
      "| Temp_range_disc(2) | 0.329412 |\n",
      "+--------------------+----------+\n"
     ]
    }
   ],
   "source": [
    "# Printing a CPD with it's state names defined.\n",
    "print(model_meterleak.get_cpds('Temp_range_disc'))"
   ]
  },
  {
   "cell_type": "markdown",
   "metadata": {},
   "source": [
    "# Pipe leak Models"
   ]
  },
  {
   "cell_type": "code",
   "execution_count": 61,
   "metadata": {
    "collapsed": false
   },
   "outputs": [
    {
     "data": {
      "text/html": [
       "<div>\n",
       "<style scoped>\n",
       "    .dataframe tbody tr th:only-of-type {\n",
       "        vertical-align: middle;\n",
       "    }\n",
       "\n",
       "    .dataframe tbody tr th {\n",
       "        vertical-align: top;\n",
       "    }\n",
       "\n",
       "    .dataframe thead th {\n",
       "        text-align: right;\n",
       "    }\n",
       "</style>\n",
       "<table border=\"1\" class=\"dataframe\">\n",
       "  <thead>\n",
       "    <tr style=\"text-align: right;\">\n",
       "      <th></th>\n",
       "      <th>Prs_ds_disc</th>\n",
       "      <th>Prs_ds_disc_l1</th>\n",
       "      <th>Prs_us_disc</th>\n",
       "      <th>Prs_us_disc_l1</th>\n",
       "      <th>MinTemp_disc</th>\n",
       "      <th>MinTemp_disc_l1</th>\n",
       "      <th>MaxTemp_disc</th>\n",
       "      <th>MaxTemp_disc_l1</th>\n",
       "      <th>Avg_Temp_disc</th>\n",
       "      <th>Avg_Temp_disc_l1</th>\n",
       "      <th>Temp_range_disc</th>\n",
       "      <th>Temp_range_disc_l1</th>\n",
       "      <th>Rain_disc</th>\n",
       "      <th>Rain_disc_l1</th>\n",
       "      <th>pipeleak_count</th>\n",
       "      <th>pipeleak_count_l1</th>\n",
       "    </tr>\n",
       "  </thead>\n",
       "  <tbody>\n",
       "    <tr>\n",
       "      <th>0</th>\n",
       "      <td>2</td>\n",
       "      <td>2</td>\n",
       "      <td>1</td>\n",
       "      <td>1</td>\n",
       "      <td>0</td>\n",
       "      <td>1</td>\n",
       "      <td>0</td>\n",
       "      <td>2</td>\n",
       "      <td>0</td>\n",
       "      <td>1</td>\n",
       "      <td>2</td>\n",
       "      <td>2</td>\n",
       "      <td>0</td>\n",
       "      <td>0</td>\n",
       "      <td>0</td>\n",
       "      <td>0</td>\n",
       "    </tr>\n",
       "    <tr>\n",
       "      <th>1</th>\n",
       "      <td>2</td>\n",
       "      <td>2</td>\n",
       "      <td>1</td>\n",
       "      <td>1</td>\n",
       "      <td>1</td>\n",
       "      <td>0</td>\n",
       "      <td>2</td>\n",
       "      <td>0</td>\n",
       "      <td>1</td>\n",
       "      <td>0</td>\n",
       "      <td>2</td>\n",
       "      <td>2</td>\n",
       "      <td>0</td>\n",
       "      <td>0</td>\n",
       "      <td>0</td>\n",
       "      <td>0</td>\n",
       "    </tr>\n",
       "    <tr>\n",
       "      <th>2</th>\n",
       "      <td>2</td>\n",
       "      <td>2</td>\n",
       "      <td>1</td>\n",
       "      <td>1</td>\n",
       "      <td>0</td>\n",
       "      <td>0</td>\n",
       "      <td>0</td>\n",
       "      <td>0</td>\n",
       "      <td>0</td>\n",
       "      <td>0</td>\n",
       "      <td>2</td>\n",
       "      <td>2</td>\n",
       "      <td>0</td>\n",
       "      <td>0</td>\n",
       "      <td>0</td>\n",
       "      <td>0</td>\n",
       "    </tr>\n",
       "    <tr>\n",
       "      <th>3</th>\n",
       "      <td>2</td>\n",
       "      <td>2</td>\n",
       "      <td>1</td>\n",
       "      <td>2</td>\n",
       "      <td>0</td>\n",
       "      <td>0</td>\n",
       "      <td>0</td>\n",
       "      <td>0</td>\n",
       "      <td>0</td>\n",
       "      <td>0</td>\n",
       "      <td>2</td>\n",
       "      <td>2</td>\n",
       "      <td>0</td>\n",
       "      <td>1</td>\n",
       "      <td>0</td>\n",
       "      <td>0</td>\n",
       "    </tr>\n",
       "    <tr>\n",
       "      <th>4</th>\n",
       "      <td>2</td>\n",
       "      <td>2</td>\n",
       "      <td>2</td>\n",
       "      <td>2</td>\n",
       "      <td>0</td>\n",
       "      <td>0</td>\n",
       "      <td>0</td>\n",
       "      <td>0</td>\n",
       "      <td>0</td>\n",
       "      <td>0</td>\n",
       "      <td>2</td>\n",
       "      <td>1</td>\n",
       "      <td>1</td>\n",
       "      <td>1</td>\n",
       "      <td>0</td>\n",
       "      <td>0</td>\n",
       "    </tr>\n",
       "  </tbody>\n",
       "</table>\n",
       "</div>"
      ],
      "text/plain": [
       "   Prs_ds_disc  Prs_ds_disc_l1  Prs_us_disc  Prs_us_disc_l1  MinTemp_disc  \\\n",
       "0            2               2            1               1             0   \n",
       "1            2               2            1               1             1   \n",
       "2            2               2            1               1             0   \n",
       "3            2               2            1               2             0   \n",
       "4            2               2            2               2             0   \n",
       "\n",
       "   MinTemp_disc_l1  MaxTemp_disc  MaxTemp_disc_l1  Avg_Temp_disc  \\\n",
       "0                1             0                2              0   \n",
       "1                0             2                0              1   \n",
       "2                0             0                0              0   \n",
       "3                0             0                0              0   \n",
       "4                0             0                0              0   \n",
       "\n",
       "   Avg_Temp_disc_l1  Temp_range_disc  Temp_range_disc_l1  Rain_disc  \\\n",
       "0                 1                2                   2          0   \n",
       "1                 0                2                   2          0   \n",
       "2                 0                2                   2          0   \n",
       "3                 0                2                   2          0   \n",
       "4                 0                2                   1          1   \n",
       "\n",
       "   Rain_disc_l1  pipeleak_count  pipeleak_count_l1  \n",
       "0             0               0                  0  \n",
       "1             0               0                  0  \n",
       "2             0               0                  0  \n",
       "3             1               0                  0  \n",
       "4             1               0                  0  "
      ]
     },
     "execution_count": 61,
     "metadata": {},
     "output_type": "execute_result"
    }
   ],
   "source": [
    "# Data \n",
    "df_pl = pd.read_csv('pipe_leak_pred_data_lagged.csv')\n",
    "df_pl.head()"
   ]
  },
  {
   "cell_type": "markdown",
   "metadata": {},
   "source": [
    "## Transition models for meter"
   ]
  },
  {
   "cell_type": "code",
   "execution_count": 62,
   "metadata": {
    "collapsed": true
   },
   "outputs": [],
   "source": [
    "# defining target for transition model\n",
    "X_pl_trans = df_pl[['Prs_ds_disc','Prs_ds_disc_l1']]\n",
    "y_pl_trans = df_pl.Prs_ds_disc_l1"
   ]
  },
  {
   "cell_type": "code",
   "execution_count": 63,
   "metadata": {
    "collapsed": true
   },
   "outputs": [],
   "source": [
    "#Spliting the train and test sets on a 70:30 basis for transtion model\n",
    "X_train_pl_trans, X_test_pl_trans, y_train_pl_trans, y_test_pl_trans = train_test_split(X_pl, y_pl_trans, test_size = .3)"
   ]
  },
  {
   "cell_type": "code",
   "execution_count": 64,
   "metadata": {
    "collapsed": true
   },
   "outputs": [],
   "source": [
    "# Joining the train set for model development\n",
    "X_train_pl_trans['Prs_ds_disc_l1'] = y_train_pl_trans"
   ]
  },
  {
   "cell_type": "code",
   "execution_count": 65,
   "metadata": {
    "collapsed": true
   },
   "outputs": [],
   "source": [
    "# transtion model\n",
    "trans_model_pipeleak =  BayesianModel([('Prs_ds_disc', 'Prs_ds_disc_l1')])\n",
    "trans_model_pipeleak.fit(X_train_pl_trans)"
   ]
  },
  {
   "cell_type": "code",
   "execution_count": 66,
   "metadata": {
    "collapsed": true
   },
   "outputs": [],
   "source": [
    "# Alligning test set with data model variables transition model previous pressure data\n",
    "X_test_pl_trans = X_test_pl_trans[['Prs_ds_disc']]"
   ]
  },
  {
   "cell_type": "code",
   "execution_count": 67,
   "metadata": {
    "collapsed": true
   },
   "outputs": [],
   "source": [
    "# Using fitted model to obtain predictions based on test set for transtion model\n",
    "y_pred_pipeleak_trans = trans_model_pipeleak.predict(X_test_pl_trans)\n",
    "#y_pred_meterleak2 = model_meterleak2.predict(X_test_ml)"
   ]
  },
  {
   "cell_type": "code",
   "execution_count": 68,
   "metadata": {
    "collapsed": false
   },
   "outputs": [
    {
     "name": "stdout",
     "output_type": "stream",
     "text": [
      "0.8545454545454545\n"
     ]
    }
   ],
   "source": [
    "# Measuring the accuracy of the models based on the test set\n",
    "# transtion model\n",
    "print(accuracy_score(y_pred_pipeleak_trans, y_test_pl_trans))"
   ]
  },
  {
   "cell_type": "markdown",
   "metadata": {},
   "source": [
    "## Base Model"
   ]
  },
  {
   "cell_type": "code",
   "execution_count": 69,
   "metadata": {
    "collapsed": false
   },
   "outputs": [],
   "source": [
    "# Separating independent variables(predictors) and the target (dependant) variable\n",
    "X_pl = df_pl[['Prs_ds_disc','pipeleak_count']]\n",
    "y_pl = df_pl.pipeleak_count"
   ]
  },
  {
   "cell_type": "code",
   "execution_count": 70,
   "metadata": {
    "collapsed": true
   },
   "outputs": [],
   "source": [
    "#Spliting the train and test sets on a 70:30 basis\n",
    "X_train_pl, X_test_pl, y_train_pl, y_test_pl = train_test_split(X_pl, y_pl, test_size = .3)"
   ]
  },
  {
   "cell_type": "code",
   "execution_count": 71,
   "metadata": {
    "collapsed": true
   },
   "outputs": [],
   "source": [
    "# Joining the train set for model development\n",
    "X_train_pl['pipeleak_count'] = y_train_pl"
   ]
  },
  {
   "cell_type": "code",
   "execution_count": 72,
   "metadata": {
    "collapsed": false
   },
   "outputs": [],
   "source": [
    "# Base model\n",
    "#data = pd.DataFrame(data={'A': [0, 0, 1], 'B': [0, 1, 0], 'C': [1, 1, 0]})\n",
    "model_pipeleak = BayesianModel([('Prs_ds_disc', 'pipeleak_count')])\n",
    "model_pipeleak.fit(X_train_pl)\n",
    "#model1.get_cpds()"
   ]
  },
  {
   "cell_type": "code",
   "execution_count": 73,
   "metadata": {
    "collapsed": false
   },
   "outputs": [],
   "source": [
    "# Alligning test set with data model variables base model \n",
    "X_test_pl = X_test_pl[['Prs_ds_disc']]"
   ]
  },
  {
   "cell_type": "code",
   "execution_count": 74,
   "metadata": {
    "collapsed": false
   },
   "outputs": [],
   "source": [
    "# Using fitted model to obtain predictions based on test set\n",
    "y_pred_pipeleak = model_pipeleak.predict(X_test_pl)\n",
    "#y_pred_meterleak2 = model_meterleak2.predict(X_test_ml)"
   ]
  },
  {
   "cell_type": "code",
   "execution_count": 75,
   "metadata": {
    "collapsed": false
   },
   "outputs": [
    {
     "name": "stdout",
     "output_type": "stream",
     "text": [
      "0.8818181818181818\n"
     ]
    }
   ],
   "source": [
    "# Measuring the accuracy of the models based on the test set\n",
    "#Base model\n",
    "print(accuracy_score(y_pred_pipeleak, y_test_pl))\n"
   ]
  },
  {
   "cell_type": "markdown",
   "metadata": {},
   "source": [
    "## Combining models"
   ]
  },
  {
   "cell_type": "code",
   "execution_count": null,
   "metadata": {
    "collapsed": true
   },
   "outputs": [],
   "source": [
    "# combine for modelling\n",
    "future_pred = model_pipeleak.predict(trans_model_pipeleak.predict(X_test_pl_trans))"
   ]
  },
  {
   "cell_type": "code",
   "execution_count": 58,
   "metadata": {
    "collapsed": false
   },
   "outputs": [],
   "source": [
    "trans_pred = trans_model_pipeleak.predict(X_test_pl_trans)\n",
    "trans_pred.rename(columns={'Prs_ds_disc_l1': 'Prs_ds_disc'}, inplace=True)\n"
   ]
  },
  {
   "cell_type": "code",
   "execution_count": 59,
   "metadata": {
    "collapsed": true
   },
   "outputs": [
    {
     "data": {
      "text/html": [
       "<div>\n",
       "<style scoped>\n",
       "    .dataframe tbody tr th:only-of-type {\n",
       "        vertical-align: middle;\n",
       "    }\n",
       "\n",
       "    .dataframe tbody tr th {\n",
       "        vertical-align: top;\n",
       "    }\n",
       "\n",
       "    .dataframe thead th {\n",
       "        text-align: right;\n",
       "    }\n",
       "</style>\n",
       "<table border=\"1\" class=\"dataframe\">\n",
       "  <thead>\n",
       "    <tr style=\"text-align: right;\">\n",
       "      <th></th>\n",
       "      <th>Prs_ds_disc</th>\n",
       "    </tr>\n",
       "  </thead>\n",
       "  <tbody>\n",
       "    <tr>\n",
       "      <th>125</th>\n",
       "      <td>1</td>\n",
       "    </tr>\n",
       "    <tr>\n",
       "      <th>66</th>\n",
       "      <td>1</td>\n",
       "    </tr>\n",
       "    <tr>\n",
       "      <th>347</th>\n",
       "      <td>0</td>\n",
       "    </tr>\n",
       "    <tr>\n",
       "      <th>252</th>\n",
       "      <td>0</td>\n",
       "    </tr>\n",
       "    <tr>\n",
       "      <th>203</th>\n",
       "      <td>1</td>\n",
       "    </tr>\n",
       "  </tbody>\n",
       "</table>\n",
       "</div>"
      ],
      "text/plain": [
       "     Prs_ds_disc\n",
       "125            1\n",
       "66             1\n",
       "347            0\n",
       "252            0\n",
       "203            1"
      ]
     },
     "execution_count": 59,
     "metadata": {},
     "output_type": "execute_result"
    }
   ],
   "source": [
    "trans_pred.head()"
   ]
  },
  {
   "cell_type": "code",
   "execution_count": 60,
   "metadata": {
    "collapsed": false
   },
   "outputs": [],
   "source": [
    "future_pred = model_pipeleak.predict(trans_pred)"
   ]
  },
  {
   "cell_type": "code",
   "execution_count": null,
   "metadata": {
    "collapsed": true
   },
   "outputs": [],
   "source": [
    "print(accuracy_score(future_pred, y_test_pl))"
   ]
  },
  {
   "cell_type": "code",
   "execution_count": null,
   "metadata": {
    "collapsed": true
   },
   "outputs": [],
   "source": []
  },
  {
   "cell_type": "code",
   "execution_count": 31,
   "metadata": {
    "collapsed": false,
    "scrolled": true
   },
   "outputs": [
    {
     "name": "stdout",
     "output_type": "stream",
     "text": [
      "+-------------------+----------------------+---------------------+----------------------+\n",
      "| Prs_ds_disc       | Prs_ds_disc(0)       | Prs_ds_disc(1)      | Prs_ds_disc(2)       |\n",
      "+-------------------+----------------------+---------------------+----------------------+\n",
      "| Prs_ds_disc_l1(0) | 0.9069767441860465   | 0.10975609756097561 | 0.011627906976744186 |\n",
      "+-------------------+----------------------+---------------------+----------------------+\n",
      "| Prs_ds_disc_l1(1) | 0.08139534883720931  | 0.7439024390243902  | 0.19767441860465115  |\n",
      "+-------------------+----------------------+---------------------+----------------------+\n",
      "| Prs_ds_disc_l1(2) | 0.011627906976744186 | 0.14634146341463414 | 0.7906976744186046   |\n",
      "+-------------------+----------------------+---------------------+----------------------+\n"
     ]
    }
   ],
   "source": [
    "# Printing a CPD with it's state names defined.\n",
    "print(model_pipeleak.get_cpds('Prs_ds_disc_l1'))"
   ]
  },
  {
   "cell_type": "code",
   "execution_count": null,
   "metadata": {
    "collapsed": true
   },
   "outputs": [],
   "source": []
  },
  {
   "cell_type": "code",
   "execution_count": null,
   "metadata": {
    "collapsed": true
   },
   "outputs": [],
   "source": []
  },
  {
   "cell_type": "markdown",
   "metadata": {},
   "source": [
    "# Total daily leaks"
   ]
  },
  {
   "cell_type": "code",
   "execution_count": 52,
   "metadata": {
    "collapsed": false
   },
   "outputs": [
    {
     "data": {
      "text/html": [
       "<div>\n",
       "<style scoped>\n",
       "    .dataframe tbody tr th:only-of-type {\n",
       "        vertical-align: middle;\n",
       "    }\n",
       "\n",
       "    .dataframe tbody tr th {\n",
       "        vertical-align: top;\n",
       "    }\n",
       "\n",
       "    .dataframe thead th {\n",
       "        text-align: right;\n",
       "    }\n",
       "</style>\n",
       "<table border=\"1\" class=\"dataframe\">\n",
       "  <thead>\n",
       "    <tr style=\"text-align: right;\">\n",
       "      <th></th>\n",
       "      <th>Prs_ds_disc</th>\n",
       "      <th>Prs_us_disc</th>\n",
       "      <th>MinTemp_disc</th>\n",
       "      <th>MaxTemp_disc</th>\n",
       "      <th>Avg_Temp_disc</th>\n",
       "      <th>Temp_range_disc</th>\n",
       "      <th>Rain_disc</th>\n",
       "      <th>total_leak_count</th>\n",
       "    </tr>\n",
       "  </thead>\n",
       "  <tbody>\n",
       "    <tr>\n",
       "      <th>0</th>\n",
       "      <td>2</td>\n",
       "      <td>1</td>\n",
       "      <td>0</td>\n",
       "      <td>0</td>\n",
       "      <td>0</td>\n",
       "      <td>2</td>\n",
       "      <td>0</td>\n",
       "      <td>0</td>\n",
       "    </tr>\n",
       "    <tr>\n",
       "      <th>1</th>\n",
       "      <td>2</td>\n",
       "      <td>1</td>\n",
       "      <td>1</td>\n",
       "      <td>2</td>\n",
       "      <td>1</td>\n",
       "      <td>2</td>\n",
       "      <td>0</td>\n",
       "      <td>0</td>\n",
       "    </tr>\n",
       "    <tr>\n",
       "      <th>2</th>\n",
       "      <td>2</td>\n",
       "      <td>1</td>\n",
       "      <td>0</td>\n",
       "      <td>0</td>\n",
       "      <td>0</td>\n",
       "      <td>2</td>\n",
       "      <td>0</td>\n",
       "      <td>0</td>\n",
       "    </tr>\n",
       "    <tr>\n",
       "      <th>3</th>\n",
       "      <td>2</td>\n",
       "      <td>1</td>\n",
       "      <td>0</td>\n",
       "      <td>0</td>\n",
       "      <td>0</td>\n",
       "      <td>2</td>\n",
       "      <td>0</td>\n",
       "      <td>0</td>\n",
       "    </tr>\n",
       "    <tr>\n",
       "      <th>4</th>\n",
       "      <td>2</td>\n",
       "      <td>2</td>\n",
       "      <td>0</td>\n",
       "      <td>0</td>\n",
       "      <td>0</td>\n",
       "      <td>2</td>\n",
       "      <td>1</td>\n",
       "      <td>1</td>\n",
       "    </tr>\n",
       "  </tbody>\n",
       "</table>\n",
       "</div>"
      ],
      "text/plain": [
       "   Prs_ds_disc  Prs_us_disc  MinTemp_disc  MaxTemp_disc  Avg_Temp_disc  \\\n",
       "0            2            1             0             0              0   \n",
       "1            2            1             1             2              1   \n",
       "2            2            1             0             0              0   \n",
       "3            2            1             0             0              0   \n",
       "4            2            2             0             0              0   \n",
       "\n",
       "   Temp_range_disc  Rain_disc  total_leak_count  \n",
       "0                2          0                 0  \n",
       "1                2          0                 0  \n",
       "2                2          0                 0  \n",
       "3                2          0                 0  \n",
       "4                2          1                 1  "
      ]
     },
     "execution_count": 52,
     "metadata": {},
     "output_type": "execute_result"
    }
   ],
   "source": [
    "# Data \n",
    "df_tl = pd.read_csv('total_leak_pred_data.csv')\n",
    "df_tl.head()"
   ]
  },
  {
   "cell_type": "code",
   "execution_count": 53,
   "metadata": {
    "collapsed": true
   },
   "outputs": [],
   "source": [
    "# Separating independent variables(predictors) and the target (dependant) variable\n",
    "X_tl = df_tl[['Prs_ds_disc','Prs_us_disc','Temp_range_disc', 'Avg_Temp_disc','Rain_disc']]\n",
    "y_tl = df_tl.total_leak_count"
   ]
  },
  {
   "cell_type": "code",
   "execution_count": 54,
   "metadata": {
    "collapsed": true
   },
   "outputs": [],
   "source": [
    "#Spliting the train and test sets on a 70:30 basis\n",
    "X_train_tl, X_test_tl, y_train_tl, y_test_tl = train_test_split(X_tl, y_tl, test_size = .3)"
   ]
  },
  {
   "cell_type": "code",
   "execution_count": 55,
   "metadata": {
    "collapsed": true
   },
   "outputs": [],
   "source": [
    "# Joining the train set for model development\n",
    "X_train_tl['total_leak_count'] = y_train_tl"
   ]
  },
  {
   "cell_type": "code",
   "execution_count": 56,
   "metadata": {
    "collapsed": true
   },
   "outputs": [],
   "source": [
    "#data = pd.DataFrame(data={'A': [0, 0, 1], 'B': [0, 1, 0], 'C': [1, 1, 0]})\n",
    "model_totalleak = BayesianModel([('Prs_ds_disc', 'total_leak_count'), ('Temp_range_disc', 'total_leak_count'), ('Rain_disc', 'total_leak_count') ])\n",
    "model_totalleak.fit(X_train_tl)\n",
    "#model1.get_cpds()"
   ]
  },
  {
   "cell_type": "code",
   "execution_count": 57,
   "metadata": {
    "collapsed": true
   },
   "outputs": [],
   "source": [
    "# Alligning test set with data model variables\n",
    "X_test_tl = X_test_tl[['Prs_ds_disc','Temp_range_disc','Rain_disc']]"
   ]
  },
  {
   "cell_type": "code",
   "execution_count": 58,
   "metadata": {
    "collapsed": true
   },
   "outputs": [],
   "source": [
    "# Using fitted model to obtain predictions based on test set\n",
    "y_pred_totalleak = model_totalleak.predict(X_test_tl)\n",
    "#y_pred_meterleak2 = model_meterleak2.predict(X_test_ml)"
   ]
  },
  {
   "cell_type": "code",
   "execution_count": 59,
   "metadata": {
    "collapsed": false
   },
   "outputs": [
    {
     "name": "stdout",
     "output_type": "stream",
     "text": [
      "0.6\n"
     ]
    }
   ],
   "source": [
    "# Measuring the accuracy of the models based on the test set\n",
    "print(accuracy_score(y_pred_totalleak, y_test_tl))\n"
   ]
  },
  {
   "cell_type": "code",
   "execution_count": 60,
   "metadata": {
    "collapsed": true
   },
   "outputs": [
    {
     "name": "stdout",
     "output_type": "stream",
     "text": [
      "+---------------------+---------------------+---------------------+---------------------+--------------------+--------------------+--------------------+--------------------+--------------------+---------------------+--------------------+---------------------+---------------------+---------------------+--------------------+--------------------+---------------------+--------------------+--------------------+---------------------+---------------------+--------------------+--------------------+--------------------+--------------------+---------------------+--------------------+--------------------+\n",
      "| Prs_ds_disc         | Prs_ds_disc(0)      | Prs_ds_disc(0)      | Prs_ds_disc(0)      | Prs_ds_disc(0)     | Prs_ds_disc(0)     | Prs_ds_disc(0)     | Prs_ds_disc(0)     | Prs_ds_disc(0)     | Prs_ds_disc(0)      | Prs_ds_disc(1)     | Prs_ds_disc(1)      | Prs_ds_disc(1)      | Prs_ds_disc(1)      | Prs_ds_disc(1)     | Prs_ds_disc(1)     | Prs_ds_disc(1)      | Prs_ds_disc(1)     | Prs_ds_disc(1)     | Prs_ds_disc(2)      | Prs_ds_disc(2)      | Prs_ds_disc(2)     | Prs_ds_disc(2)     | Prs_ds_disc(2)     | Prs_ds_disc(2)     | Prs_ds_disc(2)      | Prs_ds_disc(2)     | Prs_ds_disc(2)     |\n",
      "+---------------------+---------------------+---------------------+---------------------+--------------------+--------------------+--------------------+--------------------+--------------------+---------------------+--------------------+---------------------+---------------------+---------------------+--------------------+--------------------+---------------------+--------------------+--------------------+---------------------+---------------------+--------------------+--------------------+--------------------+--------------------+---------------------+--------------------+--------------------+\n",
      "| Rain_disc           | Rain_disc(0)        | Rain_disc(0)        | Rain_disc(0)        | Rain_disc(1)       | Rain_disc(1)       | Rain_disc(1)       | Rain_disc(2)       | Rain_disc(2)       | Rain_disc(2)        | Rain_disc(0)       | Rain_disc(0)        | Rain_disc(0)        | Rain_disc(1)        | Rain_disc(1)       | Rain_disc(1)       | Rain_disc(2)        | Rain_disc(2)       | Rain_disc(2)       | Rain_disc(0)        | Rain_disc(0)        | Rain_disc(0)       | Rain_disc(1)       | Rain_disc(1)       | Rain_disc(1)       | Rain_disc(2)        | Rain_disc(2)       | Rain_disc(2)       |\n",
      "+---------------------+---------------------+---------------------+---------------------+--------------------+--------------------+--------------------+--------------------+--------------------+---------------------+--------------------+---------------------+---------------------+---------------------+--------------------+--------------------+---------------------+--------------------+--------------------+---------------------+---------------------+--------------------+--------------------+--------------------+--------------------+---------------------+--------------------+--------------------+\n",
      "| Temp_range_disc     | Temp_range_disc(0)  | Temp_range_disc(1)  | Temp_range_disc(2)  | Temp_range_disc(0) | Temp_range_disc(1) | Temp_range_disc(2) | Temp_range_disc(0) | Temp_range_disc(1) | Temp_range_disc(2)  | Temp_range_disc(0) | Temp_range_disc(1)  | Temp_range_disc(2)  | Temp_range_disc(0)  | Temp_range_disc(1) | Temp_range_disc(2) | Temp_range_disc(0)  | Temp_range_disc(1) | Temp_range_disc(2) | Temp_range_disc(0)  | Temp_range_disc(1)  | Temp_range_disc(2) | Temp_range_disc(0) | Temp_range_disc(1) | Temp_range_disc(2) | Temp_range_disc(0)  | Temp_range_disc(1) | Temp_range_disc(2) |\n",
      "+---------------------+---------------------+---------------------+---------------------+--------------------+--------------------+--------------------+--------------------+--------------------+---------------------+--------------------+---------------------+---------------------+---------------------+--------------------+--------------------+---------------------+--------------------+--------------------+---------------------+---------------------+--------------------+--------------------+--------------------+--------------------+---------------------+--------------------+--------------------+\n",
      "| total_leak_count(0) | 0.5384615384615384  | 0.5909090909090909  | 0.7                 | 0.75               | 0.6                | 1.0                | 1.0                | 1.0                | 0.16666666666666666 | 0.6875             | 0.6071428571428571  | 0.5833333333333334  | 0.5714285714285714  | 0.25               | 0.75               | 0.6470588235294118  | 1.0                | 0.0                | 0.45454545454545453 | 0.5263157894736842  | 0.59375            | 0.6                | 1.0                | 1.0                | 0.5                 | 1.0                | 0.5                |\n",
      "+---------------------+---------------------+---------------------+---------------------+--------------------+--------------------+--------------------+--------------------+--------------------+---------------------+--------------------+---------------------+---------------------+---------------------+--------------------+--------------------+---------------------+--------------------+--------------------+---------------------+---------------------+--------------------+--------------------+--------------------+--------------------+---------------------+--------------------+--------------------+\n",
      "| total_leak_count(1) | 0.38461538461538464 | 0.3181818181818182  | 0.26666666666666666 | 0.25               | 0.2                | 0.0                | 0.0                | 0.0                | 0.16666666666666666 | 0.3125             | 0.2857142857142857  | 0.25                | 0.42857142857142855 | 0.5                | 0.0                | 0.35294117647058826 | 0.0                | 1.0                | 0.36363636363636365 | 0.15789473684210525 | 0.28125            | 0.2                | 0.0                | 0.0                | 0.3333333333333333  | 0.0                | 0.5                |\n",
      "+---------------------+---------------------+---------------------+---------------------+--------------------+--------------------+--------------------+--------------------+--------------------+---------------------+--------------------+---------------------+---------------------+---------------------+--------------------+--------------------+---------------------+--------------------+--------------------+---------------------+---------------------+--------------------+--------------------+--------------------+--------------------+---------------------+--------------------+--------------------+\n",
      "| total_leak_count(2) | 0.07692307692307693 | 0.09090909090909091 | 0.03333333333333333 | 0.0                | 0.2                | 0.0                | 0.0                | 0.0                | 0.16666666666666666 | 0.0                | 0.10714285714285714 | 0.08333333333333333 | 0.0                 | 0.25               | 0.25               | 0.0                 | 0.0                | 0.0                | 0.09090909090909091 | 0.2631578947368421  | 0.0625             | 0.2                | 0.0                | 0.0                | 0.0                 | 0.0                | 0.0                |\n",
      "+---------------------+---------------------+---------------------+---------------------+--------------------+--------------------+--------------------+--------------------+--------------------+---------------------+--------------------+---------------------+---------------------+---------------------+--------------------+--------------------+---------------------+--------------------+--------------------+---------------------+---------------------+--------------------+--------------------+--------------------+--------------------+---------------------+--------------------+--------------------+\n",
      "| total_leak_count(3) | 0.0                 | 0.0                 | 0.0                 | 0.0                | 0.0                | 0.0                | 0.0                | 0.0                | 0.16666666666666666 | 0.0                | 0.0                 | 0.08333333333333333 | 0.0                 | 0.0                | 0.0                | 0.0                 | 0.0                | 0.0                | 0.09090909090909091 | 0.0                 | 0.03125            | 0.0                | 0.0                | 0.0                | 0.16666666666666666 | 0.0                | 0.0                |\n",
      "+---------------------+---------------------+---------------------+---------------------+--------------------+--------------------+--------------------+--------------------+--------------------+---------------------+--------------------+---------------------+---------------------+---------------------+--------------------+--------------------+---------------------+--------------------+--------------------+---------------------+---------------------+--------------------+--------------------+--------------------+--------------------+---------------------+--------------------+--------------------+\n",
      "| total_leak_count(4) | 0.0                 | 0.0                 | 0.0                 | 0.0                | 0.0                | 0.0                | 0.0                | 0.0                | 0.16666666666666666 | 0.0                | 0.0                 | 0.0                 | 0.0                 | 0.0                | 0.0                | 0.0                 | 0.0                | 0.0                | 0.0                 | 0.05263157894736842 | 0.0                | 0.0                | 0.0                | 0.0                | 0.0                 | 0.0                | 0.0                |\n",
      "+---------------------+---------------------+---------------------+---------------------+--------------------+--------------------+--------------------+--------------------+--------------------+---------------------+--------------------+---------------------+---------------------+---------------------+--------------------+--------------------+---------------------+--------------------+--------------------+---------------------+---------------------+--------------------+--------------------+--------------------+--------------------+---------------------+--------------------+--------------------+\n",
      "| total_leak_count(6) | 0.0                 | 0.0                 | 0.0                 | 0.0                | 0.0                | 0.0                | 0.0                | 0.0                | 0.16666666666666666 | 0.0                | 0.0                 | 0.0                 | 0.0                 | 0.0                | 0.0                | 0.0                 | 0.0                | 0.0                | 0.0                 | 0.0                 | 0.03125            | 0.0                | 0.0                | 0.0                | 0.0                 | 0.0                | 0.0                |\n",
      "+---------------------+---------------------+---------------------+---------------------+--------------------+--------------------+--------------------+--------------------+--------------------+---------------------+--------------------+---------------------+---------------------+---------------------+--------------------+--------------------+---------------------+--------------------+--------------------+---------------------+---------------------+--------------------+--------------------+--------------------+--------------------+---------------------+--------------------+--------------------+\n"
     ]
    }
   ],
   "source": [
    "# Printing a CPD with it's state names defined.\n",
    "print(model_totalleak.get_cpds('total_leak_count'))"
   ]
  },
  {
   "cell_type": "code",
   "execution_count": 61,
   "metadata": {
    "collapsed": true
   },
   "outputs": [],
   "source": [
    "cpd = model_totalleak.get_cpds('total_leak_count')"
   ]
  },
  {
   "cell_type": "code",
   "execution_count": 62,
   "metadata": {
    "collapsed": false
   },
   "outputs": [
    {
     "data": {
      "text/plain": [
       "pgmpy.factors.discrete.CPD.TabularCPD"
      ]
     },
     "execution_count": 62,
     "metadata": {},
     "output_type": "execute_result"
    }
   ],
   "source": [
    "type(cpd)"
   ]
  },
  {
   "cell_type": "markdown",
   "metadata": {},
   "source": [
    "# With transition"
   ]
  },
  {
   "cell_type": "code",
   "execution_count": 16,
   "metadata": {
    "collapsed": true
   },
   "outputs": [],
   "source": [
    "from itertools import combinations\n",
    "from collections import defaultdict\n",
    "import numpy as np\n",
    "import networkx as nx\n",
    "from pgmpy.factors.discrete import TabularCPD\n",
    "from pgmpy.base import DirectedGraph\n",
    "from pgmpy.models import DynamicBayesianNetwork as DBN\n",
    "from pgmpy.factors.discrete import TabularCPD"
   ]
  },
  {
   "cell_type": "code",
   "execution_count": 17,
   "metadata": {
    "collapsed": false
   },
   "outputs": [],
   "source": [
    "dbn = DBN()"
   ]
  },
  {
   "cell_type": "code",
   "execution_count": null,
   "metadata": {
    "collapsed": true
   },
   "outputs": [],
   "source": [
    "cpd_pr = model_pipeleak.get_cpds('Prs_ds_disc')\n",
    "cpd_prl = model_pipeleak.get_cpds('Prs_ds_disc_l1')\n",
    "cpd_plc = model_pipeleak.get_cpds('pipeleak_count')\n"
   ]
  },
  {
   "cell_type": "code",
   "execution_count": 51,
   "metadata": {
    "collapsed": true
   },
   "outputs": [],
   "source": [
    "dbn.add_edges_from([(('Prs_ds_disc', 0), ('pipe_leak_count', 0)), (('Temp_range_disc', 0), ('total_leak_count', 0)),\n",
    "                    (('Rain_disc', 0), ('total_leak_count', 0)), (('Prs_ds_disc', 0), ('Prs_ds_disc', 1)), \n",
    "                    (('Temp_range_disc', 0), ('Temp_range_disc', 1)), (('Rain_disc', 0), ('Rain_disc', 1))])"
   ]
  },
  {
   "cell_type": "code",
   "execution_count": 21,
   "metadata": {
    "collapsed": false,
    "scrolled": true
   },
   "outputs": [
    {
     "data": {
      "text/plain": [
       "[]"
      ]
     },
     "execution_count": 21,
     "metadata": {},
     "output_type": "execute_result"
    }
   ],
   "source": [
    "dbn.add_edges_from([(('D', 0),('G', 0)),(('I', 0),('G', 0)),(('D', 0),('D', 1)),(('I', 0),('I', 1))])\n",
    "grade_cpd = TabularCPD(('G', 0), 3, [[0.3, 0.05, 0.9, 0.5],[0.4, 0.25, 0.8, 0.03],[0.3, 0.7, 0.02, 0.2]],\n",
    "                                evidence=[('I', 0),('D', 0)],\n",
    "                                evidence_card=[2, 2])\n",
    "d_i_cpd = TabularCPD(('D',1), 2, [[0.6, 0.3],[0.4, 0.7]],evidence=[('D',0)],evidence_card=[2])\n",
    "diff_cpd = TabularCPD(('D', 0), 2, [[0.6, 0.4]])\n",
    "intel_cpd = TabularCPD(('I', 0), 2, [[0.7, 0.3]])\n",
    "i_i_cpd = TabularCPD(('I', 1), 2, [[0.5, 0.4],[0.5, 0.6]], evidence=[('I', 0)], evidence_card=[2])\n",
    "dbn.add_cpds(grade_cpd, d_i_cpd, diff_cpd, intel_cpd, i_i_cpd)\n",
    "dbn.get_cpds()"
   ]
  },
  {
   "cell_type": "code",
   "execution_count": null,
   "metadata": {
    "collapsed": true
   },
   "outputs": [],
   "source": []
  }
 ],
 "metadata": {
  "kernelspec": {
   "display_name": "py3tst",
   "language": "python",
   "name": "py3tst"
  },
  "language_info": {
   "codemirror_mode": {
    "name": "ipython",
    "version": 3
   },
   "file_extension": ".py",
   "mimetype": "text/x-python",
   "name": "python",
   "nbconvert_exporter": "python",
   "pygments_lexer": "ipython3",
   "version": "3.6.8"
  }
 },
 "nbformat": 4,
 "nbformat_minor": 2
}
