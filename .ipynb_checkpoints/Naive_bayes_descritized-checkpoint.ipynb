{
 "cells": [
  {
   "cell_type": "code",
   "execution_count": 1,
   "metadata": {
    "collapsed": true
   },
   "outputs": [],
   "source": [
    "import pandas as pd\n",
    "from sklearn.tree import DecisionTreeClassifier\n",
    "#spliting the data into the training and testing sets\n",
    "from sklearn.model_selection import train_test_split\n",
    "from sklearn.naive_bayes import GaussianNB\n",
    "from sklearn.naive_bayes import MultinomialNB\n",
    "from sklearn.metrics import accuracy_score"
   ]
  },
  {
   "cell_type": "markdown",
   "metadata": {},
   "source": [
    "# Meter Leak"
   ]
  },
  {
   "cell_type": "code",
   "execution_count": 3,
   "metadata": {
    "collapsed": false,
    "scrolled": true
   },
   "outputs": [
    {
     "data": {
      "text/html": [
       "<div>\n",
       "<style scoped>\n",
       "    .dataframe tbody tr th:only-of-type {\n",
       "        vertical-align: middle;\n",
       "    }\n",
       "\n",
       "    .dataframe tbody tr th {\n",
       "        vertical-align: top;\n",
       "    }\n",
       "\n",
       "    .dataframe thead th {\n",
       "        text-align: right;\n",
       "    }\n",
       "</style>\n",
       "<table border=\"1\" class=\"dataframe\">\n",
       "  <thead>\n",
       "    <tr style=\"text-align: right;\">\n",
       "      <th></th>\n",
       "      <th>Prs_ds_disc</th>\n",
       "      <th>Prs_us_disc</th>\n",
       "      <th>MinTemp_disc</th>\n",
       "      <th>MaxTemp_disc</th>\n",
       "      <th>Avg_Temp_disc</th>\n",
       "      <th>Temp_range_disc</th>\n",
       "      <th>Rain_disc</th>\n",
       "      <th>meterleak_count</th>\n",
       "    </tr>\n",
       "  </thead>\n",
       "  <tbody>\n",
       "    <tr>\n",
       "      <th>0</th>\n",
       "      <td>2</td>\n",
       "      <td>1</td>\n",
       "      <td>0</td>\n",
       "      <td>0</td>\n",
       "      <td>0</td>\n",
       "      <td>2</td>\n",
       "      <td>0</td>\n",
       "      <td>0</td>\n",
       "    </tr>\n",
       "    <tr>\n",
       "      <th>1</th>\n",
       "      <td>2</td>\n",
       "      <td>1</td>\n",
       "      <td>1</td>\n",
       "      <td>2</td>\n",
       "      <td>1</td>\n",
       "      <td>2</td>\n",
       "      <td>0</td>\n",
       "      <td>0</td>\n",
       "    </tr>\n",
       "    <tr>\n",
       "      <th>2</th>\n",
       "      <td>2</td>\n",
       "      <td>1</td>\n",
       "      <td>0</td>\n",
       "      <td>0</td>\n",
       "      <td>0</td>\n",
       "      <td>2</td>\n",
       "      <td>0</td>\n",
       "      <td>0</td>\n",
       "    </tr>\n",
       "    <tr>\n",
       "      <th>3</th>\n",
       "      <td>2</td>\n",
       "      <td>1</td>\n",
       "      <td>0</td>\n",
       "      <td>0</td>\n",
       "      <td>0</td>\n",
       "      <td>2</td>\n",
       "      <td>0</td>\n",
       "      <td>0</td>\n",
       "    </tr>\n",
       "    <tr>\n",
       "      <th>4</th>\n",
       "      <td>2</td>\n",
       "      <td>2</td>\n",
       "      <td>0</td>\n",
       "      <td>0</td>\n",
       "      <td>0</td>\n",
       "      <td>2</td>\n",
       "      <td>1</td>\n",
       "      <td>1</td>\n",
       "    </tr>\n",
       "  </tbody>\n",
       "</table>\n",
       "</div>"
      ],
      "text/plain": [
       "   Prs_ds_disc  Prs_us_disc  MinTemp_disc  MaxTemp_disc  Avg_Temp_disc  \\\n",
       "0            2            1             0             0              0   \n",
       "1            2            1             1             2              1   \n",
       "2            2            1             0             0              0   \n",
       "3            2            1             0             0              0   \n",
       "4            2            2             0             0              0   \n",
       "\n",
       "   Temp_range_disc  Rain_disc  meterleak_count  \n",
       "0                2          0                0  \n",
       "1                2          0                0  \n",
       "2                2          0                0  \n",
       "3                2          0                0  \n",
       "4                2          1                1  "
      ]
     },
     "execution_count": 3,
     "metadata": {},
     "output_type": "execute_result"
    }
   ],
   "source": [
    "# Data \n",
    "df_ml = pd.read_csv('meter_leak_pred_data.csv')\n",
    "df_ml.head()"
   ]
  },
  {
   "cell_type": "code",
   "execution_count": 5,
   "metadata": {
    "collapsed": false
   },
   "outputs": [],
   "source": [
    "# Separating independent variables(predictors) and the target (dependant) variable\n",
    "X_ml = df_ml[['Prs_ds_disc','Prs_us_disc','Temp_range_disc', 'Avg_Temp_disc','Rain_disc']]\n",
    "y_ml = df_ml.meterleak_count"
   ]
  },
  {
   "cell_type": "code",
   "execution_count": 6,
   "metadata": {
    "collapsed": true
   },
   "outputs": [],
   "source": [
    "#Spliting the train and test sets on a 70:30 basis\n",
    "X_train_ml, X_test_ml, y_train_ml, y_test_ml = train_test_split(X_ml, y_ml, test_size = .3)"
   ]
  },
  {
   "cell_type": "code",
   "execution_count": 7,
   "metadata": {
    "collapsed": false
   },
   "outputs": [],
   "source": [
    "# Declaring the Gaussian naive Bayes and the multinomial Naive bayes(of interest since we are in a discrete space)\n",
    "gnb = GaussianNB()\n",
    "clf = MultinomialNB()"
   ]
  },
  {
   "cell_type": "code",
   "execution_count": 8,
   "metadata": {
    "collapsed": true
   },
   "outputs": [],
   "source": [
    "#fitting the models\n",
    "model_meterleak1 = gnb.fit(X_train_ml, y_train_ml)\n",
    "model_meterleak2 = clf.fit(X_train_ml, y_train_ml)"
   ]
  },
  {
   "cell_type": "code",
   "execution_count": 9,
   "metadata": {
    "collapsed": true
   },
   "outputs": [],
   "source": [
    "# Using fitted model to obtain predictions based on test set\n",
    "y_pred_meterleak1 = model_meterleak1.predict(X_test_ml)\n",
    "y_pred_meterleak2 = model_meterleak2.predict(X_test_ml)"
   ]
  },
  {
   "cell_type": "code",
   "execution_count": 10,
   "metadata": {
    "collapsed": false
   },
   "outputs": [
    {
     "name": "stdout",
     "output_type": "stream",
     "text": [
      "0.7818181818181819\n",
      "0.7909090909090909\n"
     ]
    }
   ],
   "source": [
    "# Measuring the accuracy of the models based on the test set\n",
    "print(accuracy_score(y_pred_meterleak1, y_test_ml))\n",
    "print(accuracy_score(y_pred_meterleak2, y_test_ml))"
   ]
  },
  {
   "cell_type": "markdown",
   "metadata": {},
   "source": [
    "# PipeLeak"
   ]
  },
  {
   "cell_type": "code",
   "execution_count": 11,
   "metadata": {
    "collapsed": false
   },
   "outputs": [
    {
     "name": "stdout",
     "output_type": "stream",
     "text": [
      "0.23636363636363636\n",
      "0.8181818181818182\n"
     ]
    }
   ],
   "source": [
    "# Data \n",
    "df_pl = pd.read_csv('pipe_leak_pred_data.csv')\n",
    "#df.head()\n",
    "\n",
    "# Separating independent variables(predictors) and the target (dependant) variable\n",
    "X_pl = df_pl[['Prs_ds_disc','Prs_us_disc','Temp_range_disc', 'Avg_Temp_disc','Rain_disc']]\n",
    "y_pl = df_pl.pipeleak_count\n",
    "\n",
    "#Spliting the train and test sets on a 70:30 basis\n",
    "X_train_pl, X_test_pl, y_train_pl, y_test_pl = train_test_split(X_pl, y_pl, test_size = .3)\n",
    "\n",
    "#fitting the models\n",
    "model_pipeleak1 = gnb.fit(X_train_pl, y_train_pl)\n",
    "model_pipeleak2 = clf.fit(X_train_pl, y_train_pl)\n",
    "\n",
    "# Using fitted model to obtain predictions based on test set\n",
    "y_pred_pipeleak1 = model_pipeleak1.predict(X_test_pl)\n",
    "y_pred_pipeleak2 = model_pipeleak2.predict(X_test_pl)\n",
    "\n",
    "# Measuring the accuracy of the models based on the test set\n",
    "print(accuracy_score(y_pred_pipeleak1, y_test_pl))\n",
    "print(accuracy_score(y_pred_pipeleak2, y_test_pl))"
   ]
  },
  {
   "cell_type": "markdown",
   "metadata": {},
   "source": [
    "# valveleaks"
   ]
  },
  {
   "cell_type": "code",
   "execution_count": null,
   "metadata": {
    "collapsed": true
   },
   "outputs": [],
   "source": [
    "# Data \n",
    "df_vl = pd.read_csv('valve_leak_pred_data.csv')\n",
    "#df.head()\n",
    "\n",
    "# Separating independent variables(predictors) and the target (dependant) variable\n",
    "X_vl = df_vl[['Prs_ds_disc','Prs_us_disc','Temp_range_disc', 'Avg_Temp_disc','Rain_disc']]\n",
    "y_vl = df_vl.valveleak_count\n",
    "\n",
    "#Spliting the train and test sets on a 70:30 basis\n",
    "X_train_vl, X_test_vl, y_train_vl, y_test_vl = train_test_split(X_vl, y_vl, test_size = .3)\n",
    "\n",
    "#fitting the models\n",
    "model_valveleak1 = gnb.fit(X_train_vl, y_train_vl)\n",
    "model_valveleak2 = clf.fit(X_train_vl, y_train_vl)\n",
    "\n",
    "# Using fitted model to obtain predictions based on test set\n",
    "y_pred_valveleak1 = model_valveleak1.predict(X_test_vl)\n",
    "y_pred_valveleak2 = model_valveleak2.predict(X_test_vl)\n",
    "\n",
    "# Measuring the accuracy of the models based on the test set\n",
    "print(accuracy_score(y_pred_valveleak1, y_test_vl))\n",
    "print(accuracy_score(y_pred_valveleak2, y_test_vl))"
   ]
  },
  {
   "cell_type": "markdown",
   "metadata": {},
   "source": [
    "# Total Daily leaks"
   ]
  },
  {
   "cell_type": "code",
   "execution_count": null,
   "metadata": {
    "collapsed": true
   },
   "outputs": [],
   "source": [
    "# Data \n",
    "df_tl = pd.read_csv('total_leak_pred_data.csv')\n",
    "#df.head()\n",
    "\n",
    "# Separating independent variables(predictors) and the target (dependant) variable\n",
    "X_tl = df_tl[['Prs_ds_disc','Prs_us_disc','Temp_range_disc', 'Avg_Temp_disc','Rain_disc']]\n",
    "y_tl = df_tl.valveleak_count\n",
    "\n",
    "#Spliting the train and test sets on a 70:30 basis\n",
    "X_train_tl, X_test_tl, y_train_tl, y_test_tl = train_test_split(X_tl, y_tl, test_size = .3)\n",
    "\n",
    "#fitting the models\n",
    "model_totalleak1 = gnb.fit(X_train_tl, y_train_tl)\n",
    "model_totalleak2 = clf.fit(X_train_tl, y_train_tl)\n",
    "\n",
    "# Using fitted model to obtain predictions based on test set\n",
    "y_pred_totalleak1 = model_totalleak1.predict(X_test_tl)\n",
    "y_pred_totalleak2 = model_totalleak2.predict(X_test_tl)\n",
    "\n",
    "# Measuring the accuracy of the models based on the test set\n",
    "print(accuracy_score(y_pred_valveleak1, y_test_tl))\n",
    "print(accuracy_score(y_pred_valveleak2, y_test_tl))"
   ]
  }
 ],
 "metadata": {
  "kernelspec": {
   "display_name": "py3tst",
   "language": "python",
   "name": "py3tst"
  },
  "language_info": {
   "codemirror_mode": {
    "name": "ipython",
    "version": 3
   },
   "file_extension": ".py",
   "mimetype": "text/x-python",
   "name": "python",
   "nbconvert_exporter": "python",
   "pygments_lexer": "ipython3",
   "version": "3.6.8"
  }
 },
 "nbformat": 4,
 "nbformat_minor": 2
}
