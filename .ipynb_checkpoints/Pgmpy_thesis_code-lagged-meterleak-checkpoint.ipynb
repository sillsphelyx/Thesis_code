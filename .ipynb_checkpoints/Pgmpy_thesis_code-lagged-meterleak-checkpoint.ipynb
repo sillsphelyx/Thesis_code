{
 "cells": [
  {
   "cell_type": "code",
   "execution_count": 1,
   "metadata": {
    "collapsed": false
   },
   "outputs": [],
   "source": [
    "import pandas as pd\n",
    "import numpy as np\n",
    "from collections import Counter\n",
    "import wrapt\n",
    "import itertools\n",
    "import scipy.stats as ss\n",
    "import matplotlib.pyplot as plt\n",
    "import seaborn as sns\n",
    "from pgmpy.inference import VariableElimination\n",
    "from sklearn.model_selection import train_test_split\n",
    "from sklearn.metrics import accuracy_score\n",
    "from pgmpy.models import BayesianModel\n",
    "from pgmpy.estimators import MaximumLikelihoodEstimator\n",
    "from pgmpy.factors.discrete import TabularCPD\n",
    "import warnings\n",
    "warnings.filterwarnings('ignore')"
   ]
  },
  {
   "cell_type": "markdown",
   "metadata": {},
   "source": [
    "# Pipe Leaks"
   ]
  },
  {
   "cell_type": "code",
   "execution_count": 2,
   "metadata": {
    "collapsed": false,
    "scrolled": false
   },
   "outputs": [
    {
     "data": {
      "text/html": [
       "<div>\n",
       "<style scoped>\n",
       "    .dataframe tbody tr th:only-of-type {\n",
       "        vertical-align: middle;\n",
       "    }\n",
       "\n",
       "    .dataframe tbody tr th {\n",
       "        vertical-align: top;\n",
       "    }\n",
       "\n",
       "    .dataframe thead th {\n",
       "        text-align: right;\n",
       "    }\n",
       "</style>\n",
       "<table border=\"1\" class=\"dataframe\">\n",
       "  <thead>\n",
       "    <tr style=\"text-align: right;\">\n",
       "      <th></th>\n",
       "      <th>Prs_ds_disc</th>\n",
       "      <th>Prs_ds_disc_t1</th>\n",
       "      <th>Prs_us_disc</th>\n",
       "      <th>Prs_us_disc_t1</th>\n",
       "      <th>MinTemp_disc</th>\n",
       "      <th>MinTemp_disc_t</th>\n",
       "      <th>MaxTemp_disc</th>\n",
       "      <th>MaxTemp_disc_t1</th>\n",
       "      <th>Avg_Temp_disc</th>\n",
       "      <th>Avg_Temp_disc_t1</th>\n",
       "      <th>Temp_range_disc</th>\n",
       "      <th>Temp_range_disc_t</th>\n",
       "      <th>Rain_disc</th>\n",
       "      <th>Rain_disc_t</th>\n",
       "      <th>meterleak_count</th>\n",
       "      <th>meterleak_count_t</th>\n",
       "    </tr>\n",
       "  </thead>\n",
       "  <tbody>\n",
       "    <tr>\n",
       "      <th>0</th>\n",
       "      <td>2</td>\n",
       "      <td>2</td>\n",
       "      <td>1</td>\n",
       "      <td>1</td>\n",
       "      <td>1</td>\n",
       "      <td>0</td>\n",
       "      <td>2</td>\n",
       "      <td>0</td>\n",
       "      <td>1</td>\n",
       "      <td>0</td>\n",
       "      <td>2</td>\n",
       "      <td>2</td>\n",
       "      <td>0</td>\n",
       "      <td>0</td>\n",
       "      <td>0</td>\n",
       "      <td>0</td>\n",
       "    </tr>\n",
       "    <tr>\n",
       "      <th>1</th>\n",
       "      <td>2</td>\n",
       "      <td>2</td>\n",
       "      <td>1</td>\n",
       "      <td>1</td>\n",
       "      <td>0</td>\n",
       "      <td>1</td>\n",
       "      <td>0</td>\n",
       "      <td>2</td>\n",
       "      <td>0</td>\n",
       "      <td>1</td>\n",
       "      <td>2</td>\n",
       "      <td>2</td>\n",
       "      <td>0</td>\n",
       "      <td>0</td>\n",
       "      <td>0</td>\n",
       "      <td>0</td>\n",
       "    </tr>\n",
       "    <tr>\n",
       "      <th>2</th>\n",
       "      <td>2</td>\n",
       "      <td>2</td>\n",
       "      <td>1</td>\n",
       "      <td>1</td>\n",
       "      <td>0</td>\n",
       "      <td>0</td>\n",
       "      <td>0</td>\n",
       "      <td>0</td>\n",
       "      <td>0</td>\n",
       "      <td>0</td>\n",
       "      <td>2</td>\n",
       "      <td>2</td>\n",
       "      <td>0</td>\n",
       "      <td>0</td>\n",
       "      <td>0</td>\n",
       "      <td>0</td>\n",
       "    </tr>\n",
       "    <tr>\n",
       "      <th>3</th>\n",
       "      <td>2</td>\n",
       "      <td>2</td>\n",
       "      <td>2</td>\n",
       "      <td>1</td>\n",
       "      <td>0</td>\n",
       "      <td>0</td>\n",
       "      <td>0</td>\n",
       "      <td>0</td>\n",
       "      <td>0</td>\n",
       "      <td>0</td>\n",
       "      <td>2</td>\n",
       "      <td>2</td>\n",
       "      <td>1</td>\n",
       "      <td>0</td>\n",
       "      <td>1</td>\n",
       "      <td>0</td>\n",
       "    </tr>\n",
       "    <tr>\n",
       "      <th>4</th>\n",
       "      <td>2</td>\n",
       "      <td>2</td>\n",
       "      <td>2</td>\n",
       "      <td>2</td>\n",
       "      <td>0</td>\n",
       "      <td>0</td>\n",
       "      <td>0</td>\n",
       "      <td>0</td>\n",
       "      <td>0</td>\n",
       "      <td>0</td>\n",
       "      <td>1</td>\n",
       "      <td>2</td>\n",
       "      <td>1</td>\n",
       "      <td>1</td>\n",
       "      <td>0</td>\n",
       "      <td>1</td>\n",
       "    </tr>\n",
       "  </tbody>\n",
       "</table>\n",
       "</div>"
      ],
      "text/plain": [
       "   Prs_ds_disc  Prs_ds_disc_t1  Prs_us_disc  Prs_us_disc_t1  MinTemp_disc  \\\n",
       "0            2               2            1               1             1   \n",
       "1            2               2            1               1             0   \n",
       "2            2               2            1               1             0   \n",
       "3            2               2            2               1             0   \n",
       "4            2               2            2               2             0   \n",
       "\n",
       "   MinTemp_disc_t  MaxTemp_disc  MaxTemp_disc_t1  Avg_Temp_disc  \\\n",
       "0               0             2                0              1   \n",
       "1               1             0                2              0   \n",
       "2               0             0                0              0   \n",
       "3               0             0                0              0   \n",
       "4               0             0                0              0   \n",
       "\n",
       "   Avg_Temp_disc_t1  Temp_range_disc  Temp_range_disc_t  Rain_disc  \\\n",
       "0                 0                2                  2          0   \n",
       "1                 1                2                  2          0   \n",
       "2                 0                2                  2          0   \n",
       "3                 0                2                  2          1   \n",
       "4                 0                1                  2          1   \n",
       "\n",
       "   Rain_disc_t  meterleak_count  meterleak_count_t  \n",
       "0            0                0                  0  \n",
       "1            0                0                  0  \n",
       "2            0                0                  0  \n",
       "3            0                1                  0  \n",
       "4            1                0                  1  "
      ]
     },
     "execution_count": 2,
     "metadata": {},
     "output_type": "execute_result"
    }
   ],
   "source": [
    "# Data \n",
    "df_ml = pd.read_csv('meter_leak_pred_data_lagged.csv')\n",
    "df_ml.head()"
   ]
  },
  {
   "cell_type": "code",
   "execution_count": 3,
   "metadata": {
    "collapsed": false
   },
   "outputs": [
    {
     "name": "stdout",
     "output_type": "stream",
     "text": [
      "[(0, 294), (1, 60), (2, 8), (3, 2)]\n"
     ]
    }
   ],
   "source": [
    "# Checking the class \n",
    "print(sorted(Counter(df_ml['meterleak_count']).items()))"
   ]
  },
  {
   "cell_type": "code",
   "execution_count": 80,
   "metadata": {
    "collapsed": false
   },
   "outputs": [
    {
     "data": {
      "text/plain": [
       "3"
      ]
     },
     "execution_count": 80,
     "metadata": {},
     "output_type": "execute_result"
    }
   ],
   "source": [
    "df_ml.meterleak_count_t.max()"
   ]
  },
  {
   "cell_type": "markdown",
   "metadata": {},
   "source": [
    "# Test for Association and Independence"
   ]
  },
  {
   "cell_type": "markdown",
   "metadata": {},
   "source": [
    "# Cramers V-test and plot "
   ]
  },
  {
   "cell_type": "code",
   "execution_count": 5,
   "metadata": {
    "collapsed": false
   },
   "outputs": [
    {
     "data": {
      "text/plain": [
       "3"
      ]
     },
     "execution_count": 5,
     "metadata": {},
     "output_type": "execute_result"
    },
    {
     "data": {
      "image/png": "[encoded data removed]",
      "text/plain": [
       "<Figure size 648x648 with 2 Axes>"
      ]
     },
     "metadata": {
      "needs_background": "light"
     },
     "output_type": "display_data"
    }
   ],
   "source": [
    "def cramers_corrected_stat(confusion_matrix):\n",
    "    \"\"\" calculate Cramers V statistic for categorical-categorical association.\n",
    "        uses correction from Bergsma and Wicher, \n",
    "        Journal of the Korean Statistical Society 42 (2013): 323-328\n",
    "    \"\"\"\n",
    "    chi2 = ss.chi2_contingency(confusion_matrix)[0]\n",
    "    n = confusion_matrix.sum().sum()\n",
    "    phi2 = chi2/n\n",
    "    r,k = confusion_matrix.shape\n",
    "    phi2corr = max(0, phi2 - ((k-1)*(r-1))/(n-1))    \n",
    "    rcorr = r - ((r-1)**2)/(n-1)\n",
    "    kcorr = k - ((k-1)**2)/(n-1)\n",
    "    return np.sqrt(phi2corr / min( (kcorr-1), (rcorr-1)))\n",
    "\n",
    "\n",
    "cols = ['Prs_ds_disc', 'Prs_ds_disc_t1', \n",
    "       'MinTemp_disc', 'MinTemp_disc_t','Avg_Temp_disc', 'Avg_Temp_disc_t1', 'Temp_range_disc',\n",
    "       'Rain_disc', 'Rain_disc_t', 'meterleak_count',\n",
    "       'meterleak_count_t']\n",
    "corrM = np.zeros((len(cols),len(cols)))\n",
    "# there's probably a nice pandas way to do this\n",
    "for col1, col2 in itertools.combinations(cols, 2):\n",
    "    idx1, idx2 = cols.index(col1), cols.index(col2)\n",
    "    corrM[idx1, idx2] = cramers_corrected_stat(pd.crosstab(df_ml[col1], df_ml[col2]))\n",
    "    corrM[idx2, idx1] = corrM[idx1, idx2]\n",
    "\n",
    "corr = pd.DataFrame(corrM, index=cols, columns=cols)\n",
    "fig, ax = plt.subplots(figsize=(9, 9))\n",
    "ax = sns.heatmap(corr, annot=True, ax=ax); ax.set_title(\"Cramer V Correlation between Variables\");3"
   ]
  },
  {
   "cell_type": "markdown",
   "metadata": {},
   "source": [
    "# Chi2 test for independence"
   ]
  },
  {
   "cell_type": "code",
   "execution_count": 6,
   "metadata": {
    "collapsed": false,
    "scrolled": true
   },
   "outputs": [
    {
     "data": {
      "text/plain": [
       "(444.5227702240783, 7.408202622180536e-93, 6, array([[ 81.5 ,  66.25, 146.25],\n",
       "        [ 81.5 ,  66.25, 146.25],\n",
       "        [ 81.5 ,  66.25, 146.25],\n",
       "        [ 81.5 ,  66.25, 146.25]]))"
      ]
     },
     "execution_count": 6,
     "metadata": {},
     "output_type": "execute_result"
    }
   ],
   "source": [
    "crosstab = pd.crosstab(df_ml['meterleak_count'], df_ml['Prs_ds_disc'])\n",
    "ss.chi2_contingency(crosstab)"
   ]
  },
  {
   "cell_type": "code",
   "execution_count": 7,
   "metadata": {
    "collapsed": false
   },
   "outputs": [
    {
     "data": {
      "text/plain": [
       "(816.5321277408516,\n",
       " 4.1236840143877464e-173,\n",
       " 6,\n",
       " array([[177.75, 101.5 ,  14.75],\n",
       "        [177.75, 101.5 ,  14.75],\n",
       "        [177.75, 101.5 ,  14.75],\n",
       "        [177.75, 101.5 ,  14.75]]))"
      ]
     },
     "execution_count": 7,
     "metadata": {},
     "output_type": "execute_result"
    }
   ],
   "source": [
    "crosstab = pd.crosstab(df_ml['meterleak_count'], df_ml['Rain_disc_t'])\n",
    "ss.chi2_contingency(crosstab)"
   ]
  },
  {
   "cell_type": "code",
   "execution_count": 8,
   "metadata": {
    "collapsed": false
   },
   "outputs": [
    {
     "data": {
      "text/plain": [
       "(321.0295725186683, 2.539365936894155e-66, 6, array([[169.  ,  59.75,  65.25],\n",
       "        [169.  ,  59.75,  65.25],\n",
       "        [169.  ,  59.75,  65.25],\n",
       "        [169.  ,  59.75,  65.25]]))"
      ]
     },
     "execution_count": 8,
     "metadata": {},
     "output_type": "execute_result"
    }
   ],
   "source": [
    "crosstab = pd.crosstab(df_ml['meterleak_count'], df_ml['MinTemp_disc'])\n",
    "ss.chi2_contingency(crosstab)"
   ]
  },
  {
   "cell_type": "code",
   "execution_count": 9,
   "metadata": {
    "collapsed": false
   },
   "outputs": [
    {
     "data": {
      "text/plain": [
       "(317.9193735592047, 1.1794872587941795e-65, 6, array([[169.25,  65.  ,  59.75],\n",
       "        [169.25,  65.  ,  59.75],\n",
       "        [169.25,  65.  ,  59.75],\n",
       "        [169.25,  65.  ,  59.75]]))"
      ]
     },
     "execution_count": 9,
     "metadata": {},
     "output_type": "execute_result"
    }
   ],
   "source": [
    "crosstab = pd.crosstab(df_ml['meterleak_count'], df_ml['Avg_Temp_disc'])\n",
    "ss.chi2_contingency(crosstab)"
   ]
  },
  {
   "cell_type": "code",
   "execution_count": 10,
   "metadata": {
    "collapsed": false
   },
   "outputs": [
    {
     "data": {
      "text/plain": [
       "(498.5494611248464, 1.7265174874486304e-104, 6, array([[100.5, 134.5,  59. ],\n",
       "        [100.5, 134.5,  59. ],\n",
       "        [100.5, 134.5,  59. ],\n",
       "        [100.5, 134.5,  59. ]]))"
      ]
     },
     "execution_count": 10,
     "metadata": {},
     "output_type": "execute_result"
    }
   ],
   "source": [
    "crosstab = pd.crosstab(df_ml['meterleak_count'], df_ml['Avg_Temp_disc_t1'])\n",
    "ss.chi2_contingency(crosstab)"
   ]
  },
  {
   "cell_type": "code",
   "execution_count": 11,
   "metadata": {
    "collapsed": false
   },
   "outputs": [
    {
     "data": {
      "text/plain": [
       "(467.6239063989358, 7.891820625912489e-98, 6, array([[137.5 ,  90.75,  65.75],\n",
       "        [137.5 ,  90.75,  65.75],\n",
       "        [137.5 ,  90.75,  65.75],\n",
       "        [137.5 ,  90.75,  65.75]]))"
      ]
     },
     "execution_count": 11,
     "metadata": {},
     "output_type": "execute_result"
    }
   ],
   "source": [
    "crosstab = pd.crosstab(df_ml['meterleak_count'], df_ml['Temp_range_disc'])\n",
    "ss.chi2_contingency(crosstab)"
   ]
  },
  {
   "cell_type": "code",
   "execution_count": 12,
   "metadata": {
    "collapsed": false
   },
   "outputs": [
    {
     "data": {
      "text/plain": [
       "(467.6239063989358, 7.891820625912489e-98, 6, array([[137.5 ,  90.75,  65.75],\n",
       "        [137.5 ,  90.75,  65.75],\n",
       "        [137.5 ,  90.75,  65.75],\n",
       "        [137.5 ,  90.75,  65.75]]))"
      ]
     },
     "execution_count": 12,
     "metadata": {},
     "output_type": "execute_result"
    }
   ],
   "source": [
    "crosstab = pd.crosstab(df_ml['meterleak_count'], df_ml['Temp_range_disc'])\n",
    "ss.chi2_contingency(crosstab)"
   ]
  },
  {
   "cell_type": "code",
   "execution_count": 13,
   "metadata": {
    "collapsed": false
   },
   "outputs": [
    {
     "data": {
      "text/plain": [
       "(285.9730722617785,\n",
       " 2.456467313076861e-56,\n",
       " 9,\n",
       " array([[235.75,  56.  ,   1.75,   0.5 ],\n",
       "        [235.75,  56.  ,   1.75,   0.5 ],\n",
       "        [235.75,  56.  ,   1.75,   0.5 ],\n",
       "        [235.75,  56.  ,   1.75,   0.5 ]]))"
      ]
     },
     "execution_count": 13,
     "metadata": {},
     "output_type": "execute_result"
    }
   ],
   "source": [
    "crosstab = pd.crosstab(df_ml['meterleak_count'], df_ml['meterleak_count_t'])\n",
    "ss.chi2_contingency(crosstab)"
   ]
  },
  {
   "cell_type": "markdown",
   "metadata": {},
   "source": [
    "# Transition Model"
   ]
  },
  {
   "cell_type": "code",
   "execution_count": 16,
   "metadata": {
    "collapsed": false
   },
   "outputs": [],
   "source": [
    "# Separating independent variables(predictors) and the target (dependant) variable\n",
    "X_tml = df_ml[['meterleak_count_t','Rain_disc_t']]#,'Temp_range_disc', 'Avg_Temp_disc','Rain_disc']]\n",
    "y_tml = df_ml.meterleak_count"
   ]
  },
  {
   "cell_type": "code",
   "execution_count": 17,
   "metadata": {
    "collapsed": false
   },
   "outputs": [],
   "source": [
    "#Spliting the train and test sets on a 70:30 basis\n",
    "X_train_tml, X_test_tml, y_train_tml, y_test_tml = train_test_split(X_tml, y_tml, test_size = .3)"
   ]
  },
  {
   "cell_type": "code",
   "execution_count": 18,
   "metadata": {
    "collapsed": false,
    "scrolled": true
   },
   "outputs": [],
   "source": [
    "# Joining the train set for model development\n",
    "X_train_tml['meterleak_count'] = y_train_tml"
   ]
  },
  {
   "cell_type": "code",
   "execution_count": 41,
   "metadata": {
    "collapsed": true
   },
   "outputs": [],
   "source": [
    "#frame = df_ml[['Prs_ds_disc', 'Temp_range_disc', 'Rain_disc', 'meterleak_count']]"
   ]
  },
  {
   "cell_type": "code",
   "execution_count": 20,
   "metadata": {
    "collapsed": false
   },
   "outputs": [],
   "source": [
    "#data = pd.DataFrame(data={'A': [0, 0, 1], 'B': [0, 1, 0], 'C': [1, 1, 0]})\n",
    "trans_model_meterleak = BayesianModel([('meterleak_count_t', 'meterleak_count'),('Rain_disc_t','meterleak_count')]) #, ('Temp_range_disc', 'meterleak_count'), ('Rain_disc', 'meterleak_count') ])\n",
    "trans_model_meterleak.fit(X_train_tml)\n",
    "#model1.get_cpds()"
   ]
  },
  {
   "cell_type": "code",
   "execution_count": 21,
   "metadata": {
    "collapsed": false
   },
   "outputs": [],
   "source": [
    "# Alligning test set with data model variables\n",
    "X_test_tml = X_test_tml[['meterleak_count_t', 'Rain_disc_t']] #'Temp_range_disc','Rain_disc']]"
   ]
  },
  {
   "cell_type": "code",
   "execution_count": 22,
   "metadata": {
    "collapsed": false
   },
   "outputs": [],
   "source": [
    "# Using fitted model to obtain predictions based on test set\n",
    "y_pred_meterleak_trans = trans_model_meterleak.predict(X_test_tml)\n",
    "#y_pred_meterleak2 = model_meterleak2.predict(X_test_ml)"
   ]
  },
  {
   "cell_type": "code",
   "execution_count": 47,
   "metadata": {
    "collapsed": false
   },
   "outputs": [
    {
     "name": "stdout",
     "output_type": "stream",
     "text": [
      "0.7909090909090909\n"
     ]
    }
   ],
   "source": [
    "#glued.head()\n",
    "# Measuring the accuracy of the models based on the test set\n",
    "print(accuracy_score(y_pred_meterleak_trans, y_test_tml))"
   ]
  },
  {
   "cell_type": "code",
   "execution_count": 84,
   "metadata": {
    "collapsed": false
   },
   "outputs": [
    {
     "name": "stdout",
     "output_type": "stream",
     "text": [
      "+----------------+----------+\n",
      "| Rain_disc_t(0) | 0.712598 |\n",
      "+----------------+----------+\n",
      "| Rain_disc_t(1) | 0.133858 |\n",
      "+----------------+----------+\n",
      "| Rain_disc_t(2) | 0.153543 |\n",
      "+----------------+----------+\n"
     ]
    }
   ],
   "source": [
    "# Printing a CPD with it's state names defined.\n",
    "print(trans_model_meterleak.get_cpds('Rain_disc_t'))"
   ]
  },
  {
   "cell_type": "markdown",
   "metadata": {},
   "source": [
    "# Inference"
   ]
  },
  {
   "cell_type": "code",
   "execution_count": 82,
   "metadata": {
    "collapsed": false
   },
   "outputs": [],
   "source": [
    "# Making inference\n",
    "meterleak_infer = VariableElimination(trans_model_meterleak)\n",
    "prob_G = meterleak_infer.query(variables=['meterleak_count'])"
   ]
  },
  {
   "cell_type": "code",
   "execution_count": 83,
   "metadata": {
    "collapsed": false
   },
   "outputs": [
    {
     "name": "stdout",
     "output_type": "stream",
     "text": [
      "+-------------------+------------------------+\n",
      "| meterleak_count   |   phi(meterleak_count) |\n",
      "+===================+========================+\n",
      "| meterleak_count_0 |                 0.8009 |\n",
      "+-------------------+------------------------+\n",
      "| meterleak_count_1 |                 0.1631 |\n",
      "+-------------------+------------------------+\n",
      "| meterleak_count_2 |                 0.0323 |\n",
      "+-------------------+------------------------+\n",
      "| meterleak_count_3 |                 0.0037 |\n",
      "+-------------------+------------------------+\n"
     ]
    }
   ],
   "source": [
    "print(prob_G['meterleak_count'])"
   ]
  },
  {
   "cell_type": "code",
   "execution_count": 87,
   "metadata": {
    "collapsed": false
   },
   "outputs": [],
   "source": [
    "# Inference with evidence\n",
    "prob_Ge = meterleak_infer.query(['Rain_disc_t'], evidence={ 'meterleak_count': 2}) "
   ]
  },
  {
   "cell_type": "code",
   "execution_count": 89,
   "metadata": {
    "collapsed": false
   },
   "outputs": [
    {
     "name": "stdout",
     "output_type": "stream",
     "text": [
      "+---------------+--------------------+\n",
      "| Rain_disc_t   |   phi(Rain_disc_t) |\n",
      "+===============+====================+\n",
      "| Rain_disc_t_0 |             0.8642 |\n",
      "+---------------+--------------------+\n",
      "| Rain_disc_t_1 |             0.0041 |\n",
      "+---------------+--------------------+\n",
      "| Rain_disc_t_2 |             0.1317 |\n",
      "+---------------+--------------------+\n"
     ]
    }
   ],
   "source": [
    "print(prob_Ge['Rain_disc_t'])"
   ]
  },
  {
   "cell_type": "code",
   "execution_count": null,
   "metadata": {
    "collapsed": true
   },
   "outputs": [],
   "source": []
  },
  {
   "cell_type": "code",
   "execution_count": 60,
   "metadata": {
    "collapsed": false
   },
   "outputs": [
    {
     "name": "stdout",
     "output_type": "stream",
     "text": [
      "{'meterleak_count': 0}\n"
     ]
    }
   ],
   "source": [
    "# Print state with maximum probability\n",
    "print(meterleak_infer.map_query(['meterleak_count'], evidence={'meterleak_count_t': 2, 'Rain_disc_t': 1}) )"
   ]
  },
  {
   "cell_type": "markdown",
   "metadata": {},
   "source": [
    "# Base models"
   ]
  },
  {
   "cell_type": "markdown",
   "metadata": {},
   "source": [
    "# Pipe leak"
   ]
  },
  {
   "cell_type": "code",
   "execution_count": 170,
   "metadata": {
    "collapsed": false
   },
   "outputs": [],
   "source": [
    "# Separating independent variables(predictors) and the target (dependant) variable\n",
    "X_bml = df_ml[['Prs_ds_disc','pipeleak_count']]\n",
    "y_bml = df_ml.pipeleak_count"
   ]
  },
  {
   "cell_type": "code",
   "execution_count": 171,
   "metadata": {
    "collapsed": true
   },
   "outputs": [],
   "source": [
    "#Spliting the train and test sets on a 70:30 basis\n",
    "X_train_bml, X_test_bml, y_train_bml, y_test_bml = train_test_split(X_bml, y_bml, test_size = .3)"
   ]
  },
  {
   "cell_type": "code",
   "execution_count": 172,
   "metadata": {
    "collapsed": true
   },
   "outputs": [],
   "source": [
    "# Joining the train set for model development\n",
    "X_train_bml['meterleak_count'] = y_train_bml"
   ]
  },
  {
   "cell_type": "code",
   "execution_count": 173,
   "metadata": {
    "collapsed": false
   },
   "outputs": [],
   "source": [
    "#data = pd.DataFrame(data={'A': [0, 0, 1], 'B': [0, 1, 0], 'C': [1, 1, 0]})\n",
    "base_model_meterleak = BayesianModel([('Prs_ds_disc', 'pipeleak_count')])\n",
    "base_model_meterleak.fit(X_train_bml)\n",
    "#model1.get_cpds()"
   ]
  },
  {
   "cell_type": "code",
   "execution_count": 174,
   "metadata": {
    "collapsed": false
   },
   "outputs": [],
   "source": [
    "# Alligning test set with data model variables\n",
    "X_test_bml = X_test_bml[['Prs_ds_disc']]"
   ]
  },
  {
   "cell_type": "code",
   "execution_count": 176,
   "metadata": {
    "collapsed": false
   },
   "outputs": [],
   "source": [
    "# Using fitted model to obtain predictions based on test set\n",
    "y_pred_meterleak_base = base_model_meterleak.predict(X_test_bml)\n",
    "#y_pred_meterleak2 = model_meterleak2.predict(X_test_ml)"
   ]
  },
  {
   "cell_type": "code",
   "execution_count": 177,
   "metadata": {
    "collapsed": false
   },
   "outputs": [
    {
     "name": "stdout",
     "output_type": "stream",
     "text": [
      "0.8363636363636363\n"
     ]
    }
   ],
   "source": [
    "# Measuring the accuracy of the models based on the test set\n",
    "print(accuracy_score(y_pred_meterleak_base, y_test_bml))\n"
   ]
  },
  {
   "cell_type": "code",
   "execution_count": 185,
   "metadata": {
    "collapsed": false,
    "scrolled": false
   },
   "outputs": [
    {
     "name": "stdout",
     "output_type": "stream",
     "text": [
      "+----------------+----------+\n",
      "| Prs_ds_disc(0) | 0.330709 |\n",
      "+----------------+----------+\n",
      "| Prs_ds_disc(1) | 0.338583 |\n",
      "+----------------+----------+\n",
      "| Prs_ds_disc(2) | 0.330709 |\n",
      "+----------------+----------+\n"
     ]
    }
   ],
   "source": [
    "# Printing a CPD with it's state names defined.\n",
    "print(base_model_meterleak.get_cpds('Prs_ds_disc'))"
   ]
  },
  {
   "cell_type": "markdown",
   "metadata": {},
   "source": [
    "# DBN glued Model"
   ]
  },
  {
   "cell_type": "code",
   "execution_count": null,
   "metadata": {
    "collapsed": true
   },
   "outputs": [],
   "source": [
    "# The composite function will be the predictive function\n",
    "# Here we call the transition function then input its result in the base model to predict the likely leak type."
   ]
  },
  {
   "cell_type": "code",
   "execution_count": 178,
   "metadata": {
    "collapsed": true
   },
   "outputs": [],
   "source": [
    "glued = base_model_meterleak.predict(trans_model_meterleak.predict(X_test_bml))"
   ]
  },
  {
   "cell_type": "code",
   "execution_count": 181,
   "metadata": {
    "collapsed": false,
    "scrolled": true
   },
   "outputs": [
    {
     "name": "stdout",
     "output_type": "stream",
     "text": [
      "0.8363636363636363\n"
     ]
    }
   ],
   "source": [
    "#glued.head()\n",
    "# Measuring the accuracy of the models based on the test set\n",
    "print(accuracy_score(glued, y_test_bml))"
   ]
  },
  {
   "cell_type": "code",
   "execution_count": null,
   "metadata": {
    "collapsed": true
   },
   "outputs": [],
   "source": []
  },
  {
   "cell_type": "code",
   "execution_count": null,
   "metadata": {
    "collapsed": true
   },
   "outputs": [],
   "source": []
  },
  {
   "cell_type": "code",
   "execution_count": null,
   "metadata": {
    "collapsed": true
   },
   "outputs": [],
   "source": []
  },
  {
   "cell_type": "code",
   "execution_count": null,
   "metadata": {
    "collapsed": true
   },
   "outputs": [],
   "source": []
  },
  {
   "cell_type": "code",
   "execution_count": null,
   "metadata": {
    "collapsed": true
   },
   "outputs": [],
   "source": []
  },
  {
   "cell_type": "code",
   "execution_count": null,
   "metadata": {
    "collapsed": true
   },
   "outputs": [],
   "source": []
  },
  {
   "cell_type": "code",
   "execution_count": null,
   "metadata": {
    "collapsed": true
   },
   "outputs": [],
   "source": []
  },
  {
   "cell_type": "code",
   "execution_count": null,
   "metadata": {
    "collapsed": true
   },
   "outputs": [],
   "source": []
  },
  {
   "cell_type": "markdown",
   "metadata": {},
   "source": [
    "# Total daily leaks"
   ]
  },
  {
   "cell_type": "code",
   "execution_count": 52,
   "metadata": {
    "collapsed": false
   },
   "outputs": [
    {
     "data": {
      "text/html": [
       "<div>\n",
       "<style scoped>\n",
       "    .dataframe tbody tr th:only-of-type {\n",
       "        vertical-align: middle;\n",
       "    }\n",
       "\n",
       "    .dataframe tbody tr th {\n",
       "        vertical-align: top;\n",
       "    }\n",
       "\n",
       "    .dataframe thead th {\n",
       "        text-align: right;\n",
       "    }\n",
       "</style>\n",
       "<table border=\"1\" class=\"dataframe\">\n",
       "  <thead>\n",
       "    <tr style=\"text-align: right;\">\n",
       "      <th></th>\n",
       "      <th>Prs_ds_disc</th>\n",
       "      <th>Prs_us_disc</th>\n",
       "      <th>MinTemp_disc</th>\n",
       "      <th>MaxTemp_disc</th>\n",
       "      <th>Avg_Temp_disc</th>\n",
       "      <th>Temp_range_disc</th>\n",
       "      <th>Rain_disc</th>\n",
       "      <th>total_leak_count</th>\n",
       "    </tr>\n",
       "  </thead>\n",
       "  <tbody>\n",
       "    <tr>\n",
       "      <th>0</th>\n",
       "      <td>2</td>\n",
       "      <td>1</td>\n",
       "      <td>0</td>\n",
       "      <td>0</td>\n",
       "      <td>0</td>\n",
       "      <td>2</td>\n",
       "      <td>0</td>\n",
       "      <td>0</td>\n",
       "    </tr>\n",
       "    <tr>\n",
       "      <th>1</th>\n",
       "      <td>2</td>\n",
       "      <td>1</td>\n",
       "      <td>1</td>\n",
       "      <td>2</td>\n",
       "      <td>1</td>\n",
       "      <td>2</td>\n",
       "      <td>0</td>\n",
       "      <td>0</td>\n",
       "    </tr>\n",
       "    <tr>\n",
       "      <th>2</th>\n",
       "      <td>2</td>\n",
       "      <td>1</td>\n",
       "      <td>0</td>\n",
       "      <td>0</td>\n",
       "      <td>0</td>\n",
       "      <td>2</td>\n",
       "      <td>0</td>\n",
       "      <td>0</td>\n",
       "    </tr>\n",
       "    <tr>\n",
       "      <th>3</th>\n",
       "      <td>2</td>\n",
       "      <td>1</td>\n",
       "      <td>0</td>\n",
       "      <td>0</td>\n",
       "      <td>0</td>\n",
       "      <td>2</td>\n",
       "      <td>0</td>\n",
       "      <td>0</td>\n",
       "    </tr>\n",
       "    <tr>\n",
       "      <th>4</th>\n",
       "      <td>2</td>\n",
       "      <td>2</td>\n",
       "      <td>0</td>\n",
       "      <td>0</td>\n",
       "      <td>0</td>\n",
       "      <td>2</td>\n",
       "      <td>1</td>\n",
       "      <td>1</td>\n",
       "    </tr>\n",
       "  </tbody>\n",
       "</table>\n",
       "</div>"
      ],
      "text/plain": [
       "   Prs_ds_disc  Prs_us_disc  MinTemp_disc  MaxTemp_disc  Avg_Temp_disc  \\\n",
       "0            2            1             0             0              0   \n",
       "1            2            1             1             2              1   \n",
       "2            2            1             0             0              0   \n",
       "3            2            1             0             0              0   \n",
       "4            2            2             0             0              0   \n",
       "\n",
       "   Temp_range_disc  Rain_disc  total_leak_count  \n",
       "0                2          0                 0  \n",
       "1                2          0                 0  \n",
       "2                2          0                 0  \n",
       "3                2          0                 0  \n",
       "4                2          1                 1  "
      ]
     },
     "execution_count": 52,
     "metadata": {},
     "output_type": "execute_result"
    }
   ],
   "source": [
    "# Data \n",
    "df_tl = pd.read_csv('total_leak_pred_data.csv')\n",
    "df_tl.head()"
   ]
  },
  {
   "cell_type": "code",
   "execution_count": 53,
   "metadata": {
    "collapsed": true
   },
   "outputs": [],
   "source": [
    "# Separating independent variables(predictors) and the target (dependant) variable\n",
    "X_tl = df_tl[['Prs_ds_disc','Prs_us_disc','Temp_range_disc', 'Avg_Temp_disc','Rain_disc']]\n",
    "y_tl = df_tl.total_leak_count"
   ]
  },
  {
   "cell_type": "code",
   "execution_count": 54,
   "metadata": {
    "collapsed": true
   },
   "outputs": [],
   "source": [
    "#Spliting the train and test sets on a 70:30 basis\n",
    "X_train_tl, X_test_tl, y_train_tl, y_test_tl = train_test_split(X_tl, y_tl, test_size = .3)"
   ]
  },
  {
   "cell_type": "code",
   "execution_count": 55,
   "metadata": {
    "collapsed": true
   },
   "outputs": [],
   "source": [
    "# Joining the train set for model development\n",
    "X_train_tl['total_leak_count'] = y_train_tl"
   ]
  },
  {
   "cell_type": "code",
   "execution_count": 56,
   "metadata": {
    "collapsed": true
   },
   "outputs": [],
   "source": [
    "#data = pd.DataFrame(data={'A': [0, 0, 1], 'B': [0, 1, 0], 'C': [1, 1, 0]})\n",
    "model_totalleak = BayesianModel([('Prs_ds_disc', 'total_leak_count'), ('Temp_range_disc', 'total_leak_count'), ('Rain_disc', 'total_leak_count') ])\n",
    "model_totalleak.fit(X_train_tl)\n",
    "#model1.get_cpds()"
   ]
  },
  {
   "cell_type": "code",
   "execution_count": 57,
   "metadata": {
    "collapsed": true
   },
   "outputs": [],
   "source": [
    "# Alligning test set with data model variables\n",
    "X_test_tl = X_test_tl[['Prs_ds_disc','Temp_range_disc','Rain_disc']]"
   ]
  },
  {
   "cell_type": "code",
   "execution_count": 58,
   "metadata": {
    "collapsed": true
   },
   "outputs": [],
   "source": [
    "# Using fitted model to obtain predictions based on test set\n",
    "y_pred_totalleak = model_totalleak.predict(X_test_tl)\n",
    "#y_pred_meterleak2 = model_meterleak2.predict(X_test_ml)"
   ]
  },
  {
   "cell_type": "code",
   "execution_count": 59,
   "metadata": {
    "collapsed": false
   },
   "outputs": [
    {
     "name": "stdout",
     "output_type": "stream",
     "text": [
      "0.6\n"
     ]
    }
   ],
   "source": [
    "# Measuring the accuracy of the models based on the test set\n",
    "print(accuracy_score(y_pred_totalleak, y_test_tl))\n"
   ]
  },
  {
   "cell_type": "code",
   "execution_count": 60,
   "metadata": {
    "collapsed": true
   },
   "outputs": [
    {
     "name": "stdout",
     "output_type": "stream",
     "text": [
      "+---------------------+---------------------+---------------------+---------------------+--------------------+--------------------+--------------------+--------------------+--------------------+---------------------+--------------------+---------------------+---------------------+---------------------+--------------------+--------------------+---------------------+--------------------+--------------------+---------------------+---------------------+--------------------+--------------------+--------------------+--------------------+---------------------+--------------------+--------------------+\n",
      "| Prs_ds_disc         | Prs_ds_disc(0)      | Prs_ds_disc(0)      | Prs_ds_disc(0)      | Prs_ds_disc(0)     | Prs_ds_disc(0)     | Prs_ds_disc(0)     | Prs_ds_disc(0)     | Prs_ds_disc(0)     | Prs_ds_disc(0)      | Prs_ds_disc(1)     | Prs_ds_disc(1)      | Prs_ds_disc(1)      | Prs_ds_disc(1)      | Prs_ds_disc(1)     | Prs_ds_disc(1)     | Prs_ds_disc(1)      | Prs_ds_disc(1)     | Prs_ds_disc(1)     | Prs_ds_disc(2)      | Prs_ds_disc(2)      | Prs_ds_disc(2)     | Prs_ds_disc(2)     | Prs_ds_disc(2)     | Prs_ds_disc(2)     | Prs_ds_disc(2)      | Prs_ds_disc(2)     | Prs_ds_disc(2)     |\n",
      "+---------------------+---------------------+---------------------+---------------------+--------------------+--------------------+--------------------+--------------------+--------------------+---------------------+--------------------+---------------------+---------------------+---------------------+--------------------+--------------------+---------------------+--------------------+--------------------+---------------------+---------------------+--------------------+--------------------+--------------------+--------------------+---------------------+--------------------+--------------------+\n",
      "| Rain_disc           | Rain_disc(0)        | Rain_disc(0)        | Rain_disc(0)        | Rain_disc(1)       | Rain_disc(1)       | Rain_disc(1)       | Rain_disc(2)       | Rain_disc(2)       | Rain_disc(2)        | Rain_disc(0)       | Rain_disc(0)        | Rain_disc(0)        | Rain_disc(1)        | Rain_disc(1)       | Rain_disc(1)       | Rain_disc(2)        | Rain_disc(2)       | Rain_disc(2)       | Rain_disc(0)        | Rain_disc(0)        | Rain_disc(0)       | Rain_disc(1)       | Rain_disc(1)       | Rain_disc(1)       | Rain_disc(2)        | Rain_disc(2)       | Rain_disc(2)       |\n",
      "+---------------------+---------------------+---------------------+---------------------+--------------------+--------------------+--------------------+--------------------+--------------------+---------------------+--------------------+---------------------+---------------------+---------------------+--------------------+--------------------+---------------------+--------------------+--------------------+---------------------+---------------------+--------------------+--------------------+--------------------+--------------------+---------------------+--------------------+--------------------+\n",
      "| Temp_range_disc     | Temp_range_disc(0)  | Temp_range_disc(1)  | Temp_range_disc(2)  | Temp_range_disc(0) | Temp_range_disc(1) | Temp_range_disc(2) | Temp_range_disc(0) | Temp_range_disc(1) | Temp_range_disc(2)  | Temp_range_disc(0) | Temp_range_disc(1)  | Temp_range_disc(2)  | Temp_range_disc(0)  | Temp_range_disc(1) | Temp_range_disc(2) | Temp_range_disc(0)  | Temp_range_disc(1) | Temp_range_disc(2) | Temp_range_disc(0)  | Temp_range_disc(1)  | Temp_range_disc(2) | Temp_range_disc(0) | Temp_range_disc(1) | Temp_range_disc(2) | Temp_range_disc(0)  | Temp_range_disc(1) | Temp_range_disc(2) |\n",
      "+---------------------+---------------------+---------------------+---------------------+--------------------+--------------------+--------------------+--------------------+--------------------+---------------------+--------------------+---------------------+---------------------+---------------------+--------------------+--------------------+---------------------+--------------------+--------------------+---------------------+---------------------+--------------------+--------------------+--------------------+--------------------+---------------------+--------------------+--------------------+\n",
      "| total_leak_count(0) | 0.5384615384615384  | 0.5909090909090909  | 0.7                 | 0.75               | 0.6                | 1.0                | 1.0                | 1.0                | 0.16666666666666666 | 0.6875             | 0.6071428571428571  | 0.5833333333333334  | 0.5714285714285714  | 0.25               | 0.75               | 0.6470588235294118  | 1.0                | 0.0                | 0.45454545454545453 | 0.5263157894736842  | 0.59375            | 0.6                | 1.0                | 1.0                | 0.5                 | 1.0                | 0.5                |\n",
      "+---------------------+---------------------+---------------------+---------------------+--------------------+--------------------+--------------------+--------------------+--------------------+---------------------+--------------------+---------------------+---------------------+---------------------+--------------------+--------------------+---------------------+--------------------+--------------------+---------------------+---------------------+--------------------+--------------------+--------------------+--------------------+---------------------+--------------------+--------------------+\n",
      "| total_leak_count(1) | 0.38461538461538464 | 0.3181818181818182  | 0.26666666666666666 | 0.25               | 0.2                | 0.0                | 0.0                | 0.0                | 0.16666666666666666 | 0.3125             | 0.2857142857142857  | 0.25                | 0.42857142857142855 | 0.5                | 0.0                | 0.35294117647058826 | 0.0                | 1.0                | 0.36363636363636365 | 0.15789473684210525 | 0.28125            | 0.2                | 0.0                | 0.0                | 0.3333333333333333  | 0.0                | 0.5                |\n",
      "+---------------------+---------------------+---------------------+---------------------+--------------------+--------------------+--------------------+--------------------+--------------------+---------------------+--------------------+---------------------+---------------------+---------------------+--------------------+--------------------+---------------------+--------------------+--------------------+---------------------+---------------------+--------------------+--------------------+--------------------+--------------------+---------------------+--------------------+--------------------+\n",
      "| total_leak_count(2) | 0.07692307692307693 | 0.09090909090909091 | 0.03333333333333333 | 0.0                | 0.2                | 0.0                | 0.0                | 0.0                | 0.16666666666666666 | 0.0                | 0.10714285714285714 | 0.08333333333333333 | 0.0                 | 0.25               | 0.25               | 0.0                 | 0.0                | 0.0                | 0.09090909090909091 | 0.2631578947368421  | 0.0625             | 0.2                | 0.0                | 0.0                | 0.0                 | 0.0                | 0.0                |\n",
      "+---------------------+---------------------+---------------------+---------------------+--------------------+--------------------+--------------------+--------------------+--------------------+---------------------+--------------------+---------------------+---------------------+---------------------+--------------------+--------------------+---------------------+--------------------+--------------------+---------------------+---------------------+--------------------+--------------------+--------------------+--------------------+---------------------+--------------------+--------------------+\n",
      "| total_leak_count(3) | 0.0                 | 0.0                 | 0.0                 | 0.0                | 0.0                | 0.0                | 0.0                | 0.0                | 0.16666666666666666 | 0.0                | 0.0                 | 0.08333333333333333 | 0.0                 | 0.0                | 0.0                | 0.0                 | 0.0                | 0.0                | 0.09090909090909091 | 0.0                 | 0.03125            | 0.0                | 0.0                | 0.0                | 0.16666666666666666 | 0.0                | 0.0                |\n",
      "+---------------------+---------------------+---------------------+---------------------+--------------------+--------------------+--------------------+--------------------+--------------------+---------------------+--------------------+---------------------+---------------------+---------------------+--------------------+--------------------+---------------------+--------------------+--------------------+---------------------+---------------------+--------------------+--------------------+--------------------+--------------------+---------------------+--------------------+--------------------+\n",
      "| total_leak_count(4) | 0.0                 | 0.0                 | 0.0                 | 0.0                | 0.0                | 0.0                | 0.0                | 0.0                | 0.16666666666666666 | 0.0                | 0.0                 | 0.0                 | 0.0                 | 0.0                | 0.0                | 0.0                 | 0.0                | 0.0                | 0.0                 | 0.05263157894736842 | 0.0                | 0.0                | 0.0                | 0.0                | 0.0                 | 0.0                | 0.0                |\n",
      "+---------------------+---------------------+---------------------+---------------------+--------------------+--------------------+--------------------+--------------------+--------------------+---------------------+--------------------+---------------------+---------------------+---------------------+--------------------+--------------------+---------------------+--------------------+--------------------+---------------------+---------------------+--------------------+--------------------+--------------------+--------------------+---------------------+--------------------+--------------------+\n",
      "| total_leak_count(6) | 0.0                 | 0.0                 | 0.0                 | 0.0                | 0.0                | 0.0                | 0.0                | 0.0                | 0.16666666666666666 | 0.0                | 0.0                 | 0.0                 | 0.0                 | 0.0                | 0.0                | 0.0                 | 0.0                | 0.0                | 0.0                 | 0.0                 | 0.03125            | 0.0                | 0.0                | 0.0                | 0.0                 | 0.0                | 0.0                |\n",
      "+---------------------+---------------------+---------------------+---------------------+--------------------+--------------------+--------------------+--------------------+--------------------+---------------------+--------------------+---------------------+---------------------+---------------------+--------------------+--------------------+---------------------+--------------------+--------------------+---------------------+---------------------+--------------------+--------------------+--------------------+--------------------+---------------------+--------------------+--------------------+\n"
     ]
    }
   ],
   "source": [
    "# Printing a CPD with it's state names defined.\n",
    "print(model_totalleak.get_cpds('total_leak_count'))"
   ]
  },
  {
   "cell_type": "code",
   "execution_count": 61,
   "metadata": {
    "collapsed": true
   },
   "outputs": [],
   "source": [
    "cpd = model_totalleak.get_cpds('total_leak_count')"
   ]
  },
  {
   "cell_type": "code",
   "execution_count": 62,
   "metadata": {
    "collapsed": false
   },
   "outputs": [
    {
     "data": {
      "text/plain": [
       "pgmpy.factors.discrete.CPD.TabularCPD"
      ]
     },
     "execution_count": 62,
     "metadata": {},
     "output_type": "execute_result"
    }
   ],
   "source": [
    "type(cpd)"
   ]
  },
  {
   "cell_type": "markdown",
   "metadata": {},
   "source": [
    "# With transition"
   ]
  }
 ],
 "metadata": {
  "kernelspec": {
   "display_name": "py3tst",
   "language": "python",
   "name": "py3tst"
  },
  "language_info": {
   "codemirror_mode": {
    "name": "ipython",
    "version": 3
   },
   "file_extension": ".py",
   "mimetype": "text/x-python",
   "name": "python",
   "nbconvert_exporter": "python",
   "pygments_lexer": "ipython3",
   "version": "3.6.8"
  }
 },
 "nbformat": 4,
 "nbformat_minor": 2
}
