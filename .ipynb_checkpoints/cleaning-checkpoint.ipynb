{
 "cells": [
  {
   "cell_type": "code",
   "execution_count": 74,
   "metadata": {
    "collapsed": false
   },
   "outputs": [],
   "source": [
    "import pandas as pd\n",
    "import numpy as np\n",
    "import re\n",
    "#import xlrd"
   ]
  },
  {
   "cell_type": "code",
   "execution_count": 75,
   "metadata": {
    "collapsed": false
   },
   "outputs": [
    {
     "data": {
      "text/html": [
       "<div>\n",
       "<style scoped>\n",
       "    .dataframe tbody tr th:only-of-type {\n",
       "        vertical-align: middle;\n",
       "    }\n",
       "\n",
       "    .dataframe tbody tr th {\n",
       "        vertical-align: top;\n",
       "    }\n",
       "\n",
       "    .dataframe thead th {\n",
       "        text-align: right;\n",
       "    }\n",
       "</style>\n",
       "<table border=\"1\" class=\"dataframe\">\n",
       "  <thead>\n",
       "    <tr style=\"text-align: right;\">\n",
       "      <th></th>\n",
       "      <th>DATE_CREATED</th>\n",
       "      <th>NO_ASSET</th>\n",
       "      <th>NO_WORK_ORDER</th>\n",
       "      <th>DESC_PROBLEM_ACTUAL</th>\n",
       "      <th>NO_FAILURE_TYPES</th>\n",
       "      <th>DATE_REQUIRED</th>\n",
       "      <th>DATE_COMPLETED</th>\n",
       "      <th>NO_WORK_ORDER_STATUS</th>\n",
       "    </tr>\n",
       "  </thead>\n",
       "  <tbody>\n",
       "    <tr>\n",
       "      <th>0</th>\n",
       "      <td>2016-12-19 08:54:00</td>\n",
       "      <td>771.0</td>\n",
       "      <td>424912.0</td>\n",
       "      <td>CUT GRASS</td>\n",
       "      <td>0.0</td>\n",
       "      <td>2019-02-21 00:00:00</td>\n",
       "      <td>2019-02-27</td>\n",
       "      <td>97.0</td>\n",
       "    </tr>\n",
       "    <tr>\n",
       "      <th>1</th>\n",
       "      <td>2016-06-02 08:21:00</td>\n",
       "      <td>1768.0</td>\n",
       "      <td>398440.0</td>\n",
       "      <td>Stand 1390 KHOZA TRIBAL - gps 3200576-2867544 ...</td>\n",
       "      <td>0.0</td>\n",
       "      <td>2016-06-02 00:00:00</td>\n",
       "      <td>2019-06-02</td>\n",
       "      <td>97.0</td>\n",
       "    </tr>\n",
       "    <tr>\n",
       "      <th>2</th>\n",
       "      <td>2016-06-14 12:38:00</td>\n",
       "      <td>1582.0</td>\n",
       "      <td>400156.0</td>\n",
       "      <td>Lot: 15128 Mzingazi - New water connection - S...</td>\n",
       "      <td>42.0</td>\n",
       "      <td>2016-06-14 00:00:00</td>\n",
       "      <td>2018-08-29</td>\n",
       "      <td>97.0</td>\n",
       "    </tr>\n",
       "    <tr>\n",
       "      <th>3</th>\n",
       "      <td>2016-11-21 09:16:00</td>\n",
       "      <td>1582.0</td>\n",
       "      <td>421555.0</td>\n",
       "      <td>Mzingazi 294  New water connection  SM Cele  0...</td>\n",
       "      <td>42.0</td>\n",
       "      <td>0000-00-00 00:00:00</td>\n",
       "      <td>2018-10-22</td>\n",
       "      <td>97.0</td>\n",
       "    </tr>\n",
       "    <tr>\n",
       "      <th>4</th>\n",
       "      <td>2017-03-23 14:38:00</td>\n",
       "      <td>1768.0</td>\n",
       "      <td>437762.0</td>\n",
       "      <td>Stand 564 MKhoma 32.00545 - 28.66595 meter no ...</td>\n",
       "      <td>0.0</td>\n",
       "      <td>2017-03-23 00:00:00</td>\n",
       "      <td>2019-06-07</td>\n",
       "      <td>97.0</td>\n",
       "    </tr>\n",
       "  </tbody>\n",
       "</table>\n",
       "</div>"
      ],
      "text/plain": [
       "          DATE_CREATED  NO_ASSET  NO_WORK_ORDER  \\\n",
       "0  2016-12-19 08:54:00     771.0       424912.0   \n",
       "1  2016-06-02 08:21:00    1768.0       398440.0   \n",
       "2  2016-06-14 12:38:00    1582.0       400156.0   \n",
       "3  2016-11-21 09:16:00    1582.0       421555.0   \n",
       "4  2017-03-23 14:38:00    1768.0       437762.0   \n",
       "\n",
       "                                 DESC_PROBLEM_ACTUAL  NO_FAILURE_TYPES  \\\n",
       "0                                          CUT GRASS               0.0   \n",
       "1  Stand 1390 KHOZA TRIBAL - gps 3200576-2867544 ...               0.0   \n",
       "2  Lot: 15128 Mzingazi - New water connection - S...              42.0   \n",
       "3  Mzingazi 294  New water connection  SM Cele  0...              42.0   \n",
       "4  Stand 564 MKhoma 32.00545 - 28.66595 meter no ...               0.0   \n",
       "\n",
       "         DATE_REQUIRED DATE_COMPLETED  NO_WORK_ORDER_STATUS  \n",
       "0  2019-02-21 00:00:00     2019-02-27                  97.0  \n",
       "1  2016-06-02 00:00:00     2019-06-02                  97.0  \n",
       "2  2016-06-14 00:00:00     2018-08-29                  97.0  \n",
       "3  0000-00-00 00:00:00     2018-10-22                  97.0  \n",
       "4  2017-03-23 00:00:00     2019-06-07                  97.0  "
      ]
     },
     "execution_count": 75,
     "metadata": {},
     "output_type": "execute_result"
    }
   ],
   "source": [
    "#importing the data from excel sheet\n",
    "data = pd.read_excel (r'WorkorderReport.xlsx', sheet_name='WorkorderReport')\n",
    "data.head()\n"
   ]
  },
  {
   "cell_type": "code",
   "execution_count": 76,
   "metadata": {
    "collapsed": false
   },
   "outputs": [
    {
     "data": {
      "text/plain": [
       "DATE_CREATED            0\n",
       "NO_ASSET                1\n",
       "NO_WORK_ORDER           1\n",
       "DESC_PROBLEM_ACTUAL     3\n",
       "NO_FAILURE_TYPES        1\n",
       "DATE_REQUIRED           1\n",
       "DATE_COMPLETED          1\n",
       "NO_WORK_ORDER_STATUS    1\n",
       "dtype: int64"
      ]
     },
     "execution_count": 76,
     "metadata": {},
     "output_type": "execute_result"
    }
   ],
   "source": [
    "#Checking for the existence of missing  values\n",
    "data.isnull().sum()#['DATE_CREATED'][0]"
   ]
  },
  {
   "cell_type": "code",
   "execution_count": 77,
   "metadata": {
    "collapsed": true
   },
   "outputs": [],
   "source": [
    "#dropping missing values\n",
    "data.dropna(inplace = True)\n",
    "#Reseting the indices after the deletion of rows with missing values\n",
    "data.reset_index(inplace=True)\n",
    "#Dropping the created index column\n",
    "data.drop('index', axis='columns', inplace=True)"
   ]
  },
  {
   "cell_type": "code",
   "execution_count": 78,
   "metadata": {
    "collapsed": false
   },
   "outputs": [],
   "source": [
    "#Pulling out the rows of interest from the data Frame\n",
    "data_int = data[['DATE_CREATED', 'DESC_PROBLEM_ACTUAL']]"
   ]
  },
  {
   "cell_type": "code",
   "execution_count": 79,
   "metadata": {
    "collapsed": false,
    "scrolled": true
   },
   "outputs": [
    {
     "data": {
      "text/html": [
       "<div>\n",
       "<style scoped>\n",
       "    .dataframe tbody tr th:only-of-type {\n",
       "        vertical-align: middle;\n",
       "    }\n",
       "\n",
       "    .dataframe tbody tr th {\n",
       "        vertical-align: top;\n",
       "    }\n",
       "\n",
       "    .dataframe thead th {\n",
       "        text-align: right;\n",
       "    }\n",
       "</style>\n",
       "<table border=\"1\" class=\"dataframe\">\n",
       "  <thead>\n",
       "    <tr style=\"text-align: right;\">\n",
       "      <th></th>\n",
       "      <th>DATE_CREATED</th>\n",
       "      <th>DESC_PROBLEM_ACTUAL</th>\n",
       "    </tr>\n",
       "  </thead>\n",
       "  <tbody>\n",
       "    <tr>\n",
       "      <th>0</th>\n",
       "      <td>2016-12-19 08:54:00</td>\n",
       "      <td>CUT GRASS</td>\n",
       "    </tr>\n",
       "    <tr>\n",
       "      <th>1</th>\n",
       "      <td>2016-06-02 08:21:00</td>\n",
       "      <td>Stand 1390 KHOZA TRIBAL - gps 3200576-2867544 ...</td>\n",
       "    </tr>\n",
       "    <tr>\n",
       "      <th>2</th>\n",
       "      <td>2016-06-14 12:38:00</td>\n",
       "      <td>Lot: 15128 Mzingazi - New water connection - S...</td>\n",
       "    </tr>\n",
       "    <tr>\n",
       "      <th>3</th>\n",
       "      <td>2016-11-21 09:16:00</td>\n",
       "      <td>Mzingazi 294  New water connection  SM Cele  0...</td>\n",
       "    </tr>\n",
       "    <tr>\n",
       "      <th>4</th>\n",
       "      <td>2017-03-23 14:38:00</td>\n",
       "      <td>Stand 564 MKhoma 32.00545 - 28.66595 meter no ...</td>\n",
       "    </tr>\n",
       "  </tbody>\n",
       "</table>\n",
       "</div>"
      ],
      "text/plain": [
       "          DATE_CREATED                                DESC_PROBLEM_ACTUAL\n",
       "0  2016-12-19 08:54:00                                          CUT GRASS\n",
       "1  2016-06-02 08:21:00  Stand 1390 KHOZA TRIBAL - gps 3200576-2867544 ...\n",
       "2  2016-06-14 12:38:00  Lot: 15128 Mzingazi - New water connection - S...\n",
       "3  2016-11-21 09:16:00  Mzingazi 294  New water connection  SM Cele  0...\n",
       "4  2017-03-23 14:38:00  Stand 564 MKhoma 32.00545 - 28.66595 meter no ..."
      ]
     },
     "execution_count": 79,
     "metadata": {},
     "output_type": "execute_result"
    }
   ],
   "source": [
    "# Veiwing the results of our action\n",
    "data_int.head()"
   ]
  },
  {
   "cell_type": "code",
   "execution_count": 80,
   "metadata": {
    "collapsed": true
   },
   "outputs": [
    {
     "name": "stderr",
     "output_type": "stream",
     "text": [
      "/home/felix/Documents/Pgmpy_recode/py3tst/lib/python3.6/site-packages/ipykernel_launcher.py:2: SettingWithCopyWarning: \n",
      "A value is trying to be set on a copy of a slice from a DataFrame.\n",
      "Try using .loc[row_indexer,col_indexer] = value instead\n",
      "\n",
      "See the caveats in the documentation: http://pandas.pydata.org/pandas-docs/stable/user_guide/indexing.html#returning-a-view-versus-a-copy\n",
      "  \n",
      "/home/felix/Documents/Pgmpy_recode/py3tst/lib/python3.6/site-packages/ipykernel_launcher.py:3: SettingWithCopyWarning: \n",
      "A value is trying to be set on a copy of a slice from a DataFrame.\n",
      "Try using .loc[row_indexer,col_indexer] = value instead\n",
      "\n",
      "See the caveats in the documentation: http://pandas.pydata.org/pandas-docs/stable/user_guide/indexing.html#returning-a-view-versus-a-copy\n",
      "  This is separate from the ipykernel package so we can avoid doing imports until\n"
     ]
    }
   ],
   "source": [
    "#splitting datetime into day and time \n",
    "data_int['date'] = [d.date() for d in data_int['DATE_CREATED']]\n",
    "data_int['time'] = [d.time() for d in data_int['DATE_CREATED']]"
   ]
  },
  {
   "cell_type": "code",
   "execution_count": 81,
   "metadata": {
    "collapsed": false,
    "scrolled": true
   },
   "outputs": [
    {
     "data": {
      "text/html": [
       "<div>\n",
       "<style scoped>\n",
       "    .dataframe tbody tr th:only-of-type {\n",
       "        vertical-align: middle;\n",
       "    }\n",
       "\n",
       "    .dataframe tbody tr th {\n",
       "        vertical-align: top;\n",
       "    }\n",
       "\n",
       "    .dataframe thead th {\n",
       "        text-align: right;\n",
       "    }\n",
       "</style>\n",
       "<table border=\"1\" class=\"dataframe\">\n",
       "  <thead>\n",
       "    <tr style=\"text-align: right;\">\n",
       "      <th></th>\n",
       "      <th>DATE_CREATED</th>\n",
       "      <th>DESC_PROBLEM_ACTUAL</th>\n",
       "      <th>date</th>\n",
       "      <th>time</th>\n",
       "    </tr>\n",
       "  </thead>\n",
       "  <tbody>\n",
       "    <tr>\n",
       "      <th>0</th>\n",
       "      <td>2016-12-19 08:54:00</td>\n",
       "      <td>CUT GRASS</td>\n",
       "      <td>2016-12-19</td>\n",
       "      <td>08:54:00</td>\n",
       "    </tr>\n",
       "    <tr>\n",
       "      <th>1</th>\n",
       "      <td>2016-06-02 08:21:00</td>\n",
       "      <td>Stand 1390 KHOZA TRIBAL - gps 3200576-2867544 ...</td>\n",
       "      <td>2016-06-02</td>\n",
       "      <td>08:21:00</td>\n",
       "    </tr>\n",
       "    <tr>\n",
       "      <th>2</th>\n",
       "      <td>2016-06-14 12:38:00</td>\n",
       "      <td>Lot: 15128 Mzingazi - New water connection - S...</td>\n",
       "      <td>2016-06-14</td>\n",
       "      <td>12:38:00</td>\n",
       "    </tr>\n",
       "    <tr>\n",
       "      <th>3</th>\n",
       "      <td>2016-11-21 09:16:00</td>\n",
       "      <td>Mzingazi 294  New water connection  SM Cele  0...</td>\n",
       "      <td>2016-11-21</td>\n",
       "      <td>09:16:00</td>\n",
       "    </tr>\n",
       "    <tr>\n",
       "      <th>4</th>\n",
       "      <td>2017-03-23 14:38:00</td>\n",
       "      <td>Stand 564 MKhoma 32.00545 - 28.66595 meter no ...</td>\n",
       "      <td>2017-03-23</td>\n",
       "      <td>14:38:00</td>\n",
       "    </tr>\n",
       "  </tbody>\n",
       "</table>\n",
       "</div>"
      ],
      "text/plain": [
       "          DATE_CREATED                                DESC_PROBLEM_ACTUAL  \\\n",
       "0  2016-12-19 08:54:00                                          CUT GRASS   \n",
       "1  2016-06-02 08:21:00  Stand 1390 KHOZA TRIBAL - gps 3200576-2867544 ...   \n",
       "2  2016-06-14 12:38:00  Lot: 15128 Mzingazi - New water connection - S...   \n",
       "3  2016-11-21 09:16:00  Mzingazi 294  New water connection  SM Cele  0...   \n",
       "4  2017-03-23 14:38:00  Stand 564 MKhoma 32.00545 - 28.66595 meter no ...   \n",
       "\n",
       "         date      time  \n",
       "0  2016-12-19  08:54:00  \n",
       "1  2016-06-02  08:21:00  \n",
       "2  2016-06-14  12:38:00  \n",
       "3  2016-11-21  09:16:00  \n",
       "4  2017-03-23  14:38:00  "
      ]
     },
     "execution_count": 81,
     "metadata": {},
     "output_type": "execute_result"
    }
   ],
   "source": [
    "data_int.head()"
   ]
  },
  {
   "cell_type": "code",
   "execution_count": null,
   "metadata": {
    "collapsed": true
   },
   "outputs": [],
   "source": []
  },
  {
   "cell_type": "code",
   "execution_count": 82,
   "metadata": {
    "collapsed": false
   },
   "outputs": [
    {
     "name": "stderr",
     "output_type": "stream",
     "text": [
      "/home/felix/Documents/Pgmpy_recode/py3tst/lib/python3.6/site-packages/ipykernel_launcher.py:2: SettingWithCopyWarning: \n",
      "A value is trying to be set on a copy of a slice from a DataFrame.\n",
      "Try using .loc[row_indexer,col_indexer] = value instead\n",
      "\n",
      "See the caveats in the documentation: http://pandas.pydata.org/pandas-docs/stable/user_guide/indexing.html#returning-a-view-versus-a-copy\n",
      "  \n"
     ]
    }
   ],
   "source": [
    "# Converting the description column to text\n",
    "data_int['DESC_PROBLEM_ACTUAL'] = data_int['DESC_PROBLEM_ACTUAL'].astype(str)"
   ]
  },
  {
   "cell_type": "code",
   "execution_count": 83,
   "metadata": {
    "collapsed": true
   },
   "outputs": [],
   "source": [
    "# Function that check for the required text pattern and assign a true or false value based on wheather or not that text\n",
    "# is in the sentences\n",
    "def check(patterns,text):\n",
    "    for pattern in patterns:\n",
    "        if re.search(pattern,text):\n",
    "            return True\n",
    "        else:\n",
    "            return False"
   ]
  },
  {
   "cell_type": "markdown",
   "metadata": {},
   "source": [
    "## Eskhawini"
   ]
  },
  {
   "cell_type": "code",
   "execution_count": 84,
   "metadata": {
    "collapsed": true
   },
   "outputs": [],
   "source": [
    "Esk_data = data_int[['date', 'DESC_PROBLEM_ACTUAL']]"
   ]
  },
  {
   "cell_type": "code",
   "execution_count": 85,
   "metadata": {
    "collapsed": false
   },
   "outputs": [],
   "source": [
    "#Esk_data.head()"
   ]
  },
  {
   "cell_type": "code",
   "execution_count": 86,
   "metadata": {
    "collapsed": false
   },
   "outputs": [],
   "source": [
    "#Eskhawini and Eskhaleni\n",
    "# Checking weather the description text contains the desired pattern\n",
    "patterns = ['[Ee][Ss][Kk][Hh][Aa][WwLl][IiEe][Nn][Ii]']\n",
    "truth_value = []\n",
    "for txt in Esk_data['DESC_PROBLEM_ACTUAL']:\n",
    "    truth_value.append(check(patterns,txt))\n",
    "Esk = np.array(truth_value)   "
   ]
  },
  {
   "cell_type": "code",
   "execution_count": 87,
   "metadata": {
    "collapsed": true
   },
   "outputs": [],
   "source": [
    "#adding the new column \"Eskhawini\"\n",
    "Esk_data = Esk_data.assign(Eskhawini = Esk)"
   ]
  },
  {
   "cell_type": "code",
   "execution_count": 88,
   "metadata": {
    "collapsed": true
   },
   "outputs": [],
   "source": [
    "#  H-Section\n",
    "\n",
    "#### Pipe_leak\n",
    "# Checking weather the description text contains the desired pattern\n",
    "truth_value = []\n",
    "key_words = ['[^a-zA-Z0-9_]H[\\d\\s]']\n",
    "for word in key_words:\n",
    "    for txt in Esk_data['DESC_PROBLEM_ACTUAL']:\n",
    "        truth_value.append([check(key_words,txt)])\n",
    "    H = np.array(truth_value) "
   ]
  },
  {
   "cell_type": "code",
   "execution_count": 89,
   "metadata": {
    "collapsed": true
   },
   "outputs": [],
   "source": [
    "#adding the new column \"Eskhawini\"\n",
    "Esk_data = Esk_data.assign(Esk_H = H)"
   ]
  },
  {
   "cell_type": "code",
   "execution_count": 90,
   "metadata": {
    "collapsed": true
   },
   "outputs": [],
   "source": [
    "#  H_be-Section\n",
    "\n",
    "#### Pipe_leak\n",
    "# Checking weather the description text contains the desired pattern\n",
    "truth_value = []\n",
    "key_words = ['[^a-zA-Z0-9_]H[\\d\\s]']\n",
    "for word in key_words:\n",
    "    for txt in Esk_data['DESC_PROBLEM_ACTUAL']:\n",
    "        truth_value.append([check(key_words,txt)])\n",
    "    H_be = np.array(truth_value) "
   ]
  },
  {
   "cell_type": "code",
   "execution_count": 91,
   "metadata": {
    "collapsed": true
   },
   "outputs": [],
   "source": [
    "#adding the new column \"Eskhawini\"\n",
    "Esk_data = Esk_data.assign(Esk_Hbe = H_be)"
   ]
  },
  {
   "cell_type": "code",
   "execution_count": 92,
   "metadata": {
    "collapsed": true
   },
   "outputs": [],
   "source": [
    "#  J-Section\n",
    "\n",
    "#### Pipe_leak\n",
    "# Checking weather the description text contains the desired pattern\n",
    "truth_value = []\n",
    "key_words = ['[^a-zA-Z0-9_]J[\\d\\s]']\n",
    "for word in key_words:\n",
    "    for txt in Esk_data['DESC_PROBLEM_ACTUAL']:\n",
    "        truth_value.append([check(key_words,txt)])\n",
    "    J = np.array(truth_value) "
   ]
  },
  {
   "cell_type": "code",
   "execution_count": 93,
   "metadata": {
    "collapsed": true
   },
   "outputs": [],
   "source": [
    "#adding the new column \"Eskhawini\"\n",
    "Esk_data = Esk_data.assign(Esk_J = J)"
   ]
  },
  {
   "cell_type": "code",
   "execution_count": 94,
   "metadata": {
    "collapsed": true
   },
   "outputs": [],
   "source": [
    "#  J_be-Section\n",
    "\n",
    "#### Pipe_leak\n",
    "# Checking weather the description text contains the desired pattern\n",
    "truth_value = []\n",
    "key_words = ['[^a-zA-Z0-9_]J[\\d\\s]']\n",
    "for word in key_words:\n",
    "    for txt in Esk_data['DESC_PROBLEM_ACTUAL']:\n",
    "        truth_value.append([check(key_words,txt)])\n",
    "    J_be = np.array(truth_value) "
   ]
  },
  {
   "cell_type": "code",
   "execution_count": 95,
   "metadata": {
    "collapsed": false
   },
   "outputs": [],
   "source": [
    "#adding the new column \"Eskhawini\"\n",
    "Esk_data = Esk_data.assign(Esk_Jbe = J_be)"
   ]
  },
  {
   "cell_type": "markdown",
   "metadata": {},
   "source": [
    "## Segmenting for Eskhawini "
   ]
  },
  {
   "cell_type": "code",
   "execution_count": 96,
   "metadata": {
    "collapsed": false,
    "scrolled": true
   },
   "outputs": [
    {
     "data": {
      "text/html": [
       "<div>\n",
       "<style scoped>\n",
       "    .dataframe tbody tr th:only-of-type {\n",
       "        vertical-align: middle;\n",
       "    }\n",
       "\n",
       "    .dataframe tbody tr th {\n",
       "        vertical-align: top;\n",
       "    }\n",
       "\n",
       "    .dataframe thead th {\n",
       "        text-align: right;\n",
       "    }\n",
       "</style>\n",
       "<table border=\"1\" class=\"dataframe\">\n",
       "  <thead>\n",
       "    <tr style=\"text-align: right;\">\n",
       "      <th></th>\n",
       "      <th>date</th>\n",
       "      <th>DESC_PROBLEM_ACTUAL</th>\n",
       "      <th>Eskhawini</th>\n",
       "      <th>Esk_H</th>\n",
       "      <th>Esk_Hbe</th>\n",
       "      <th>Esk_J</th>\n",
       "      <th>Esk_Jbe</th>\n",
       "    </tr>\n",
       "  </thead>\n",
       "  <tbody>\n",
       "    <tr>\n",
       "      <th>0</th>\n",
       "      <td>2016-12-19</td>\n",
       "      <td>CUT GRASS</td>\n",
       "      <td>False</td>\n",
       "      <td>False</td>\n",
       "      <td>False</td>\n",
       "      <td>False</td>\n",
       "      <td>False</td>\n",
       "    </tr>\n",
       "    <tr>\n",
       "      <th>1</th>\n",
       "      <td>2016-06-02</td>\n",
       "      <td>Stand 1390 KHOZA TRIBAL - gps 3200576-2867544 ...</td>\n",
       "      <td>False</td>\n",
       "      <td>False</td>\n",
       "      <td>False</td>\n",
       "      <td>False</td>\n",
       "      <td>False</td>\n",
       "    </tr>\n",
       "    <tr>\n",
       "      <th>2</th>\n",
       "      <td>2016-06-14</td>\n",
       "      <td>Lot: 15128 Mzingazi - New water connection - S...</td>\n",
       "      <td>False</td>\n",
       "      <td>False</td>\n",
       "      <td>False</td>\n",
       "      <td>False</td>\n",
       "      <td>False</td>\n",
       "    </tr>\n",
       "    <tr>\n",
       "      <th>3</th>\n",
       "      <td>2016-11-21</td>\n",
       "      <td>Mzingazi 294  New water connection  SM Cele  0...</td>\n",
       "      <td>False</td>\n",
       "      <td>False</td>\n",
       "      <td>False</td>\n",
       "      <td>False</td>\n",
       "      <td>False</td>\n",
       "    </tr>\n",
       "    <tr>\n",
       "      <th>4</th>\n",
       "      <td>2017-03-23</td>\n",
       "      <td>Stand 564 MKhoma 32.00545 - 28.66595 meter no ...</td>\n",
       "      <td>False</td>\n",
       "      <td>False</td>\n",
       "      <td>False</td>\n",
       "      <td>False</td>\n",
       "      <td>False</td>\n",
       "    </tr>\n",
       "  </tbody>\n",
       "</table>\n",
       "</div>"
      ],
      "text/plain": [
       "         date                                DESC_PROBLEM_ACTUAL  Eskhawini  \\\n",
       "0  2016-12-19                                          CUT GRASS      False   \n",
       "1  2016-06-02  Stand 1390 KHOZA TRIBAL - gps 3200576-2867544 ...      False   \n",
       "2  2016-06-14  Lot: 15128 Mzingazi - New water connection - S...      False   \n",
       "3  2016-11-21  Mzingazi 294  New water connection  SM Cele  0...      False   \n",
       "4  2017-03-23  Stand 564 MKhoma 32.00545 - 28.66595 meter no ...      False   \n",
       "\n",
       "   Esk_H  Esk_Hbe  Esk_J  Esk_Jbe  \n",
       "0  False    False  False    False  \n",
       "1  False    False  False    False  \n",
       "2  False    False  False    False  \n",
       "3  False    False  False    False  \n",
       "4  False    False  False    False  "
      ]
     },
     "execution_count": 96,
     "metadata": {},
     "output_type": "execute_result"
    }
   ],
   "source": [
    "Esk_data.head()"
   ]
  },
  {
   "cell_type": "code",
   "execution_count": 97,
   "metadata": {
    "collapsed": false
   },
   "outputs": [],
   "source": [
    "df_esk = Esk_data.loc[(Esk_data['Eskhawini'] == True) | (Esk_data['Esk_H'] == True)|(Esk_data['Esk_Hbe'] == True)\n",
    "                      |(Esk_data['Esk_J'] == True)|(Esk_data['Esk_Jbe'] == True)].reset_index()"
   ]
  },
  {
   "cell_type": "code",
   "execution_count": 98,
   "metadata": {
    "collapsed": false,
    "scrolled": false
   },
   "outputs": [
    {
     "data": {
      "text/html": [
       "<div>\n",
       "<style scoped>\n",
       "    .dataframe tbody tr th:only-of-type {\n",
       "        vertical-align: middle;\n",
       "    }\n",
       "\n",
       "    .dataframe tbody tr th {\n",
       "        vertical-align: top;\n",
       "    }\n",
       "\n",
       "    .dataframe thead th {\n",
       "        text-align: right;\n",
       "    }\n",
       "</style>\n",
       "<table border=\"1\" class=\"dataframe\">\n",
       "  <thead>\n",
       "    <tr style=\"text-align: right;\">\n",
       "      <th></th>\n",
       "      <th>index</th>\n",
       "      <th>date</th>\n",
       "      <th>DESC_PROBLEM_ACTUAL</th>\n",
       "      <th>Eskhawini</th>\n",
       "      <th>Esk_H</th>\n",
       "      <th>Esk_Hbe</th>\n",
       "      <th>Esk_J</th>\n",
       "      <th>Esk_Jbe</th>\n",
       "    </tr>\n",
       "  </thead>\n",
       "  <tbody>\n",
       "    <tr>\n",
       "      <th>1814</th>\n",
       "      <td>22767</td>\n",
       "      <td>2019-06-21</td>\n",
       "      <td>Eskhawini Mall No power</td>\n",
       "      <td>True</td>\n",
       "      <td>False</td>\n",
       "      <td>False</td>\n",
       "      <td>False</td>\n",
       "      <td>False</td>\n",
       "    </tr>\n",
       "    <tr>\n",
       "      <th>1815</th>\n",
       "      <td>22769</td>\n",
       "      <td>2019-06-23</td>\n",
       "      <td>Meter faulty  J1327 Mhlathuzane Eskhawini, Met...</td>\n",
       "      <td>True</td>\n",
       "      <td>False</td>\n",
       "      <td>False</td>\n",
       "      <td>True</td>\n",
       "      <td>True</td>\n",
       "    </tr>\n",
       "    <tr>\n",
       "      <th>1816</th>\n",
       "      <td>22770</td>\n",
       "      <td>2019-06-23</td>\n",
       "      <td>No pwer  H2703 Mthimunye Eskhawini, No pwer  H...</td>\n",
       "      <td>True</td>\n",
       "      <td>True</td>\n",
       "      <td>True</td>\n",
       "      <td>False</td>\n",
       "      <td>False</td>\n",
       "    </tr>\n",
       "    <tr>\n",
       "      <th>1817</th>\n",
       "      <td>22812</td>\n",
       "      <td>2019-07-08</td>\n",
       "      <td>Build up and install tempral kiosk for event. ...</td>\n",
       "      <td>True</td>\n",
       "      <td>False</td>\n",
       "      <td>False</td>\n",
       "      <td>False</td>\n",
       "      <td>False</td>\n",
       "    </tr>\n",
       "    <tr>\n",
       "      <th>1818</th>\n",
       "      <td>22832</td>\n",
       "      <td>2019-07-10</td>\n",
       "      <td>5 Pierce Cres (unit J2) No power</td>\n",
       "      <td>False</td>\n",
       "      <td>False</td>\n",
       "      <td>False</td>\n",
       "      <td>True</td>\n",
       "      <td>True</td>\n",
       "    </tr>\n",
       "  </tbody>\n",
       "</table>\n",
       "</div>"
      ],
      "text/plain": [
       "      index        date                                DESC_PROBLEM_ACTUAL  \\\n",
       "1814  22767  2019-06-21                            Eskhawini Mall No power   \n",
       "1815  22769  2019-06-23  Meter faulty  J1327 Mhlathuzane Eskhawini, Met...   \n",
       "1816  22770  2019-06-23  No pwer  H2703 Mthimunye Eskhawini, No pwer  H...   \n",
       "1817  22812  2019-07-08  Build up and install tempral kiosk for event. ...   \n",
       "1818  22832  2019-07-10                   5 Pierce Cres (unit J2) No power   \n",
       "\n",
       "      Eskhawini  Esk_H  Esk_Hbe  Esk_J  Esk_Jbe  \n",
       "1814       True  False    False  False    False  \n",
       "1815       True  False    False   True     True  \n",
       "1816       True   True     True  False    False  \n",
       "1817       True  False    False  False    False  \n",
       "1818      False  False    False   True     True  "
      ]
     },
     "execution_count": 98,
     "metadata": {},
     "output_type": "execute_result"
    }
   ],
   "source": [
    "df_esk.tail()"
   ]
  },
  {
   "cell_type": "markdown",
   "metadata": {},
   "source": [
    "# Working from hereon on data segmented for ESK"
   ]
  },
  {
   "cell_type": "markdown",
   "metadata": {},
   "source": [
    "## Leak"
   ]
  },
  {
   "cell_type": "markdown",
   "metadata": {},
   "source": [
    "# Pipe leak events"
   ]
  },
  {
   "cell_type": "code",
   "execution_count": 100,
   "metadata": {
    "collapsed": false
   },
   "outputs": [],
   "source": [
    "data_pipeleak = df_esk[['date','DESC_PROBLEM_ACTUAL']]"
   ]
  },
  {
   "cell_type": "code",
   "execution_count": 25,
   "metadata": {
    "collapsed": true
   },
   "outputs": [],
   "source": [
    "#data_pipeleak.head()"
   ]
  },
  {
   "cell_type": "code",
   "execution_count": 101,
   "metadata": {
    "collapsed": true
   },
   "outputs": [],
   "source": [
    "#### Pipe burst\n",
    "# Checking weather the description text contains the desired pattern\n",
    "truth_value = []\n",
    "key_words = ['[Pp][Ii][Pp][Ee][\\s\\S][Bb][Uu][Rr][Ss][Tt]']\n",
    "for word in key_words:\n",
    "    for txt in data_pipeleak['DESC_PROBLEM_ACTUAL']:\n",
    "        truth_value.append([check(key_words,txt)])\n",
    "    pipe_b = np.array(truth_value) "
   ]
  },
  {
   "cell_type": "code",
   "execution_count": 102,
   "metadata": {
    "collapsed": true
   },
   "outputs": [],
   "source": [
    "#adding the new column \"meter leak\"\n",
    "data_pipeleak = data_pipeleak.assign(Pipe_burst = pipe_b)"
   ]
  },
  {
   "cell_type": "code",
   "execution_count": 103,
   "metadata": {
    "collapsed": true
   },
   "outputs": [],
   "source": [
    "#### Pipe leak\n",
    "# Checking weather the description text contains the desired pattern\n",
    "truth_value = []\n",
    "key_words = ['[Pp][Ii][Pp][Ee][\\s\\S][Ll][Ee][Aa][Kk]']\n",
    "for word in key_words:\n",
    "    for txt in data_pipeleak['DESC_PROBLEM_ACTUAL']:\n",
    "        truth_value.append([check(key_words,txt)])\n",
    "    pipe_l = np.array(truth_value)  "
   ]
  },
  {
   "cell_type": "code",
   "execution_count": 104,
   "metadata": {
    "collapsed": true
   },
   "outputs": [],
   "source": [
    "#adding the new column \"meter leak\"\n",
    "data_pipeleak = data_pipeleak.assign(Pipe_leak = pipe_l)"
   ]
  },
  {
   "cell_type": "code",
   "execution_count": 105,
   "metadata": {
    "collapsed": true
   },
   "outputs": [],
   "source": [
    "#### Burst pipe\n",
    "# Checking weather the description text contains the desired pattern\n",
    "truth_value = []\n",
    "key_words = ['[Bb][Uu][Rr][Ss][Tt][\\s\\S][Pp][Ii][Pp][Ee]']\n",
    "for word in key_words:\n",
    "    for txt in data_pipeleak['DESC_PROBLEM_ACTUAL']:\n",
    "        truth_value.append([check(key_words,txt)])\n",
    "    pipe_bp = np.array(truth_value)  "
   ]
  },
  {
   "cell_type": "code",
   "execution_count": 106,
   "metadata": {
    "collapsed": true
   },
   "outputs": [],
   "source": [
    "#adding the new column \"burst pipe\"\n",
    "data_pipeleak = data_pipeleak.assign(Burst_pipe = pipe_bp)"
   ]
  },
  {
   "cell_type": "code",
   "execution_count": 107,
   "metadata": {
    "collapsed": true
   },
   "outputs": [],
   "source": [
    "#### Pipe leaking\n",
    "# Checking weather the description text contains the desired pattern\n",
    "truth_value = []\n",
    "key_words = ['[Pp][Ii][Pp][Ee][\\s\\S][Ll][Ee][Aa][Kk][iI][Nn][Gg]']\n",
    "for word in key_words:\n",
    "    for txt in data_pipeleak['DESC_PROBLEM_ACTUAL']:\n",
    "        truth_value.append([check(key_words,txt)])\n",
    "    pipe_lng = np.array(truth_value)  "
   ]
  },
  {
   "cell_type": "code",
   "execution_count": 108,
   "metadata": {
    "collapsed": true
   },
   "outputs": [],
   "source": [
    "#adding the new column \"burst pipe\"\n",
    "data_pipeleak = data_pipeleak.assign(Pipe_leaking = pipe_lng)"
   ]
  },
  {
   "cell_type": "code",
   "execution_count": 109,
   "metadata": {
    "collapsed": true
   },
   "outputs": [],
   "source": [
    "####leaking pipe\n",
    "# Checking weather the description text contains the desired pattern\n",
    "truth_value = []\n",
    "key_words = ['[Ll][Ee][Aa][Kk][iI][Nn][Gg][\\s\\S][Pp][Ii][Pp][Ee]']\n",
    "for word in key_words:\n",
    "    for txt in data_pipeleak['DESC_PROBLEM_ACTUAL']:\n",
    "        truth_value.append([check(key_words,txt)])\n",
    "    lng_pipe = np.array(truth_value) "
   ]
  },
  {
   "cell_type": "code",
   "execution_count": 110,
   "metadata": {
    "collapsed": true
   },
   "outputs": [],
   "source": [
    "#adding the new column \"burst pipe\"\n",
    "data_pipeleak = data_pipeleak.assign(Leaking_pipe = lng_pipe)"
   ]
  },
  {
   "cell_type": "code",
   "execution_count": 111,
   "metadata": {
    "collapsed": true
   },
   "outputs": [],
   "source": [
    "####Broken pipe\n",
    "# Checking weather the description text contains the desired pattern\n",
    "truth_value = []\n",
    "key_words = ['[Bb][Rr][Oo][Kk][En][Nn][\\s\\S][Pp][Ii][Pp][Ee]']\n",
    "for word in key_words:\n",
    "    for txt in data_pipeleak['DESC_PROBLEM_ACTUAL']:\n",
    "        truth_value.append([check(key_words,txt)])\n",
    "    Brk_pipe = np.array(truth_value) "
   ]
  },
  {
   "cell_type": "code",
   "execution_count": 112,
   "metadata": {
    "collapsed": true
   },
   "outputs": [],
   "source": [
    "#adding the new column \"burst pipe\"\n",
    "data_pipeleak = data_pipeleak.assign(Broken_pipe = Brk_pipe)"
   ]
  },
  {
   "cell_type": "code",
   "execution_count": 113,
   "metadata": {
    "collapsed": false,
    "scrolled": true
   },
   "outputs": [
    {
     "data": {
      "text/html": [
       "<div>\n",
       "<style scoped>\n",
       "    .dataframe tbody tr th:only-of-type {\n",
       "        vertical-align: middle;\n",
       "    }\n",
       "\n",
       "    .dataframe tbody tr th {\n",
       "        vertical-align: top;\n",
       "    }\n",
       "\n",
       "    .dataframe thead th {\n",
       "        text-align: right;\n",
       "    }\n",
       "</style>\n",
       "<table border=\"1\" class=\"dataframe\">\n",
       "  <thead>\n",
       "    <tr style=\"text-align: right;\">\n",
       "      <th></th>\n",
       "      <th>date</th>\n",
       "      <th>DESC_PROBLEM_ACTUAL</th>\n",
       "      <th>Pipe_burst</th>\n",
       "      <th>Pipe_leak</th>\n",
       "      <th>Burst_pipe</th>\n",
       "      <th>Pipe_leaking</th>\n",
       "      <th>Leaking_pipe</th>\n",
       "      <th>Broken_pipe</th>\n",
       "    </tr>\n",
       "  </thead>\n",
       "  <tbody>\n",
       "    <tr>\n",
       "      <th>0</th>\n",
       "      <td>2017-11-13</td>\n",
       "      <td>Esk J1519 Imizikayifani Primary School meter n...</td>\n",
       "      <td>False</td>\n",
       "      <td>False</td>\n",
       "      <td>False</td>\n",
       "      <td>False</td>\n",
       "      <td>False</td>\n",
       "      <td>False</td>\n",
       "    </tr>\n",
       "    <tr>\n",
       "      <th>1</th>\n",
       "      <td>2018-05-08</td>\n",
       "      <td>VUL 286 \\tMQHELE\\tURK9668 MR J MAZIBUKO - \\tMe...</td>\n",
       "      <td>False</td>\n",
       "      <td>False</td>\n",
       "      <td>False</td>\n",
       "      <td>False</td>\n",
       "      <td>False</td>\n",
       "      <td>False</td>\n",
       "    </tr>\n",
       "    <tr>\n",
       "      <th>2</th>\n",
       "      <td>2018-05-09</td>\n",
       "      <td>ESK H3641 IPHOTHWE\\tHOLINESS UNION CHURCH\\tmet...</td>\n",
       "      <td>False</td>\n",
       "      <td>False</td>\n",
       "      <td>False</td>\n",
       "      <td>False</td>\n",
       "      <td>False</td>\n",
       "      <td>False</td>\n",
       "    </tr>\n",
       "    <tr>\n",
       "      <th>3</th>\n",
       "      <td>2018-05-09</td>\n",
       "      <td>ESK H752 ISIPHIKELE meter number PM141179876 P...</td>\n",
       "      <td>False</td>\n",
       "      <td>False</td>\n",
       "      <td>False</td>\n",
       "      <td>False</td>\n",
       "      <td>False</td>\n",
       "      <td>False</td>\n",
       "    </tr>\n",
       "    <tr>\n",
       "      <th>4</th>\n",
       "      <td>2018-05-09</td>\n",
       "      <td>ESK H760  ISIPHIKELE meter number 175011643 Ms...</td>\n",
       "      <td>False</td>\n",
       "      <td>False</td>\n",
       "      <td>False</td>\n",
       "      <td>False</td>\n",
       "      <td>False</td>\n",
       "      <td>False</td>\n",
       "    </tr>\n",
       "  </tbody>\n",
       "</table>\n",
       "</div>"
      ],
      "text/plain": [
       "         date                                DESC_PROBLEM_ACTUAL  Pipe_burst  \\\n",
       "0  2017-11-13  Esk J1519 Imizikayifani Primary School meter n...       False   \n",
       "1  2018-05-08  VUL 286 \\tMQHELE\\tURK9668 MR J MAZIBUKO - \\tMe...       False   \n",
       "2  2018-05-09  ESK H3641 IPHOTHWE\\tHOLINESS UNION CHURCH\\tmet...       False   \n",
       "3  2018-05-09  ESK H752 ISIPHIKELE meter number PM141179876 P...       False   \n",
       "4  2018-05-09  ESK H760  ISIPHIKELE meter number 175011643 Ms...       False   \n",
       "\n",
       "   Pipe_leak  Burst_pipe  Pipe_leaking  Leaking_pipe  Broken_pipe  \n",
       "0      False       False         False         False        False  \n",
       "1      False       False         False         False        False  \n",
       "2      False       False         False         False        False  \n",
       "3      False       False         False         False        False  \n",
       "4      False       False         False         False        False  "
      ]
     },
     "execution_count": 113,
     "metadata": {},
     "output_type": "execute_result"
    }
   ],
   "source": [
    "data_pipeleak.head()"
   ]
  },
  {
   "cell_type": "code",
   "execution_count": 114,
   "metadata": {
    "collapsed": false
   },
   "outputs": [
    {
     "data": {
      "text/plain": [
       "False    1819\n",
       "Name: Pipe_burst, dtype: int64"
      ]
     },
     "execution_count": 114,
     "metadata": {},
     "output_type": "execute_result"
    }
   ],
   "source": [
    "data_pipeleak['Pipe_burst'].value_counts()"
   ]
  },
  {
   "cell_type": "code",
   "execution_count": 115,
   "metadata": {
    "collapsed": false
   },
   "outputs": [],
   "source": [
    "#Picking rows with true values for pipe leaks\n",
    "pipeleak_data = data_pipeleak.loc[(data_pipeleak['Pipe_burst'] == True) | (data_pipeleak['Pipe_leak'] == True)|(data_pipeleak['Burst_pipe'] == True)\n",
    "                      |(data_pipeleak['Pipe_leaking'] == True)|(data_pipeleak['Leaking_pipe'] == True)|(data_pipeleak['Broken_pipe'] == True)].reset_index()"
   ]
  },
  {
   "cell_type": "code",
   "execution_count": 116,
   "metadata": {
    "collapsed": false
   },
   "outputs": [],
   "source": [
    "pipeleak_data['pipeleak_count'] = 1"
   ]
  },
  {
   "cell_type": "code",
   "execution_count": 117,
   "metadata": {
    "collapsed": false
   },
   "outputs": [
    {
     "data": {
      "text/html": [
       "<div>\n",
       "<style scoped>\n",
       "    .dataframe tbody tr th:only-of-type {\n",
       "        vertical-align: middle;\n",
       "    }\n",
       "\n",
       "    .dataframe tbody tr th {\n",
       "        vertical-align: top;\n",
       "    }\n",
       "\n",
       "    .dataframe thead th {\n",
       "        text-align: right;\n",
       "    }\n",
       "</style>\n",
       "<table border=\"1\" class=\"dataframe\">\n",
       "  <thead>\n",
       "    <tr style=\"text-align: right;\">\n",
       "      <th></th>\n",
       "      <th>index</th>\n",
       "      <th>date</th>\n",
       "      <th>DESC_PROBLEM_ACTUAL</th>\n",
       "      <th>Pipe_burst</th>\n",
       "      <th>Pipe_leak</th>\n",
       "      <th>Burst_pipe</th>\n",
       "      <th>Pipe_leaking</th>\n",
       "      <th>Leaking_pipe</th>\n",
       "      <th>Broken_pipe</th>\n",
       "      <th>pipeleak_count</th>\n",
       "    </tr>\n",
       "  </thead>\n",
       "  <tbody>\n",
       "    <tr>\n",
       "      <th>0</th>\n",
       "      <td>126</td>\n",
       "      <td>2018-07-12</td>\n",
       "      <td>H section Isiphikeleli street   Esikhaleni, H ...</td>\n",
       "      <td>False</td>\n",
       "      <td>True</td>\n",
       "      <td>False</td>\n",
       "      <td>False</td>\n",
       "      <td>False</td>\n",
       "      <td>False</td>\n",
       "      <td>1</td>\n",
       "    </tr>\n",
       "    <tr>\n",
       "      <th>1</th>\n",
       "      <td>133</td>\n",
       "      <td>2018-07-12</td>\n",
       "      <td>Pipe Leaks inside the yard J1461 Maqinase Stre...</td>\n",
       "      <td>False</td>\n",
       "      <td>True</td>\n",
       "      <td>False</td>\n",
       "      <td>False</td>\n",
       "      <td>False</td>\n",
       "      <td>False</td>\n",
       "      <td>1</td>\n",
       "    </tr>\n",
       "    <tr>\n",
       "      <th>2</th>\n",
       "      <td>138</td>\n",
       "      <td>2018-07-13</td>\n",
       "      <td>Water pipe leaks at Ilanda Street H 308 skhawi...</td>\n",
       "      <td>False</td>\n",
       "      <td>True</td>\n",
       "      <td>False</td>\n",
       "      <td>False</td>\n",
       "      <td>False</td>\n",
       "      <td>False</td>\n",
       "      <td>1</td>\n",
       "    </tr>\n",
       "    <tr>\n",
       "      <th>3</th>\n",
       "      <td>139</td>\n",
       "      <td>2018-07-14</td>\n",
       "      <td>Water  pipe  leaks  at  H 496 Ngududu Street E...</td>\n",
       "      <td>False</td>\n",
       "      <td>True</td>\n",
       "      <td>False</td>\n",
       "      <td>False</td>\n",
       "      <td>False</td>\n",
       "      <td>False</td>\n",
       "      <td>1</td>\n",
       "    </tr>\n",
       "    <tr>\n",
       "      <th>4</th>\n",
       "      <td>151</td>\n",
       "      <td>2018-07-20</td>\n",
       "      <td>J1461 Maqinase street  Esikhaleni, J1461 Maqin...</td>\n",
       "      <td>False</td>\n",
       "      <td>True</td>\n",
       "      <td>False</td>\n",
       "      <td>False</td>\n",
       "      <td>False</td>\n",
       "      <td>False</td>\n",
       "      <td>1</td>\n",
       "    </tr>\n",
       "  </tbody>\n",
       "</table>\n",
       "</div>"
      ],
      "text/plain": [
       "   index        date                                DESC_PROBLEM_ACTUAL  \\\n",
       "0    126  2018-07-12  H section Isiphikeleli street   Esikhaleni, H ...   \n",
       "1    133  2018-07-12  Pipe Leaks inside the yard J1461 Maqinase Stre...   \n",
       "2    138  2018-07-13  Water pipe leaks at Ilanda Street H 308 skhawi...   \n",
       "3    139  2018-07-14  Water  pipe  leaks  at  H 496 Ngududu Street E...   \n",
       "4    151  2018-07-20  J1461 Maqinase street  Esikhaleni, J1461 Maqin...   \n",
       "\n",
       "   Pipe_burst  Pipe_leak  Burst_pipe  Pipe_leaking  Leaking_pipe  Broken_pipe  \\\n",
       "0       False       True       False         False         False        False   \n",
       "1       False       True       False         False         False        False   \n",
       "2       False       True       False         False         False        False   \n",
       "3       False       True       False         False         False        False   \n",
       "4       False       True       False         False         False        False   \n",
       "\n",
       "   pipeleak_count  \n",
       "0               1  \n",
       "1               1  \n",
       "2               1  \n",
       "3               1  \n",
       "4               1  "
      ]
     },
     "execution_count": 117,
     "metadata": {},
     "output_type": "execute_result"
    }
   ],
   "source": [
    "pipeleak_data.head()"
   ]
  },
  {
   "cell_type": "markdown",
   "metadata": {},
   "source": [
    "## Meter Leak"
   ]
  },
  {
   "cell_type": "code",
   "execution_count": 118,
   "metadata": {
    "collapsed": true
   },
   "outputs": [],
   "source": [
    "data_meterleak = df_esk[['date','DESC_PROBLEM_ACTUAL']]"
   ]
  },
  {
   "cell_type": "code",
   "execution_count": 119,
   "metadata": {
    "collapsed": true
   },
   "outputs": [],
   "source": [
    "#### Meter leak\n",
    "# Checking weather the description text contains the desired pattern\n",
    "truth_value = []\n",
    "key_words = ['[Mm][Ee][Tt][Ee][Rr][\\s\\S][Ll][Ee][Aa][Kk]']\n",
    "for word in key_words:\n",
    "    for txt in data_meterleak['DESC_PROBLEM_ACTUAL']:\n",
    "        truth_value.append([check(key_words,txt)])\n",
    "    mtr = np.array(truth_value)  "
   ]
  },
  {
   "cell_type": "code",
   "execution_count": 120,
   "metadata": {
    "collapsed": true
   },
   "outputs": [],
   "source": [
    "#adding the new column \"meter leak\"\n",
    "data_meterleak = data_meterleak.assign(Meter_leak = mtr)"
   ]
  },
  {
   "cell_type": "code",
   "execution_count": 121,
   "metadata": {
    "collapsed": true
   },
   "outputs": [],
   "source": [
    "#### Meter leaks\n",
    "# Checking weather the description text contains the desired pattern\n",
    "truth_value = []\n",
    "key_words = ['[Mm][Ee][Tt][Ee][Rr][\\s\\S][Ll][Ee][Aa][Kk][Ss]']\n",
    "for word in key_words:\n",
    "    for txt in data_meterleak['DESC_PROBLEM_ACTUAL']:\n",
    "        truth_value.append([check(key_words,txt)])\n",
    "    mtrs = np.array(truth_value)  "
   ]
  },
  {
   "cell_type": "code",
   "execution_count": 122,
   "metadata": {
    "collapsed": true
   },
   "outputs": [],
   "source": [
    "#adding the new column \"meter leaks\"\n",
    "data_meterleak = data_meterleak.assign(Meter_leaks = mtrs)"
   ]
  },
  {
   "cell_type": "code",
   "execution_count": 123,
   "metadata": {
    "collapsed": true
   },
   "outputs": [],
   "source": [
    "#### Leaking meter\n",
    "# Checking weather the description text contains the desired pattern\n",
    "truth_value = []\n",
    "key_words = ['[Ll][Ee][Aa][Kk][iI][Nn][Gg][\\s\\S][Mm][Ee][Tt][Ee][Rr]']\n",
    "for word in key_words:\n",
    "    for txt in data_meterleak['DESC_PROBLEM_ACTUAL']:\n",
    "        truth_value.append([check(key_words,txt)])\n",
    "    lkgmtr = np.array(truth_value)  "
   ]
  },
  {
   "cell_type": "code",
   "execution_count": 124,
   "metadata": {
    "collapsed": true
   },
   "outputs": [],
   "source": [
    "#adding the new column \"meter leak\"\n",
    "data_meterleak = data_meterleak.assign(Leaking_meter = lkgmtr)"
   ]
  },
  {
   "cell_type": "code",
   "execution_count": 125,
   "metadata": {
    "collapsed": true
   },
   "outputs": [],
   "source": [
    "#### meter leaking\n",
    "# Checking weather the description text contains the desired pattern\n",
    "truth_value = []\n",
    "key_words = ['[Mm][Ee][Tt][Ee][Rr][\\s\\S][Ll][Ee][Aa][Kk][iI][Nn][Gg]']\n",
    "for word in key_words:\n",
    "    for txt in data_meterleak['DESC_PROBLEM_ACTUAL']:\n",
    "        truth_value.append([check(key_words,txt)])\n",
    "    lkgmtr = np.array(truth_value)  "
   ]
  },
  {
   "cell_type": "code",
   "execution_count": 126,
   "metadata": {
    "collapsed": true
   },
   "outputs": [],
   "source": [
    "#adding the new column \"meter leak\"\n",
    "data_meterleak = data_meterleak.assign(Leaking_meter = lkgmtr)"
   ]
  },
  {
   "cell_type": "code",
   "execution_count": 127,
   "metadata": {
    "collapsed": true
   },
   "outputs": [],
   "source": [
    "#### Meter Broken\n",
    "# Checking weather the description text contains the desired pattern\n",
    "truth_value = []\n",
    "key_words = ['[Mm][Ee][Tt][Ee][Rr][\\s\\S][Bb][Rr][Oo][Kk][En][Nn]']\n",
    "for word in key_words:\n",
    "    for txt in data_meterleak['DESC_PROBLEM_ACTUAL']:\n",
    "        truth_value.append([check(key_words,txt)])\n",
    "    mtrbrk = np.array(truth_value)"
   ]
  },
  {
   "cell_type": "code",
   "execution_count": 128,
   "metadata": {
    "collapsed": true
   },
   "outputs": [],
   "source": [
    "#adding the new column \"meter leak\"\n",
    "data_meterleak = data_meterleak.assign(Meter_broken = mtrbrk)"
   ]
  },
  {
   "cell_type": "code",
   "execution_count": 129,
   "metadata": {
    "collapsed": true
   },
   "outputs": [],
   "source": [
    "####  Broken Meter\n",
    "# Checking weather the description text contains the desired pattern\n",
    "truth_value = []\n",
    "key_words = ['[Bb][Rr][Oo][Kk][En][Nn][\\s\\S][Mm][Ee][Tt][Ee][Rr]']\n",
    "for word in key_words:\n",
    "    for txt in data_meterleak['DESC_PROBLEM_ACTUAL']:\n",
    "        truth_value.append([check(key_words,txt)])\n",
    "    brkmtr = np.array(truth_value)"
   ]
  },
  {
   "cell_type": "code",
   "execution_count": 130,
   "metadata": {
    "collapsed": true
   },
   "outputs": [],
   "source": [
    "#adding the new column \"meter leak\"\n",
    "data_meterleak = data_meterleak.assign(Broken_meter = brkmtr)"
   ]
  },
  {
   "cell_type": "code",
   "execution_count": 131,
   "metadata": {
    "collapsed": false
   },
   "outputs": [
    {
     "data": {
      "text/html": [
       "<div>\n",
       "<style scoped>\n",
       "    .dataframe tbody tr th:only-of-type {\n",
       "        vertical-align: middle;\n",
       "    }\n",
       "\n",
       "    .dataframe tbody tr th {\n",
       "        vertical-align: top;\n",
       "    }\n",
       "\n",
       "    .dataframe thead th {\n",
       "        text-align: right;\n",
       "    }\n",
       "</style>\n",
       "<table border=\"1\" class=\"dataframe\">\n",
       "  <thead>\n",
       "    <tr style=\"text-align: right;\">\n",
       "      <th></th>\n",
       "      <th>date</th>\n",
       "      <th>DESC_PROBLEM_ACTUAL</th>\n",
       "      <th>Meter_leak</th>\n",
       "      <th>Meter_leaks</th>\n",
       "      <th>Leaking_meter</th>\n",
       "      <th>Meter_broken</th>\n",
       "      <th>Broken_meter</th>\n",
       "    </tr>\n",
       "  </thead>\n",
       "  <tbody>\n",
       "    <tr>\n",
       "      <th>0</th>\n",
       "      <td>2017-11-13</td>\n",
       "      <td>Esk J1519 Imizikayifani Primary School meter n...</td>\n",
       "      <td>False</td>\n",
       "      <td>False</td>\n",
       "      <td>False</td>\n",
       "      <td>False</td>\n",
       "      <td>False</td>\n",
       "    </tr>\n",
       "    <tr>\n",
       "      <th>1</th>\n",
       "      <td>2018-05-08</td>\n",
       "      <td>VUL 286 \\tMQHELE\\tURK9668 MR J MAZIBUKO - \\tMe...</td>\n",
       "      <td>False</td>\n",
       "      <td>False</td>\n",
       "      <td>False</td>\n",
       "      <td>False</td>\n",
       "      <td>False</td>\n",
       "    </tr>\n",
       "    <tr>\n",
       "      <th>2</th>\n",
       "      <td>2018-05-09</td>\n",
       "      <td>ESK H3641 IPHOTHWE\\tHOLINESS UNION CHURCH\\tmet...</td>\n",
       "      <td>False</td>\n",
       "      <td>False</td>\n",
       "      <td>False</td>\n",
       "      <td>False</td>\n",
       "      <td>False</td>\n",
       "    </tr>\n",
       "    <tr>\n",
       "      <th>3</th>\n",
       "      <td>2018-05-09</td>\n",
       "      <td>ESK H752 ISIPHIKELE meter number PM141179876 P...</td>\n",
       "      <td>False</td>\n",
       "      <td>False</td>\n",
       "      <td>False</td>\n",
       "      <td>False</td>\n",
       "      <td>False</td>\n",
       "    </tr>\n",
       "    <tr>\n",
       "      <th>4</th>\n",
       "      <td>2018-05-09</td>\n",
       "      <td>ESK H760  ISIPHIKELE meter number 175011643 Ms...</td>\n",
       "      <td>False</td>\n",
       "      <td>False</td>\n",
       "      <td>False</td>\n",
       "      <td>False</td>\n",
       "      <td>False</td>\n",
       "    </tr>\n",
       "  </tbody>\n",
       "</table>\n",
       "</div>"
      ],
      "text/plain": [
       "         date                                DESC_PROBLEM_ACTUAL  Meter_leak  \\\n",
       "0  2017-11-13  Esk J1519 Imizikayifani Primary School meter n...       False   \n",
       "1  2018-05-08  VUL 286 \\tMQHELE\\tURK9668 MR J MAZIBUKO - \\tMe...       False   \n",
       "2  2018-05-09  ESK H3641 IPHOTHWE\\tHOLINESS UNION CHURCH\\tmet...       False   \n",
       "3  2018-05-09  ESK H752 ISIPHIKELE meter number PM141179876 P...       False   \n",
       "4  2018-05-09  ESK H760  ISIPHIKELE meter number 175011643 Ms...       False   \n",
       "\n",
       "   Meter_leaks  Leaking_meter  Meter_broken  Broken_meter  \n",
       "0        False          False         False         False  \n",
       "1        False          False         False         False  \n",
       "2        False          False         False         False  \n",
       "3        False          False         False         False  \n",
       "4        False          False         False         False  "
      ]
     },
     "execution_count": 131,
     "metadata": {},
     "output_type": "execute_result"
    }
   ],
   "source": [
    "data_meterleak.head()"
   ]
  },
  {
   "cell_type": "code",
   "execution_count": 132,
   "metadata": {
    "collapsed": true
   },
   "outputs": [],
   "source": [
    "#Picking rows with true values for meter leaks\n",
    "meterleak_data = data_meterleak.loc[(data_meterleak['Meter_leak'] == True) | (data_meterleak['Meter_leaks'] == True)|(data_meterleak['Leaking_meter'] == True)\n",
    "                      |(data_meterleak['Meter_broken'] == True)|(data_meterleak['Broken_meter'] == True)].reset_index()"
   ]
  },
  {
   "cell_type": "code",
   "execution_count": 133,
   "metadata": {
    "collapsed": true
   },
   "outputs": [],
   "source": [
    "# Adding a column of ones in effort to use them to obtain component based daily leaks\n",
    "meterleak_data['meterleak_count'] = 1"
   ]
  },
  {
   "cell_type": "code",
   "execution_count": 134,
   "metadata": {
    "collapsed": false,
    "scrolled": false
   },
   "outputs": [
    {
     "data": {
      "text/html": [
       "<div>\n",
       "<style scoped>\n",
       "    .dataframe tbody tr th:only-of-type {\n",
       "        vertical-align: middle;\n",
       "    }\n",
       "\n",
       "    .dataframe tbody tr th {\n",
       "        vertical-align: top;\n",
       "    }\n",
       "\n",
       "    .dataframe thead th {\n",
       "        text-align: right;\n",
       "    }\n",
       "</style>\n",
       "<table border=\"1\" class=\"dataframe\">\n",
       "  <thead>\n",
       "    <tr style=\"text-align: right;\">\n",
       "      <th></th>\n",
       "      <th>index</th>\n",
       "      <th>date</th>\n",
       "      <th>DESC_PROBLEM_ACTUAL</th>\n",
       "      <th>Meter_leak</th>\n",
       "      <th>Meter_leaks</th>\n",
       "      <th>Leaking_meter</th>\n",
       "      <th>Meter_broken</th>\n",
       "      <th>Broken_meter</th>\n",
       "      <th>meterleak_count</th>\n",
       "    </tr>\n",
       "  </thead>\n",
       "  <tbody>\n",
       "    <tr>\n",
       "      <th>0</th>\n",
       "      <td>60</td>\n",
       "      <td>2018-05-10</td>\n",
       "      <td>Meter leak @ J2202 Insephe Eskhawini contact M...</td>\n",
       "      <td>True</td>\n",
       "      <td>False</td>\n",
       "      <td>False</td>\n",
       "      <td>False</td>\n",
       "      <td>False</td>\n",
       "      <td>1</td>\n",
       "    </tr>\n",
       "    <tr>\n",
       "      <th>1</th>\n",
       "      <td>114</td>\n",
       "      <td>2018-07-05</td>\n",
       "      <td>Meter leak at J 409  Intibane Street Eskhawini...</td>\n",
       "      <td>True</td>\n",
       "      <td>False</td>\n",
       "      <td>False</td>\n",
       "      <td>False</td>\n",
       "      <td>False</td>\n",
       "      <td>1</td>\n",
       "    </tr>\n",
       "    <tr>\n",
       "      <th>2</th>\n",
       "      <td>121</td>\n",
       "      <td>2018-07-10</td>\n",
       "      <td>Meter Leaks J358 Indlovu Street Esikhawini Ntu...</td>\n",
       "      <td>True</td>\n",
       "      <td>True</td>\n",
       "      <td>False</td>\n",
       "      <td>False</td>\n",
       "      <td>False</td>\n",
       "      <td>1</td>\n",
       "    </tr>\n",
       "    <tr>\n",
       "      <th>3</th>\n",
       "      <td>125</td>\n",
       "      <td>2018-07-11</td>\n",
       "      <td>Meter leak   H3370 sphikeleli Eskhawini, Meter...</td>\n",
       "      <td>True</td>\n",
       "      <td>False</td>\n",
       "      <td>False</td>\n",
       "      <td>False</td>\n",
       "      <td>False</td>\n",
       "      <td>1</td>\n",
       "    </tr>\n",
       "    <tr>\n",
       "      <th>4</th>\n",
       "      <td>141</td>\n",
       "      <td>2018-07-15</td>\n",
       "      <td>Meter leak at H 52 iNtaka Street Eskhawini,  M...</td>\n",
       "      <td>True</td>\n",
       "      <td>False</td>\n",
       "      <td>False</td>\n",
       "      <td>False</td>\n",
       "      <td>False</td>\n",
       "      <td>1</td>\n",
       "    </tr>\n",
       "  </tbody>\n",
       "</table>\n",
       "</div>"
      ],
      "text/plain": [
       "   index        date                                DESC_PROBLEM_ACTUAL  \\\n",
       "0     60  2018-05-10  Meter leak @ J2202 Insephe Eskhawini contact M...   \n",
       "1    114  2018-07-05  Meter leak at J 409  Intibane Street Eskhawini...   \n",
       "2    121  2018-07-10  Meter Leaks J358 Indlovu Street Esikhawini Ntu...   \n",
       "3    125  2018-07-11  Meter leak   H3370 sphikeleli Eskhawini, Meter...   \n",
       "4    141  2018-07-15  Meter leak at H 52 iNtaka Street Eskhawini,  M...   \n",
       "\n",
       "   Meter_leak  Meter_leaks  Leaking_meter  Meter_broken  Broken_meter  \\\n",
       "0        True        False          False         False         False   \n",
       "1        True        False          False         False         False   \n",
       "2        True         True          False         False         False   \n",
       "3        True        False          False         False         False   \n",
       "4        True        False          False         False         False   \n",
       "\n",
       "   meterleak_count  \n",
       "0                1  \n",
       "1                1  \n",
       "2                1  \n",
       "3                1  \n",
       "4                1  "
      ]
     },
     "execution_count": 134,
     "metadata": {},
     "output_type": "execute_result"
    }
   ],
   "source": [
    "meterleak_data.head()"
   ]
  },
  {
   "cell_type": "code",
   "execution_count": 142,
   "metadata": {
    "collapsed": true
   },
   "outputs": [],
   "source": [
    "Tst_df = meterleak_data[['date','meterleak_count' ]]"
   ]
  },
  {
   "cell_type": "code",
   "execution_count": 145,
   "metadata": {
    "collapsed": false,
    "scrolled": true
   },
   "outputs": [
    {
     "data": {
      "text/plain": [
       "datetime.date"
      ]
     },
     "execution_count": 145,
     "metadata": {},
     "output_type": "execute_result"
    }
   ],
   "source": [
    "type(Tst_df.date[0])"
   ]
  },
  {
   "cell_type": "code",
   "execution_count": 147,
   "metadata": {
    "collapsed": false
   },
   "outputs": [
    {
     "name": "stderr",
     "output_type": "stream",
     "text": [
      "/home/felix/Documents/Pgmpy_recode/py3tst/lib/python3.6/site-packages/ipykernel_launcher.py:1: SettingWithCopyWarning: \n",
      "A value is trying to be set on a copy of a slice from a DataFrame.\n",
      "Try using .loc[row_indexer,col_indexer] = value instead\n",
      "\n",
      "See the caveats in the documentation: http://pandas.pydata.org/pandas-docs/stable/user_guide/indexing.html#returning-a-view-versus-a-copy\n",
      "  \"\"\"Entry point for launching an IPython kernel.\n"
     ]
    }
   ],
   "source": [
    "Tst_df['date'] = pd.to_datetime(Tst_df['date'])"
   ]
  },
  {
   "cell_type": "code",
   "execution_count": 150,
   "metadata": {
    "collapsed": false
   },
   "outputs": [],
   "source": [
    "# Testing the group by function\n",
    "# Putting ordering the data frame as per dates\n",
    "agr_df = Tst_df.groupby(Tst_df['date'].dt.date)"
   ]
  },
  {
   "cell_type": "code",
   "execution_count": 151,
   "metadata": {
    "collapsed": true
   },
   "outputs": [
    {
     "data": {
      "text/html": [
       "<div>\n",
       "<style scoped>\n",
       "    .dataframe tbody tr th:only-of-type {\n",
       "        vertical-align: middle;\n",
       "    }\n",
       "\n",
       "    .dataframe tbody tr th {\n",
       "        vertical-align: top;\n",
       "    }\n",
       "\n",
       "    .dataframe thead th {\n",
       "        text-align: right;\n",
       "    }\n",
       "</style>\n",
       "<table border=\"1\" class=\"dataframe\">\n",
       "  <thead>\n",
       "    <tr style=\"text-align: right;\">\n",
       "      <th></th>\n",
       "      <th>date</th>\n",
       "      <th>meterleak_count</th>\n",
       "    </tr>\n",
       "  </thead>\n",
       "  <tbody>\n",
       "    <tr>\n",
       "      <th>0</th>\n",
       "      <td>2018-05-10</td>\n",
       "      <td>1</td>\n",
       "    </tr>\n",
       "    <tr>\n",
       "      <th>1</th>\n",
       "      <td>2018-07-05</td>\n",
       "      <td>1</td>\n",
       "    </tr>\n",
       "    <tr>\n",
       "      <th>2</th>\n",
       "      <td>2018-07-10</td>\n",
       "      <td>1</td>\n",
       "    </tr>\n",
       "    <tr>\n",
       "      <th>3</th>\n",
       "      <td>2018-07-11</td>\n",
       "      <td>1</td>\n",
       "    </tr>\n",
       "    <tr>\n",
       "      <th>4</th>\n",
       "      <td>2018-07-15</td>\n",
       "      <td>1</td>\n",
       "    </tr>\n",
       "    <tr>\n",
       "      <th>5</th>\n",
       "      <td>2018-07-15</td>\n",
       "      <td>1</td>\n",
       "    </tr>\n",
       "    <tr>\n",
       "      <th>6</th>\n",
       "      <td>2018-07-15</td>\n",
       "      <td>1</td>\n",
       "    </tr>\n",
       "    <tr>\n",
       "      <th>7</th>\n",
       "      <td>2018-07-19</td>\n",
       "      <td>1</td>\n",
       "    </tr>\n",
       "    <tr>\n",
       "      <th>8</th>\n",
       "      <td>2018-07-22</td>\n",
       "      <td>1</td>\n",
       "    </tr>\n",
       "    <tr>\n",
       "      <th>9</th>\n",
       "      <td>2018-07-23</td>\n",
       "      <td>1</td>\n",
       "    </tr>\n",
       "    <tr>\n",
       "      <th>10</th>\n",
       "      <td>2018-07-25</td>\n",
       "      <td>1</td>\n",
       "    </tr>\n",
       "    <tr>\n",
       "      <th>11</th>\n",
       "      <td>2018-07-26</td>\n",
       "      <td>1</td>\n",
       "    </tr>\n",
       "    <tr>\n",
       "      <th>12</th>\n",
       "      <td>2018-07-30</td>\n",
       "      <td>1</td>\n",
       "    </tr>\n",
       "    <tr>\n",
       "      <th>13</th>\n",
       "      <td>2018-08-03</td>\n",
       "      <td>1</td>\n",
       "    </tr>\n",
       "    <tr>\n",
       "      <th>14</th>\n",
       "      <td>2018-08-03</td>\n",
       "      <td>1</td>\n",
       "    </tr>\n",
       "    <tr>\n",
       "      <th>15</th>\n",
       "      <td>2018-08-04</td>\n",
       "      <td>1</td>\n",
       "    </tr>\n",
       "    <tr>\n",
       "      <th>16</th>\n",
       "      <td>2018-08-06</td>\n",
       "      <td>1</td>\n",
       "    </tr>\n",
       "    <tr>\n",
       "      <th>17</th>\n",
       "      <td>2018-08-07</td>\n",
       "      <td>1</td>\n",
       "    </tr>\n",
       "    <tr>\n",
       "      <th>18</th>\n",
       "      <td>2018-08-11</td>\n",
       "      <td>1</td>\n",
       "    </tr>\n",
       "    <tr>\n",
       "      <th>19</th>\n",
       "      <td>2018-08-16</td>\n",
       "      <td>1</td>\n",
       "    </tr>\n",
       "    <tr>\n",
       "      <th>20</th>\n",
       "      <td>2018-08-26</td>\n",
       "      <td>1</td>\n",
       "    </tr>\n",
       "    <tr>\n",
       "      <th>21</th>\n",
       "      <td>2018-08-26</td>\n",
       "      <td>1</td>\n",
       "    </tr>\n",
       "    <tr>\n",
       "      <th>22</th>\n",
       "      <td>2018-08-27</td>\n",
       "      <td>1</td>\n",
       "    </tr>\n",
       "    <tr>\n",
       "      <th>23</th>\n",
       "      <td>2018-08-27</td>\n",
       "      <td>1</td>\n",
       "    </tr>\n",
       "    <tr>\n",
       "      <th>24</th>\n",
       "      <td>2018-08-27</td>\n",
       "      <td>1</td>\n",
       "    </tr>\n",
       "    <tr>\n",
       "      <th>25</th>\n",
       "      <td>2018-09-02</td>\n",
       "      <td>1</td>\n",
       "    </tr>\n",
       "    <tr>\n",
       "      <th>26</th>\n",
       "      <td>2018-09-08</td>\n",
       "      <td>1</td>\n",
       "    </tr>\n",
       "    <tr>\n",
       "      <th>27</th>\n",
       "      <td>2018-09-08</td>\n",
       "      <td>1</td>\n",
       "    </tr>\n",
       "    <tr>\n",
       "      <th>28</th>\n",
       "      <td>2018-09-18</td>\n",
       "      <td>1</td>\n",
       "    </tr>\n",
       "    <tr>\n",
       "      <th>29</th>\n",
       "      <td>2018-09-21</td>\n",
       "      <td>1</td>\n",
       "    </tr>\n",
       "    <tr>\n",
       "      <th>...</th>\n",
       "      <td>...</td>\n",
       "      <td>...</td>\n",
       "    </tr>\n",
       "    <tr>\n",
       "      <th>53</th>\n",
       "      <td>2018-12-28</td>\n",
       "      <td>1</td>\n",
       "    </tr>\n",
       "    <tr>\n",
       "      <th>54</th>\n",
       "      <td>2019-01-01</td>\n",
       "      <td>1</td>\n",
       "    </tr>\n",
       "    <tr>\n",
       "      <th>55</th>\n",
       "      <td>2019-01-01</td>\n",
       "      <td>1</td>\n",
       "    </tr>\n",
       "    <tr>\n",
       "      <th>56</th>\n",
       "      <td>2019-01-04</td>\n",
       "      <td>1</td>\n",
       "    </tr>\n",
       "    <tr>\n",
       "      <th>57</th>\n",
       "      <td>2019-01-21</td>\n",
       "      <td>1</td>\n",
       "    </tr>\n",
       "    <tr>\n",
       "      <th>58</th>\n",
       "      <td>2019-02-25</td>\n",
       "      <td>1</td>\n",
       "    </tr>\n",
       "    <tr>\n",
       "      <th>59</th>\n",
       "      <td>2019-02-25</td>\n",
       "      <td>1</td>\n",
       "    </tr>\n",
       "    <tr>\n",
       "      <th>60</th>\n",
       "      <td>2019-02-28</td>\n",
       "      <td>1</td>\n",
       "    </tr>\n",
       "    <tr>\n",
       "      <th>61</th>\n",
       "      <td>2019-03-05</td>\n",
       "      <td>1</td>\n",
       "    </tr>\n",
       "    <tr>\n",
       "      <th>62</th>\n",
       "      <td>2019-03-09</td>\n",
       "      <td>1</td>\n",
       "    </tr>\n",
       "    <tr>\n",
       "      <th>63</th>\n",
       "      <td>2019-03-11</td>\n",
       "      <td>1</td>\n",
       "    </tr>\n",
       "    <tr>\n",
       "      <th>64</th>\n",
       "      <td>2019-03-19</td>\n",
       "      <td>1</td>\n",
       "    </tr>\n",
       "    <tr>\n",
       "      <th>65</th>\n",
       "      <td>2019-03-25</td>\n",
       "      <td>1</td>\n",
       "    </tr>\n",
       "    <tr>\n",
       "      <th>66</th>\n",
       "      <td>2019-04-04</td>\n",
       "      <td>1</td>\n",
       "    </tr>\n",
       "    <tr>\n",
       "      <th>67</th>\n",
       "      <td>2019-04-05</td>\n",
       "      <td>1</td>\n",
       "    </tr>\n",
       "    <tr>\n",
       "      <th>68</th>\n",
       "      <td>2019-04-07</td>\n",
       "      <td>1</td>\n",
       "    </tr>\n",
       "    <tr>\n",
       "      <th>69</th>\n",
       "      <td>2019-04-19</td>\n",
       "      <td>1</td>\n",
       "    </tr>\n",
       "    <tr>\n",
       "      <th>70</th>\n",
       "      <td>2019-04-20</td>\n",
       "      <td>1</td>\n",
       "    </tr>\n",
       "    <tr>\n",
       "      <th>71</th>\n",
       "      <td>2019-04-23</td>\n",
       "      <td>1</td>\n",
       "    </tr>\n",
       "    <tr>\n",
       "      <th>72</th>\n",
       "      <td>2019-04-24</td>\n",
       "      <td>1</td>\n",
       "    </tr>\n",
       "    <tr>\n",
       "      <th>73</th>\n",
       "      <td>2019-05-03</td>\n",
       "      <td>1</td>\n",
       "    </tr>\n",
       "    <tr>\n",
       "      <th>74</th>\n",
       "      <td>2019-06-03</td>\n",
       "      <td>1</td>\n",
       "    </tr>\n",
       "    <tr>\n",
       "      <th>75</th>\n",
       "      <td>2019-06-05</td>\n",
       "      <td>1</td>\n",
       "    </tr>\n",
       "    <tr>\n",
       "      <th>76</th>\n",
       "      <td>2019-06-07</td>\n",
       "      <td>1</td>\n",
       "    </tr>\n",
       "    <tr>\n",
       "      <th>77</th>\n",
       "      <td>2019-06-11</td>\n",
       "      <td>1</td>\n",
       "    </tr>\n",
       "    <tr>\n",
       "      <th>78</th>\n",
       "      <td>2019-06-20</td>\n",
       "      <td>1</td>\n",
       "    </tr>\n",
       "    <tr>\n",
       "      <th>79</th>\n",
       "      <td>2019-06-23</td>\n",
       "      <td>1</td>\n",
       "    </tr>\n",
       "    <tr>\n",
       "      <th>80</th>\n",
       "      <td>2019-06-30</td>\n",
       "      <td>1</td>\n",
       "    </tr>\n",
       "    <tr>\n",
       "      <th>81</th>\n",
       "      <td>2019-06-30</td>\n",
       "      <td>1</td>\n",
       "    </tr>\n",
       "    <tr>\n",
       "      <th>82</th>\n",
       "      <td>2019-06-23</td>\n",
       "      <td>1</td>\n",
       "    </tr>\n",
       "  </tbody>\n",
       "</table>\n",
       "<p>83 rows × 2 columns</p>\n",
       "</div>"
      ],
      "text/plain": [
       "         date  meterleak_count\n",
       "0  2018-05-10                1\n",
       "1  2018-07-05                1\n",
       "2  2018-07-10                1\n",
       "3  2018-07-11                1\n",
       "4  2018-07-15                1\n",
       "..        ...              ...\n",
       "78 2019-06-20                1\n",
       "79 2019-06-23                1\n",
       "80 2019-06-30                1\n",
       "81 2019-06-30                1\n",
       "82 2019-06-23                1\n",
       "\n",
       "[83 rows x 2 columns]"
      ]
     },
     "execution_count": 151,
     "metadata": {},
     "output_type": "execute_result"
    }
   ],
   "source": [
    "agr_df.head()"
   ]
  },
  {
   "cell_type": "code",
   "execution_count": 152,
   "metadata": {
    "collapsed": true
   },
   "outputs": [],
   "source": [
    "#Obtaining sums for particular days\n",
    "sumed_df = Tst_df.groupby(Tst_df['date'].dt.date).sum()"
   ]
  },
  {
   "cell_type": "code",
   "execution_count": null,
   "metadata": {
    "collapsed": true
   },
   "outputs": [],
   "source": []
  },
  {
   "cell_type": "markdown",
   "metadata": {},
   "source": [
    "## Valve leak"
   ]
  },
  {
   "cell_type": "code",
   "execution_count": 135,
   "metadata": {
    "collapsed": true
   },
   "outputs": [],
   "source": [
    "data_valveleak = df_esk[['date','DESC_PROBLEM_ACTUAL']]"
   ]
  },
  {
   "cell_type": "code",
   "execution_count": 136,
   "metadata": {
    "collapsed": false
   },
   "outputs": [],
   "source": [
    "#### valve leak\n",
    "# Checking weather the description text contains the desired pattern\n",
    "truth_value = []\n",
    "key_words = ['[Vv][Aa][Ll][Vv][Ee][\\s\\S][Ll][Ee][Aa][Kk]']\n",
    "for word in key_words:\n",
    "    for txt in data_valveleak['DESC_PROBLEM_ACTUAL']:\n",
    "        truth_value.append([check(key_words,txt)])\n",
    "    valve = np.array(truth_value)  "
   ]
  },
  {
   "cell_type": "code",
   "execution_count": 137,
   "metadata": {
    "collapsed": true
   },
   "outputs": [],
   "source": [
    "#adding the new column \"meter leak\"\n",
    "data_valveleak = data_valveleak.assign(Valve_leak = valve)"
   ]
  },
  {
   "cell_type": "code",
   "execution_count": 138,
   "metadata": {
    "collapsed": false
   },
   "outputs": [
    {
     "data": {
      "text/html": [
       "<div>\n",
       "<style scoped>\n",
       "    .dataframe tbody tr th:only-of-type {\n",
       "        vertical-align: middle;\n",
       "    }\n",
       "\n",
       "    .dataframe tbody tr th {\n",
       "        vertical-align: top;\n",
       "    }\n",
       "\n",
       "    .dataframe thead th {\n",
       "        text-align: right;\n",
       "    }\n",
       "</style>\n",
       "<table border=\"1\" class=\"dataframe\">\n",
       "  <thead>\n",
       "    <tr style=\"text-align: right;\">\n",
       "      <th></th>\n",
       "      <th>date</th>\n",
       "      <th>DESC_PROBLEM_ACTUAL</th>\n",
       "      <th>Valve_leak</th>\n",
       "    </tr>\n",
       "  </thead>\n",
       "  <tbody>\n",
       "    <tr>\n",
       "      <th>0</th>\n",
       "      <td>2017-11-13</td>\n",
       "      <td>Esk J1519 Imizikayifani Primary School meter n...</td>\n",
       "      <td>False</td>\n",
       "    </tr>\n",
       "    <tr>\n",
       "      <th>1</th>\n",
       "      <td>2018-05-08</td>\n",
       "      <td>VUL 286 \\tMQHELE\\tURK9668 MR J MAZIBUKO - \\tMe...</td>\n",
       "      <td>False</td>\n",
       "    </tr>\n",
       "    <tr>\n",
       "      <th>2</th>\n",
       "      <td>2018-05-09</td>\n",
       "      <td>ESK H3641 IPHOTHWE\\tHOLINESS UNION CHURCH\\tmet...</td>\n",
       "      <td>False</td>\n",
       "    </tr>\n",
       "    <tr>\n",
       "      <th>3</th>\n",
       "      <td>2018-05-09</td>\n",
       "      <td>ESK H752 ISIPHIKELE meter number PM141179876 P...</td>\n",
       "      <td>False</td>\n",
       "    </tr>\n",
       "    <tr>\n",
       "      <th>4</th>\n",
       "      <td>2018-05-09</td>\n",
       "      <td>ESK H760  ISIPHIKELE meter number 175011643 Ms...</td>\n",
       "      <td>False</td>\n",
       "    </tr>\n",
       "  </tbody>\n",
       "</table>\n",
       "</div>"
      ],
      "text/plain": [
       "         date                                DESC_PROBLEM_ACTUAL  Valve_leak\n",
       "0  2017-11-13  Esk J1519 Imizikayifani Primary School meter n...       False\n",
       "1  2018-05-08  VUL 286 \\tMQHELE\\tURK9668 MR J MAZIBUKO - \\tMe...       False\n",
       "2  2018-05-09  ESK H3641 IPHOTHWE\\tHOLINESS UNION CHURCH\\tmet...       False\n",
       "3  2018-05-09  ESK H752 ISIPHIKELE meter number PM141179876 P...       False\n",
       "4  2018-05-09  ESK H760  ISIPHIKELE meter number 175011643 Ms...       False"
      ]
     },
     "execution_count": 138,
     "metadata": {},
     "output_type": "execute_result"
    }
   ],
   "source": [
    "data_valveleak.head()"
   ]
  },
  {
   "cell_type": "code",
   "execution_count": 139,
   "metadata": {
    "collapsed": true
   },
   "outputs": [],
   "source": [
    "#Picking rows with true values for meter leaks\n",
    "valveleak_data = data_valveleak.loc[(data_valveleak['Valve_leak'] == True)].reset_index()"
   ]
  },
  {
   "cell_type": "code",
   "execution_count": 140,
   "metadata": {
    "collapsed": false
   },
   "outputs": [],
   "source": [
    "valveleak_data['broken valve'] = 1"
   ]
  },
  {
   "cell_type": "code",
   "execution_count": 141,
   "metadata": {
    "collapsed": false
   },
   "outputs": [
    {
     "data": {
      "text/html": [
       "<div>\n",
       "<style scoped>\n",
       "    .dataframe tbody tr th:only-of-type {\n",
       "        vertical-align: middle;\n",
       "    }\n",
       "\n",
       "    .dataframe tbody tr th {\n",
       "        vertical-align: top;\n",
       "    }\n",
       "\n",
       "    .dataframe thead th {\n",
       "        text-align: right;\n",
       "    }\n",
       "</style>\n",
       "<table border=\"1\" class=\"dataframe\">\n",
       "  <thead>\n",
       "    <tr style=\"text-align: right;\">\n",
       "      <th></th>\n",
       "      <th>index</th>\n",
       "      <th>date</th>\n",
       "      <th>DESC_PROBLEM_ACTUAL</th>\n",
       "      <th>Valve_leak</th>\n",
       "      <th>broken valve</th>\n",
       "    </tr>\n",
       "  </thead>\n",
       "  <tbody>\n",
       "    <tr>\n",
       "      <th>0</th>\n",
       "      <td>501</td>\n",
       "      <td>2018-12-07</td>\n",
       "      <td>Valve leak at J2 Section Mdlebentshona Esikhal...</td>\n",
       "      <td>True</td>\n",
       "      <td>1</td>\n",
       "    </tr>\n",
       "  </tbody>\n",
       "</table>\n",
       "</div>"
      ],
      "text/plain": [
       "   index        date                                DESC_PROBLEM_ACTUAL  \\\n",
       "0    501  2018-12-07  Valve leak at J2 Section Mdlebentshona Esikhal...   \n",
       "\n",
       "   Valve_leak  broken valve  \n",
       "0        True             1  "
      ]
     },
     "execution_count": 141,
     "metadata": {},
     "output_type": "execute_result"
    }
   ],
   "source": [
    "valveleak_data.head()"
   ]
  },
  {
   "cell_type": "markdown",
   "metadata": {},
   "source": [
    "## Combining the data frames as per segmentation"
   ]
  },
  {
   "cell_type": "code",
   "execution_count": 68,
   "metadata": {
    "collapsed": false
   },
   "outputs": [
    {
     "data": {
      "text/plain": [
       "datetime.datetime"
      ]
     },
     "execution_count": 68,
     "metadata": {},
     "output_type": "execute_result"
    }
   ],
   "source": [
    "# Experimental code\n",
    "type(valveleak_data.DATE_CREATED[0])"
   ]
  },
  {
   "cell_type": "code",
   "execution_count": null,
   "metadata": {
    "collapsed": true
   },
   "outputs": [],
   "source": []
  },
  {
   "cell_type": "markdown",
   "metadata": {},
   "source": [
    "## pipe leak"
   ]
  },
  {
   "cell_type": "code",
   "execution_count": 22,
   "metadata": {
    "collapsed": true
   },
   "outputs": [],
   "source": [
    "#### Pipe leak\n",
    "# Checking weather the description text contains the desired pattern\n",
    "truth_value = []\n",
    "key_words = ['[Pp][Ii][Pp][Ee][\\s\\S][Ll][Ee][Aa][Kk]']\n",
    "for word in key_words:\n",
    "    for txt in data_int['DESC_PROBLEM_ACTUAL']:\n",
    "        truth_value.append([check(key_words,txt)])\n",
    "    pipe_l = np.array(truth_value)  "
   ]
  },
  {
   "cell_type": "code",
   "execution_count": 23,
   "metadata": {
    "collapsed": true
   },
   "outputs": [],
   "source": [
    "#adding the new column \"meter leak\"\n",
    "data_int = data_int.assign(Pipe_leak = pipe_l)"
   ]
  },
  {
   "cell_type": "code",
   "execution_count": 24,
   "metadata": {
    "collapsed": false,
    "scrolled": false
   },
   "outputs": [
    {
     "data": {
      "text/html": [
       "<div>\n",
       "<style scoped>\n",
       "    .dataframe tbody tr th:only-of-type {\n",
       "        vertical-align: middle;\n",
       "    }\n",
       "\n",
       "    .dataframe tbody tr th {\n",
       "        vertical-align: top;\n",
       "    }\n",
       "\n",
       "    .dataframe thead th {\n",
       "        text-align: right;\n",
       "    }\n",
       "</style>\n",
       "<table border=\"1\" class=\"dataframe\">\n",
       "  <thead>\n",
       "    <tr style=\"text-align: right;\">\n",
       "      <th></th>\n",
       "      <th>DATE_CREATED</th>\n",
       "      <th>DESC_PROBLEM_ACTUAL</th>\n",
       "      <th>Eskhawini</th>\n",
       "      <th>Esk_H</th>\n",
       "      <th>Esk_J</th>\n",
       "      <th>Leaks</th>\n",
       "      <th>Meter_leak</th>\n",
       "      <th>Pipe_burst</th>\n",
       "      <th>Pipe_leak</th>\n",
       "    </tr>\n",
       "  </thead>\n",
       "  <tbody>\n",
       "    <tr>\n",
       "      <th>0</th>\n",
       "      <td>2016-12-19 08:54:00</td>\n",
       "      <td>CUT GRASS</td>\n",
       "      <td>False</td>\n",
       "      <td>False</td>\n",
       "      <td>False</td>\n",
       "      <td>False</td>\n",
       "      <td>False</td>\n",
       "      <td>False</td>\n",
       "      <td>False</td>\n",
       "    </tr>\n",
       "    <tr>\n",
       "      <th>1</th>\n",
       "      <td>2016-06-02 08:21:00</td>\n",
       "      <td>Stand 1390 KHOZA TRIBAL - gps 3200576-2867544 ...</td>\n",
       "      <td>False</td>\n",
       "      <td>False</td>\n",
       "      <td>False</td>\n",
       "      <td>False</td>\n",
       "      <td>False</td>\n",
       "      <td>False</td>\n",
       "      <td>False</td>\n",
       "    </tr>\n",
       "    <tr>\n",
       "      <th>2</th>\n",
       "      <td>2016-06-14 12:38:00</td>\n",
       "      <td>Lot: 15128 Mzingazi - New water connection - S...</td>\n",
       "      <td>False</td>\n",
       "      <td>False</td>\n",
       "      <td>False</td>\n",
       "      <td>False</td>\n",
       "      <td>False</td>\n",
       "      <td>False</td>\n",
       "      <td>False</td>\n",
       "    </tr>\n",
       "    <tr>\n",
       "      <th>3</th>\n",
       "      <td>2016-11-21 09:16:00</td>\n",
       "      <td>Mzingazi 294  New water connection  SM Cele  0...</td>\n",
       "      <td>False</td>\n",
       "      <td>False</td>\n",
       "      <td>False</td>\n",
       "      <td>False</td>\n",
       "      <td>False</td>\n",
       "      <td>False</td>\n",
       "      <td>False</td>\n",
       "    </tr>\n",
       "    <tr>\n",
       "      <th>4</th>\n",
       "      <td>2017-03-23 14:38:00</td>\n",
       "      <td>Stand 564 MKhoma 32.00545 - 28.66595 meter no ...</td>\n",
       "      <td>False</td>\n",
       "      <td>False</td>\n",
       "      <td>False</td>\n",
       "      <td>False</td>\n",
       "      <td>False</td>\n",
       "      <td>False</td>\n",
       "      <td>False</td>\n",
       "    </tr>\n",
       "  </tbody>\n",
       "</table>\n",
       "</div>"
      ],
      "text/plain": [
       "          DATE_CREATED                                DESC_PROBLEM_ACTUAL  \\\n",
       "0  2016-12-19 08:54:00                                          CUT GRASS   \n",
       "1  2016-06-02 08:21:00  Stand 1390 KHOZA TRIBAL - gps 3200576-2867544 ...   \n",
       "2  2016-06-14 12:38:00  Lot: 15128 Mzingazi - New water connection - S...   \n",
       "3  2016-11-21 09:16:00  Mzingazi 294  New water connection  SM Cele  0...   \n",
       "4  2017-03-23 14:38:00  Stand 564 MKhoma 32.00545 - 28.66595 meter no ...   \n",
       "\n",
       "   Eskhawini  Esk_H  Esk_J  Leaks  Meter_leak  Pipe_burst  Pipe_leak  \n",
       "0      False  False  False  False       False       False      False  \n",
       "1      False  False  False  False       False       False      False  \n",
       "2      False  False  False  False       False       False      False  \n",
       "3      False  False  False  False       False       False      False  \n",
       "4      False  False  False  False       False       False      False  "
      ]
     },
     "execution_count": 24,
     "metadata": {},
     "output_type": "execute_result"
    }
   ],
   "source": [
    "data_int.head()"
   ]
  },
  {
   "cell_type": "code",
   "execution_count": null,
   "metadata": {
    "collapsed": true
   },
   "outputs": [],
   "source": [
    "#Pulling out the propotion of the data that is related only to Eskhawini\n"
   ]
  },
  {
   "cell_type": "code",
   "execution_count": 38,
   "metadata": {
    "collapsed": false,
    "scrolled": true
   },
   "outputs": [
    {
     "data": {
      "text/plain": [
       "False    20611\n",
       "True      2236\n",
       "Name: Esk_H, dtype: int64"
      ]
     },
     "execution_count": 38,
     "metadata": {},
     "output_type": "execute_result"
    }
   ],
   "source": [
    "data_int['Esk_H'].value_counts()"
   ]
  },
  {
   "cell_type": "code",
   "execution_count": null,
   "metadata": {
    "collapsed": true
   },
   "outputs": [],
   "source": []
  },
  {
   "cell_type": "markdown",
   "metadata": {},
   "source": [
    "# Experimental code"
   ]
  },
  {
   "cell_type": "code",
   "execution_count": 18,
   "metadata": {
    "collapsed": true
   },
   "outputs": [],
   "source": [
    "#### leak\n",
    "# Checking weather the description text contains the desired pattern\n",
    "truth_value = [] \n",
    "key_words = ['[^a-zA-Z0-9_]J[\\d\\s]']\n",
    "for word in key_words:\n",
    "    for txt in data_int['DESC_PROBLEM_ACTUAL']:\n",
    "        truth_value.append([check(key_words,txt)])\n",
    "    lk = np.array(truth_value)  "
   ]
  },
  {
   "cell_type": "code",
   "execution_count": 19,
   "metadata": {
    "collapsed": true
   },
   "outputs": [],
   "source": [
    "# Trails\n",
    "\n",
    "#### Pipe_leak\n",
    "# Checking weather the description text contains the desired pattern\n",
    "truth_value = []\n",
    "key_words = ['[\\s\\S]J[\\d\\s]']\n",
    "for word in key_words:\n",
    "    for txt in data_int['DESC_PROBLEM_ACTUAL']:\n",
    "        truth_value.append([check(key_words,txt)])\n",
    "    kl = np.array(truth_value) "
   ]
  },
  {
   "cell_type": "code",
   "execution_count": 20,
   "metadata": {
    "collapsed": false
   },
   "outputs": [],
   "source": [
    "tru = (kl == True).sum()\n",
    "tr = (lk == True).sum()"
   ]
  },
  {
   "cell_type": "code",
   "execution_count": 21,
   "metadata": {
    "collapsed": false
   },
   "outputs": [
    {
     "data": {
      "text/plain": [
       "753"
      ]
     },
     "execution_count": 21,
     "metadata": {},
     "output_type": "execute_result"
    }
   ],
   "source": [
    "tru"
   ]
  },
  {
   "cell_type": "code",
   "execution_count": 22,
   "metadata": {
    "collapsed": false
   },
   "outputs": [
    {
     "data": {
      "text/plain": [
       "675"
      ]
     },
     "execution_count": 22,
     "metadata": {},
     "output_type": "execute_result"
    }
   ],
   "source": [
    "tr"
   ]
  },
  {
   "cell_type": "code",
   "execution_count": 30,
   "metadata": {
    "collapsed": false
   },
   "outputs": [],
   "source": [
    "#Extracting the subset of the data that speaks to Eskhawini\n",
    "Esk = data_int.loc[(data_int['Eskhawini']== True) | (data_int['Esk_H'] == True) | (data_int['Esk_J'] == True)]"
   ]
  },
  {
   "cell_type": "code",
   "execution_count": 34,
   "metadata": {
    "collapsed": false
   },
   "outputs": [
    {
     "data": {
      "text/plain": [
       "False    2960\n",
       "True      106\n",
       "Name: Meter_leak, dtype: int64"
      ]
     },
     "execution_count": 34,
     "metadata": {},
     "output_type": "execute_result"
    }
   ],
   "source": [
    "Esk['Meter_leak'].value_counts()"
   ]
  },
  {
   "cell_type": "code",
   "execution_count": 35,
   "metadata": {
    "collapsed": true
   },
   "outputs": [
    {
     "data": {
      "text/html": [
       "<div>\n",
       "<style scoped>\n",
       "    .dataframe tbody tr th:only-of-type {\n",
       "        vertical-align: middle;\n",
       "    }\n",
       "\n",
       "    .dataframe tbody tr th {\n",
       "        vertical-align: top;\n",
       "    }\n",
       "\n",
       "    .dataframe thead th {\n",
       "        text-align: right;\n",
       "    }\n",
       "</style>\n",
       "<table border=\"1\" class=\"dataframe\">\n",
       "  <thead>\n",
       "    <tr style=\"text-align: right;\">\n",
       "      <th></th>\n",
       "      <th>DATE_CREATED</th>\n",
       "      <th>DESC_PROBLEM_ACTUAL</th>\n",
       "      <th>Eskhawini</th>\n",
       "      <th>Esk_H</th>\n",
       "      <th>Esk_J</th>\n",
       "      <th>Leaks</th>\n",
       "      <th>Meter_leak</th>\n",
       "      <th>Pipe_burst</th>\n",
       "      <th>Pipe_leak</th>\n",
       "    </tr>\n",
       "  </thead>\n",
       "  <tbody>\n",
       "    <tr>\n",
       "      <th>5</th>\n",
       "      <td>2017-05-31 14:19:00</td>\n",
       "      <td>STAND 1635 KHANDISA RESERVE @ MKHWANAZI NORTH ...</td>\n",
       "      <td>False</td>\n",
       "      <td>True</td>\n",
       "      <td>False</td>\n",
       "      <td>False</td>\n",
       "      <td>False</td>\n",
       "      <td>False</td>\n",
       "      <td>False</td>\n",
       "    </tr>\n",
       "    <tr>\n",
       "      <th>27</th>\n",
       "      <td>2017-11-13 13:58:00</td>\n",
       "      <td>Esk J1519 Imizikayifani Primary School meter n...</td>\n",
       "      <td>False</td>\n",
       "      <td>False</td>\n",
       "      <td>True</td>\n",
       "      <td>False</td>\n",
       "      <td>False</td>\n",
       "      <td>False</td>\n",
       "      <td>False</td>\n",
       "    </tr>\n",
       "    <tr>\n",
       "      <th>46</th>\n",
       "      <td>2018-02-20 11:48:00</td>\n",
       "      <td>VULINDLELA 344 INVESTIGATE HIGH WATER CONSUMPTION</td>\n",
       "      <td>False</td>\n",
       "      <td>True</td>\n",
       "      <td>False</td>\n",
       "      <td>False</td>\n",
       "      <td>False</td>\n",
       "      <td>False</td>\n",
       "      <td>False</td>\n",
       "    </tr>\n",
       "    <tr>\n",
       "      <th>47</th>\n",
       "      <td>2018-02-20 11:48:00</td>\n",
       "      <td>VULINDLELA 345 INVESTIGATE HIGH WATER CONSUMPTION</td>\n",
       "      <td>False</td>\n",
       "      <td>True</td>\n",
       "      <td>False</td>\n",
       "      <td>False</td>\n",
       "      <td>False</td>\n",
       "      <td>False</td>\n",
       "      <td>False</td>\n",
       "    </tr>\n",
       "    <tr>\n",
       "      <th>52</th>\n",
       "      <td>2018-03-05 14:10:00</td>\n",
       "      <td>MKWANAZI NORTH GPS CORDINATES 31.83905-28.8774...</td>\n",
       "      <td>False</td>\n",
       "      <td>True</td>\n",
       "      <td>False</td>\n",
       "      <td>False</td>\n",
       "      <td>False</td>\n",
       "      <td>False</td>\n",
       "      <td>False</td>\n",
       "    </tr>\n",
       "  </tbody>\n",
       "</table>\n",
       "</div>"
      ],
      "text/plain": [
       "           DATE_CREATED                                DESC_PROBLEM_ACTUAL  \\\n",
       "5   2017-05-31 14:19:00  STAND 1635 KHANDISA RESERVE @ MKHWANAZI NORTH ...   \n",
       "27  2017-11-13 13:58:00  Esk J1519 Imizikayifani Primary School meter n...   \n",
       "46  2018-02-20 11:48:00  VULINDLELA 344 INVESTIGATE HIGH WATER CONSUMPTION   \n",
       "47  2018-02-20 11:48:00  VULINDLELA 345 INVESTIGATE HIGH WATER CONSUMPTION   \n",
       "52  2018-03-05 14:10:00  MKWANAZI NORTH GPS CORDINATES 31.83905-28.8774...   \n",
       "\n",
       "    Eskhawini  Esk_H  Esk_J  Leaks  Meter_leak  Pipe_burst  Pipe_leak  \n",
       "5       False   True  False  False       False       False      False  \n",
       "27      False  False   True  False       False       False      False  \n",
       "46      False   True  False  False       False       False      False  \n",
       "47      False   True  False  False       False       False      False  \n",
       "52      False   True  False  False       False       False      False  "
      ]
     },
     "execution_count": 35,
     "metadata": {},
     "output_type": "execute_result"
    }
   ],
   "source": [
    "Esk.head()"
   ]
  },
  {
   "cell_type": "code",
   "execution_count": 36,
   "metadata": {
    "collapsed": true
   },
   "outputs": [],
   "source": [
    "#Extracting the subset of Eskhawini data that speaks to leaks \n",
    "# Assuming leaks implies Water leaks\n",
    "Esk_leaks = Esk.loc[(Esk['Leaks']== True) ]  # | (data_int['Esk_H'] == True) | (data_int['Esk_J'] == True)]"
   ]
  },
  {
   "cell_type": "code",
   "execution_count": 40,
   "metadata": {
    "collapsed": true
   },
   "outputs": [
    {
     "data": {
      "text/html": [
       "<div>\n",
       "<style scoped>\n",
       "    .dataframe tbody tr th:only-of-type {\n",
       "        vertical-align: middle;\n",
       "    }\n",
       "\n",
       "    .dataframe tbody tr th {\n",
       "        vertical-align: top;\n",
       "    }\n",
       "\n",
       "    .dataframe thead th {\n",
       "        text-align: right;\n",
       "    }\n",
       "</style>\n",
       "<table border=\"1\" class=\"dataframe\">\n",
       "  <thead>\n",
       "    <tr style=\"text-align: right;\">\n",
       "      <th></th>\n",
       "      <th>DATE_CREATED</th>\n",
       "      <th>DESC_PROBLEM_ACTUAL</th>\n",
       "      <th>Eskhawini</th>\n",
       "      <th>Esk_H</th>\n",
       "      <th>Esk_J</th>\n",
       "      <th>Leaks</th>\n",
       "      <th>Meter_leak</th>\n",
       "      <th>Pipe_burst</th>\n",
       "      <th>Pipe_leak</th>\n",
       "    </tr>\n",
       "  </thead>\n",
       "  <tbody>\n",
       "    <tr>\n",
       "      <th>149</th>\n",
       "      <td>2018-05-10 14:28:00</td>\n",
       "      <td>Meter leak @ J2202 Insephe Eskhawini contact M...</td>\n",
       "      <td>True</td>\n",
       "      <td>False</td>\n",
       "      <td>True</td>\n",
       "      <td>True</td>\n",
       "      <td>True</td>\n",
       "      <td>False</td>\n",
       "      <td>False</td>\n",
       "    </tr>\n",
       "    <tr>\n",
       "      <th>225</th>\n",
       "      <td>2018-06-11 08:43:00</td>\n",
       "      <td>MKHWANAZI NORTH WATER LEAK AT GULUKUDU KWAMKHW...</td>\n",
       "      <td>False</td>\n",
       "      <td>True</td>\n",
       "      <td>False</td>\n",
       "      <td>True</td>\n",
       "      <td>False</td>\n",
       "      <td>False</td>\n",
       "      <td>False</td>\n",
       "    </tr>\n",
       "    <tr>\n",
       "      <th>233</th>\n",
       "      <td>2018-06-20 11:07:00</td>\n",
       "      <td>MKHWANAZI NORTH WATER LEAK AT ESIQALO KWAMAKHWASA</td>\n",
       "      <td>False</td>\n",
       "      <td>True</td>\n",
       "      <td>False</td>\n",
       "      <td>True</td>\n",
       "      <td>False</td>\n",
       "      <td>False</td>\n",
       "      <td>False</td>\n",
       "    </tr>\n",
       "    <tr>\n",
       "      <th>245</th>\n",
       "      <td>2018-06-25 08:52:00</td>\n",
       "      <td>MKHWANAZI NORTH WATER LEAK AT AT MVUZEMVUZE T99</td>\n",
       "      <td>False</td>\n",
       "      <td>True</td>\n",
       "      <td>False</td>\n",
       "      <td>True</td>\n",
       "      <td>False</td>\n",
       "      <td>False</td>\n",
       "      <td>False</td>\n",
       "    </tr>\n",
       "    <tr>\n",
       "      <th>312</th>\n",
       "      <td>2018-07-03 08:29:00</td>\n",
       "      <td>MKHWANAZI NORTH WATER LEAK AT QAMBOKWETHU</td>\n",
       "      <td>False</td>\n",
       "      <td>True</td>\n",
       "      <td>False</td>\n",
       "      <td>True</td>\n",
       "      <td>False</td>\n",
       "      <td>False</td>\n",
       "      <td>False</td>\n",
       "    </tr>\n",
       "  </tbody>\n",
       "</table>\n",
       "</div>"
      ],
      "text/plain": [
       "            DATE_CREATED                                DESC_PROBLEM_ACTUAL  \\\n",
       "149  2018-05-10 14:28:00  Meter leak @ J2202 Insephe Eskhawini contact M...   \n",
       "225  2018-06-11 08:43:00  MKHWANAZI NORTH WATER LEAK AT GULUKUDU KWAMKHW...   \n",
       "233  2018-06-20 11:07:00  MKHWANAZI NORTH WATER LEAK AT ESIQALO KWAMAKHWASA   \n",
       "245  2018-06-25 08:52:00    MKHWANAZI NORTH WATER LEAK AT AT MVUZEMVUZE T99   \n",
       "312  2018-07-03 08:29:00          MKHWANAZI NORTH WATER LEAK AT QAMBOKWETHU   \n",
       "\n",
       "     Eskhawini  Esk_H  Esk_J  Leaks  Meter_leak  Pipe_burst  Pipe_leak  \n",
       "149       True  False   True   True        True       False      False  \n",
       "225      False   True  False   True       False       False      False  \n",
       "233      False   True  False   True       False       False      False  \n",
       "245      False   True  False   True       False       False      False  \n",
       "312      False   True  False   True       False       False      False  "
      ]
     },
     "execution_count": 40,
     "metadata": {},
     "output_type": "execute_result"
    }
   ],
   "source": [
    "Esk_leaks.head()"
   ]
  },
  {
   "cell_type": "code",
   "execution_count": 37,
   "metadata": {
    "collapsed": false,
    "scrolled": true
   },
   "outputs": [],
   "source": [
    "pat = ['[Pp][Ii][Pp][Ee][\\s\\S][Ll][Ee][Aa][Kk]']\n",
    "txt = ' Jupipe pipeleak Jand Romeo Jip MaJic'\n",
    "testing = check(pat,txt)"
   ]
  },
  {
   "cell_type": "code",
   "execution_count": 38,
   "metadata": {
    "collapsed": false
   },
   "outputs": [
    {
     "data": {
      "text/plain": [
       "False"
      ]
     },
     "execution_count": 38,
     "metadata": {},
     "output_type": "execute_result"
    }
   ],
   "source": [
    "testing "
   ]
  },
  {
   "cell_type": "code",
   "execution_count": 25,
   "metadata": {
    "collapsed": true
   },
   "outputs": [],
   "source": [
    "pat = ['^J[\\d\\s]']\n",
    "txt = 'J uliate  Jand Romeo Jip MaJic'\n",
    "testin = check(pat,txt)"
   ]
  },
  {
   "cell_type": "code",
   "execution_count": 26,
   "metadata": {
    "collapsed": false
   },
   "outputs": [
    {
     "data": {
      "text/plain": [
       "True"
      ]
     },
     "execution_count": 26,
     "metadata": {},
     "output_type": "execute_result"
    }
   ],
   "source": [
    "testin"
   ]
  },
  {
   "cell_type": "code",
   "execution_count": null,
   "metadata": {
    "collapsed": true
   },
   "outputs": [],
   "source": []
  }
 ],
 "metadata": {
  "kernelspec": {
   "display_name": "py3tst",
   "language": "python",
   "name": "py3tst"
  },
  "language_info": {
   "codemirror_mode": {
    "name": "ipython",
    "version": 3
   },
   "file_extension": ".py",
   "mimetype": "text/x-python",
   "name": "python",
   "nbconvert_exporter": "python",
   "pygments_lexer": "ipython3",
   "version": "3.6.8"
  }
 },
 "nbformat": 4,
 "nbformat_minor": 2
}
