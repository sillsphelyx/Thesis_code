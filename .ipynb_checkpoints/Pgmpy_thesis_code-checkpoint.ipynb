{
 "cells": [
  {
   "cell_type": "code",
   "execution_count": 1,
   "metadata": {
    "collapsed": false
   },
   "outputs": [],
   "source": [
    "import pandas as pd\n",
    "import wrapt\n",
    "from sklearn.model_selection import train_test_split\n",
    "from sklearn.metrics import accuracy_score\n",
    "from pgmpy.models import BayesianModel\n",
    "from pgmpy.estimators import MaximumLikelihoodEstimator\n",
    "from pgmpy.factors.discrete import TabularCPD\n",
    "import warnings\n",
    "warnings.filterwarnings('ignore')"
   ]
  },
  {
   "cell_type": "markdown",
   "metadata": {},
   "source": [
    "# Base models"
   ]
  },
  {
   "cell_type": "markdown",
   "metadata": {},
   "source": [
    "# Meter Leak"
   ]
  },
  {
   "cell_type": "code",
   "execution_count": 2,
   "metadata": {
    "collapsed": true
   },
   "outputs": [
    {
     "data": {
      "text/html": [
       "<div>\n",
       "<style scoped>\n",
       "    .dataframe tbody tr th:only-of-type {\n",
       "        vertical-align: middle;\n",
       "    }\n",
       "\n",
       "    .dataframe tbody tr th {\n",
       "        vertical-align: top;\n",
       "    }\n",
       "\n",
       "    .dataframe thead th {\n",
       "        text-align: right;\n",
       "    }\n",
       "</style>\n",
       "<table border=\"1\" class=\"dataframe\">\n",
       "  <thead>\n",
       "    <tr style=\"text-align: right;\">\n",
       "      <th></th>\n",
       "      <th>Prs_ds_disc</th>\n",
       "      <th>Prs_us_disc</th>\n",
       "      <th>MinTemp_disc</th>\n",
       "      <th>MaxTemp_disc</th>\n",
       "      <th>Avg_Temp_disc</th>\n",
       "      <th>Temp_range_disc</th>\n",
       "      <th>Rain_disc</th>\n",
       "      <th>meterleak_count</th>\n",
       "    </tr>\n",
       "  </thead>\n",
       "  <tbody>\n",
       "    <tr>\n",
       "      <th>0</th>\n",
       "      <td>2</td>\n",
       "      <td>1</td>\n",
       "      <td>0</td>\n",
       "      <td>0</td>\n",
       "      <td>0</td>\n",
       "      <td>2</td>\n",
       "      <td>0</td>\n",
       "      <td>0</td>\n",
       "    </tr>\n",
       "    <tr>\n",
       "      <th>1</th>\n",
       "      <td>2</td>\n",
       "      <td>1</td>\n",
       "      <td>1</td>\n",
       "      <td>2</td>\n",
       "      <td>1</td>\n",
       "      <td>2</td>\n",
       "      <td>0</td>\n",
       "      <td>0</td>\n",
       "    </tr>\n",
       "    <tr>\n",
       "      <th>2</th>\n",
       "      <td>2</td>\n",
       "      <td>1</td>\n",
       "      <td>0</td>\n",
       "      <td>0</td>\n",
       "      <td>0</td>\n",
       "      <td>2</td>\n",
       "      <td>0</td>\n",
       "      <td>0</td>\n",
       "    </tr>\n",
       "    <tr>\n",
       "      <th>3</th>\n",
       "      <td>2</td>\n",
       "      <td>1</td>\n",
       "      <td>0</td>\n",
       "      <td>0</td>\n",
       "      <td>0</td>\n",
       "      <td>2</td>\n",
       "      <td>0</td>\n",
       "      <td>0</td>\n",
       "    </tr>\n",
       "    <tr>\n",
       "      <th>4</th>\n",
       "      <td>2</td>\n",
       "      <td>2</td>\n",
       "      <td>0</td>\n",
       "      <td>0</td>\n",
       "      <td>0</td>\n",
       "      <td>2</td>\n",
       "      <td>1</td>\n",
       "      <td>1</td>\n",
       "    </tr>\n",
       "  </tbody>\n",
       "</table>\n",
       "</div>"
      ],
      "text/plain": [
       "   Prs_ds_disc  Prs_us_disc  MinTemp_disc  MaxTemp_disc  Avg_Temp_disc  \\\n",
       "0            2            1             0             0              0   \n",
       "1            2            1             1             2              1   \n",
       "2            2            1             0             0              0   \n",
       "3            2            1             0             0              0   \n",
       "4            2            2             0             0              0   \n",
       "\n",
       "   Temp_range_disc  Rain_disc  meterleak_count  \n",
       "0                2          0                0  \n",
       "1                2          0                0  \n",
       "2                2          0                0  \n",
       "3                2          0                0  \n",
       "4                2          1                1  "
      ]
     },
     "execution_count": 2,
     "metadata": {},
     "output_type": "execute_result"
    }
   ],
   "source": [
    "# Data \n",
    "df_ml = pd.read_csv('meter_leak_pred_data.csv')\n",
    "df_ml.head()"
   ]
  },
  {
   "cell_type": "code",
   "execution_count": 3,
   "metadata": {
    "collapsed": true
   },
   "outputs": [],
   "source": [
    "# Separating independent variables(predictors) and the target (dependant) variable\n",
    "X_ml = df_ml[['Prs_ds_disc','Prs_us_disc','Temp_range_disc', 'Avg_Temp_disc','Rain_disc']]\n",
    "y_ml = df_ml.meterleak_count"
   ]
  },
  {
   "cell_type": "code",
   "execution_count": 4,
   "metadata": {
    "collapsed": false
   },
   "outputs": [],
   "source": [
    "#Spliting the train and test sets on a 70:30 basis\n",
    "X_train_ml, X_test_ml, y_train_ml, y_test_ml = train_test_split(X_ml, y_ml, test_size = .3)"
   ]
  },
  {
   "cell_type": "code",
   "execution_count": 5,
   "metadata": {
    "collapsed": false,
    "scrolled": true
   },
   "outputs": [],
   "source": [
    "# Joining the train set for model development\n",
    "X_train_ml['meterleak_count'] = y_train_ml"
   ]
  },
  {
   "cell_type": "code",
   "execution_count": 8,
   "metadata": {
    "collapsed": true
   },
   "outputs": [],
   "source": [
    "#frame = df_ml[['Prs_ds_disc', 'Temp_range_disc', 'Rain_disc', 'meterleak_count']]"
   ]
  },
  {
   "cell_type": "code",
   "execution_count": 6,
   "metadata": {
    "collapsed": true
   },
   "outputs": [],
   "source": [
    "#data = pd.DataFrame(data={'A': [0, 0, 1], 'B': [0, 1, 0], 'C': [1, 1, 0]})\n",
    "model_meterleak = BayesianModel([('Prs_ds_disc', 'meterleak_count'), ('Temp_range_disc', 'meterleak_count'), ('Rain_disc', 'meterleak_count') ])\n",
    "model_meterleak.fit(X_train_ml)\n",
    "#model1.get_cpds()"
   ]
  },
  {
   "cell_type": "code",
   "execution_count": 9,
   "metadata": {
    "collapsed": false
   },
   "outputs": [],
   "source": [
    "# Alligning test set with data model variables\n",
    "X_test_ml = X_test_ml[['Prs_ds_disc','Temp_range_disc','Rain_disc']]"
   ]
  },
  {
   "cell_type": "code",
   "execution_count": 10,
   "metadata": {
    "collapsed": false
   },
   "outputs": [],
   "source": [
    "# Using fitted model to obtain predictions based on test set\n",
    "y_pred_meterleak = model_meterleak.predict(X_test_ml)\n",
    "#y_pred_meterleak2 = model_meterleak2.predict(X_test_ml)"
   ]
  },
  {
   "cell_type": "code",
   "execution_count": 12,
   "metadata": {
    "collapsed": false
   },
   "outputs": [
    {
     "name": "stdout",
     "output_type": "stream",
     "text": [
      "0.8363636363636363\n"
     ]
    }
   ],
   "source": [
    "# Measuring the accuracy of the models based on the test set\n",
    "print(accuracy_score(y_pred_meterleak, y_test_ml))\n",
    "#print(accuracy_score(y_pred_meterleak2, y_test_ml))"
   ]
  },
  {
   "cell_type": "code",
   "execution_count": 13,
   "metadata": {
    "collapsed": true
   },
   "outputs": [
    {
     "name": "stdout",
     "output_type": "stream",
     "text": [
      "+--------------------+----------+\n",
      "| Temp_range_disc(0) | 0.34902  |\n",
      "+--------------------+----------+\n",
      "| Temp_range_disc(1) | 0.305882 |\n",
      "+--------------------+----------+\n",
      "| Temp_range_disc(2) | 0.345098 |\n",
      "+--------------------+----------+\n"
     ]
    }
   ],
   "source": [
    "# Printing a CPD with it's state names defined.\n",
    "print(model_meterleak.get_cpds('Temp_range_disc'))"
   ]
  },
  {
   "cell_type": "markdown",
   "metadata": {},
   "source": [
    "# Pipe leak"
   ]
  },
  {
   "cell_type": "code",
   "execution_count": 16,
   "metadata": {
    "collapsed": true
   },
   "outputs": [
    {
     "data": {
      "text/html": [
       "<div>\n",
       "<style scoped>\n",
       "    .dataframe tbody tr th:only-of-type {\n",
       "        vertical-align: middle;\n",
       "    }\n",
       "\n",
       "    .dataframe tbody tr th {\n",
       "        vertical-align: top;\n",
       "    }\n",
       "\n",
       "    .dataframe thead th {\n",
       "        text-align: right;\n",
       "    }\n",
       "</style>\n",
       "<table border=\"1\" class=\"dataframe\">\n",
       "  <thead>\n",
       "    <tr style=\"text-align: right;\">\n",
       "      <th></th>\n",
       "      <th>Prs_ds_disc</th>\n",
       "      <th>Prs_us_disc</th>\n",
       "      <th>MinTemp_disc</th>\n",
       "      <th>MaxTemp_disc</th>\n",
       "      <th>Avg_Temp_disc</th>\n",
       "      <th>Temp_range_disc</th>\n",
       "      <th>Rain_disc</th>\n",
       "      <th>pipeleak_count</th>\n",
       "    </tr>\n",
       "  </thead>\n",
       "  <tbody>\n",
       "    <tr>\n",
       "      <th>0</th>\n",
       "      <td>2</td>\n",
       "      <td>1</td>\n",
       "      <td>0</td>\n",
       "      <td>0</td>\n",
       "      <td>0</td>\n",
       "      <td>2</td>\n",
       "      <td>0</td>\n",
       "      <td>0</td>\n",
       "    </tr>\n",
       "    <tr>\n",
       "      <th>1</th>\n",
       "      <td>2</td>\n",
       "      <td>1</td>\n",
       "      <td>1</td>\n",
       "      <td>2</td>\n",
       "      <td>1</td>\n",
       "      <td>2</td>\n",
       "      <td>0</td>\n",
       "      <td>0</td>\n",
       "    </tr>\n",
       "    <tr>\n",
       "      <th>2</th>\n",
       "      <td>2</td>\n",
       "      <td>1</td>\n",
       "      <td>0</td>\n",
       "      <td>0</td>\n",
       "      <td>0</td>\n",
       "      <td>2</td>\n",
       "      <td>0</td>\n",
       "      <td>0</td>\n",
       "    </tr>\n",
       "    <tr>\n",
       "      <th>3</th>\n",
       "      <td>2</td>\n",
       "      <td>1</td>\n",
       "      <td>0</td>\n",
       "      <td>0</td>\n",
       "      <td>0</td>\n",
       "      <td>2</td>\n",
       "      <td>0</td>\n",
       "      <td>0</td>\n",
       "    </tr>\n",
       "    <tr>\n",
       "      <th>4</th>\n",
       "      <td>2</td>\n",
       "      <td>2</td>\n",
       "      <td>0</td>\n",
       "      <td>0</td>\n",
       "      <td>0</td>\n",
       "      <td>2</td>\n",
       "      <td>1</td>\n",
       "      <td>0</td>\n",
       "    </tr>\n",
       "  </tbody>\n",
       "</table>\n",
       "</div>"
      ],
      "text/plain": [
       "   Prs_ds_disc  Prs_us_disc  MinTemp_disc  MaxTemp_disc  Avg_Temp_disc  \\\n",
       "0            2            1             0             0              0   \n",
       "1            2            1             1             2              1   \n",
       "2            2            1             0             0              0   \n",
       "3            2            1             0             0              0   \n",
       "4            2            2             0             0              0   \n",
       "\n",
       "   Temp_range_disc  Rain_disc  pipeleak_count  \n",
       "0                2          0               0  \n",
       "1                2          0               0  \n",
       "2                2          0               0  \n",
       "3                2          0               0  \n",
       "4                2          1               0  "
      ]
     },
     "execution_count": 16,
     "metadata": {},
     "output_type": "execute_result"
    }
   ],
   "source": [
    "# Data \n",
    "df_pl = pd.read_csv('pipe_leak_pred_data.csv')\n",
    "df_pl.head()"
   ]
  },
  {
   "cell_type": "code",
   "execution_count": 18,
   "metadata": {
    "collapsed": false
   },
   "outputs": [],
   "source": [
    "# Separating independent variables(predictors) and the target (dependant) variable\n",
    "X_pl = df_pl[['Prs_ds_disc','Prs_us_disc','Temp_range_disc', 'Avg_Temp_disc','Rain_disc']]\n",
    "y_pl = df_pl.pipeleak_count"
   ]
  },
  {
   "cell_type": "code",
   "execution_count": 19,
   "metadata": {
    "collapsed": true
   },
   "outputs": [],
   "source": [
    "#Spliting the train and test sets on a 70:30 basis\n",
    "X_train_pl, X_test_pl, y_train_pl, y_test_pl = train_test_split(X_pl, y_pl, test_size = .3)"
   ]
  },
  {
   "cell_type": "code",
   "execution_count": 20,
   "metadata": {
    "collapsed": true
   },
   "outputs": [],
   "source": [
    "# Joining the train set for model development\n",
    "X_train_pl['meterleak_count'] = y_train_pl"
   ]
  },
  {
   "cell_type": "code",
   "execution_count": 21,
   "metadata": {
    "collapsed": true
   },
   "outputs": [],
   "source": [
    "#data = pd.DataFrame(data={'A': [0, 0, 1], 'B': [0, 1, 0], 'C': [1, 1, 0]})\n",
    "model_pipeleak = BayesianModel([('Prs_ds_disc', 'meterleak_count'), ('Temp_range_disc', 'meterleak_count'), ('Rain_disc', 'meterleak_count') ])\n",
    "model_pipeleak.fit(X_train_pl)\n",
    "#model1.get_cpds()"
   ]
  },
  {
   "cell_type": "code",
   "execution_count": 22,
   "metadata": {
    "collapsed": false
   },
   "outputs": [],
   "source": [
    "# Alligning test set with data model variables\n",
    "X_test_pl = X_test_pl[['Prs_ds_disc','Temp_range_disc','Rain_disc']]"
   ]
  },
  {
   "cell_type": "code",
   "execution_count": 23,
   "metadata": {
    "collapsed": true
   },
   "outputs": [],
   "source": [
    "# Using fitted model to obtain predictions based on test set\n",
    "y_pred_pipeleak = model_pipeleak.predict(X_test_pl)\n",
    "#y_pred_meterleak2 = model_meterleak2.predict(X_test_ml)"
   ]
  },
  {
   "cell_type": "code",
   "execution_count": 24,
   "metadata": {
    "collapsed": false
   },
   "outputs": [
    {
     "name": "stdout",
     "output_type": "stream",
     "text": [
      "0.8727272727272727\n"
     ]
    }
   ],
   "source": [
    "# Measuring the accuracy of the models based on the test set\n",
    "print(accuracy_score(y_pred_pipeleak, y_test_pl))\n"
   ]
  },
  {
   "cell_type": "code",
   "execution_count": 25,
   "metadata": {
    "collapsed": true
   },
   "outputs": [
    {
     "name": "stdout",
     "output_type": "stream",
     "text": [
      "+--------------------+----------+\n",
      "| Temp_range_disc(0) | 0.321569 |\n",
      "+--------------------+----------+\n",
      "| Temp_range_disc(1) | 0.34902  |\n",
      "+--------------------+----------+\n",
      "| Temp_range_disc(2) | 0.329412 |\n",
      "+--------------------+----------+\n"
     ]
    }
   ],
   "source": [
    "# Printing a CPD with it's state names defined.\n",
    "print(model_pipeleak.get_cpds('Temp_range_disc'))"
   ]
  },
  {
   "cell_type": "markdown",
   "metadata": {},
   "source": [
    "# Total daily leaks"
   ]
  },
  {
   "cell_type": "code",
   "execution_count": 36,
   "metadata": {
    "collapsed": false
   },
   "outputs": [
    {
     "data": {
      "text/html": [
       "<div>\n",
       "<style scoped>\n",
       "    .dataframe tbody tr th:only-of-type {\n",
       "        vertical-align: middle;\n",
       "    }\n",
       "\n",
       "    .dataframe tbody tr th {\n",
       "        vertical-align: top;\n",
       "    }\n",
       "\n",
       "    .dataframe thead th {\n",
       "        text-align: right;\n",
       "    }\n",
       "</style>\n",
       "<table border=\"1\" class=\"dataframe\">\n",
       "  <thead>\n",
       "    <tr style=\"text-align: right;\">\n",
       "      <th></th>\n",
       "      <th>Prs_ds_disc</th>\n",
       "      <th>Prs_us_disc</th>\n",
       "      <th>MinTemp_disc</th>\n",
       "      <th>MaxTemp_disc</th>\n",
       "      <th>Avg_Temp_disc</th>\n",
       "      <th>Temp_range_disc</th>\n",
       "      <th>Rain_disc</th>\n",
       "      <th>total_leak_count</th>\n",
       "    </tr>\n",
       "  </thead>\n",
       "  <tbody>\n",
       "    <tr>\n",
       "      <th>0</th>\n",
       "      <td>2</td>\n",
       "      <td>1</td>\n",
       "      <td>0</td>\n",
       "      <td>0</td>\n",
       "      <td>0</td>\n",
       "      <td>2</td>\n",
       "      <td>0</td>\n",
       "      <td>0</td>\n",
       "    </tr>\n",
       "    <tr>\n",
       "      <th>1</th>\n",
       "      <td>2</td>\n",
       "      <td>1</td>\n",
       "      <td>1</td>\n",
       "      <td>2</td>\n",
       "      <td>1</td>\n",
       "      <td>2</td>\n",
       "      <td>0</td>\n",
       "      <td>0</td>\n",
       "    </tr>\n",
       "    <tr>\n",
       "      <th>2</th>\n",
       "      <td>2</td>\n",
       "      <td>1</td>\n",
       "      <td>0</td>\n",
       "      <td>0</td>\n",
       "      <td>0</td>\n",
       "      <td>2</td>\n",
       "      <td>0</td>\n",
       "      <td>0</td>\n",
       "    </tr>\n",
       "    <tr>\n",
       "      <th>3</th>\n",
       "      <td>2</td>\n",
       "      <td>1</td>\n",
       "      <td>0</td>\n",
       "      <td>0</td>\n",
       "      <td>0</td>\n",
       "      <td>2</td>\n",
       "      <td>0</td>\n",
       "      <td>0</td>\n",
       "    </tr>\n",
       "    <tr>\n",
       "      <th>4</th>\n",
       "      <td>2</td>\n",
       "      <td>2</td>\n",
       "      <td>0</td>\n",
       "      <td>0</td>\n",
       "      <td>0</td>\n",
       "      <td>2</td>\n",
       "      <td>1</td>\n",
       "      <td>1</td>\n",
       "    </tr>\n",
       "  </tbody>\n",
       "</table>\n",
       "</div>"
      ],
      "text/plain": [
       "   Prs_ds_disc  Prs_us_disc  MinTemp_disc  MaxTemp_disc  Avg_Temp_disc  \\\n",
       "0            2            1             0             0              0   \n",
       "1            2            1             1             2              1   \n",
       "2            2            1             0             0              0   \n",
       "3            2            1             0             0              0   \n",
       "4            2            2             0             0              0   \n",
       "\n",
       "   Temp_range_disc  Rain_disc  total_leak_count  \n",
       "0                2          0                 0  \n",
       "1                2          0                 0  \n",
       "2                2          0                 0  \n",
       "3                2          0                 0  \n",
       "4                2          1                 1  "
      ]
     },
     "execution_count": 36,
     "metadata": {},
     "output_type": "execute_result"
    }
   ],
   "source": [
    "# Data \n",
    "df_tl = pd.read_csv('total_leak_pred_data.csv')\n",
    "df_tl.head()"
   ]
  },
  {
   "cell_type": "code",
   "execution_count": 37,
   "metadata": {
    "collapsed": true
   },
   "outputs": [],
   "source": [
    "# Separating independent variables(predictors) and the target (dependant) variable\n",
    "X_tl = df_tl[['Prs_ds_disc','Prs_us_disc','Temp_range_disc', 'Avg_Temp_disc','Rain_disc']]\n",
    "y_tl = df_tl.total_leak_count"
   ]
  },
  {
   "cell_type": "code",
   "execution_count": 38,
   "metadata": {
    "collapsed": true
   },
   "outputs": [],
   "source": [
    "#Spliting the train and test sets on a 70:30 basis\n",
    "X_train_tl, X_test_tl, y_train_tl, y_test_tl = train_test_split(X_tl, y_tl, test_size = .3)"
   ]
  },
  {
   "cell_type": "code",
   "execution_count": 39,
   "metadata": {
    "collapsed": true
   },
   "outputs": [],
   "source": [
    "# Joining the train set for model development\n",
    "X_train_tl['total_leak_count'] = y_train_tl"
   ]
  },
  {
   "cell_type": "code",
   "execution_count": 40,
   "metadata": {
    "collapsed": true
   },
   "outputs": [],
   "source": [
    "#data = pd.DataFrame(data={'A': [0, 0, 1], 'B': [0, 1, 0], 'C': [1, 1, 0]})\n",
    "model_totalleak = BayesianModel([('Prs_ds_disc', 'total_leak_count'), ('Temp_range_disc', 'total_leak_count'), ('Rain_disc', 'total_leak_count') ])\n",
    "model_totalleak.fit(X_train_tl)\n",
    "#model1.get_cpds()"
   ]
  },
  {
   "cell_type": "code",
   "execution_count": 41,
   "metadata": {
    "collapsed": true
   },
   "outputs": [],
   "source": [
    "# Alligning test set with data model variables\n",
    "X_test_tl = X_test_tl[['Prs_ds_disc','Temp_range_disc','Rain_disc']]"
   ]
  },
  {
   "cell_type": "code",
   "execution_count": 42,
   "metadata": {
    "collapsed": true
   },
   "outputs": [],
   "source": [
    "# Using fitted model to obtain predictions based on test set\n",
    "y_pred_totalleak = model_totalleak.predict(X_test_tl)\n",
    "#y_pred_meterleak2 = model_meterleak2.predict(X_test_ml)"
   ]
  },
  {
   "cell_type": "code",
   "execution_count": 43,
   "metadata": {
    "collapsed": false
   },
   "outputs": [
    {
     "name": "stdout",
     "output_type": "stream",
     "text": [
      "0.5909090909090909\n"
     ]
    }
   ],
   "source": [
    "# Measuring the accuracy of the models based on the test set\n",
    "print(accuracy_score(y_pred_totalleak, y_test_tl))\n"
   ]
  },
  {
   "cell_type": "code",
   "execution_count": 35,
   "metadata": {
    "collapsed": true
   },
   "outputs": [
    {
     "name": "stdout",
     "output_type": "stream",
     "text": [
      "+--------------------+----------+\n",
      "| Temp_range_disc(0) | 0.345098 |\n",
      "+--------------------+----------+\n",
      "| Temp_range_disc(1) | 0.329412 |\n",
      "+--------------------+----------+\n",
      "| Temp_range_disc(2) | 0.32549  |\n",
      "+--------------------+----------+\n"
     ]
    }
   ],
   "source": [
    "# Printing a CPD with it's state names defined.\n",
    "print(model_totalleak.get_cpds('Temp_range_disc'))"
   ]
  },
  {
   "cell_type": "markdown",
   "metadata": {},
   "source": [
    "# Transtion models"
   ]
  },
  {
   "cell_type": "code",
   "execution_count": null,
   "metadata": {
    "collapsed": true
   },
   "outputs": [],
   "source": []
  },
  {
   "cell_type": "code",
   "execution_count": null,
   "metadata": {
    "collapsed": true
   },
   "outputs": [],
   "source": [
    "# lagged\n",
    "df_tl['Prs_ds_disc_1'] = df_tl['Prs_ds_disc'].shift(1)\n",
    "df_tl['Prs_ds_disc_1'] = df_tl['Prs_ds_disc'].shift(1)\n",
    "df_tl['Prs_ds_disc_1'] = df_tl['Prs_ds_disc'].shift(1)"
   ]
  }
 ],
 "metadata": {
  "kernelspec": {
   "display_name": "py3tst",
   "language": "python",
   "name": "py3tst"
  },
  "language_info": {
   "codemirror_mode": {
    "name": "ipython",
    "version": 3
   },
   "file_extension": ".py",
   "mimetype": "text/x-python",
   "name": "python",
   "nbconvert_exporter": "python",
   "pygments_lexer": "ipython3",
   "version": "3.6.8"
  }
 },
 "nbformat": 4,
 "nbformat_minor": 2
}
