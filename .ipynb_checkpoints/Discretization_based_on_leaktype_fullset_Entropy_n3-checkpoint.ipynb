{
 "cells": [
  {
   "cell_type": "code",
   "execution_count": 1,
   "metadata": {
    "collapsed": false
   },
   "outputs": [],
   "source": [
    "import pandas as pd\n",
    "#import Orange\n",
    "import entropy_based_binning as ebb\n",
    "import numpy as np\n",
    "import warnings\n",
    "warnings.filterwarnings(\"ignore\")"
   ]
  },
  {
   "cell_type": "code",
   "execution_count": 2,
   "metadata": {
    "collapsed": false
   },
   "outputs": [],
   "source": [
    "# Esk_daily_leakbehav\n",
    "df = pd.read_csv('Esk_leakdata.csv')\n",
    "data = df"
   ]
  },
  {
   "cell_type": "code",
   "execution_count": 3,
   "metadata": {
    "collapsed": false,
    "scrolled": false
   },
   "outputs": [
    {
     "data": {
      "text/html": [
       "<div>\n",
       "<style scoped>\n",
       "    .dataframe tbody tr th:only-of-type {\n",
       "        vertical-align: middle;\n",
       "    }\n",
       "\n",
       "    .dataframe tbody tr th {\n",
       "        vertical-align: top;\n",
       "    }\n",
       "\n",
       "    .dataframe thead th {\n",
       "        text-align: right;\n",
       "    }\n",
       "</style>\n",
       "<table border=\"1\" class=\"dataframe\">\n",
       "  <thead>\n",
       "    <tr style=\"text-align: right;\">\n",
       "      <th></th>\n",
       "      <th>Date</th>\n",
       "      <th>Pressure_ds</th>\n",
       "      <th>Pressure_us</th>\n",
       "      <th>Minimum_Temp</th>\n",
       "      <th>Maximum_Temp</th>\n",
       "      <th>Average_Temp</th>\n",
       "      <th>Temp_range</th>\n",
       "      <th>Rainfall</th>\n",
       "      <th>meterleak_count</th>\n",
       "      <th>pipeleak_count</th>\n",
       "      <th>valveleak_count</th>\n",
       "      <th>waterleak_count</th>\n",
       "      <th>total_leak_count</th>\n",
       "    </tr>\n",
       "  </thead>\n",
       "  <tbody>\n",
       "    <tr>\n",
       "      <th>0</th>\n",
       "      <td>2018-07-01</td>\n",
       "      <td>317</td>\n",
       "      <td>420</td>\n",
       "      <td>12</td>\n",
       "      <td>25</td>\n",
       "      <td>15</td>\n",
       "      <td>13</td>\n",
       "      <td>0</td>\n",
       "      <td>0</td>\n",
       "      <td>0</td>\n",
       "      <td>0</td>\n",
       "      <td>0</td>\n",
       "      <td>0</td>\n",
       "    </tr>\n",
       "    <tr>\n",
       "      <th>1</th>\n",
       "      <td>2018-07-02</td>\n",
       "      <td>323</td>\n",
       "      <td>426</td>\n",
       "      <td>17</td>\n",
       "      <td>29</td>\n",
       "      <td>20</td>\n",
       "      <td>11</td>\n",
       "      <td>0</td>\n",
       "      <td>0</td>\n",
       "      <td>0</td>\n",
       "      <td>0</td>\n",
       "      <td>0</td>\n",
       "      <td>0</td>\n",
       "    </tr>\n",
       "    <tr>\n",
       "      <th>2</th>\n",
       "      <td>2018-07-03</td>\n",
       "      <td>326</td>\n",
       "      <td>434</td>\n",
       "      <td>10</td>\n",
       "      <td>21</td>\n",
       "      <td>19</td>\n",
       "      <td>11</td>\n",
       "      <td>0</td>\n",
       "      <td>0</td>\n",
       "      <td>0</td>\n",
       "      <td>0</td>\n",
       "      <td>0</td>\n",
       "      <td>0</td>\n",
       "    </tr>\n",
       "    <tr>\n",
       "      <th>3</th>\n",
       "      <td>2018-07-04</td>\n",
       "      <td>314</td>\n",
       "      <td>420</td>\n",
       "      <td>8</td>\n",
       "      <td>22</td>\n",
       "      <td>11</td>\n",
       "      <td>15</td>\n",
       "      <td>0</td>\n",
       "      <td>0</td>\n",
       "      <td>0</td>\n",
       "      <td>0</td>\n",
       "      <td>0</td>\n",
       "      <td>0</td>\n",
       "    </tr>\n",
       "    <tr>\n",
       "      <th>4</th>\n",
       "      <td>2018-07-05</td>\n",
       "      <td>334</td>\n",
       "      <td>468</td>\n",
       "      <td>10</td>\n",
       "      <td>22</td>\n",
       "      <td>13</td>\n",
       "      <td>13</td>\n",
       "      <td>1</td>\n",
       "      <td>1</td>\n",
       "      <td>0</td>\n",
       "      <td>0</td>\n",
       "      <td>0</td>\n",
       "      <td>1</td>\n",
       "    </tr>\n",
       "  </tbody>\n",
       "</table>\n",
       "</div>"
      ],
      "text/plain": [
       "         Date  Pressure_ds  Pressure_us  Minimum_Temp  Maximum_Temp  \\\n",
       "0  2018-07-01          317          420            12            25   \n",
       "1  2018-07-02          323          426            17            29   \n",
       "2  2018-07-03          326          434            10            21   \n",
       "3  2018-07-04          314          420             8            22   \n",
       "4  2018-07-05          334          468            10            22   \n",
       "\n",
       "   Average_Temp  Temp_range  Rainfall  meterleak_count  pipeleak_count  \\\n",
       "0            15          13         0                0               0   \n",
       "1            20          11         0                0               0   \n",
       "2            19          11         0                0               0   \n",
       "3            11          15         0                0               0   \n",
       "4            13          13         1                1               0   \n",
       "\n",
       "   valveleak_count  waterleak_count  total_leak_count  \n",
       "0                0                0                 0  \n",
       "1                0                0                 0  \n",
       "2                0                0                 0  \n",
       "3                0                0                 0  \n",
       "4                0                0                 1  "
      ]
     },
     "execution_count": 3,
     "metadata": {},
     "output_type": "execute_result"
    }
   ],
   "source": [
    "df.head()"
   ]
  },
  {
   "cell_type": "code",
   "execution_count": null,
   "metadata": {
    "collapsed": true
   },
   "outputs": [],
   "source": []
  },
  {
   "cell_type": "markdown",
   "metadata": {},
   "source": [
    "# The Moment of discretization"
   ]
  },
  {
   "cell_type": "markdown",
   "metadata": {},
   "source": [
    "## Meter leak"
   ]
  },
  {
   "cell_type": "code",
   "execution_count": 4,
   "metadata": {
    "collapsed": false
   },
   "outputs": [],
   "source": [
    "#Upstream pressure vs meterleak\n",
    "#setting up for binning pressure data\n",
    "A =  np.array([ data['Pressure_ds'], data['meterleak_count']])\n",
    "B = ebb.bin_array(A, nbins=3, axis=1)\n",
    "pds_ml = ebb.bin_sequence(A[0], nbins=3)\n",
    "\n",
    "#setting up for binning pressure data\n",
    "A =  np.array([ data['Pressure_us'], data['meterleak_count']])\n",
    "B = ebb.bin_array(A, nbins=3, axis=1)\n",
    "pus_ml = ebb.bin_sequence(A[0], nbins=3)\n",
    "\n",
    "#setting up for binning pressure data\n",
    "A =  np.array([ data['Minimum_Temp'], data['meterleak_count']])\n",
    "B = ebb.bin_array(A, nbins=3, axis=1)\n",
    "mint_ml = ebb.bin_sequence(A[0], nbins=3)\n",
    "\n",
    "#setting up for binning pressure data\n",
    "A =  np.array([ data['Maximum_Temp'], data['meterleak_count']])\n",
    "B = ebb.bin_array(A, nbins=3, axis=1)\n",
    "maxt_ml = ebb.bin_sequence(A[0], nbins=3)\n",
    "\n",
    "#setting up for binning pressure data\n",
    "A =  np.array([ data['Average_Temp'], data['meterleak_count']])\n",
    "B = ebb.bin_array(A, nbins=3, axis=1)\n",
    "avgt_ml = ebb.bin_sequence(A[0], nbins=3)\n",
    "\n",
    "#setting up for binning pressure data\n",
    "A =  np.array([ data['Temp_range'], data['meterleak_count']])\n",
    "B = ebb.bin_array(A, nbins=3, axis=1)\n",
    "trg_ml = ebb.bin_sequence(A[0], nbins=3)\n",
    "\n",
    "#setting up for binning pressure data\n",
    "A =  np.array([ data['Rainfall'], data['meterleak_count']])\n",
    "B = ebb.bin_array(A, nbins=3, axis=1)\n",
    "rn_ml = ebb.bin_sequence(A[0], nbins=3)\n",
    "\n",
    "#converting arrays to lists in preparation for dictonary\n",
    "pds_ml = pds_ml.tolist()\n",
    "pus_ml = pus_ml.tolist()\n",
    "mint_ml = mint_ml.tolist()\n",
    "maxt_ml = maxt_ml.tolist()\n",
    "avgt_ml = avgt_ml.tolist()\n",
    "trg_ml = trg_ml.tolist()\n",
    "rn_ml = rn_ml.tolist()\n",
    "\n",
    "\n",
    "# Packing discretized lists into dictionary in preaparation for DataFrame \n",
    "keys = [\"Prs_ds_disc\", \"Prs_us_disc\", \"MinTemp_disc\",\"MaxTemp_disc\",\"Avg_Temp_disc\",\"Temp_range_disc\",\"Rain_disc\"]\n",
    "values =[pds_ml, pus_ml,mint_ml,maxt_ml,avgt_ml,trg_ml,rn_ml]\n",
    "dictionary = dict(zip(keys, values))\n",
    "#print(dictionary)\n",
    "\n",
    "\n",
    "#Converting dictonary to dataframe\n",
    "df3 = pd.DataFrame(dictionary)\n",
    "\n",
    "#Recalling dataframe\n",
    "df = pd.read_csv('Esk_leakdata.csv')\n",
    "data = df\n",
    "\n",
    "# Meter leak based discretization (appending the meterleak column to the discretized frame)\n",
    "df3['meterleak_count'] = data['meterleak_count'] # Take care that 'data' is now an array because of transformations\n",
    "\n",
    "# Writing new table to a different csv file for safety.\n",
    "df3.to_csv(r'meter_leak_pred_data.csv', index = False)"
   ]
  },
  {
   "cell_type": "markdown",
   "metadata": {},
   "source": [
    "## pipeleaks"
   ]
  },
  {
   "cell_type": "code",
   "execution_count": 6,
   "metadata": {
    "collapsed": true
   },
   "outputs": [],
   "source": [
    "#Upstream pressure vs meterleak\n",
    "#setting up for binning pressure data\n",
    "A =  np.array([ data['Pressure_ds'], data['pipeleak_count']])\n",
    "B = ebb.bin_array(A, nbins=3, axis=1)\n",
    "pds_pl = ebb.bin_sequence(A[0], nbins=3)\n",
    "\n",
    "#setting up for binning pressure data\n",
    "A =  np.array([ data['Pressure_us'], data['pipeleak_count']])\n",
    "B = ebb.bin_array(A, nbins=3, axis=1)\n",
    "pus_pl = ebb.bin_sequence(A[0], nbins=3)\n",
    "\n",
    "#setting up for binning pressure data\n",
    "A =  np.array([ data['Minimum_Temp'], data['pipeleak_count']])\n",
    "B = ebb.bin_array(A, nbins=3, axis=1)\n",
    "mint_pl = ebb.bin_sequence(A[0], nbins=3)\n",
    "\n",
    "#setting up for binning pressure data\n",
    "A =  np.array([ data['Maximum_Temp'], data['pipeleak_count']])\n",
    "B = ebb.bin_array(A, nbins=3, axis=1)\n",
    "maxt_pl = ebb.bin_sequence(A[0], nbins=3)\n",
    "\n",
    "#setting up for binning pressure data\n",
    "A =  np.array([ data['Average_Temp'], data['pipeleak_count']])\n",
    "B = ebb.bin_array(A, nbins=3, axis=1)\n",
    "avgt_pl = ebb.bin_sequence(A[0], nbins=3)\n",
    "\n",
    "#setting up for binning pressure data\n",
    "A =  np.array([ data['Temp_range'], data['pipeleak_count']])\n",
    "B = ebb.bin_array(A, nbins=3, axis=1)\n",
    "trg_pl = ebb.bin_sequence(A[0], nbins=3)\n",
    "\n",
    "#setting up for binning pressure data\n",
    "A =  np.array([ data['Rainfall'], data['pipeleak_count']])\n",
    "B = ebb.bin_array(A, nbins=3, axis=1)\n",
    "rn_pl = ebb.bin_sequence(A[0], nbins=3)\n",
    "\n",
    "#converting arrays to lists in preparation for dictonary\n",
    "pds_pl = pds_pl.tolist()\n",
    "pus_pl = pus_pl.tolist()\n",
    "mint_pl = mint_pl.tolist()\n",
    "maxt_pl = maxt_pl.tolist()\n",
    "avgt_pl = avgt_pl.tolist()\n",
    "trg_pl = trg_pl.tolist()\n",
    "rn_pl = rn_pl.tolist()\n",
    "\n",
    "\n",
    "# Packing discretized lists into dictionary in preaparation for DataFrame \n",
    "keys = [\"Prs_ds_disc\", \"Prs_us_disc\", \"MinTemp_disc\",\"MaxTemp_disc\",\"Avg_Temp_disc\",\"Temp_range_disc\",\"Rain_disc\"]\n",
    "values =[pds_pl, pus_pl,mint_pl,maxt_pl,avgt_pl,trg_pl,rn_pl]\n",
    "dictionary = dict(zip(keys, values))\n",
    "#print(dictionary)\n",
    "\n",
    "\n",
    "#Converting dictonary to dataframe\n",
    "df4 = pd.DataFrame(dictionary)\n",
    "#Recalling dataframe\n",
    "df = pd.read_csv('Esk_leakdata.csv')\n",
    "data = df\n",
    "# Meter leak based discretization (appending the meterleak column to the discretized frame)\n",
    "df4['pipeleak_count'] = data['pipeleak_count'] # Take care that 'data' is now an array because of transformations\n",
    "\n",
    "# Writing new table to a different csv file for safety.\n",
    "df4.to_csv(r'pipe_leak_pred_data.csv', index = False)"
   ]
  },
  {
   "cell_type": "markdown",
   "metadata": {},
   "source": [
    "# vaveleaks"
   ]
  },
  {
   "cell_type": "code",
   "execution_count": 7,
   "metadata": {
    "collapsed": true
   },
   "outputs": [
    {
     "ename": "UnboundLocalError",
     "evalue": "local variable 'best_binning' referenced before assignment",
     "output_type": "error",
     "traceback": [
      "\u001b[0;31m---------------------------------------------------------------------------\u001b[0m",
      "\u001b[0;31mUnboundLocalError\u001b[0m                         Traceback (most recent call last)",
      "\u001b[0;32m<ipython-input-7-7735cb6bc461>\u001b[0m in \u001b[0;36m<module>\u001b[0;34m\u001b[0m\n\u001b[1;32m      2\u001b[0m \u001b[0;31m#setting up for binning pressure data\u001b[0m\u001b[0;34m\u001b[0m\u001b[0;34m\u001b[0m\u001b[0;34m\u001b[0m\u001b[0m\n\u001b[1;32m      3\u001b[0m \u001b[0mA\u001b[0m \u001b[0;34m=\u001b[0m  \u001b[0mnp\u001b[0m\u001b[0;34m.\u001b[0m\u001b[0marray\u001b[0m\u001b[0;34m(\u001b[0m\u001b[0;34m[\u001b[0m \u001b[0mdata\u001b[0m\u001b[0;34m[\u001b[0m\u001b[0;34m'Pressure_ds'\u001b[0m\u001b[0;34m]\u001b[0m\u001b[0;34m,\u001b[0m \u001b[0mdata\u001b[0m\u001b[0;34m[\u001b[0m\u001b[0;34m'valveleak_count'\u001b[0m\u001b[0;34m]\u001b[0m\u001b[0;34m]\u001b[0m\u001b[0;34m)\u001b[0m\u001b[0;34m\u001b[0m\u001b[0;34m\u001b[0m\u001b[0m\n\u001b[0;32m----> 4\u001b[0;31m \u001b[0mB\u001b[0m \u001b[0;34m=\u001b[0m \u001b[0mebb\u001b[0m\u001b[0;34m.\u001b[0m\u001b[0mbin_array\u001b[0m\u001b[0;34m(\u001b[0m\u001b[0mA\u001b[0m\u001b[0;34m,\u001b[0m \u001b[0mnbins\u001b[0m\u001b[0;34m=\u001b[0m\u001b[0;36m3\u001b[0m\u001b[0;34m,\u001b[0m \u001b[0maxis\u001b[0m\u001b[0;34m=\u001b[0m\u001b[0;36m1\u001b[0m\u001b[0;34m)\u001b[0m\u001b[0;34m\u001b[0m\u001b[0;34m\u001b[0m\u001b[0m\n\u001b[0m\u001b[1;32m      5\u001b[0m \u001b[0mpds_vl\u001b[0m \u001b[0;34m=\u001b[0m \u001b[0mebb\u001b[0m\u001b[0;34m.\u001b[0m\u001b[0mbin_sequence\u001b[0m\u001b[0;34m(\u001b[0m\u001b[0mA\u001b[0m\u001b[0;34m[\u001b[0m\u001b[0;36m0\u001b[0m\u001b[0;34m]\u001b[0m\u001b[0;34m,\u001b[0m \u001b[0mnbins\u001b[0m\u001b[0;34m=\u001b[0m\u001b[0;36m3\u001b[0m\u001b[0;34m)\u001b[0m\u001b[0;34m\u001b[0m\u001b[0;34m\u001b[0m\u001b[0m\n\u001b[1;32m      6\u001b[0m \u001b[0;34m\u001b[0m\u001b[0m\n",
      "\u001b[0;32m~/Documents/Pgmpy_recode/py3tst/lib/python3.6/site-packages/entropy_based_binning/_main.py\u001b[0m in \u001b[0;36mbin_array\u001b[0;34m(A, nbins, axis)\u001b[0m\n\u001b[1;32m     66\u001b[0m         \u001b[0;32mreturn\u001b[0m \u001b[0mbin_sequence\u001b[0m\u001b[0;34m(\u001b[0m\u001b[0mA\u001b[0m\u001b[0;34m.\u001b[0m\u001b[0mravel\u001b[0m\u001b[0;34m(\u001b[0m\u001b[0;34m)\u001b[0m\u001b[0;34m,\u001b[0m \u001b[0mnbins\u001b[0m\u001b[0;34m)\u001b[0m\u001b[0;34m.\u001b[0m\u001b[0mreshape\u001b[0m\u001b[0;34m(\u001b[0m\u001b[0mA\u001b[0m\u001b[0;34m.\u001b[0m\u001b[0mshape\u001b[0m\u001b[0;34m)\u001b[0m\u001b[0;34m\u001b[0m\u001b[0;34m\u001b[0m\u001b[0m\n\u001b[1;32m     67\u001b[0m     \u001b[0;32melse\u001b[0m\u001b[0;34m:\u001b[0m\u001b[0;34m\u001b[0m\u001b[0;34m\u001b[0m\u001b[0m\n\u001b[0;32m---> 68\u001b[0;31m         \u001b[0;32mreturn\u001b[0m \u001b[0mnp\u001b[0m\u001b[0;34m.\u001b[0m\u001b[0mapply_along_axis\u001b[0m\u001b[0;34m(\u001b[0m\u001b[0mbin_sequence\u001b[0m\u001b[0;34m,\u001b[0m \u001b[0maxis\u001b[0m\u001b[0;34m,\u001b[0m \u001b[0mA\u001b[0m\u001b[0;34m,\u001b[0m \u001b[0mnbins\u001b[0m\u001b[0;34m)\u001b[0m\u001b[0;34m\u001b[0m\u001b[0;34m\u001b[0m\u001b[0m\n\u001b[0m\u001b[1;32m     69\u001b[0m \u001b[0;34m\u001b[0m\u001b[0m\n\u001b[1;32m     70\u001b[0m \u001b[0;32mdef\u001b[0m \u001b[0m_generate_bins\u001b[0m\u001b[0;34m(\u001b[0m\u001b[0mseq\u001b[0m\u001b[0;34m,\u001b[0m \u001b[0mnbins\u001b[0m\u001b[0;34m)\u001b[0m\u001b[0;34m:\u001b[0m\u001b[0;34m\u001b[0m\u001b[0;34m\u001b[0m\u001b[0m\n",
      "\u001b[0;32m<__array_function__ internals>\u001b[0m in \u001b[0;36mapply_along_axis\u001b[0;34m(*args, **kwargs)\u001b[0m\n",
      "\u001b[0;32m~/Documents/Pgmpy_recode/py3tst/lib/python3.6/site-packages/numpy/lib/shape_base.py\u001b[0m in \u001b[0;36mapply_along_axis\u001b[0;34m(func1d, axis, arr, *args, **kwargs)\u001b[0m\n\u001b[1;32m    400\u001b[0m     \u001b[0mbuff\u001b[0m\u001b[0;34m[\u001b[0m\u001b[0mind0\u001b[0m\u001b[0;34m]\u001b[0m \u001b[0;34m=\u001b[0m \u001b[0mres\u001b[0m\u001b[0;34m\u001b[0m\u001b[0;34m\u001b[0m\u001b[0m\n\u001b[1;32m    401\u001b[0m     \u001b[0;32mfor\u001b[0m \u001b[0mind\u001b[0m \u001b[0;32min\u001b[0m \u001b[0minds\u001b[0m\u001b[0;34m:\u001b[0m\u001b[0;34m\u001b[0m\u001b[0;34m\u001b[0m\u001b[0m\n\u001b[0;32m--> 402\u001b[0;31m         \u001b[0mbuff\u001b[0m\u001b[0;34m[\u001b[0m\u001b[0mind\u001b[0m\u001b[0;34m]\u001b[0m \u001b[0;34m=\u001b[0m \u001b[0masanyarray\u001b[0m\u001b[0;34m(\u001b[0m\u001b[0mfunc1d\u001b[0m\u001b[0;34m(\u001b[0m\u001b[0minarr_view\u001b[0m\u001b[0;34m[\u001b[0m\u001b[0mind\u001b[0m\u001b[0;34m]\u001b[0m\u001b[0;34m,\u001b[0m \u001b[0;34m*\u001b[0m\u001b[0margs\u001b[0m\u001b[0;34m,\u001b[0m \u001b[0;34m**\u001b[0m\u001b[0mkwargs\u001b[0m\u001b[0;34m)\u001b[0m\u001b[0;34m)\u001b[0m\u001b[0;34m\u001b[0m\u001b[0;34m\u001b[0m\u001b[0m\n\u001b[0m\u001b[1;32m    403\u001b[0m \u001b[0;34m\u001b[0m\u001b[0m\n\u001b[1;32m    404\u001b[0m     \u001b[0;32mif\u001b[0m \u001b[0;32mnot\u001b[0m \u001b[0misinstance\u001b[0m\u001b[0;34m(\u001b[0m\u001b[0mres\u001b[0m\u001b[0;34m,\u001b[0m \u001b[0mmatrix\u001b[0m\u001b[0;34m)\u001b[0m\u001b[0;34m:\u001b[0m\u001b[0;34m\u001b[0m\u001b[0;34m\u001b[0m\u001b[0m\n",
      "\u001b[0;32m~/Documents/Pgmpy_recode/py3tst/lib/python3.6/site-packages/entropy_based_binning/_main.py\u001b[0m in \u001b[0;36mbin_sequence\u001b[0;34m(a, nbins)\u001b[0m\n\u001b[1;32m     35\u001b[0m             \u001b[0mbest_binning\u001b[0m \u001b[0;34m=\u001b[0m \u001b[0mbinning\u001b[0m\u001b[0;34m\u001b[0m\u001b[0;34m\u001b[0m\u001b[0m\n\u001b[1;32m     36\u001b[0m \u001b[0;34m\u001b[0m\u001b[0m\n\u001b[0;32m---> 37\u001b[0;31m     \u001b[0;32mreturn\u001b[0m \u001b[0m_apply_binning\u001b[0m\u001b[0;34m(\u001b[0m\u001b[0ma\u001b[0m\u001b[0;34m,\u001b[0m \u001b[0mbest_binning\u001b[0m\u001b[0;34m)\u001b[0m\u001b[0;34m\u001b[0m\u001b[0;34m\u001b[0m\u001b[0m\n\u001b[0m\u001b[1;32m     38\u001b[0m \u001b[0;34m\u001b[0m\u001b[0m\n\u001b[1;32m     39\u001b[0m \u001b[0;32mdef\u001b[0m \u001b[0mbin_array\u001b[0m\u001b[0;34m(\u001b[0m\u001b[0mA\u001b[0m\u001b[0;34m,\u001b[0m \u001b[0mnbins\u001b[0m\u001b[0;34m,\u001b[0m \u001b[0maxis\u001b[0m\u001b[0;34m=\u001b[0m\u001b[0;32mNone\u001b[0m\u001b[0;34m)\u001b[0m\u001b[0;34m:\u001b[0m\u001b[0;34m\u001b[0m\u001b[0;34m\u001b[0m\u001b[0m\n",
      "\u001b[0;31mUnboundLocalError\u001b[0m: local variable 'best_binning' referenced before assignment"
     ]
    }
   ],
   "source": [
    "#Upstream pressure vs meterleak\n",
    "#setting up for binning pressure data\n",
    "A =  np.array([ data['Pressure_ds'], data['valveleak_count']])\n",
    "B = ebb.bin_array(A, nbins=3, axis=1)\n",
    "pds_vl = ebb.bin_sequence(A[0], nbins=3)\n",
    "\n",
    "#setting up for binning pressure data\n",
    "A =  np.array([ data['Pressure_us'], data['valveleak_count']])\n",
    "B = ebb.bin_array(A, nbins=3, axis=1)\n",
    "pus_vl = ebb.bin_sequence(A[0], nbins=3)\n",
    "\n",
    "#setting up for binning pressure data\n",
    "A =  np.array([ data['Minimum_Temp'], data['valveleak_count']])\n",
    "B = ebb.bin_array(A, nbins=3, axis=1)\n",
    "mint_vl = ebb.bin_sequence(A[0], nbins=3)\n",
    "\n",
    "#setting up for binning pressure data\n",
    "A =  np.array([ data['Maximum_Temp'], data['valveleak_count']])\n",
    "B = ebb.bin_array(A, nbins=3, axis=1)\n",
    "maxt_vl = ebb.bin_sequence(A[0], nbins=3)\n",
    "\n",
    "#setting up for binning pressure data\n",
    "A =  np.array([ data['Average_Temp'], data['valveleak_count']])\n",
    "B = ebb.bin_array(A, nbins=3, axis=1)\n",
    "avgt_vl = ebb.bin_sequence(A[0], nbins=3)\n",
    "\n",
    "#setting up for binning pressure data\n",
    "A =  np.array([ data['Temp_range'], data['valveleak_count']])\n",
    "B = ebb.bin_array(A, nbins=3, axis=1)\n",
    "trg_vl = ebb.bin_sequence(A[0], nbins=3)\n",
    "\n",
    "#setting up for binning pressure data\n",
    "A =  np.array([ data['Rainfall'], data['valveleak_count']])\n",
    "B = ebb.bin_array(A, nbins=3, axis=1)\n",
    "rn_vl = ebb.bin_sequence(A[0], nbins=3)\n",
    "\n",
    "#converting arrays to lists in preparation for dictonary\n",
    "pds_vl = pds_vl.tolist()\n",
    "pus_vl = pus_vl.tolist()\n",
    "mint_vl = mint_vl.tolist()\n",
    "maxt_vl = maxt_vl.tolist()\n",
    "avgt_vl = avgt_vl.tolist()\n",
    "trg_vl = trg_vl.tolist()\n",
    "rn_vl = rn_vl.tolist()\n",
    "\n",
    "\n",
    "# Packing discretized lists into dictionary in preaparation for DataFrame \n",
    "keys = [\"Prs_ds_disc\", \"Prs_us_disc\", \"MinTemp_disc\",\"MaxTemp_disc\",\"Avg_Temp_disc\",\"Temp_range_disc\",\"Rain_disc\"]\n",
    "values =[pds_vl, pus_vl,mint_vl,maxt_vl,avgt_vl,trg_vl,rn_vl]\n",
    "dictionary = dict(zip(keys, values))\n",
    "#print(dictionary)\n",
    "\n",
    "\n",
    "#Converting dictonary to dataframe\n",
    "df5 = pd.DataFrame(dictionary)\n",
    "#Recalling dataframe\n",
    "df = pd.read_csv('Esk_leakdata.csv')\n",
    "data = df\n",
    "# Meter leak based discretization (appending the meterleak column to the discretized frame)\n",
    "df5['valveleak_count'] = data['valveleak_count'] # Take care that 'data' is now an array because of transformations\n",
    "\n",
    "# Writing new table to a different csv file for safety.\n",
    "df5.to_csv(r'valve_leak_pred_data.csv', index = False)"
   ]
  },
  {
   "cell_type": "code",
   "execution_count": null,
   "metadata": {
    "collapsed": true
   },
   "outputs": [],
   "source": []
  },
  {
   "cell_type": "markdown",
   "metadata": {},
   "source": [
    "## Total daily leaks\n"
   ]
  },
  {
   "cell_type": "code",
   "execution_count": 10,
   "metadata": {
    "collapsed": true
   },
   "outputs": [],
   "source": [
    "#Upstream pressure vs meterleak\n",
    "#setting up for binning pressure data\n",
    "A =  np.array([ data['Pressure_ds'], data['total_leak_count']])\n",
    "B = ebb.bin_array(A, nbins=3, axis=1)\n",
    "pds_tl = ebb.bin_sequence(A[0], nbins=3)"
   ]
  },
  {
   "cell_type": "code",
   "execution_count": null,
   "metadata": {
    "collapsed": true
   },
   "outputs": [],
   "source": [
    "#setting up for binning pressure data\n",
    "A =  np.array([ data['Pressure_us'], data['total_leak_count']])\n",
    "B = ebb.bin_array(A, nbins=3, axis=1)\n",
    "pus_tl = ebb.bin_sequence(A[0], nbins=3)\n",
    "\n",
    "#setting up for binning pressure data\n",
    "A =  np.array([ data['Minimum_Temp'], data['total_leak_count']])\n",
    "B = ebb.bin_array(A, nbins=3, axis=1)\n",
    "mint_tl = ebb.bin_sequence(A[0], nbins=3)\n",
    "\n",
    "#setting up for binning pressure data\n",
    "A =  np.array([ data['Maximum_Temp'], data['total_leak_count']])\n",
    "B = ebb.bin_array(A, nbins=3, axis=1)\n",
    "maxt_tl = ebb.bin_sequence(A[0], nbins=3)\n",
    "\n",
    "#setting up for binning pressure data\n",
    "A =  np.array([ data['Average_Temp'], data['total_leak_count']])\n",
    "B = ebb.bin_array(A, nbins=3, axis=1)\n",
    "avgt_tl = ebb.bin_sequence(A[0], nbins=3)\n",
    "\n",
    "#setting up for binning pressure data\n",
    "A =  np.array([ data['Temp_range'], data['total_leak_count']])\n",
    "B = ebb.bin_array(A, nbins=3, axis=1)\n",
    "trg_tl = ebb.bin_sequence(A[0], nbins=3)\n",
    "\n",
    "#setting up for binning pressure data\n",
    "A =  np.array([ data['Rainfall'], data['total_leak_count']])\n",
    "B = ebb.bin_array(A, nbins=3, axis=1)\n",
    "rn_tl = ebb.bin_sequence(A[0], nbins=3)"
   ]
  },
  {
   "cell_type": "code",
   "execution_count": 11,
   "metadata": {
    "collapsed": false
   },
   "outputs": [],
   "source": [
    "#converting arrays to lists in preparation for dictonary\n",
    "pds_tl = pds_tl.tolist()\n",
    "pus_tl = pus_tl.tolist()\n",
    "mint_tl = mint_tl.tolist()\n",
    "maxt_tl = maxt_tl.tolist()\n",
    "avgt_tl = avgt_tl.tolist()\n",
    "trg_tl = trg_tl.tolist()\n",
    "rn_tl = rn_tl.tolist()\n",
    "\n",
    "\n",
    "# Packing discretized lists into dictionary in preaparation for DataFrame \n",
    "keys = [\"Prs_ds_disc\", \"Prs_us_disc\", \"MinTemp_disc\",\"MaxTemp_disc\",\"Avg_Temp_disc\",\"Temp_range_disc\",\"Rain_disc\"]\n",
    "values =[pds_tl, pus_tl,mint_tl, maxt_tl, avgt_tl, trg_tl, rn_tl]\n",
    "dictionary = dict(zip(keys, values))\n",
    "#print(dictionary)\n",
    "\n",
    "\n",
    "#Converting dictonary to dataframe\n",
    "df6 = pd.DataFrame(dictionary)\n",
    "#Recalling dataframe\n",
    "df = pd.read_csv('Esk_leakdata.csv')\n",
    "data = df\n",
    "# Meter leak based discretization (appending the meterleak column to the discretized frame)\n",
    "df6['total_leak_count'] = data['total_leak_count'] # Take care that 'data' is now an array because of transformations\n",
    "\n",
    "# Writing new table to a different csv file for safety.\n",
    "df6.to_csv(r'total_leak_pred_data.csv', index = False)"
   ]
  },
  {
   "cell_type": "code",
   "execution_count": null,
   "metadata": {
    "collapsed": true
   },
   "outputs": [],
   "source": []
  },
  {
   "cell_type": "code",
   "execution_count": null,
   "metadata": {
    "collapsed": true
   },
   "outputs": [],
   "source": []
  },
  {
   "cell_type": "code",
   "execution_count": null,
   "metadata": {
    "collapsed": false
   },
   "outputs": [],
   "source": [
    "#setting up for binning pressure data\n",
    "A =  np.array([ data['Temp_range'], data['total_leak_count']])\n",
    "B = ebb.bin_array(A, nbins=3, axis=1)\n",
    "tr_tl = ebb.bin_sequence(A[0], nbins=3)"
   ]
  },
  {
   "cell_type": "code",
   "execution_count": null,
   "metadata": {
    "collapsed": true
   },
   "outputs": [],
   "source": [
    "#setting up for binning pressure data\n",
    "A =  np.array([ data['Pressure_ds'], data['total_leak_count']])\n",
    "B = ebb.bin_array(A, nbins=3, axis=1)\n",
    "pus_tl = ebb.bin_sequence(A[0], nbins=3)"
   ]
  },
  {
   "cell_type": "code",
   "execution_count": null,
   "metadata": {
    "collapsed": true
   },
   "outputs": [],
   "source": [
    "#for dict\n",
    "tr_tl = tr_tl.tolist()\n",
    "pus_tl = pus_tl.tolist()"
   ]
  },
  {
   "cell_type": "code",
   "execution_count": null,
   "metadata": {
    "collapsed": true
   },
   "outputs": [],
   "source": [
    "# Packing discretized lists into dictionary in preaparation for DataFrame \n",
    "keys = [\"Temp_range\", \"Prs_us_disc\"]\n",
    "values =[tr_tl, pus_tl]\n",
    "tl_dict = dict(zip(keys, values))\n",
    "#print(dictionary)\n"
   ]
  },
  {
   "cell_type": "code",
   "execution_count": null,
   "metadata": {
    "collapsed": false
   },
   "outputs": [],
   "source": [
    "#Converting dictonary to dataframe\n",
    "df4 = pd.DataFrame(tl_dict)"
   ]
  },
  {
   "cell_type": "code",
   "execution_count": null,
   "metadata": {
    "collapsed": true
   },
   "outputs": [],
   "source": [
    "df4['Total_leak'] = df_sel['total_leak_count']"
   ]
  },
  {
   "cell_type": "code",
   "execution_count": null,
   "metadata": {
    "collapsed": true
   },
   "outputs": [],
   "source": [
    "# Writing new table to a different csv file for safety.\n",
    "df4.to_csv(r'total_leak_pred_data.csv', index = False)"
   ]
  },
  {
   "cell_type": "code",
   "execution_count": null,
   "metadata": {
    "collapsed": true
   },
   "outputs": [],
   "source": [
    "#Entropy based binning\n",
    "entro = Orange.feature.discretization.Entropy()\n",
    "for attr in data.domain.attributes:\n",
    "    disc = entro(attr, data1)\n",
    "    print(attr.name, disc.get_value_from.transformer.points)"
   ]
  }
 ],
 "metadata": {
  "kernelspec": {
   "display_name": "py3tst",
   "language": "python",
   "name": "py3tst"
  },
  "language_info": {
   "codemirror_mode": {
    "name": "ipython",
    "version": 3
   },
   "file_extension": ".py",
   "mimetype": "text/x-python",
   "name": "python",
   "nbconvert_exporter": "python",
   "pygments_lexer": "ipython3",
   "version": "3.6.8"
  }
 },
 "nbformat": 4,
 "nbformat_minor": 2
}
