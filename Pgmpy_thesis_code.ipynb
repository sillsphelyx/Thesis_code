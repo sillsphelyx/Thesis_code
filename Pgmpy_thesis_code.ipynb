{
 "cells": [
  {
   "cell_type": "code",
   "execution_count": 33,
   "metadata": {
    "collapsed": false
   },
   "outputs": [],
   "source": [
    "import pandas as pd\n",
    "import wrapt\n",
    "from sklearn.model_selection import train_test_split\n",
    "from sklearn.metrics import accuracy_score\n",
    "from pgmpy.models import BayesianModel\n",
    "from pgmpy.estimators import MaximumLikelihoodEstimator\n",
    "from pgmpy.factors.discrete import TabularCPD\n",
    "import warnings\n",
    "warnings.filterwarnings('ignore')"
   ]
  },
  {
   "cell_type": "markdown",
   "metadata": {},
   "source": [
    "# Meter Leak"
   ]
  },
  {
   "cell_type": "code",
   "execution_count": 17,
   "metadata": {
    "collapsed": false
   },
   "outputs": [
    {
     "data": {
      "text/html": [
       "<div>\n",
       "<style scoped>\n",
       "    .dataframe tbody tr th:only-of-type {\n",
       "        vertical-align: middle;\n",
       "    }\n",
       "\n",
       "    .dataframe tbody tr th {\n",
       "        vertical-align: top;\n",
       "    }\n",
       "\n",
       "    .dataframe thead th {\n",
       "        text-align: right;\n",
       "    }\n",
       "</style>\n",
       "<table border=\"1\" class=\"dataframe\">\n",
       "  <thead>\n",
       "    <tr style=\"text-align: right;\">\n",
       "      <th></th>\n",
       "      <th>Prs_ds_disc</th>\n",
       "      <th>Prs_us_disc</th>\n",
       "      <th>MinTemp_disc</th>\n",
       "      <th>MaxTemp_disc</th>\n",
       "      <th>Avg_Temp_disc</th>\n",
       "      <th>Temp_range_disc</th>\n",
       "      <th>Rain_disc</th>\n",
       "      <th>meterleak_count</th>\n",
       "    </tr>\n",
       "  </thead>\n",
       "  <tbody>\n",
       "    <tr>\n",
       "      <th>0</th>\n",
       "      <td>2</td>\n",
       "      <td>1</td>\n",
       "      <td>0</td>\n",
       "      <td>0</td>\n",
       "      <td>0</td>\n",
       "      <td>2</td>\n",
       "      <td>0</td>\n",
       "      <td>0</td>\n",
       "    </tr>\n",
       "    <tr>\n",
       "      <th>1</th>\n",
       "      <td>2</td>\n",
       "      <td>1</td>\n",
       "      <td>1</td>\n",
       "      <td>2</td>\n",
       "      <td>1</td>\n",
       "      <td>2</td>\n",
       "      <td>0</td>\n",
       "      <td>0</td>\n",
       "    </tr>\n",
       "    <tr>\n",
       "      <th>2</th>\n",
       "      <td>2</td>\n",
       "      <td>1</td>\n",
       "      <td>0</td>\n",
       "      <td>0</td>\n",
       "      <td>0</td>\n",
       "      <td>2</td>\n",
       "      <td>0</td>\n",
       "      <td>0</td>\n",
       "    </tr>\n",
       "    <tr>\n",
       "      <th>3</th>\n",
       "      <td>2</td>\n",
       "      <td>1</td>\n",
       "      <td>0</td>\n",
       "      <td>0</td>\n",
       "      <td>0</td>\n",
       "      <td>2</td>\n",
       "      <td>0</td>\n",
       "      <td>0</td>\n",
       "    </tr>\n",
       "    <tr>\n",
       "      <th>4</th>\n",
       "      <td>2</td>\n",
       "      <td>2</td>\n",
       "      <td>0</td>\n",
       "      <td>0</td>\n",
       "      <td>0</td>\n",
       "      <td>2</td>\n",
       "      <td>1</td>\n",
       "      <td>1</td>\n",
       "    </tr>\n",
       "  </tbody>\n",
       "</table>\n",
       "</div>"
      ],
      "text/plain": [
       "   Prs_ds_disc  Prs_us_disc  MinTemp_disc  MaxTemp_disc  Avg_Temp_disc  \\\n",
       "0            2            1             0             0              0   \n",
       "1            2            1             1             2              1   \n",
       "2            2            1             0             0              0   \n",
       "3            2            1             0             0              0   \n",
       "4            2            2             0             0              0   \n",
       "\n",
       "   Temp_range_disc  Rain_disc  meterleak_count  \n",
       "0                2          0                0  \n",
       "1                2          0                0  \n",
       "2                2          0                0  \n",
       "3                2          0                0  \n",
       "4                2          1                1  "
      ]
     },
     "execution_count": 17,
     "metadata": {},
     "output_type": "execute_result"
    }
   ],
   "source": [
    "# Data \n",
    "df_ml = pd.read_csv('meter_leak_pred_data.csv')\n",
    "df_ml.head()"
   ]
  },
  {
   "cell_type": "code",
   "execution_count": 18,
   "metadata": {
    "collapsed": true
   },
   "outputs": [],
   "source": [
    "# Separating independent variables(predictors) and the target (dependant) variable\n",
    "X_ml = df_ml[['Prs_ds_disc','Prs_us_disc','Temp_range_disc', 'Avg_Temp_disc','Rain_disc']]\n",
    "y_ml = df_ml.meterleak_count"
   ]
  },
  {
   "cell_type": "code",
   "execution_count": 21,
   "metadata": {
    "collapsed": false
   },
   "outputs": [],
   "source": [
    "#Spliting the train and test sets on a 70:30 basis\n",
    "X_train_ml, X_test_ml, y_train_ml, y_test_ml = train_test_split(X_ml, y_ml, test_size = .3)"
   ]
  },
  {
   "cell_type": "code",
   "execution_count": 24,
   "metadata": {
    "collapsed": false,
    "scrolled": true
   },
   "outputs": [],
   "source": [
    "# Joining the train set for model development\n",
    "X_train_ml['meterleak_count'] = y_train_ml"
   ]
  },
  {
   "cell_type": "code",
   "execution_count": 8,
   "metadata": {
    "collapsed": true
   },
   "outputs": [],
   "source": [
    "#frame = df_ml[['Prs_ds_disc', 'Temp_range_disc', 'Rain_disc', 'meterleak_count']]"
   ]
  },
  {
   "cell_type": "code",
   "execution_count": 26,
   "metadata": {
    "collapsed": true
   },
   "outputs": [
    {
     "data": {
      "text/plain": [
       "[<TabularCPD representing P(Prs_ds_disc:3) at 0x7fca80955da0>,\n",
       " <TabularCPD representing P(Rain_disc:3) at 0x7fca80955c88>,\n",
       " <TabularCPD representing P(Temp_range_disc:3) at 0x7fca80955dd8>,\n",
       " <TabularCPD representing P(meterleak_count:3 | Prs_ds_disc:3, Rain_disc:3, Temp_range_disc:3) at 0x7fca80955940>]"
      ]
     },
     "execution_count": 26,
     "metadata": {},
     "output_type": "execute_result"
    }
   ],
   "source": [
    "#data = pd.DataFrame(data={'A': [0, 0, 1], 'B': [0, 1, 0], 'C': [1, 1, 0]})\n",
    "model1 = BayesianModel([('Prs_ds_disc', 'meterleak_count'), ('Temp_range_disc', 'meterleak_count'), ('Rain_disc', 'meterleak_count') ])\n",
    "model1.fit(X_train_ml)\n",
    "#model1.get_cpds()"
   ]
  },
  {
   "cell_type": "code",
   "execution_count": 31,
   "metadata": {
    "collapsed": false
   },
   "outputs": [],
   "source": [
    "# Using fitted model to obtain predictions based on test set\n",
    "y_pred_meterleak1 = model1.predict(X_test_mlr)\n",
    "#y_pred_meterleak2 = model_meterleak2.predict(X_test_ml)"
   ]
  },
  {
   "cell_type": "code",
   "execution_count": 35,
   "metadata": {
    "collapsed": false
   },
   "outputs": [
    {
     "name": "stdout",
     "output_type": "stream",
     "text": [
      "0.8181818181818182\n"
     ]
    }
   ],
   "source": [
    "# Measuring the accuracy of the models based on the test set\n",
    "print(accuracy_score(y_pred_meterleak1, y_test_ml))\n",
    "#print(accuracy_score(y_pred_meterleak2, y_test_ml))"
   ]
  },
  {
   "cell_type": "code",
   "execution_count": null,
   "metadata": {
    "collapsed": true
   },
   "outputs": [],
   "source": [
    "# Printing a CPD with it's state names defined.\n",
    "print(model1.get_cpds('Temp_range_disc'))"
   ]
  },
  {
   "cell_type": "markdown",
   "metadata": {},
   "source": [
    "# Pipe leak"
   ]
  },
  {
   "cell_type": "code",
   "execution_count": null,
   "metadata": {
    "collapsed": true
   },
   "outputs": [],
   "source": []
  }
 ],
 "metadata": {
  "kernelspec": {
   "display_name": "py3tst",
   "language": "python",
   "name": "py3tst"
  },
  "language_info": {
   "codemirror_mode": {
    "name": "ipython",
    "version": 3
   },
   "file_extension": ".py",
   "mimetype": "text/x-python",
   "name": "python",
   "nbconvert_exporter": "python",
   "pygments_lexer": "ipython3",
   "version": "3.6.8"
  }
 },
 "nbformat": 4,
 "nbformat_minor": 2
}
