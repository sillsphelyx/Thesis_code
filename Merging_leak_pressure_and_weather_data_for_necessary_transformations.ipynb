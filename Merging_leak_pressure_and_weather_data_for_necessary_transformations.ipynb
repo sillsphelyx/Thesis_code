{
 "cells": [
  {
   "cell_type": "code",
   "execution_count": 2,
   "metadata": {
    "collapsed": true
   },
   "outputs": [],
   "source": [
    "import pandas as pd\n",
    "import numpy as np"
   ]
  },
  {
   "cell_type": "markdown",
   "metadata": {},
   "source": [
    "# Importing the datasets to be consolidated."
   ]
  },
  {
   "cell_type": "code",
   "execution_count": 3,
   "metadata": {
    "collapsed": true
   },
   "outputs": [],
   "source": [
    "# Esk_daily_leakbehav\n",
    "daily_leaks = pd.read_csv('Esk_daily_leakbehav.csv')\n",
    "# Renaming the datetime column\n",
    "daily_leaks.rename(columns={'Unnamed: 0':'Date'}, inplace=True)"
   ]
  },
  {
   "cell_type": "code",
   "execution_count": 4,
   "metadata": {
    "collapsed": false
   },
   "outputs": [
    {
     "data": {
      "text/html": [
       "<div>\n",
       "<style scoped>\n",
       "    .dataframe tbody tr th:only-of-type {\n",
       "        vertical-align: middle;\n",
       "    }\n",
       "\n",
       "    .dataframe tbody tr th {\n",
       "        vertical-align: top;\n",
       "    }\n",
       "\n",
       "    .dataframe thead th {\n",
       "        text-align: right;\n",
       "    }\n",
       "</style>\n",
       "<table border=\"1\" class=\"dataframe\">\n",
       "  <thead>\n",
       "    <tr style=\"text-align: right;\">\n",
       "      <th></th>\n",
       "      <th>Date</th>\n",
       "      <th>waterleak_count</th>\n",
       "      <th>meterleak_count</th>\n",
       "      <th>pipeleak_count</th>\n",
       "      <th>valveleak_count</th>\n",
       "    </tr>\n",
       "  </thead>\n",
       "  <tbody>\n",
       "    <tr>\n",
       "      <th>0</th>\n",
       "      <td>2018-07-01</td>\n",
       "      <td>0</td>\n",
       "      <td>0</td>\n",
       "      <td>0</td>\n",
       "      <td>0</td>\n",
       "    </tr>\n",
       "    <tr>\n",
       "      <th>1</th>\n",
       "      <td>2018-07-02</td>\n",
       "      <td>0</td>\n",
       "      <td>0</td>\n",
       "      <td>0</td>\n",
       "      <td>0</td>\n",
       "    </tr>\n",
       "    <tr>\n",
       "      <th>2</th>\n",
       "      <td>2018-07-03</td>\n",
       "      <td>0</td>\n",
       "      <td>0</td>\n",
       "      <td>0</td>\n",
       "      <td>0</td>\n",
       "    </tr>\n",
       "    <tr>\n",
       "      <th>3</th>\n",
       "      <td>2018-07-04</td>\n",
       "      <td>0</td>\n",
       "      <td>0</td>\n",
       "      <td>0</td>\n",
       "      <td>0</td>\n",
       "    </tr>\n",
       "    <tr>\n",
       "      <th>4</th>\n",
       "      <td>2018-07-05</td>\n",
       "      <td>0</td>\n",
       "      <td>1</td>\n",
       "      <td>0</td>\n",
       "      <td>0</td>\n",
       "    </tr>\n",
       "  </tbody>\n",
       "</table>\n",
       "</div>"
      ],
      "text/plain": [
       "         Date  waterleak_count  meterleak_count  pipeleak_count  \\\n",
       "0  2018-07-01                0                0               0   \n",
       "1  2018-07-02                0                0               0   \n",
       "2  2018-07-03                0                0               0   \n",
       "3  2018-07-04                0                0               0   \n",
       "4  2018-07-05                0                1               0   \n",
       "\n",
       "   valveleak_count  \n",
       "0                0  \n",
       "1                0  \n",
       "2                0  \n",
       "3                0  \n",
       "4                0  "
      ]
     },
     "execution_count": 4,
     "metadata": {},
     "output_type": "execute_result"
    }
   ],
   "source": [
    "daily_leaks.head()"
   ]
  },
  {
   "cell_type": "code",
   "execution_count": 5,
   "metadata": {
    "collapsed": false
   },
   "outputs": [],
   "source": [
    "#Weather data\n",
    "weather = pd.read_csv('weather.csv')\n",
    "#weather.head()"
   ]
  },
  {
   "cell_type": "markdown",
   "metadata": {},
   "source": [
    "# Reshaping pressure data for allignment with other variables"
   ]
  },
  {
   "cell_type": "code",
   "execution_count": 6,
   "metadata": {
    "collapsed": false
   },
   "outputs": [],
   "source": [
    "#Pressure data\n",
    "pressure_us = pd.read_csv('pressure_us.csv')\n",
    "pressure_ds = pd.read_csv('pressure_ds.csv')"
   ]
  },
  {
   "cell_type": "code",
   "execution_count": 7,
   "metadata": {
    "collapsed": false
   },
   "outputs": [
    {
     "data": {
      "text/html": [
       "<div>\n",
       "<style scoped>\n",
       "    .dataframe tbody tr th:only-of-type {\n",
       "        vertical-align: middle;\n",
       "    }\n",
       "\n",
       "    .dataframe tbody tr th {\n",
       "        vertical-align: top;\n",
       "    }\n",
       "\n",
       "    .dataframe thead th {\n",
       "        text-align: right;\n",
       "    }\n",
       "</style>\n",
       "<table border=\"1\" class=\"dataframe\">\n",
       "  <thead>\n",
       "    <tr style=\"text-align: right;\">\n",
       "      <th></th>\n",
       "      <th>Datetime</th>\n",
       "      <th>Pressure_us</th>\n",
       "    </tr>\n",
       "  </thead>\n",
       "  <tbody>\n",
       "    <tr>\n",
       "      <th>0</th>\n",
       "      <td>2018-05-04 00:00:00</td>\n",
       "      <td>558.828</td>\n",
       "    </tr>\n",
       "    <tr>\n",
       "      <th>1</th>\n",
       "      <td>2018-05-04 00:15:00</td>\n",
       "      <td>558.828</td>\n",
       "    </tr>\n",
       "    <tr>\n",
       "      <th>2</th>\n",
       "      <td>2018-05-04 00:30:00</td>\n",
       "      <td>558.828</td>\n",
       "    </tr>\n",
       "    <tr>\n",
       "      <th>3</th>\n",
       "      <td>2018-05-04 00:45:00</td>\n",
       "      <td>568.632</td>\n",
       "    </tr>\n",
       "    <tr>\n",
       "      <th>4</th>\n",
       "      <td>2018-05-04 01:00:00</td>\n",
       "      <td>558.828</td>\n",
       "    </tr>\n",
       "  </tbody>\n",
       "</table>\n",
       "</div>"
      ],
      "text/plain": [
       "              Datetime  Pressure_us\n",
       "0  2018-05-04 00:00:00      558.828\n",
       "1  2018-05-04 00:15:00      558.828\n",
       "2  2018-05-04 00:30:00      558.828\n",
       "3  2018-05-04 00:45:00      568.632\n",
       "4  2018-05-04 01:00:00      558.828"
      ]
     },
     "execution_count": 7,
     "metadata": {},
     "output_type": "execute_result"
    }
   ],
   "source": [
    "pressure_us.head()"
   ]
  },
  {
   "cell_type": "code",
   "execution_count": 8,
   "metadata": {
    "collapsed": true
   },
   "outputs": [],
   "source": [
    "#df2 = pressure_ds.groupby(level=0).sum()"
   ]
  },
  {
   "cell_type": "code",
   "execution_count": 9,
   "metadata": {
    "collapsed": false
   },
   "outputs": [],
   "source": [
    "# Converting string object to date time object\n",
    "pressure_ds['Datetime'] = pd.to_datetime(pressure_ds['Datetime'].str.strip(), format='%Y-%m-%d %H:%M:%S.%f')\n",
    "pressure_us['Datetime'] = pd.to_datetime(pressure_us['Datetime'].str.strip(), format='%Y-%m-%d %H:%M:%S.%f')\n",
    "#splitting datetime into day and time \n",
    "pressure_ds['Datetime'] = [d.date() for d in pressure_ds['Datetime']]\n",
    "pressure_us['Datetime'] = [d.date() for d in pressure_us['Datetime']]\n",
    "#data_int['time'] = [d.time() for d in data_int['DATE_CREATED']]"
   ]
  },
  {
   "cell_type": "code",
   "execution_count": 10,
   "metadata": {
    "collapsed": false
   },
   "outputs": [],
   "source": [
    "# Averaging at daily scale\n",
    "Avg_pressure_ds = pressure_ds.groupby('Datetime').mean()\n",
    "Avg_pressure_us = pressure_us.groupby('Datetime').mean()"
   ]
  },
  {
   "cell_type": "code",
   "execution_count": 11,
   "metadata": {
    "collapsed": false
   },
   "outputs": [
    {
     "data": {
      "text/html": [
       "<div>\n",
       "<style scoped>\n",
       "    .dataframe tbody tr th:only-of-type {\n",
       "        vertical-align: middle;\n",
       "    }\n",
       "\n",
       "    .dataframe tbody tr th {\n",
       "        vertical-align: top;\n",
       "    }\n",
       "\n",
       "    .dataframe thead th {\n",
       "        text-align: right;\n",
       "    }\n",
       "</style>\n",
       "<table border=\"1\" class=\"dataframe\">\n",
       "  <thead>\n",
       "    <tr style=\"text-align: right;\">\n",
       "      <th></th>\n",
       "      <th>Pressure_us</th>\n",
       "    </tr>\n",
       "    <tr>\n",
       "      <th>Datetime</th>\n",
       "      <th></th>\n",
       "    </tr>\n",
       "  </thead>\n",
       "  <tbody>\n",
       "    <tr>\n",
       "      <th>2018-05-04</th>\n",
       "      <td>529.211750</td>\n",
       "    </tr>\n",
       "    <tr>\n",
       "      <th>2018-05-05</th>\n",
       "      <td>477.638625</td>\n",
       "    </tr>\n",
       "    <tr>\n",
       "      <th>2018-05-06</th>\n",
       "      <td>414.116875</td>\n",
       "    </tr>\n",
       "    <tr>\n",
       "      <th>2018-05-07</th>\n",
       "      <td>434.337625</td>\n",
       "    </tr>\n",
       "    <tr>\n",
       "      <th>2018-05-08</th>\n",
       "      <td>420.857125</td>\n",
       "    </tr>\n",
       "  </tbody>\n",
       "</table>\n",
       "</div>"
      ],
      "text/plain": [
       "            Pressure_us\n",
       "Datetime               \n",
       "2018-05-04   529.211750\n",
       "2018-05-05   477.638625\n",
       "2018-05-06   414.116875\n",
       "2018-05-07   434.337625\n",
       "2018-05-08   420.857125"
      ]
     },
     "execution_count": 11,
     "metadata": {},
     "output_type": "execute_result"
    }
   ],
   "source": [
    "Avg_pressure_us.head()"
   ]
  },
  {
   "cell_type": "markdown",
   "metadata": {},
   "source": [
    "# Selecting time period of interest from a dataframe"
   ]
  },
  {
   "cell_type": "code",
   "execution_count": 12,
   "metadata": {
    "collapsed": true
   },
   "outputs": [],
   "source": [
    "# function that takes a series and reindexs it and returns a series according to time period of interest\n",
    "def rind(series):\n",
    "    #series = pd.Series(frame['waterleak_count'], index=frame.index)\n",
    "    # Realigning the leakage data over the time period of interest\n",
    "    idx = pd.date_range(start='07/01/2018', end='06/30/2019', freq='D')\n",
    "    series.index = pd.DatetimeIndex(series.index)\n",
    "    series = series.reindex(idx, fill_value=0)\n",
    "    return series"
   ]
  },
  {
   "cell_type": "code",
   "execution_count": 13,
   "metadata": {
    "collapsed": false
   },
   "outputs": [],
   "source": [
    "# ##Reindexed waterleak counts\n",
    "#converting dataframe to  a series\n",
    "series_ds = pd.Series(Avg_pressure_ds['Pressure_ds'], index=Avg_pressure_ds.index)\n",
    "series_us = pd.Series(Avg_pressure_us['Pressure_us'], index=Avg_pressure_us.index)\n",
    "#Making use of the reindexing function that was eairlier defined\n",
    "series_ds = rind(series_ds)\n",
    "series_us = rind(series_us)\n",
    "#Converting series back to dataframe\n",
    "frame_ds = series_ds.to_frame(name='Pressure_ds')\n",
    "frame_us = series_us.to_frame(name='Pressure_us')\n",
    "# Reseting the index\n",
    "frame_ds = frame_ds.reset_index() \n",
    "frame_us = frame_us.reset_index()\n",
    "#Rounding off to one decimal place for consistency with weather data\n",
    "frame_ds = frame_ds.round(1) \n",
    "frame_us = frame_us.round(1)\n",
    "# Renaming the datetime column\n",
    "frame_ds.rename(columns={'index':'Date'}, inplace=True)"
   ]
  },
  {
   "cell_type": "markdown",
   "metadata": {},
   "source": [
    "# Pulling all Variables of interest into one table"
   ]
  },
  {
   "cell_type": "code",
   "execution_count": 14,
   "metadata": {
    "collapsed": false
   },
   "outputs": [],
   "source": [
    "# Joining the data frames together\n",
    "Comb = frame_ds \n",
    "Comb['Pressure_us'] = frame_us.Pressure_us\n",
    "Comb['Minimum_Temp'] = weather.Minimum_Temp\n",
    "Comb['Maximum_Temp'] = weather.Maximum_Temp\n",
    "Comb['Average_Temp'] = weather.Average_Temp\n",
    "Comb['Rainfall'] = weather.Rainfall\n",
    "Comb['meterleak_count'] = daily_leaks.meterleak_count\n",
    "Comb['pipeleak_count'] = daily_leaks.pipeleak_count\n",
    "Comb['valveleak_count'] = daily_leaks.valveleak_count\n",
    "Comb['waterleak_count'] = daily_leaks.waterleak_count"
   ]
  },
  {
   "cell_type": "code",
   "execution_count": 15,
   "metadata": {
    "collapsed": false
   },
   "outputs": [
    {
     "data": {
      "text/plain": [
       "(365, 11)"
      ]
     },
     "execution_count": 15,
     "metadata": {},
     "output_type": "execute_result"
    }
   ],
   "source": [
    "Comb.shape"
   ]
  },
  {
   "cell_type": "code",
   "execution_count": 16,
   "metadata": {
    "collapsed": false
   },
   "outputs": [],
   "source": [
    "# Writing new table to a different csv file for safety.\n",
    "Comb.to_csv(r'Esk_leakdata_1.csv', index = False)"
   ]
  },
  {
   "cell_type": "code",
   "execution_count": 18,
   "metadata": {
    "collapsed": false
   },
   "outputs": [],
   "source": [
    "df = pd.read_csv('Esk_leakdata_1.csv')"
   ]
  },
  {
   "cell_type": "code",
   "execution_count": 19,
   "metadata": {
    "collapsed": false
   },
   "outputs": [
    {
     "data": {
      "text/html": [
       "<div>\n",
       "<style scoped>\n",
       "    .dataframe tbody tr th:only-of-type {\n",
       "        vertical-align: middle;\n",
       "    }\n",
       "\n",
       "    .dataframe tbody tr th {\n",
       "        vertical-align: top;\n",
       "    }\n",
       "\n",
       "    .dataframe thead th {\n",
       "        text-align: right;\n",
       "    }\n",
       "</style>\n",
       "<table border=\"1\" class=\"dataframe\">\n",
       "  <thead>\n",
       "    <tr style=\"text-align: right;\">\n",
       "      <th></th>\n",
       "      <th>Date</th>\n",
       "      <th>Pressure_ds</th>\n",
       "      <th>Pressure_us</th>\n",
       "      <th>Minimum_Temp</th>\n",
       "      <th>Maximum_Temp</th>\n",
       "      <th>Average_Temp</th>\n",
       "      <th>Rainfall</th>\n",
       "      <th>meterleak_count</th>\n",
       "      <th>pipeleak_count</th>\n",
       "      <th>valveleak_count</th>\n",
       "      <th>waterleak_count</th>\n",
       "    </tr>\n",
       "  </thead>\n",
       "  <tbody>\n",
       "    <tr>\n",
       "      <th>0</th>\n",
       "      <td>2018-07-01</td>\n",
       "      <td>317.4</td>\n",
       "      <td>420.1</td>\n",
       "      <td>12.3</td>\n",
       "      <td>25.3</td>\n",
       "      <td>15.1</td>\n",
       "      <td>0.0</td>\n",
       "      <td>0</td>\n",
       "      <td>0</td>\n",
       "      <td>0</td>\n",
       "      <td>0</td>\n",
       "    </tr>\n",
       "    <tr>\n",
       "      <th>1</th>\n",
       "      <td>2018-07-02</td>\n",
       "      <td>323.3</td>\n",
       "      <td>425.8</td>\n",
       "      <td>17.3</td>\n",
       "      <td>28.6</td>\n",
       "      <td>19.7</td>\n",
       "      <td>0.0</td>\n",
       "      <td>0</td>\n",
       "      <td>0</td>\n",
       "      <td>0</td>\n",
       "      <td>0</td>\n",
       "    </tr>\n",
       "    <tr>\n",
       "      <th>2</th>\n",
       "      <td>2018-07-03</td>\n",
       "      <td>326.3</td>\n",
       "      <td>433.6</td>\n",
       "      <td>9.6</td>\n",
       "      <td>20.9</td>\n",
       "      <td>18.7</td>\n",
       "      <td>0.0</td>\n",
       "      <td>0</td>\n",
       "      <td>0</td>\n",
       "      <td>0</td>\n",
       "      <td>0</td>\n",
       "    </tr>\n",
       "    <tr>\n",
       "      <th>3</th>\n",
       "      <td>2018-07-04</td>\n",
       "      <td>314.0</td>\n",
       "      <td>419.5</td>\n",
       "      <td>7.6</td>\n",
       "      <td>22.3</td>\n",
       "      <td>10.9</td>\n",
       "      <td>0.0</td>\n",
       "      <td>0</td>\n",
       "      <td>0</td>\n",
       "      <td>0</td>\n",
       "      <td>0</td>\n",
       "    </tr>\n",
       "    <tr>\n",
       "      <th>4</th>\n",
       "      <td>2018-07-05</td>\n",
       "      <td>333.8</td>\n",
       "      <td>467.5</td>\n",
       "      <td>9.6</td>\n",
       "      <td>22.3</td>\n",
       "      <td>13.4</td>\n",
       "      <td>0.6</td>\n",
       "      <td>1</td>\n",
       "      <td>0</td>\n",
       "      <td>0</td>\n",
       "      <td>0</td>\n",
       "    </tr>\n",
       "  </tbody>\n",
       "</table>\n",
       "</div>"
      ],
      "text/plain": [
       "         Date  Pressure_ds  Pressure_us  Minimum_Temp  Maximum_Temp  \\\n",
       "0  2018-07-01        317.4        420.1          12.3          25.3   \n",
       "1  2018-07-02        323.3        425.8          17.3          28.6   \n",
       "2  2018-07-03        326.3        433.6           9.6          20.9   \n",
       "3  2018-07-04        314.0        419.5           7.6          22.3   \n",
       "4  2018-07-05        333.8        467.5           9.6          22.3   \n",
       "\n",
       "   Average_Temp  Rainfall  meterleak_count  pipeleak_count  valveleak_count  \\\n",
       "0          15.1       0.0                0               0                0   \n",
       "1          19.7       0.0                0               0                0   \n",
       "2          18.7       0.0                0               0                0   \n",
       "3          10.9       0.0                0               0                0   \n",
       "4          13.4       0.6                1               0                0   \n",
       "\n",
       "   waterleak_count  \n",
       "0                0  \n",
       "1                0  \n",
       "2                0  \n",
       "3                0  \n",
       "4                0  "
      ]
     },
     "execution_count": 19,
     "metadata": {},
     "output_type": "execute_result"
    }
   ],
   "source": [
    "df.head()"
   ]
  },
  {
   "cell_type": "code",
   "execution_count": null,
   "metadata": {
    "collapsed": true
   },
   "outputs": [],
   "source": []
  }
 ],
 "metadata": {
  "kernelspec": {
   "display_name": "py3tst",
   "language": "python",
   "name": "py3tst"
  },
  "language_info": {
   "codemirror_mode": {
    "name": "ipython",
    "version": 3
   },
   "file_extension": ".py",
   "mimetype": "text/x-python",
   "name": "python",
   "nbconvert_exporter": "python",
   "pygments_lexer": "ipython3",
   "version": "3.6.8"
  }
 },
 "nbformat": 4,
 "nbformat_minor": 2
}
