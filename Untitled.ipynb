{
 "cells": [
  {
   "cell_type": "code",
   "execution_count": 8,
   "metadata": {
    "collapsed": true
   },
   "outputs": [],
   "source": [
    "from itertools import combinations\n",
    "from collections import defaultdict\n",
    "import numpy as np\n",
    "import networkx as nx\n",
    "from pgmpy.factors.discrete import TabularCPD\n",
    "from pgmpy.base import DirectedGraph\n",
    "from pgmpy.models import DynamicBayesianNetwork as DBN\n",
    "from pgmpy.factors.discrete import TabularCPD"
   ]
  },
  {
   "cell_type": "code",
   "execution_count": 9,
   "metadata": {
    "collapsed": true
   },
   "outputs": [],
   "source": [
    "dbn = DBN()"
   ]
  },
  {
   "cell_type": "code",
   "execution_count": 10,
   "metadata": {
    "collapsed": true
   },
   "outputs": [],
   "source": [
    "dbn.add_edges_from([(('Prs_ds_disc', 0), ('total_leak_count', 0)), (('Temp_range_disc', 0), ('total_leak_count', 0)),\n",
    "                    (('Rain_disc', 0), ('total_leak_count', 0)), (('Prs_ds_disc', 0), ('Prs_ds_disc', 1)), \n",
    "                    (('Temp_range_disc', 0), ('Temp_range_disc', 1)), (('Rain_disc', 0), ('Rain_disc', 1))])"
   ]
  },
  {
   "cell_type": "code",
   "execution_count": 12,
   "metadata": {
    "collapsed": false
   },
   "outputs": [
    {
     "data": {
      "text/plain": [
       "[(('Prs_ds_disc', 0), ('total_leak_count', 0)),\n",
       " (('Temp_range_disc', 0), ('total_leak_count', 0)),\n",
       " (('Rain_disc', 0), ('total_leak_count', 0))]"
      ]
     },
     "execution_count": 12,
     "metadata": {},
     "output_type": "execute_result"
    }
   ],
   "source": [
    "dbn.get_intra_edges()"
   ]
  },
  {
   "cell_type": "code",
   "execution_count": null,
   "metadata": {
    "collapsed": true
   },
   "outputs": [],
   "source": [
    "#from pgmpy.models import DynamicBayesianNetwork as DBN\n",
    "dbn = DBN()\n",
    "dbn.add_edges_from([(('D', 0),('G', 0)),(('I', 0),('G', 0)),(('D', 0),('D', 1)),(('I', 0),('I', 1))])\n",
    "grade_cpd = TabularCPD(('G', 0), 3, [[0.3, 0.05, 0.9, 0.5],[0.4, 0.25, 0.8, 0.03],                                   [0.3, 0.7, 0.02, 0.2]],\n",
    "                               evidence=[('I', 0),('D', 0)],\n",
    "                              evidence_card=[2, 2])\n",
    "            d_i_cpd = TabularCPD(('D',1), 2, [[0.6, 0.3],\n",
    "                                           [0.4, 0.7]],\n",
    "                    evidence=[('D',0)],\n",
    "                             evidence_card=2)\n",
    "            diff_cpd = TabularCPD(('D', 0), 2, [[0.6, 0.4]])\n",
    "            intel_cpd = TabularCPD(('I', 0), 2, [[0.7, 0.3]])\n",
    "            i_i_cpd = TabularCPD(('I', 1), 2, [[0.5, 0.4],\n",
    "                                            [0.5, 0.6]],\n",
    "                              evidence=[('I', 0)],\n",
    "                              evidence_card=2)\n",
    "dbn.add_cpds(grade_cpd, d_i_cpd, diff_cpd, intel_cpd, i_i_cpd)\n",
    "dbn.get_cpds()"
   ]
  }
 ],
 "metadata": {
  "kernelspec": {
   "display_name": "py3tst",
   "language": "python",
   "name": "py3tst"
  },
  "language_info": {
   "codemirror_mode": {
    "name": "ipython",
    "version": 3
   },
   "file_extension": ".py",
   "mimetype": "text/x-python",
   "name": "python",
   "nbconvert_exporter": "python",
   "pygments_lexer": "ipython3",
   "version": "3.6.8"
  }
 },
 "nbformat": 4,
 "nbformat_minor": 2
}
