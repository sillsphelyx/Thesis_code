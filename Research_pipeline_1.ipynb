{
 "cells": [
  {
   "cell_type": "code",
   "execution_count": 1,
   "metadata": {
    "collapsed": true
   },
   "outputs": [],
   "source": [
    "import pandas as pd\n",
    "import numpy as np"
   ]
  },
  {
   "cell_type": "code",
   "execution_count": 2,
   "metadata": {
    "collapsed": true
   },
   "outputs": [],
   "source": [
    "# Esk_daily_leakbehav\n",
    "data = pd.read_csv('pd.to_numeric(s).csv')"
   ]
  },
  {
   "cell_type": "code",
   "execution_count": 3,
   "metadata": {
    "collapsed": false
   },
   "outputs": [
    {
     "data": {
      "text/html": [
       "<div>\n",
       "<style scoped>\n",
       "    .dataframe tbody tr th:only-of-type {\n",
       "        vertical-align: middle;\n",
       "    }\n",
       "\n",
       "    .dataframe tbody tr th {\n",
       "        vertical-align: top;\n",
       "    }\n",
       "\n",
       "    .dataframe thead th {\n",
       "        text-align: right;\n",
       "    }\n",
       "</style>\n",
       "<table border=\"1\" class=\"dataframe\">\n",
       "  <thead>\n",
       "    <tr style=\"text-align: right;\">\n",
       "      <th></th>\n",
       "      <th>Date</th>\n",
       "      <th>Pressure_ds</th>\n",
       "      <th>Pressure_us</th>\n",
       "      <th>Minimum_Temp</th>\n",
       "      <th>Maximum_Temp</th>\n",
       "      <th>Average_Temp</th>\n",
       "      <th>Rainfall</th>\n",
       "      <th>meterleak_count</th>\n",
       "      <th>pipeleak_count</th>\n",
       "      <th>valveleak_count</th>\n",
       "      <th>waterleak_count</th>\n",
       "    </tr>\n",
       "  </thead>\n",
       "  <tbody>\n",
       "    <tr>\n",
       "      <th>0</th>\n",
       "      <td>2018-07-01</td>\n",
       "      <td>317.4</td>\n",
       "      <td>420.1</td>\n",
       "      <td>12.3</td>\n",
       "      <td>25.3</td>\n",
       "      <td>15.1</td>\n",
       "      <td>0.0</td>\n",
       "      <td>0</td>\n",
       "      <td>0</td>\n",
       "      <td>0</td>\n",
       "      <td>0</td>\n",
       "    </tr>\n",
       "    <tr>\n",
       "      <th>1</th>\n",
       "      <td>2018-07-02</td>\n",
       "      <td>323.3</td>\n",
       "      <td>425.8</td>\n",
       "      <td>17.3</td>\n",
       "      <td>28.6</td>\n",
       "      <td>19.7</td>\n",
       "      <td>0.0</td>\n",
       "      <td>0</td>\n",
       "      <td>0</td>\n",
       "      <td>0</td>\n",
       "      <td>0</td>\n",
       "    </tr>\n",
       "    <tr>\n",
       "      <th>2</th>\n",
       "      <td>2018-07-03</td>\n",
       "      <td>326.3</td>\n",
       "      <td>433.6</td>\n",
       "      <td>9.6</td>\n",
       "      <td>20.9</td>\n",
       "      <td>18.7</td>\n",
       "      <td>0.0</td>\n",
       "      <td>0</td>\n",
       "      <td>0</td>\n",
       "      <td>0</td>\n",
       "      <td>0</td>\n",
       "    </tr>\n",
       "    <tr>\n",
       "      <th>3</th>\n",
       "      <td>2018-07-04</td>\n",
       "      <td>314.0</td>\n",
       "      <td>419.5</td>\n",
       "      <td>7.6</td>\n",
       "      <td>22.3</td>\n",
       "      <td>10.9</td>\n",
       "      <td>0.0</td>\n",
       "      <td>0</td>\n",
       "      <td>0</td>\n",
       "      <td>0</td>\n",
       "      <td>0</td>\n",
       "    </tr>\n",
       "    <tr>\n",
       "      <th>4</th>\n",
       "      <td>2018-07-05</td>\n",
       "      <td>333.8</td>\n",
       "      <td>467.5</td>\n",
       "      <td>9.6</td>\n",
       "      <td>22.3</td>\n",
       "      <td>13.4</td>\n",
       "      <td>0.6</td>\n",
       "      <td>1</td>\n",
       "      <td>0</td>\n",
       "      <td>0</td>\n",
       "      <td>0</td>\n",
       "    </tr>\n",
       "  </tbody>\n",
       "</table>\n",
       "</div>"
      ],
      "text/plain": [
       "         Date  Pressure_ds  Pressure_us  Minimum_Temp  Maximum_Temp  \\\n",
       "0  2018-07-01        317.4        420.1          12.3          25.3   \n",
       "1  2018-07-02        323.3        425.8          17.3          28.6   \n",
       "2  2018-07-03        326.3        433.6           9.6          20.9   \n",
       "3  2018-07-04        314.0        419.5           7.6          22.3   \n",
       "4  2018-07-05        333.8        467.5           9.6          22.3   \n",
       "\n",
       "   Average_Temp  Rainfall  meterleak_count  pipeleak_count  valveleak_count  \\\n",
       "0          15.1       0.0                0               0                0   \n",
       "1          19.7       0.0                0               0                0   \n",
       "2          18.7       0.0                0               0                0   \n",
       "3          10.9       0.0                0               0                0   \n",
       "4          13.4       0.6                1               0                0   \n",
       "\n",
       "   waterleak_count  \n",
       "0                0  \n",
       "1                0  \n",
       "2                0  \n",
       "3                0  \n",
       "4                0  "
      ]
     },
     "execution_count": 3,
     "metadata": {},
     "output_type": "execute_result"
    }
   ],
   "source": [
    "data.head()"
   ]
  },
  {
   "cell_type": "code",
   "execution_count": 16,
   "metadata": {
    "collapsed": false
   },
   "outputs": [
    {
     "data": {
      "text/plain": [
       "str"
      ]
     },
     "execution_count": 16,
     "metadata": {},
     "output_type": "execute_result"
    }
   ],
   "source": [
    "df['DataFrame Column'] = df['DataFrame Column'].astype(float)"
   ]
  },
  {
   "cell_type": "code",
   "execution_count": null,
   "metadata": {
    "collapsed": true
   },
   "outputs": [],
   "source": [
    "pd.to_numeric(s)"
   ]
  }
 ],
 "metadata": {
  "kernelspec": {
   "display_name": "py3tst",
   "language": "python",
   "name": "py3tst"
  },
  "language_info": {
   "codemirror_mode": {
    "name": "ipython",
    "version": 3
   },
   "file_extension": ".py",
   "mimetype": "text/x-python",
   "name": "python",
   "nbconvert_exporter": "python",
   "pygments_lexer": "ipython3",
   "version": "3.6.8"
  }
 },
 "nbformat": 4,
 "nbformat_minor": 2
}
