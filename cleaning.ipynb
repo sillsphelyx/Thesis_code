{
 "cells": [
  {
   "cell_type": "code",
   "execution_count": 1,
   "metadata": {
    "collapsed": false
   },
   "outputs": [],
   "source": [
    "import pandas as pd\n",
    "import numpy as np\n",
    "import re\n",
    "#import xlrd"
   ]
  },
  {
   "cell_type": "code",
   "execution_count": 2,
   "metadata": {
    "collapsed": true
   },
   "outputs": [
    {
     "data": {
      "text/html": [
       "<div>\n",
       "<style scoped>\n",
       "    .dataframe tbody tr th:only-of-type {\n",
       "        vertical-align: middle;\n",
       "    }\n",
       "\n",
       "    .dataframe tbody tr th {\n",
       "        vertical-align: top;\n",
       "    }\n",
       "\n",
       "    .dataframe thead th {\n",
       "        text-align: right;\n",
       "    }\n",
       "</style>\n",
       "<table border=\"1\" class=\"dataframe\">\n",
       "  <thead>\n",
       "    <tr style=\"text-align: right;\">\n",
       "      <th></th>\n",
       "      <th>DATE_CREATED</th>\n",
       "      <th>NO_ASSET</th>\n",
       "      <th>NO_WORK_ORDER</th>\n",
       "      <th>DESC_PROBLEM_ACTUAL</th>\n",
       "      <th>NO_FAILURE_TYPES</th>\n",
       "      <th>DATE_REQUIRED</th>\n",
       "      <th>DATE_COMPLETED</th>\n",
       "      <th>NO_WORK_ORDER_STATUS</th>\n",
       "    </tr>\n",
       "  </thead>\n",
       "  <tbody>\n",
       "    <tr>\n",
       "      <th>0</th>\n",
       "      <td>2016-12-19 08:54:00</td>\n",
       "      <td>771.0</td>\n",
       "      <td>424912.0</td>\n",
       "      <td>CUT GRASS</td>\n",
       "      <td>0.0</td>\n",
       "      <td>2019-02-21 00:00:00</td>\n",
       "      <td>2019-02-27</td>\n",
       "      <td>97.0</td>\n",
       "    </tr>\n",
       "    <tr>\n",
       "      <th>1</th>\n",
       "      <td>2016-06-02 08:21:00</td>\n",
       "      <td>1768.0</td>\n",
       "      <td>398440.0</td>\n",
       "      <td>Stand 1390 KHOZA TRIBAL - gps 3200576-2867544 ...</td>\n",
       "      <td>0.0</td>\n",
       "      <td>2016-06-02 00:00:00</td>\n",
       "      <td>2019-06-02</td>\n",
       "      <td>97.0</td>\n",
       "    </tr>\n",
       "    <tr>\n",
       "      <th>2</th>\n",
       "      <td>2016-06-14 12:38:00</td>\n",
       "      <td>1582.0</td>\n",
       "      <td>400156.0</td>\n",
       "      <td>Lot: 15128 Mzingazi - New water connection - S...</td>\n",
       "      <td>42.0</td>\n",
       "      <td>2016-06-14 00:00:00</td>\n",
       "      <td>2018-08-29</td>\n",
       "      <td>97.0</td>\n",
       "    </tr>\n",
       "    <tr>\n",
       "      <th>3</th>\n",
       "      <td>2016-11-21 09:16:00</td>\n",
       "      <td>1582.0</td>\n",
       "      <td>421555.0</td>\n",
       "      <td>Mzingazi 294  New water connection  SM Cele  0...</td>\n",
       "      <td>42.0</td>\n",
       "      <td>0000-00-00 00:00:00</td>\n",
       "      <td>2018-10-22</td>\n",
       "      <td>97.0</td>\n",
       "    </tr>\n",
       "    <tr>\n",
       "      <th>4</th>\n",
       "      <td>2017-03-23 14:38:00</td>\n",
       "      <td>1768.0</td>\n",
       "      <td>437762.0</td>\n",
       "      <td>Stand 564 MKhoma 32.00545 - 28.66595 meter no ...</td>\n",
       "      <td>0.0</td>\n",
       "      <td>2017-03-23 00:00:00</td>\n",
       "      <td>2019-06-07</td>\n",
       "      <td>97.0</td>\n",
       "    </tr>\n",
       "  </tbody>\n",
       "</table>\n",
       "</div>"
      ],
      "text/plain": [
       "          DATE_CREATED  NO_ASSET  NO_WORK_ORDER  \\\n",
       "0  2016-12-19 08:54:00     771.0       424912.0   \n",
       "1  2016-06-02 08:21:00    1768.0       398440.0   \n",
       "2  2016-06-14 12:38:00    1582.0       400156.0   \n",
       "3  2016-11-21 09:16:00    1582.0       421555.0   \n",
       "4  2017-03-23 14:38:00    1768.0       437762.0   \n",
       "\n",
       "                                 DESC_PROBLEM_ACTUAL  NO_FAILURE_TYPES  \\\n",
       "0                                          CUT GRASS               0.0   \n",
       "1  Stand 1390 KHOZA TRIBAL - gps 3200576-2867544 ...               0.0   \n",
       "2  Lot: 15128 Mzingazi - New water connection - S...              42.0   \n",
       "3  Mzingazi 294  New water connection  SM Cele  0...              42.0   \n",
       "4  Stand 564 MKhoma 32.00545 - 28.66595 meter no ...               0.0   \n",
       "\n",
       "         DATE_REQUIRED DATE_COMPLETED  NO_WORK_ORDER_STATUS  \n",
       "0  2019-02-21 00:00:00     2019-02-27                  97.0  \n",
       "1  2016-06-02 00:00:00     2019-06-02                  97.0  \n",
       "2  2016-06-14 00:00:00     2018-08-29                  97.0  \n",
       "3  0000-00-00 00:00:00     2018-10-22                  97.0  \n",
       "4  2017-03-23 00:00:00     2019-06-07                  97.0  "
      ]
     },
     "execution_count": 2,
     "metadata": {},
     "output_type": "execute_result"
    }
   ],
   "source": [
    "#importing the data from excel sheet\n",
    "data = pd.read_excel (r'WorkorderReport.xlsx', sheet_name='WorkorderReport')\n",
    "data.head()\n"
   ]
  },
  {
   "cell_type": "code",
   "execution_count": 3,
   "metadata": {
    "collapsed": false
   },
   "outputs": [
    {
     "data": {
      "text/plain": [
       "DATE_CREATED            0\n",
       "NO_ASSET                1\n",
       "NO_WORK_ORDER           1\n",
       "DESC_PROBLEM_ACTUAL     3\n",
       "NO_FAILURE_TYPES        1\n",
       "DATE_REQUIRED           1\n",
       "DATE_COMPLETED          1\n",
       "NO_WORK_ORDER_STATUS    1\n",
       "dtype: int64"
      ]
     },
     "execution_count": 3,
     "metadata": {},
     "output_type": "execute_result"
    }
   ],
   "source": [
    "#Checking for the existence of missing  values\n",
    "data.isnull().sum()#['DATE_CREATED'][0]"
   ]
  },
  {
   "cell_type": "code",
   "execution_count": 4,
   "metadata": {
    "collapsed": true
   },
   "outputs": [],
   "source": [
    "#dropping missing values\n",
    "data.dropna(inplace = True)\n",
    "#Reseting the indices after the deletion of rows with missing values\n",
    "data.reset_index(inplace=True)\n",
    "#Dropping the created index column\n",
    "data.drop('index', axis='columns', inplace=True)"
   ]
  },
  {
   "cell_type": "code",
   "execution_count": 5,
   "metadata": {
    "collapsed": false
   },
   "outputs": [],
   "source": [
    "#Pulling out the rows of interest from the data Frame\n",
    "data_int = data[['DATE_CREATED', 'DESC_PROBLEM_ACTUAL']]"
   ]
  },
  {
   "cell_type": "code",
   "execution_count": 6,
   "metadata": {
    "collapsed": false
   },
   "outputs": [
    {
     "data": {
      "text/html": [
       "<div>\n",
       "<style scoped>\n",
       "    .dataframe tbody tr th:only-of-type {\n",
       "        vertical-align: middle;\n",
       "    }\n",
       "\n",
       "    .dataframe tbody tr th {\n",
       "        vertical-align: top;\n",
       "    }\n",
       "\n",
       "    .dataframe thead th {\n",
       "        text-align: right;\n",
       "    }\n",
       "</style>\n",
       "<table border=\"1\" class=\"dataframe\">\n",
       "  <thead>\n",
       "    <tr style=\"text-align: right;\">\n",
       "      <th></th>\n",
       "      <th>DATE_CREATED</th>\n",
       "      <th>DESC_PROBLEM_ACTUAL</th>\n",
       "    </tr>\n",
       "  </thead>\n",
       "  <tbody>\n",
       "    <tr>\n",
       "      <th>0</th>\n",
       "      <td>2016-12-19 08:54:00</td>\n",
       "      <td>CUT GRASS</td>\n",
       "    </tr>\n",
       "    <tr>\n",
       "      <th>1</th>\n",
       "      <td>2016-06-02 08:21:00</td>\n",
       "      <td>Stand 1390 KHOZA TRIBAL - gps 3200576-2867544 ...</td>\n",
       "    </tr>\n",
       "    <tr>\n",
       "      <th>2</th>\n",
       "      <td>2016-06-14 12:38:00</td>\n",
       "      <td>Lot: 15128 Mzingazi - New water connection - S...</td>\n",
       "    </tr>\n",
       "    <tr>\n",
       "      <th>3</th>\n",
       "      <td>2016-11-21 09:16:00</td>\n",
       "      <td>Mzingazi 294  New water connection  SM Cele  0...</td>\n",
       "    </tr>\n",
       "    <tr>\n",
       "      <th>4</th>\n",
       "      <td>2017-03-23 14:38:00</td>\n",
       "      <td>Stand 564 MKhoma 32.00545 - 28.66595 meter no ...</td>\n",
       "    </tr>\n",
       "  </tbody>\n",
       "</table>\n",
       "</div>"
      ],
      "text/plain": [
       "          DATE_CREATED                                DESC_PROBLEM_ACTUAL\n",
       "0  2016-12-19 08:54:00                                          CUT GRASS\n",
       "1  2016-06-02 08:21:00  Stand 1390 KHOZA TRIBAL - gps 3200576-2867544 ...\n",
       "2  2016-06-14 12:38:00  Lot: 15128 Mzingazi - New water connection - S...\n",
       "3  2016-11-21 09:16:00  Mzingazi 294  New water connection  SM Cele  0...\n",
       "4  2017-03-23 14:38:00  Stand 564 MKhoma 32.00545 - 28.66595 meter no ..."
      ]
     },
     "execution_count": 6,
     "metadata": {},
     "output_type": "execute_result"
    }
   ],
   "source": [
    "data_int.head()"
   ]
  },
  {
   "cell_type": "code",
   "execution_count": 7,
   "metadata": {
    "collapsed": false
   },
   "outputs": [
    {
     "name": "stderr",
     "output_type": "stream",
     "text": [
      "/home/felix/Documents/Pgmpy_recode/py3tst/lib/python3.6/site-packages/ipykernel_launcher.py:2: SettingWithCopyWarning: \n",
      "A value is trying to be set on a copy of a slice from a DataFrame.\n",
      "Try using .loc[row_indexer,col_indexer] = value instead\n",
      "\n",
      "See the caveats in the documentation: http://pandas.pydata.org/pandas-docs/stable/user_guide/indexing.html#returning-a-view-versus-a-copy\n",
      "  \n"
     ]
    }
   ],
   "source": [
    "# Converting the description column to text\n",
    "data_int['DESC_PROBLEM_ACTUAL'] = data_int['DESC_PROBLEM_ACTUAL'].astype(str)"
   ]
  },
  {
   "cell_type": "code",
   "execution_count": 8,
   "metadata": {
    "collapsed": true
   },
   "outputs": [],
   "source": [
    "# Function that check for the required text pattern and assign a true or false value based on wheather or not that text\n",
    "# is in the sentences\n",
    "def check(patterns,text):\n",
    "    for pattern in patterns:\n",
    "        if re.search(pattern,text):\n",
    "            return True\n",
    "        else:\n",
    "            return False"
   ]
  },
  {
   "cell_type": "markdown",
   "metadata": {},
   "source": [
    "## Eskhawini"
   ]
  },
  {
   "cell_type": "code",
   "execution_count": 9,
   "metadata": {
    "collapsed": false
   },
   "outputs": [],
   "source": [
    "#Eskhawini and Eskhaleni\n",
    "# Checking weather the description text contains the desired pattern\n",
    "patterns = ['[Ee][Ss][Kk][Hh][Aa][WwLl][IiEe][Nn][Ii]']\n",
    "truth_value = []\n",
    "for txt in data_int['DESC_PROBLEM_ACTUAL']:\n",
    "    truth_value.append(check(patterns,txt))\n",
    "Esk = np.array(truth_value)   "
   ]
  },
  {
   "cell_type": "code",
   "execution_count": 10,
   "metadata": {
    "collapsed": true
   },
   "outputs": [],
   "source": [
    "#adding the new column \"Eskhawini\"\n",
    "data_int = data_int.assign(Eskhawini = Esk)"
   ]
  },
  {
   "cell_type": "code",
   "execution_count": 11,
   "metadata": {
    "collapsed": true
   },
   "outputs": [],
   "source": [
    "#  H-Section\n",
    "\n",
    "#### Pipe_leak\n",
    "# Checking weather the description text contains the desired pattern\n",
    "truth_value = []\n",
    "key_words = ['[\\s\\S]H[\\d\\s]']\n",
    "for word in key_words:\n",
    "    for txt in data_int['DESC_PROBLEM_ACTUAL']:\n",
    "        truth_value.append([check(key_words,txt)])\n",
    "    H = np.array(truth_value) "
   ]
  },
  {
   "cell_type": "code",
   "execution_count": 12,
   "metadata": {
    "collapsed": true
   },
   "outputs": [],
   "source": [
    "#adding the new column \"Eskhawini\"\n",
    "data_int = data_int.assign(Esk_H = H)"
   ]
  },
  {
   "cell_type": "code",
   "execution_count": 13,
   "metadata": {
    "collapsed": true
   },
   "outputs": [],
   "source": [
    "#  J-Section\n",
    "\n",
    "#### Pipe_leak\n",
    "# Checking weather the description text contains the desired pattern\n",
    "truth_value = []\n",
    "key_words = ['[\\s\\S]J[\\d\\s]']\n",
    "for word in key_words:\n",
    "    for txt in data_int['DESC_PROBLEM_ACTUAL']:\n",
    "        truth_value.append([check(key_words,txt)])\n",
    "    J = np.array(truth_value) "
   ]
  },
  {
   "cell_type": "code",
   "execution_count": 14,
   "metadata": {
    "collapsed": true
   },
   "outputs": [],
   "source": [
    "#adding the new column \"Eskhawini\"\n",
    "data_int = data_int.assign(Esk_J = J)"
   ]
  },
  {
   "cell_type": "markdown",
   "metadata": {},
   "source": [
    "## Leak"
   ]
  },
  {
   "cell_type": "code",
   "execution_count": 15,
   "metadata": {
    "collapsed": true
   },
   "outputs": [],
   "source": [
    "#### leak\n",
    "# Checking weather the description text contains the desired pattern\n",
    "truth_value = [] \n",
    "key_words = ['[Ll][Ee][Aa][Kk]']\n",
    "for word in key_words:\n",
    "    for txt in data_int['DESC_PROBLEM_ACTUAL']:\n",
    "        truth_value.append([check(key_words,txt)])\n",
    "    lk = np.array(truth_value)  "
   ]
  },
  {
   "cell_type": "code",
   "execution_count": 16,
   "metadata": {
    "collapsed": true
   },
   "outputs": [],
   "source": [
    "#adding the new column \"meter leak\"\n",
    "data_int = data_int.assign(Leaks = lk)"
   ]
  },
  {
   "cell_type": "markdown",
   "metadata": {},
   "source": [
    "## Meter Leak"
   ]
  },
  {
   "cell_type": "code",
   "execution_count": 17,
   "metadata": {
    "collapsed": true
   },
   "outputs": [],
   "source": [
    "#### Meter leak\n",
    "# Checking weather the description text contains the desired pattern\n",
    "truth_value = []\n",
    "key_words = ['[Mm][Ee][Tt][Ee][Rr][\\s\\S][Ll][Ee][Aa][Kk]']\n",
    "for word in key_words:\n",
    "    for txt in data_int['DESC_PROBLEM_ACTUAL']:\n",
    "        truth_value.append([check(key_words,txt)])\n",
    "    mtr = np.array(truth_value)  "
   ]
  },
  {
   "cell_type": "code",
   "execution_count": 18,
   "metadata": {
    "collapsed": true
   },
   "outputs": [],
   "source": [
    "#adding the new column \"meter leak\"\n",
    "data_int = data_int.assign(Meter_leak = mtr)"
   ]
  },
  {
   "cell_type": "markdown",
   "metadata": {},
   "source": [
    "## Valve leak"
   ]
  },
  {
   "cell_type": "code",
   "execution_count": 19,
   "metadata": {
    "collapsed": true
   },
   "outputs": [],
   "source": [
    "#### Meter leak\n",
    "# Checking weather the description text contains the desired pattern\n",
    "truth_value = []\n",
    "key_words = ['[Vv][Aa][Ll][Vv][Ee][\\s\\S][Ll][Ee][Aa][Kk]']\n",
    "for word in key_words:\n",
    "    for txt in data_int['DESC_PROBLEM_ACTUAL']:\n",
    "        truth_value.append([check(key_words,txt)])\n",
    "    valve = np.array(truth_value)  "
   ]
  },
  {
   "cell_type": "code",
   "execution_count": 30,
   "metadata": {
    "collapsed": true
   },
   "outputs": [],
   "source": [
    "#adding the new column \"meter leak\"\n",
    "data_int = data_int.assign(Valve_leak = valve)"
   ]
  },
  {
   "cell_type": "markdown",
   "metadata": {},
   "source": [
    "## pipe burst"
   ]
  },
  {
   "cell_type": "code",
   "execution_count": 20,
   "metadata": {
    "collapsed": true
   },
   "outputs": [],
   "source": [
    "#### Pipe burst\n",
    "# Checking weather the description text contains the desired pattern\n",
    "truth_value = []\n",
    "key_words = ['[Pp][Ii][Pp][Ee][\\s\\S][Bb][Uu][Rr][Ss][Tt]']\n",
    "for word in key_words:\n",
    "    for txt in data_int['DESC_PROBLEM_ACTUAL']:\n",
    "        truth_value.append([check(key_words,txt)])\n",
    "    pipe_b = np.array(truth_value)  "
   ]
  },
  {
   "cell_type": "code",
   "execution_count": 21,
   "metadata": {
    "collapsed": true
   },
   "outputs": [],
   "source": [
    "#adding the new column \"meter leak\"\n",
    "data_int = data_int.assign(Pipe_burst = pipe_b)"
   ]
  },
  {
   "cell_type": "markdown",
   "metadata": {},
   "source": [
    "## pipe leak"
   ]
  },
  {
   "cell_type": "code",
   "execution_count": 22,
   "metadata": {
    "collapsed": true
   },
   "outputs": [],
   "source": [
    "#### Pipe leak\n",
    "# Checking weather the description text contains the desired pattern\n",
    "truth_value = []\n",
    "key_words = ['[Pp][Ii][Pp][Ee][\\s\\S][Ll][Ee][Aa][Kk]']\n",
    "for word in key_words:\n",
    "    for txt in data_int['DESC_PROBLEM_ACTUAL']:\n",
    "        truth_value.append([check(key_words,txt)])\n",
    "    pipe_l = np.array(truth_value)  "
   ]
  },
  {
   "cell_type": "code",
   "execution_count": 23,
   "metadata": {
    "collapsed": true
   },
   "outputs": [],
   "source": [
    "#adding the new column \"meter leak\"\n",
    "data_int = data_int.assign(Pipe_leak = pipe_l)"
   ]
  },
  {
   "cell_type": "code",
   "execution_count": 24,
   "metadata": {
    "collapsed": false,
    "scrolled": false
   },
   "outputs": [
    {
     "data": {
      "text/html": [
       "<div>\n",
       "<style scoped>\n",
       "    .dataframe tbody tr th:only-of-type {\n",
       "        vertical-align: middle;\n",
       "    }\n",
       "\n",
       "    .dataframe tbody tr th {\n",
       "        vertical-align: top;\n",
       "    }\n",
       "\n",
       "    .dataframe thead th {\n",
       "        text-align: right;\n",
       "    }\n",
       "</style>\n",
       "<table border=\"1\" class=\"dataframe\">\n",
       "  <thead>\n",
       "    <tr style=\"text-align: right;\">\n",
       "      <th></th>\n",
       "      <th>DATE_CREATED</th>\n",
       "      <th>DESC_PROBLEM_ACTUAL</th>\n",
       "      <th>Eskhawini</th>\n",
       "      <th>Esk_H</th>\n",
       "      <th>Esk_J</th>\n",
       "      <th>Leaks</th>\n",
       "      <th>Meter_leak</th>\n",
       "      <th>Pipe_burst</th>\n",
       "      <th>Pipe_leak</th>\n",
       "    </tr>\n",
       "  </thead>\n",
       "  <tbody>\n",
       "    <tr>\n",
       "      <th>0</th>\n",
       "      <td>2016-12-19 08:54:00</td>\n",
       "      <td>CUT GRASS</td>\n",
       "      <td>False</td>\n",
       "      <td>False</td>\n",
       "      <td>False</td>\n",
       "      <td>False</td>\n",
       "      <td>False</td>\n",
       "      <td>False</td>\n",
       "      <td>False</td>\n",
       "    </tr>\n",
       "    <tr>\n",
       "      <th>1</th>\n",
       "      <td>2016-06-02 08:21:00</td>\n",
       "      <td>Stand 1390 KHOZA TRIBAL - gps 3200576-2867544 ...</td>\n",
       "      <td>False</td>\n",
       "      <td>False</td>\n",
       "      <td>False</td>\n",
       "      <td>False</td>\n",
       "      <td>False</td>\n",
       "      <td>False</td>\n",
       "      <td>False</td>\n",
       "    </tr>\n",
       "    <tr>\n",
       "      <th>2</th>\n",
       "      <td>2016-06-14 12:38:00</td>\n",
       "      <td>Lot: 15128 Mzingazi - New water connection - S...</td>\n",
       "      <td>False</td>\n",
       "      <td>False</td>\n",
       "      <td>False</td>\n",
       "      <td>False</td>\n",
       "      <td>False</td>\n",
       "      <td>False</td>\n",
       "      <td>False</td>\n",
       "    </tr>\n",
       "    <tr>\n",
       "      <th>3</th>\n",
       "      <td>2016-11-21 09:16:00</td>\n",
       "      <td>Mzingazi 294  New water connection  SM Cele  0...</td>\n",
       "      <td>False</td>\n",
       "      <td>False</td>\n",
       "      <td>False</td>\n",
       "      <td>False</td>\n",
       "      <td>False</td>\n",
       "      <td>False</td>\n",
       "      <td>False</td>\n",
       "    </tr>\n",
       "    <tr>\n",
       "      <th>4</th>\n",
       "      <td>2017-03-23 14:38:00</td>\n",
       "      <td>Stand 564 MKhoma 32.00545 - 28.66595 meter no ...</td>\n",
       "      <td>False</td>\n",
       "      <td>False</td>\n",
       "      <td>False</td>\n",
       "      <td>False</td>\n",
       "      <td>False</td>\n",
       "      <td>False</td>\n",
       "      <td>False</td>\n",
       "    </tr>\n",
       "  </tbody>\n",
       "</table>\n",
       "</div>"
      ],
      "text/plain": [
       "          DATE_CREATED                                DESC_PROBLEM_ACTUAL  \\\n",
       "0  2016-12-19 08:54:00                                          CUT GRASS   \n",
       "1  2016-06-02 08:21:00  Stand 1390 KHOZA TRIBAL - gps 3200576-2867544 ...   \n",
       "2  2016-06-14 12:38:00  Lot: 15128 Mzingazi - New water connection - S...   \n",
       "3  2016-11-21 09:16:00  Mzingazi 294  New water connection  SM Cele  0...   \n",
       "4  2017-03-23 14:38:00  Stand 564 MKhoma 32.00545 - 28.66595 meter no ...   \n",
       "\n",
       "   Eskhawini  Esk_H  Esk_J  Leaks  Meter_leak  Pipe_burst  Pipe_leak  \n",
       "0      False  False  False  False       False       False      False  \n",
       "1      False  False  False  False       False       False      False  \n",
       "2      False  False  False  False       False       False      False  \n",
       "3      False  False  False  False       False       False      False  \n",
       "4      False  False  False  False       False       False      False  "
      ]
     },
     "execution_count": 24,
     "metadata": {},
     "output_type": "execute_result"
    }
   ],
   "source": [
    "data_int.head()"
   ]
  },
  {
   "cell_type": "code",
   "execution_count": null,
   "metadata": {
    "collapsed": true
   },
   "outputs": [],
   "source": [
    "#Pulling out the propotion of the data that is related only to Eskhawini\n"
   ]
  },
  {
   "cell_type": "code",
   "execution_count": 38,
   "metadata": {
    "collapsed": false,
    "scrolled": true
   },
   "outputs": [
    {
     "data": {
      "text/plain": [
       "False    20611\n",
       "True      2236\n",
       "Name: Esk_H, dtype: int64"
      ]
     },
     "execution_count": 38,
     "metadata": {},
     "output_type": "execute_result"
    }
   ],
   "source": [
    "data_int['Esk_H'].value_counts()"
   ]
  },
  {
   "cell_type": "code",
   "execution_count": null,
   "metadata": {
    "collapsed": true
   },
   "outputs": [],
   "source": []
  },
  {
   "cell_type": "markdown",
   "metadata": {},
   "source": [
    "# Experimental code"
   ]
  },
  {
   "cell_type": "code",
   "execution_count": 22,
   "metadata": {
    "collapsed": true
   },
   "outputs": [],
   "source": [
    "#### leak\n",
    "# Checking weather the description text contains the desired pattern\n",
    "truth_value = [] \n",
    "key_words = ['[Ll][Ee][Aa][Kk]']\n",
    "for word in key_words:\n",
    "    for txt in data_int['DESC_PROBLEM_ACTUAL']:\n",
    "        truth_value.append([check(key_words,txt)])\n",
    "    lk = np.array(truth_value)  "
   ]
  },
  {
   "cell_type": "code",
   "execution_count": null,
   "metadata": {
    "collapsed": true
   },
   "outputs": [],
   "source": [
    "# Trails\n",
    "\n",
    "#### Pipe_leak\n",
    "# Checking weather the description text contains the desired pattern\n",
    "truth_value = []\n",
    "key_words = ['[\\s\\S]J[\\d\\s]']\n",
    "for word in key_words:\n",
    "    for txt in data_int['DESC_PROBLEM_ACTUAL']:\n",
    "        truth_value.append([check(key_words,txt)])\n",
    "    J = np.array(truth_value) "
   ]
  },
  {
   "cell_type": "code",
   "execution_count": 23,
   "metadata": {
    "collapsed": true
   },
   "outputs": [],
   "source": [
    "tru = (lk == True).sum()"
   ]
  },
  {
   "cell_type": "code",
   "execution_count": 30,
   "metadata": {
    "collapsed": false
   },
   "outputs": [],
   "source": [
    "#Extracting the subset of the data that speaks to Eskhawini\n",
    "Esk = data_int.loc[(data_int['Eskhawini']== True) | (data_int['Esk_H'] == True) | (data_int['Esk_J'] == True)]"
   ]
  },
  {
   "cell_type": "code",
   "execution_count": 34,
   "metadata": {
    "collapsed": false
   },
   "outputs": [
    {
     "data": {
      "text/plain": [
       "False    2960\n",
       "True      106\n",
       "Name: Meter_leak, dtype: int64"
      ]
     },
     "execution_count": 34,
     "metadata": {},
     "output_type": "execute_result"
    }
   ],
   "source": [
    "Esk['Meter_leak'].value_counts()"
   ]
  },
  {
   "cell_type": "code",
   "execution_count": 35,
   "metadata": {
    "collapsed": true
   },
   "outputs": [
    {
     "data": {
      "text/html": [
       "<div>\n",
       "<style scoped>\n",
       "    .dataframe tbody tr th:only-of-type {\n",
       "        vertical-align: middle;\n",
       "    }\n",
       "\n",
       "    .dataframe tbody tr th {\n",
       "        vertical-align: top;\n",
       "    }\n",
       "\n",
       "    .dataframe thead th {\n",
       "        text-align: right;\n",
       "    }\n",
       "</style>\n",
       "<table border=\"1\" class=\"dataframe\">\n",
       "  <thead>\n",
       "    <tr style=\"text-align: right;\">\n",
       "      <th></th>\n",
       "      <th>DATE_CREATED</th>\n",
       "      <th>DESC_PROBLEM_ACTUAL</th>\n",
       "      <th>Eskhawini</th>\n",
       "      <th>Esk_H</th>\n",
       "      <th>Esk_J</th>\n",
       "      <th>Leaks</th>\n",
       "      <th>Meter_leak</th>\n",
       "      <th>Pipe_burst</th>\n",
       "      <th>Pipe_leak</th>\n",
       "    </tr>\n",
       "  </thead>\n",
       "  <tbody>\n",
       "    <tr>\n",
       "      <th>5</th>\n",
       "      <td>2017-05-31 14:19:00</td>\n",
       "      <td>STAND 1635 KHANDISA RESERVE @ MKHWANAZI NORTH ...</td>\n",
       "      <td>False</td>\n",
       "      <td>True</td>\n",
       "      <td>False</td>\n",
       "      <td>False</td>\n",
       "      <td>False</td>\n",
       "      <td>False</td>\n",
       "      <td>False</td>\n",
       "    </tr>\n",
       "    <tr>\n",
       "      <th>27</th>\n",
       "      <td>2017-11-13 13:58:00</td>\n",
       "      <td>Esk J1519 Imizikayifani Primary School meter n...</td>\n",
       "      <td>False</td>\n",
       "      <td>False</td>\n",
       "      <td>True</td>\n",
       "      <td>False</td>\n",
       "      <td>False</td>\n",
       "      <td>False</td>\n",
       "      <td>False</td>\n",
       "    </tr>\n",
       "    <tr>\n",
       "      <th>46</th>\n",
       "      <td>2018-02-20 11:48:00</td>\n",
       "      <td>VULINDLELA 344 INVESTIGATE HIGH WATER CONSUMPTION</td>\n",
       "      <td>False</td>\n",
       "      <td>True</td>\n",
       "      <td>False</td>\n",
       "      <td>False</td>\n",
       "      <td>False</td>\n",
       "      <td>False</td>\n",
       "      <td>False</td>\n",
       "    </tr>\n",
       "    <tr>\n",
       "      <th>47</th>\n",
       "      <td>2018-02-20 11:48:00</td>\n",
       "      <td>VULINDLELA 345 INVESTIGATE HIGH WATER CONSUMPTION</td>\n",
       "      <td>False</td>\n",
       "      <td>True</td>\n",
       "      <td>False</td>\n",
       "      <td>False</td>\n",
       "      <td>False</td>\n",
       "      <td>False</td>\n",
       "      <td>False</td>\n",
       "    </tr>\n",
       "    <tr>\n",
       "      <th>52</th>\n",
       "      <td>2018-03-05 14:10:00</td>\n",
       "      <td>MKWANAZI NORTH GPS CORDINATES 31.83905-28.8774...</td>\n",
       "      <td>False</td>\n",
       "      <td>True</td>\n",
       "      <td>False</td>\n",
       "      <td>False</td>\n",
       "      <td>False</td>\n",
       "      <td>False</td>\n",
       "      <td>False</td>\n",
       "    </tr>\n",
       "  </tbody>\n",
       "</table>\n",
       "</div>"
      ],
      "text/plain": [
       "           DATE_CREATED                                DESC_PROBLEM_ACTUAL  \\\n",
       "5   2017-05-31 14:19:00  STAND 1635 KHANDISA RESERVE @ MKHWANAZI NORTH ...   \n",
       "27  2017-11-13 13:58:00  Esk J1519 Imizikayifani Primary School meter n...   \n",
       "46  2018-02-20 11:48:00  VULINDLELA 344 INVESTIGATE HIGH WATER CONSUMPTION   \n",
       "47  2018-02-20 11:48:00  VULINDLELA 345 INVESTIGATE HIGH WATER CONSUMPTION   \n",
       "52  2018-03-05 14:10:00  MKWANAZI NORTH GPS CORDINATES 31.83905-28.8774...   \n",
       "\n",
       "    Eskhawini  Esk_H  Esk_J  Leaks  Meter_leak  Pipe_burst  Pipe_leak  \n",
       "5       False   True  False  False       False       False      False  \n",
       "27      False  False   True  False       False       False      False  \n",
       "46      False   True  False  False       False       False      False  \n",
       "47      False   True  False  False       False       False      False  \n",
       "52      False   True  False  False       False       False      False  "
      ]
     },
     "execution_count": 35,
     "metadata": {},
     "output_type": "execute_result"
    }
   ],
   "source": [
    "Esk.head()"
   ]
  },
  {
   "cell_type": "code",
   "execution_count": 36,
   "metadata": {
    "collapsed": true
   },
   "outputs": [],
   "source": [
    "#Extracting the subset of Eskhawini data that speaks to leaks \n",
    "# Assuming leaks implies Water leaks\n",
    "Esk_leaks = Esk.loc[(Esk['Leaks']== True) ]  # | (data_int['Esk_H'] == True) | (data_int['Esk_J'] == True)]"
   ]
  },
  {
   "cell_type": "code",
   "execution_count": 40,
   "metadata": {
    "collapsed": false
   },
   "outputs": [
    {
     "data": {
      "text/html": [
       "<div>\n",
       "<style scoped>\n",
       "    .dataframe tbody tr th:only-of-type {\n",
       "        vertical-align: middle;\n",
       "    }\n",
       "\n",
       "    .dataframe tbody tr th {\n",
       "        vertical-align: top;\n",
       "    }\n",
       "\n",
       "    .dataframe thead th {\n",
       "        text-align: right;\n",
       "    }\n",
       "</style>\n",
       "<table border=\"1\" class=\"dataframe\">\n",
       "  <thead>\n",
       "    <tr style=\"text-align: right;\">\n",
       "      <th></th>\n",
       "      <th>DATE_CREATED</th>\n",
       "      <th>DESC_PROBLEM_ACTUAL</th>\n",
       "      <th>Eskhawini</th>\n",
       "      <th>Esk_H</th>\n",
       "      <th>Esk_J</th>\n",
       "      <th>Leaks</th>\n",
       "      <th>Meter_leak</th>\n",
       "      <th>Pipe_burst</th>\n",
       "      <th>Pipe_leak</th>\n",
       "    </tr>\n",
       "  </thead>\n",
       "  <tbody>\n",
       "    <tr>\n",
       "      <th>149</th>\n",
       "      <td>2018-05-10 14:28:00</td>\n",
       "      <td>Meter leak @ J2202 Insephe Eskhawini contact M...</td>\n",
       "      <td>True</td>\n",
       "      <td>False</td>\n",
       "      <td>True</td>\n",
       "      <td>True</td>\n",
       "      <td>True</td>\n",
       "      <td>False</td>\n",
       "      <td>False</td>\n",
       "    </tr>\n",
       "    <tr>\n",
       "      <th>225</th>\n",
       "      <td>2018-06-11 08:43:00</td>\n",
       "      <td>MKHWANAZI NORTH WATER LEAK AT GULUKUDU KWAMKHW...</td>\n",
       "      <td>False</td>\n",
       "      <td>True</td>\n",
       "      <td>False</td>\n",
       "      <td>True</td>\n",
       "      <td>False</td>\n",
       "      <td>False</td>\n",
       "      <td>False</td>\n",
       "    </tr>\n",
       "    <tr>\n",
       "      <th>233</th>\n",
       "      <td>2018-06-20 11:07:00</td>\n",
       "      <td>MKHWANAZI NORTH WATER LEAK AT ESIQALO KWAMAKHWASA</td>\n",
       "      <td>False</td>\n",
       "      <td>True</td>\n",
       "      <td>False</td>\n",
       "      <td>True</td>\n",
       "      <td>False</td>\n",
       "      <td>False</td>\n",
       "      <td>False</td>\n",
       "    </tr>\n",
       "    <tr>\n",
       "      <th>245</th>\n",
       "      <td>2018-06-25 08:52:00</td>\n",
       "      <td>MKHWANAZI NORTH WATER LEAK AT AT MVUZEMVUZE T99</td>\n",
       "      <td>False</td>\n",
       "      <td>True</td>\n",
       "      <td>False</td>\n",
       "      <td>True</td>\n",
       "      <td>False</td>\n",
       "      <td>False</td>\n",
       "      <td>False</td>\n",
       "    </tr>\n",
       "    <tr>\n",
       "      <th>312</th>\n",
       "      <td>2018-07-03 08:29:00</td>\n",
       "      <td>MKHWANAZI NORTH WATER LEAK AT QAMBOKWETHU</td>\n",
       "      <td>False</td>\n",
       "      <td>True</td>\n",
       "      <td>False</td>\n",
       "      <td>True</td>\n",
       "      <td>False</td>\n",
       "      <td>False</td>\n",
       "      <td>False</td>\n",
       "    </tr>\n",
       "  </tbody>\n",
       "</table>\n",
       "</div>"
      ],
      "text/plain": [
       "            DATE_CREATED                                DESC_PROBLEM_ACTUAL  \\\n",
       "149  2018-05-10 14:28:00  Meter leak @ J2202 Insephe Eskhawini contact M...   \n",
       "225  2018-06-11 08:43:00  MKHWANAZI NORTH WATER LEAK AT GULUKUDU KWAMKHW...   \n",
       "233  2018-06-20 11:07:00  MKHWANAZI NORTH WATER LEAK AT ESIQALO KWAMAKHWASA   \n",
       "245  2018-06-25 08:52:00    MKHWANAZI NORTH WATER LEAK AT AT MVUZEMVUZE T99   \n",
       "312  2018-07-03 08:29:00          MKHWANAZI NORTH WATER LEAK AT QAMBOKWETHU   \n",
       "\n",
       "     Eskhawini  Esk_H  Esk_J  Leaks  Meter_leak  Pipe_burst  Pipe_leak  \n",
       "149       True  False   True   True        True       False      False  \n",
       "225      False   True  False   True       False       False      False  \n",
       "233      False   True  False   True       False       False      False  \n",
       "245      False   True  False   True       False       False      False  \n",
       "312      False   True  False   True       False       False      False  "
      ]
     },
     "execution_count": 40,
     "metadata": {},
     "output_type": "execute_result"
    }
   ],
   "source": [
    "Esk_leaks.head()"
   ]
  },
  {
   "cell_type": "code",
   "execution_count": null,
   "metadata": {
    "collapsed": true
   },
   "outputs": [],
   "source": []
  },
  {
   "cell_type": "code",
   "execution_count": null,
   "metadata": {
    "collapsed": true
   },
   "outputs": [],
   "source": []
  }
 ],
 "metadata": {
  "kernelspec": {
   "display_name": "py3tst",
   "language": "python",
   "name": "py3tst"
  },
  "language_info": {
   "codemirror_mode": {
    "name": "ipython",
    "version": 3
   },
   "file_extension": ".py",
   "mimetype": "text/x-python",
   "name": "python",
   "nbconvert_exporter": "python",
   "pygments_lexer": "ipython3",
   "version": "3.6.8"
  }
 },
 "nbformat": 4,
 "nbformat_minor": 2
}
